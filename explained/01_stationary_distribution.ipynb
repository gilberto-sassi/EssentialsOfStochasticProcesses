{
 "cells": [
  {
   "cell_type": "code",
   "execution_count": 1,
   "id": "b11aa464",
   "metadata": {},
   "outputs": [],
   "source": [
    "import numpy as np"
   ]
  },
  {
   "cell_type": "markdown",
   "id": "0e1c7609",
   "metadata": {},
   "source": [
    "# Stationary distribution _explained_\n",
    "\n",
    "**Definition:** Let $P \\in \\mathbb{R}^{n\\times n}$ be the transition matrix for a Markov chain, if for some $q \\in \\mathbb{R}^n$ is true $qP=q$, then we call it a stationary distribution. Often denoted as $\\pi$, $\\pi P=\\pi$."
   ]
  },
  {
   "cell_type": "markdown",
   "id": "d5638e1b",
   "metadata": {},
   "source": [
    "Additionally, we know $\\sum^{n}_{i=1}\\pi_i=1$ (1) and for any matrix $v_{\\lambda}(A-\\lambda I_n)=0$, if $v_{\\lambda}$ is an eigenvector corresponding to eigenvalue $\\lambda$ \n",
    "However, $\\pi P=\\pi$ is a special case when eigenvalue $\\lambda=1$, then $\\pi(P-I_n)=0$ (2). To solve this _homogeneous linear system_ (2) we can replace e.g last row corresponding to (1) and getting a _non-homogeneous linear system_ of $n+1$ equations. Specifically:\n",
    "\n",
    "$$\n",
    "\\pi\\begin{bmatrix}\n",
    "(P-I)_{nxn-1} \\begin{bmatrix}1\\\\ \\vdots \\\\ 1\\end{bmatrix}\n",
    "\\end{bmatrix}=\n",
    "(0,\\dots,0, 1) <=> \\pi = (0,\\dots,0, 1)\n",
    "\\begin{bmatrix}\n",
    "(P-I)_{nxn-1} \\begin{bmatrix}1\\\\ \\vdots \\\\ 1\\end{bmatrix}\n",
    "\\end{bmatrix}^{-1}\n",
    "$$\n",
    "\n",
    "_Example from exercise 1.9 (a):_\n",
    "$$P=\\begin{bmatrix}\n",
    "0.5 & 0.4 & 0.1 \\\\\n",
    "0.2 & 0.5 & 0.3 \\\\\n",
    "0.1 & 0.3 & 0.6 \n",
    "\\end{bmatrix}; \\pi = (0,0,1)\\begin{bmatrix}\n",
    "-0.5 & 0.4 & 1\\\\\n",
    "0.2 & -0.5 & 1\\\\\n",
    "0.1 & 0.3 & 1\\\\\n",
    "\\end{bmatrix} $$"
   ]
  },
  {
   "cell_type": "code",
   "execution_count": 5,
   "id": "72dc3b23",
   "metadata": {},
   "outputs": [
    {
     "name": "stdout",
     "output_type": "stream",
     "text": [
      "Stationary distribution: [0.23404255 0.40425532 0.36170213]\n"
     ]
    }
   ],
   "source": [
    "p = np.array([\n",
    "    [.5, .4, .1],\n",
    "    [.2, .5, .3],\n",
    "    [.1, .3, .6]\n",
    "])\n",
    "a = p - np.eye(3)\n",
    "a[:, 2] = np.ones(3)\n",
    "print(f\"Stationary distribution: {np.dot(np.array([0, 0, 1]), np.linalg.inv(a))}\")"
   ]
  },
  {
   "cell_type": "markdown",
   "id": "dd7e5ee0",
   "metadata": {},
   "source": [
    "_Existence of the stationary distribution is property of the matrix not the stochastic process._"
   ]
  }
 ],
 "metadata": {
  "kernelspec": {
   "display_name": "Python 3 (ipykernel)",
   "language": "python",
   "name": "python3"
  },
  "language_info": {
   "codemirror_mode": {
    "name": "ipython",
    "version": 3
   },
   "file_extension": ".py",
   "mimetype": "text/x-python",
   "name": "python",
   "nbconvert_exporter": "python",
   "pygments_lexer": "ipython3",
   "version": "3.9.12"
  }
 },
 "nbformat": 4,
 "nbformat_minor": 5
}
