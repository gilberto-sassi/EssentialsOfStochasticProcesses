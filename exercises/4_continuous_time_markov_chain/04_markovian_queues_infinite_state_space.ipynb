{
 "cells": [
  {
   "cell_type": "markdown",
   "id": "36e8167c",
   "metadata": {},
   "source": [
    "# Markovian Queues infinite state space"
   ]
  },
  {
   "cell_type": "markdown",
   "id": "6e64f101",
   "metadata": {},
   "source": [
    "**4.26. Consider a taxi station at an airport where taxis and (groups of) customers arrive at times of Poisson processes with rates 2 and 3 per minute. Suppose that a taxi will wait no matter how many other taxis are present. However, if an arriving person does not find a taxi waiting he leaves to find alternative transportation. (a) Find the proportion of arriving customers that get taxis. (b) Find the average number of taxis waiting.**"
   ]
  },
  {
   "cell_type": "markdown",
   "id": "a16a181d",
   "metadata": {},
   "source": [
    "(a) It is $M/M/1$ queue with $p=2/3$ of arriving customers get taxi.  \n",
    "(b) $q=1-p=1/3$ is chance of a customer not getting a taxi and therefore leaving, next taxi would need to wait for a next customer. Expected waiting time is a geometric sum of $q^n$, therefore, $1-1/q=2$."
   ]
  },
  {
   "cell_type": "markdown",
   "id": "0fdaa61d",
   "metadata": {},
   "source": [
    "**4.27. Queue with impatient customers. Customers arrive at a single server at rate $\\lambda$ and require an exponential amount of service with rate $\\mu$. Customers waiting in line are impatient and if they are not in service they will leave at rate $\\sigma$ independent of their position in the queue. (a) Show that for any $\\sigma > 0$ the system has a stationary distribution. (b) Find the stationary distribution in the very special case in which $\\sigma = \\mu$.**"
   ]
  },
  {
   "cell_type": "markdown",
   "id": "8e5275ae",
   "metadata": {},
   "source": [
    "(a) $\\lambda_i=\\lambda$, $\\mu_n = \\mu + (n-1)\\sigma$, while $\\pi_n = \\frac{\\lambda}{\\mu_n}\\pi_{n-1}$  \n",
    "For any $\\sigma > 0$ $\\frac{\\lambda}{\\mu_n}\\rightarrow 0$, therefore, there is always a stationary distribution.   \n",
    "(b) If $\\sigma=\\mu$ then $\\mu_n=n\\mu$ and $\\pi_n=\\big(\\frac{\\lambda}{\\mu}\\big)\\frac{1}{n!}$ which is equivalent to a Poisson dist with rate $\\lambda/\\mu$"
   ]
  },
  {
   "cell_type": "markdown",
   "id": "87046cef",
   "metadata": {},
   "source": [
    "**4.28. Customers arrive at the Shortstop convenience store at a rate of 20 per hour. When two or fewer customers are present in the checkout line, a single clerk works and the service time is 3 minutes. However, when there are three or more customers are present, an assistant comes over to bag up the groceries and reduces the service time to 2 minutes. Assuming the service times are exponentially distributed, find the stationary distribution.**"
   ]
  },
  {
   "cell_type": "markdown",
   "id": "d4f50cf1",
   "metadata": {},
   "source": [
    "$\\pi_0=\\pi_1=\\pi_2=c$, for $n\\geq3, \\pi_n=(2/3)^{n-2}c$, letting $c=(\\sum\\pi_k)^{-1}=1/6$ "
   ]
  },
  {
   "cell_type": "markdown",
   "id": "8fef2363",
   "metadata": {},
   "source": [
    "**4.29. Customers arrive at a two-server station according to a Poisson process with rate $\\lambda$. Upon arriving they join a single queue to wait for the next available server. Suppose that the service times of the two servers are exponential with rates $\\mu_a$ and $\\mu_b$ and that a customer who arrives to find the system empty will go to each of the servers with probability 1/2. Formulate a Markov chain model for this system with state space {0, a, b, 2, 3, . . .} where the states give the number of customers in the system, with a or b indicating there is one customer at a or b respectively. Show that this system is time reversible. Set $\\pi(2) = c$ and solve to find the limiting probabilities in terms of c.**"
   ]
  },
  {
   "cell_type": "markdown",
   "id": "f8dd7217",
   "metadata": {},
   "source": [
    "For $n\\geq2$ - both servers are occupied we have M/M/1 queue and, therefore, $\\pi_n=\\big(\\frac{\\lambda}{\\mu_a+\\mu_b}\\big)^{n-2}\\pi_2=\\big(\\frac{\\lambda}{\\mu_a+\\mu_b}\\big)^{n-2}c$. For 0, a, and b:\n",
    "$$\\lambda\\pi_a=\\ \\mu_b\\pi_b,\\ \\lambda\\pi_b=\\mu_a\\pi_a$$\n",
    "$$\\frac{\\lambda}{2}\\pi_0=\\mu_a\\pi_a,\\ \\frac{\\lambda}{2}\\pi_0=\\mu_b\\pi_b$$"
   ]
  },
  {
   "cell_type": "markdown",
   "id": "4f63ddd1",
   "metadata": {},
   "source": [
    "**4.30. At present the Economics department and the Sociology department each have one typist who can type 25 letters a day. Economics requires an average of 20 letters per day, while Sociology requires only average of 15. Assuming Poisson arrival and exponentially distributed typing times find (a) the average queue length and average waiting time in each departments (b) the average overall waiting time if they merge their resources to form a typing pool.**"
   ]
  },
  {
   "cell_type": "markdown",
   "id": "48a12d09",
   "metadata": {},
   "source": [
    "(a) $L=\\frac{1}{1-\\lambda/\\mu}=\\frac{\\lambda}{\\mu-\\lambda}$ which is 4 for Economics department and 1.5 Sociology department.  $W=\\frac{L}{\\lambda}$, 4/20=1/5 or 1.5/15=1/10.  \n",
    "(b) $\\lambda=20+15=35$ using DBC, $\\pi_0=c$, $\\pi_1=\\frac{\\lambda}{\\mu}c$, $\\pi_k=\\frac{\\lambda}{2\\mu}\\pi_{k-1}=2c\\big(\\frac{\\lambda}{2\\mu}\\big)^{k},\\ k \\geq 2$.  \n",
    "$L=\\sum^{\\infty}_{k=1}k\\pi_k=2c\\sum^{\\infty}_{k=1}\\big(\\frac{\\lambda}{2\\mu}\\big)^{k}$  \n",
    "$W=\\frac{L}{\\lambda}$"
   ]
  },
  {
   "cell_type": "markdown",
   "id": "885e9efc",
   "metadata": {},
   "source": [
    "**4.31. A professor receives requests for letters of recommendation according to a Poisson process with rate 8 per month. When $k$ are on his desk he feels stressed and writes them at $2k$ (per month). (a) Find the stationary distribution of the number of letters to be written. (b) What is the average time a person has to wait before their letter is written. (c) He just received a request for a letter. What is the probability his queue will return to 0 before it hits 4 i.e. what is $P_1(T_0<T_4)$.**"
   ]
  },
  {
   "cell_type": "markdown",
   "id": "ab74cc6a",
   "metadata": {},
   "source": [
    "Unclear what is the rate before $X_t\\leq k$."
   ]
  }
 ],
 "metadata": {
  "kernelspec": {
   "display_name": "Python 3 (ipykernel)",
   "language": "python",
   "name": "python3"
  },
  "language_info": {
   "codemirror_mode": {
    "name": "ipython",
    "version": 3
   },
   "file_extension": ".py",
   "mimetype": "text/x-python",
   "name": "python",
   "nbconvert_exporter": "python",
   "pygments_lexer": "ipython3",
   "version": "3.10.6"
  }
 },
 "nbformat": 4,
 "nbformat_minor": 5
}
