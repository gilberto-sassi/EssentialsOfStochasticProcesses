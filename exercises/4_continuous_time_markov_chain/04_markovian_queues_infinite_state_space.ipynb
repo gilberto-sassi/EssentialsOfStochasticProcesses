{
 "cells": [
  {
   "cell_type": "markdown",
   "id": "36e8167c",
   "metadata": {},
   "source": [
    "# Markovian Queues infinite state space"
   ]
  },
  {
   "cell_type": "code",
   "execution_count": null,
   "id": "1124af11",
   "metadata": {},
   "outputs": [],
   "source": []
  },
  {
   "cell_type": "markdown",
   "id": "6e64f101",
   "metadata": {},
   "source": [
    "**4.26. Consider a taxi station at an airport where taxis and (groups of) cus- tomers arrive at times of Poisson processes with rates 2 and 3 per minute. Suppose that a taxi will wait no matter how many other taxis are present. However, if an arriving person does not find a taxi waiting he leaves to find alternative transportation. (a) Find the proportion of arriving customers that get taxis. (b) Find the average number of taxis waiting.**"
   ]
  },
  {
   "cell_type": "code",
   "execution_count": null,
   "id": "04598c83",
   "metadata": {},
   "outputs": [],
   "source": []
  },
  {
   "cell_type": "markdown",
   "id": "0fdaa61d",
   "metadata": {},
   "source": [
    "**4.27. Queue with impatient customers. Customers arrive at a single server at rate $\\lambda$ and require an exponential amount of service with rate $\\mu$. Customers waiting in line are impatient and if they are not in service they will leave at rate $\\sigma$ independent of their position in the queue. (a) Show that for any $\\sigma > 0$ the system has a stationary distribution. (b) Find the stationary distribution in the very special case in which $\\sigma = \\mu$.**"
   ]
  },
  {
   "cell_type": "code",
   "execution_count": null,
   "id": "718bc9c0",
   "metadata": {},
   "outputs": [],
   "source": []
  },
  {
   "cell_type": "markdown",
   "id": "87046cef",
   "metadata": {},
   "source": [
    "**4.28. Customers arrive at the Shortstop convenience store at a rate of 20 per hour. When two or fewer customers are present in the checkout line, a single clerk works and the service time is 3 minutes. However, when there are three or more customers are present, an assistant comes over to bag up the groceries and reduces the service time to 2 minutes. Assuming the service times are exponentially distributed, find the stationary distribution.**"
   ]
  },
  {
   "cell_type": "code",
   "execution_count": null,
   "id": "9bc1b89a",
   "metadata": {},
   "outputs": [],
   "source": []
  },
  {
   "cell_type": "markdown",
   "id": "8fef2363",
   "metadata": {},
   "source": [
    "**4.29. Customers arrive at a two-server station according to a Poisson process with rate $\\lambda$. Upon arriving they join a single queue to wait for the next available server. Suppose that the service times of the two servers are exponential with rates $\\mu_a$ and $\\mu_b$ and that a customer who arrives to find the system empty will go to each of the servers with probability 1/2. Formulate a Markov chain model for this system with state space {0, a, b, 2, 3, . . .} where the states give the number of customers in the system, with a or b indicating there is one customer at a or b respectively. Show that this system is time reversible. Set $\\pi(2) = c$ and solve to find the limiting probabilities in terms of c.**"
   ]
  },
  {
   "cell_type": "code",
   "execution_count": null,
   "id": "e95d33c4",
   "metadata": {},
   "outputs": [],
   "source": []
  },
  {
   "cell_type": "markdown",
   "id": "4f63ddd1",
   "metadata": {},
   "source": [
    "**4.30. At present the Economics department and the Sociology department each have one typist who can type 25 letters a day. Economics requires an average of 20 letters per day, while Sociology requires only average of 15. Assuming Poisson arrival and exponentially distributed typing times find (a) the average queue length and average waiting time in each departments (b) the average overall waiting time if they merge their resources to form a typing pool.**"
   ]
  },
  {
   "cell_type": "code",
   "execution_count": null,
   "id": "17f223c4",
   "metadata": {},
   "outputs": [],
   "source": []
  }
 ],
 "metadata": {
  "kernelspec": {
   "display_name": "Python 3 (ipykernel)",
   "language": "python",
   "name": "python3"
  },
  "language_info": {
   "codemirror_mode": {
    "name": "ipython",
    "version": 3
   },
   "file_extension": ".py",
   "mimetype": "text/x-python",
   "name": "python",
   "nbconvert_exporter": "python",
   "pygments_lexer": "ipython3",
   "version": "3.9.13"
  }
 },
 "nbformat": 4,
 "nbformat_minor": 5
}
