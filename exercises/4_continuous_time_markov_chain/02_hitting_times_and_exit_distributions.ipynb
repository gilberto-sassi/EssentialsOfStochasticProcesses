{
 "cells": [
  {
   "cell_type": "markdown",
   "id": "fcafe8ff",
   "metadata": {},
   "source": [
    "# Hitting times and exit distributions"
   ]
  },
  {
   "cell_type": "code",
   "execution_count": 2,
   "id": "4eb05b1c",
   "metadata": {},
   "outputs": [],
   "source": [
    "import os\n",
    "import sys\n",
    "import numpy as np\n",
    "\n",
    "module_path = os.path.abspath(os.path.join(\"..\"))\n",
    "if module_path not in sys.path:\n",
    "    sys.path.append(\"../libs\")\n",
    "    \n",
    "from libs.stationary_distribution import get_stationary_distribution, check_detailed_balance_condition"
   ]
  },
  {
   "cell_type": "markdown",
   "id": "21afdeb7",
   "metadata": {},
   "source": [
    "**4.15. Consider the salesman from Problem 4.1. She just left Atlanta. (a) What is the expected time until she returns to Atlanta? (b) Find the answer to (a) by computing the stationary distribution.**"
   ]
  },
  {
   "cell_type": "code",
   "execution_count": null,
   "id": "47ba4a20",
   "metadata": {},
   "outputs": [],
   "source": []
  },
  {
   "cell_type": "markdown",
   "id": "a2935552",
   "metadata": {},
   "source": [
    "**4.16. Brad’s relationship with his girl friend Angelina changes between Amorous, Bickering, Confusion, and Depression according to the following transition rates when t is the time in months.\n",
    "A B C D\n",
    "(a) Find the long run fraction the chain satisfy the detailed What is the expected amount**\n",
    "```\n",
    "   A  B  C  D\n",
    "A −4  3  1  0 \n",
    "B  4 −6  2  0\n",
    "C  2  3 −6  1\n",
    "D  0  0  2 −2\n",
    "```\n",
    "**of time he spends in these four states? (b) Does balance condition? (c) They are amorous now. of time until depression sets in?**"
   ]
  },
  {
   "cell_type": "code",
   "execution_count": null,
   "id": "ca8d6d2d",
   "metadata": {},
   "outputs": [],
   "source": []
  },
  {
   "cell_type": "markdown",
   "id": "bc2d6d90",
   "metadata": {},
   "source": [
    "**4.17. A submarine has three navigational devices but can remain at sea if at least two are working. Suppose that the failure times are exponential with means 1 year, 1.5 years, and 3 years. Formulate a Markov chain with states 0 = all parts working, 1,2,3 = one part failed, and 4 = two failures. Compute $E_0T_4$ to determine the average length of time the boat can remain at sea.**"
   ]
  },
  {
   "cell_type": "code",
   "execution_count": null,
   "id": "61601de4",
   "metadata": {},
   "outputs": [],
   "source": []
  },
  {
   "cell_type": "code",
   "execution_count": null,
   "id": "7066df9c",
   "metadata": {},
   "outputs": [],
   "source": []
  },
  {
   "cell_type": "code",
   "execution_count": null,
   "id": "944ae7b1",
   "metadata": {},
   "outputs": [],
   "source": []
  },
  {
   "cell_type": "markdown",
   "id": "aeec6643",
   "metadata": {},
   "source": [
    "**4.19. Excited by the recent warm weather Jill and Kelly are doing spring cleaning at their apartment. Jill takes an exponentially distributed amount of time with mean 30 minutes to clean the kitchen. Kelly takes an exponentially distributed amount of time with mean 40 minutes to clean the bath room. The first one to complete their task will go outside and start raking leaves, a task that takes an exponentially distributed amount of time with a mean of one hour. When the second person is done inside, they will help the other and raking will be done at rate 2. (Of course the other person may already be done raking in which case the chores are done.) What is the expected time until the chores are all done?**"
   ]
  },
  {
   "cell_type": "code",
   "execution_count": null,
   "id": "c0f7db31",
   "metadata": {},
   "outputs": [],
   "source": []
  }
 ],
 "metadata": {
  "kernelspec": {
   "display_name": "Python 3 (ipykernel)",
   "language": "python",
   "name": "python3"
  },
  "language_info": {
   "codemirror_mode": {
    "name": "ipython",
    "version": 3
   },
   "file_extension": ".py",
   "mimetype": "text/x-python",
   "name": "python",
   "nbconvert_exporter": "python",
   "pygments_lexer": "ipython3",
   "version": "3.9.13"
  }
 },
 "nbformat": 4,
 "nbformat_minor": 5
}
