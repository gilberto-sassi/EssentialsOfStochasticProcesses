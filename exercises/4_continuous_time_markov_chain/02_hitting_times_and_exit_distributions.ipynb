{
 "cells": [
  {
   "cell_type": "markdown",
   "id": "fcafe8ff",
   "metadata": {},
   "source": [
    "# Hitting times and exit distributions"
   ]
  },
  {
   "cell_type": "code",
   "execution_count": 1,
   "id": "4eb05b1c",
   "metadata": {},
   "outputs": [],
   "source": [
    "import os\n",
    "import sys\n",
    "import numpy as np\n",
    "\n",
    "module_path = os.path.abspath(os.path.join(\"..\"))\n",
    "if module_path not in sys.path:\n",
    "    sys.path.append(\"../libs\")\n",
    "    \n",
    "from libs.stationary_distribution import get_stationary_distribution, check_detailed_balance_condition"
   ]
  },
  {
   "cell_type": "markdown",
   "id": "21afdeb7",
   "metadata": {},
   "source": [
    "**4.15. Consider the salesman from Problem 4.1. She just left Atlanta. (a) What is the expected time until she returns to Atlanta? (b) Find the answer to (a) by computing the stationary distribution.**"
   ]
  },
  {
   "cell_type": "markdown",
   "id": "a377378a",
   "metadata": {},
   "source": [
    "Using $E_xV_A=g(x)=-R^{-1}1$, where $R$ is part of $Q$ (rate matrix) $i, j \\notin A$."
   ]
  },
  {
   "cell_type": "code",
   "execution_count": 9,
   "id": "47ba4a20",
   "metadata": {},
   "outputs": [
    {
     "name": "stdout",
     "output_type": "stream",
     "text": [
      "(a) Expected hitting time: 0.25\n",
      "(b) 𝜋=[0.5  0.25 0.25], she spends 1/4 of time in A, to have it 1/2 in long run the return time needs to be 1/4.\n"
     ]
    }
   ],
   "source": [
    "q = np.array([\n",
    "    [-4, 2, 2],\n",
    "    [3, -4, 1],\n",
    "    [5, 0, -5]\n",
    "])\n",
    "r = np.array([\n",
    "    q[1,1:],\n",
    "    q[2,1:]\n",
    "])\n",
    "g = np.dot(-np.linalg.inv(r), np.ones(2))\n",
    "print(f\"(a) Expected hitting time: {np.dot(g, q[0,1:]) / np.sum(q[0,1:])}\")\n",
    "pi = get_stationary_distribution(q, rates=True)\n",
    "print(f\"(b) 𝜋={pi}, she spends 1/4 of time in A, to have it 1/2 in long run the return time needs to be 1/4.\")"
   ]
  },
  {
   "cell_type": "markdown",
   "id": "a2935552",
   "metadata": {},
   "source": [
    "**4.16. Brad’s relationship with his girl friend Angelina changes between Amorous, Bickering, Confusion, and Depression according to the following transition rates when t is the time in months.**\n",
    "```\n",
    "   A  B  C  D\n",
    "A −4  3  1  0 \n",
    "B  4 −6  2  0\n",
    "C  2  3 −6  1\n",
    "D  0  0  2 −2\n",
    "```\n",
    "**a) Find the long run fraction of time he spends in these four states? (b) Does the chain satisfy the detailed balance condition? (c) They are amorous now.What is the expected amount of time until depression sets in?**"
   ]
  },
  {
   "cell_type": "code",
   "execution_count": 2,
   "id": "ca8d6d2d",
   "metadata": {},
   "outputs": [
    {
     "name": "stdout",
     "output_type": "stream",
     "text": [
      "(a) 𝜋=[0.4 0.3 0.2 0.1]\n",
      "(b) Is it DBC? True\n",
      "(c) Expected hitting time: 5.25\n"
     ]
    }
   ],
   "source": [
    "q = np.array([\n",
    "    [-4, 3, 1, 0],\n",
    "    [4, -6, 2, 0],\n",
    "    [2, 3, -6, 1],\n",
    "    [0, 0, 2, 2]\n",
    "])\n",
    "r = np.array([\n",
    "    q[0,:3],\n",
    "    q[1,:3],\n",
    "    q[2,:3]\n",
    "])\n",
    "g = np.dot(-np.linalg.inv(r), np.ones(3))\n",
    "pi = get_stationary_distribution(q, rates=True)\n",
    "print(f\"(a) 𝜋={pi}\")\n",
    "print(f\"(b) Is it DBC? {check_detailed_balance_condition(q, rates=True).all()}\")\n",
    "print(f\"(c) Expected hitting time: {np.sum(g[0])}\")"
   ]
  },
  {
   "cell_type": "markdown",
   "id": "bc2d6d90",
   "metadata": {},
   "source": [
    "**4.17. A submarine has three navigational devices but can remain at sea if at least two are working. Suppose that the failure times are exponential with means 1 year, 1.5 years, and 3 years. Formulate a Markov chain with states 0 = all parts working, 1,2,3 = one part failed, and 4 = two failures. Compute $E_0T_4$ to determine the average length of time the boat can remain at sea.**"
   ]
  },
  {
   "cell_type": "code",
   "execution_count": 6,
   "id": "61601de4",
   "metadata": {},
   "outputs": [
    {
     "name": "stdout",
     "output_type": "stream",
     "text": [
      "Expected hitting time: 1.35, [1.35 1.   0.75 0.6 ]\n"
     ]
    }
   ],
   "source": [
    "q = np.array([\n",
    "    [-2, 1, 2/3, 1/3, 0],\n",
    "    [0, -1, 0, 0, 1],\n",
    "    [0, 0, -4/3, 0, 4/3],\n",
    "    [0, 0, 0, -5/3, 5/3],\n",
    "    [0, 0, 0, 0, 1]\n",
    "])\n",
    "r = np.array([\n",
    "    q[0,:4],\n",
    "    q[1,:4],\n",
    "    q[2,:4],\n",
    "    q[3,:4]\n",
    "])\n",
    "g = np.dot(-np.linalg.inv(r), np.ones(4))\n",
    "print(f\"Expected hitting time: {np.sum(g[0])}\")"
   ]
  },
  {
   "cell_type": "markdown",
   "id": "c1ee918a",
   "metadata": {},
   "source": [
    "**4.18. Al, Betty, Charlie and Diane are working at the math club table during freshmen move-in week. Their attention spans for doing the job are independent and have exponential distributions with means 1/2, 2/3, 1 and 2 hours. (rates are 2, 3/2, 1, 1/2)) (a) What is the expected amount of time until only two people are left? (b) What is the probability the last two left have same sex i.e. AC or DB?**"
   ]
  },
  {
   "cell_type": "code",
   "execution_count": 36,
   "id": "842469ea",
   "metadata": {},
   "outputs": [
    {
     "name": "stdout",
     "output_type": "stream",
     "text": [
      "(a) Expected hitting time: 0.354\n",
      "(b) \n"
     ]
    }
   ],
   "source": [
    "q = np.array([\n",
    "    [-6, 2, 3/2, 1, 1/2, 0],\n",
    "    [0, -4, 0, 0, 0, 4],\n",
    "    [0, 0, -9/2, 0, 0, 9/2],\n",
    "    [0, 0, 0, -5, 0, 5],\n",
    "    [0, 0, 0, 0, -11/2, 11/2],\n",
    "    [0, 0, 0, 0, 0, 1]\n",
    "])\n",
    "r = np.array([\n",
    "    q[0,:5],\n",
    "    q[1,:5],\n",
    "    q[2,:5],\n",
    "    q[3,:5],\n",
    "    q[4,:5]\n",
    "])\n",
    "g = np.dot(-np.linalg.inv(r), np.ones(5))\n",
    "print(f\"(a) Expected hitting time: {np.round(g[0], 4)}\")\n",
    "print(f\"(b) \")"
   ]
  },
  {
   "cell_type": "markdown",
   "id": "aeec6643",
   "metadata": {},
   "source": [
    "**4.19. Excited by the recent warm weather Jill and Kelly are doing spring cleaning at their apartment. Jill takes an exponentially distributed amount of time with mean 30 minutes to clean the kitchen. Kelly takes an exponentially distributed amount of time with mean 40 minutes to clean the bath room. The first one to complete their task will go outside and start raking leaves, a task that takes an exponentially distributed amount of time with a mean of one hour. When the second person is done inside, they will help the other and raking will be done at rate 2. (Of course the other person may already be done raking in which case the chores are done.) What is the expected time until the chores are all done?**"
   ]
  },
  {
   "cell_type": "code",
   "execution_count": 14,
   "id": "c0f7db31",
   "metadata": {},
   "outputs": [
    {
     "name": "stdout",
     "output_type": "stream",
     "text": [
      "Expected hitting time: 1.6733333333333336\n"
     ]
    }
   ],
   "source": [
    "q = np.array([\n",
    "    [-5/2, 2, 3/2, 0, 0, 0, 0],\n",
    "    [0, -5/2, 0, 3/2, 0, 1, 0],\n",
    "    [0, 0, -3, 2, 1, 0, 0],\n",
    "    [0, 0, 0, -2, 0, 0, 2],\n",
    "    [0, 0, 0, 0, -2, 0, 2],\n",
    "    [0, 0, 0, 0, 0, -3/2, 3/2],\n",
    "    [0, 0, 0, 0, 0, 0, 1]\n",
    "])\n",
    "r = np.array([\n",
    "   q[0,:6],\n",
    "   q[1,:6],\n",
    "   q[2,:6],\n",
    "   q[3,:6],\n",
    "   q[4,:6],\n",
    "   q[5,:6],   \n",
    "])\n",
    "g = np.dot(-np.linalg.inv(r), np.ones(6))\n",
    "print(f\"Expected hitting time: {np.sum(g[0])}\")"
   ]
  },
  {
   "cell_type": "code",
   "execution_count": null,
   "id": "457e1e4a",
   "metadata": {},
   "outputs": [],
   "source": []
  }
 ],
 "metadata": {
  "kernelspec": {
   "display_name": "Python 3 (ipykernel)",
   "language": "python",
   "name": "python3"
  },
  "language_info": {
   "codemirror_mode": {
    "name": "ipython",
    "version": 3
   },
   "file_extension": ".py",
   "mimetype": "text/x-python",
   "name": "python",
   "nbconvert_exporter": "python",
   "pygments_lexer": "ipython3",
   "version": "3.9.13"
  }
 },
 "nbformat": 4,
 "nbformat_minor": 5
}
