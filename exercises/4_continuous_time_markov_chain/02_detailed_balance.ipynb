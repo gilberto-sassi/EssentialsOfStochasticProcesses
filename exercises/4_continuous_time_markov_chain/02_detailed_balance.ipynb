{
 "cells": [
  {
   "cell_type": "markdown",
   "id": "a16a8d40",
   "metadata": {},
   "source": [
    "# Detailed balance"
   ]
  },
  {
   "cell_type": "code",
   "execution_count": 1,
   "id": "073d4358",
   "metadata": {},
   "outputs": [],
   "source": [
    "import os\n",
    "import sys\n",
    "import numpy as np\n",
    "\n",
    "module_path = os.path.abspath(os.path.join(\"..\"))\n",
    "if module_path not in sys.path:\n",
    "    sys.path.append(\"../libs\")\n",
    "    \n",
    "from libs.stationary_distribution import get_stationary_distribution, check_detailed_balance_condition"
   ]
  },
  {
   "cell_type": "markdown",
   "id": "77503fb6",
   "metadata": {},
   "source": [
    "**4.9. A hemoglobin molecule can carry one oxygen or one carbon monoxide molecule. Suppose that the two types of gases arrive at rates 1 and 2 and attach for an exponential amount of time with rates 3 and 4, respectively. Formulate a Markov chain model with state space {+,0,−} where + denotes an attached oxygen molecule, − an attached carbon monoxide molecule, and 0 a free hemoglobin molecule and find the long-run fraction of time the hemoglobin molecule is in each of its three states.**"
   ]
  },
  {
   "cell_type": "markdown",
   "id": "6d8d340f",
   "metadata": {},
   "source": [
    "```\n",
    "   +   0   - \n",
    "+ -3   3   0\n",
    "0  1  -3   2 \n",
    "-  0   4  -4   \n",
    "```\n",
    "Using detailed balance condition, we know $\\pi_ir_{ji}=\\pi_jr_{ij}$, therefore,  \n",
    "$3\\pi_+=\\pi_0,\\ 2\\pi_0=4\\pi_4$, let $\\pi_0=c$ while $\\sum \\pi_i=1$, $\\pi_+=\\frac{c}{3},\\ \\pi_-=\\frac{c}{2}$  \n",
    "$\\pi_+ = \\frac{2}{11},\\ \\pi_0=\\frac{6}{11},\\ \\pi_-=\\frac{3}{11}$"
   ]
  },
  {
   "cell_type": "markdown",
   "id": "208f561f",
   "metadata": {},
   "source": [
    "**4.10. A machine is subject to failures of types $i=1,2,3$ at rates $\\lambda_i$ and a failure of type $i$ takes an exponential amount of time with rate $\\mu_i$ to repair. Formulate a Markov chain model with state space {0,1,2,3} and find its stationary distribution.**"
   ]
  },
  {
   "cell_type": "markdown",
   "id": "ecbf9b31",
   "metadata": {},
   "source": [
    "```\n",
    "  0  1   2   3\n",
    "0 .. 𝜆1  𝜆2  𝜆3  \n",
    "1 𝜇1-𝜇1  0   0\n",
    "2 𝜇2 0  -𝜇2  0\n",
    "3 𝜇3 0   0  -𝜇3\n",
    "```\n",
    "Using DBC $\\pi_0 \\lambda_i=\\pi_i \\mu_i$, let $\\pi_0=c$ then $\\pi_i=c\\frac{\\lambda_i}{\\mu_i}$ while $\\sum \\pi_i=1$."
   ]
  },
  {
   "cell_type": "markdown",
   "id": "251d83d2",
   "metadata": {},
   "source": [
    "**4.11. Solve the previous problem in the concrete case $\\lambda_1 = 1/24, \\lambda_2 = 1/30, \\lambda_3 =1/84, \\mu_1 =1/3, \\mu_2 =1/5$, and $\\mu_3 =1/7$.**"
   ]
  },
  {
   "cell_type": "code",
   "execution_count": 17,
   "id": "6a172a83",
   "metadata": {},
   "outputs": [
    {
     "name": "stdout",
     "output_type": "stream",
     "text": [
      "Stationary distribution: [0.7272727272727273, 0.09090909090909091, 0.1212121212121212, 0.0606060606060606]\n"
     ]
    }
   ],
   "source": [
    "l = np.array([1/24, 1/30, 1/84])\n",
    "mu = np.array([1/3, 1/5, 1/7])\n",
    "c = np.sum(np.array([1, *(l / mu)]))\n",
    "print(f\"Stationary distribution: {[1/c] + list(l / (mu * c))}\")"
   ]
  },
  {
   "cell_type": "markdown",
   "id": "3a80b24c",
   "metadata": {},
   "source": [
    "**4.12. Three frogs are playing near a pond. When they are in the sun they get too hot and jump in the lake at rate 1. When they are in the lake they get too cold and jump onto the land at rate 2. Let $X_t$ be the number of frogs in the sun at time t. (a) Find the stationary distribution for $X_t$. (b) Check the answer to (a) by noting that the three frogs are independent two-state Markov chains.**"
   ]
  },
  {
   "cell_type": "markdown",
   "id": "52ce9022",
   "metadata": {},
   "source": [
    "(a) It's a _Birth & Death process_ where $\\pi_n = \\pi_{n-1}\\frac{\\lambda}{\\mu}=2(3-n)$, $\\pi_0=c, \\pi_1=6c,\\ \\pi_2=12c,\\ \\pi_3=8c$, hence, $c=1/27$  \n",
    "$\\pi_0=1/27,\\ \\pi_1=6/27,\\ \\pi_2=12/27,\\ \\pi_3=8/27$  \n",
    "(b) It can be linked to a simple binomial distribution. The chance of staying on sun is 2/3.  \n",
    "$\\pi_0=(1/3)^3,\\ \\pi_1=3(2/3)(1/3)^2,\\ \\pi_2=3(1/3)^2(2/3),\\ \\pi_3=(2/3)^3$"
   ]
  },
  {
   "cell_type": "markdown",
   "id": "b586774a",
   "metadata": {},
   "source": [
    "**4.13. There are 15 lily pads and 6 frogs. Each frog at rate 1 gets the urge to jump and when it does, it moves to one of the 9 vacant pads chosen at random. Find the stationary distribution for the set of occupied lily pads.**"
   ]
  },
  {
   "cell_type": "markdown",
   "id": "788a655f",
   "metadata": {},
   "source": [
    "It has to be uniform for all lily pads, so $q(i, j)=q(j, i)=1/9$ therefore $\\pi_i=1/15$"
   ]
  },
  {
   "cell_type": "markdown",
   "id": "b186ed0e",
   "metadata": {},
   "source": [
    "**4.14. A computer lab has three laser printers, two that are hooked to the network and one that is used as a spare. A working printer will function for an exponential amount of time with mean 20 days. Upon failure it is immediately sent to the repair facility and replaced by another machine if there is one in working order. At the repair facility machines are worked on by a single repair- man who needs an exponentially distributed amount of time with mean 2 days to fix one printer. In the long run how often are there two working printers?**"
   ]
  },
  {
   "cell_type": "markdown",
   "id": "93daef14",
   "metadata": {},
   "source": [
    "It is a _Birth and Death process_ where $X_t=0,1,2,3$ is the number of working printers with the rates $\\lambda_i=1/2$ and the _death_ / failure rate is $\\mu_1=1/20,\\ \\mu_2=\\mu_3=\\frac{2}{20}$. As it is _Birth and Death process_, we can use DBC, setting $\\pi_0=c$:\n",
    "$$\\pi_1=\\frac{\\lambda}{\\mu_1}\\pi_0=\\frac{20}{2}c=10c$$\n",
    "$$\\pi_2=\\frac{\\lambda}{\\mu_2}\\pi_1=\\frac{10}{2}10c=50c$$\n",
    "$$\\pi_3=\\frac{\\lambda}{\\mu_3}\\pi_2=\\frac{10}{2}50c=250c$$\n",
    "$\\pi_0=c=\\frac{1}{311},\\ \\pi_1=\\frac{10}{311},\\ \\pi_2=\\frac{50}{311},\\ \\pi_3=\\frac{250}{311}$"
   ]
  },
  {
   "cell_type": "markdown",
   "id": "9adf2a8e",
   "metadata": {},
   "source": [
    "**4.15. A computer lab has three laser printers that are hooked to the network. A working printer will function for an exponential amount of time with mean 20 days. Upon failure it is immediately sent to the repair facility. There machines are worked on by two repairman who can each repair one printer in an exponential amount of time with mean 2 days. However, it is not possible for two people to work on one printer at once. (a) Formulate a Markov chain model for the number of working printers and find the stationary distribution. (b) How often are both repairmen busy? (c) What is the average number of machines in use?**"
   ]
  },
  {
   "cell_type": "markdown",
   "id": "bcbd1e71",
   "metadata": {},
   "source": [
    "It is a _Birth and Death process_ where $X_t=0,1,2,3$ is the number of working printers with the rates $\\lambda_2=1/2,\\ \\lambda_0=\\lambda_1=1$ and the _death_ / failure rate is $\\mu_1=1/20,\\ \\mu_2=\\frac{2}{20},\\ \\mu_3=\\frac{3}{20}$. As it is _Birth and Death process_, we can use DBC, setting $\\pi_0=c$:\n",
    "$$\\pi_1=\\frac{\\lambda_0}{\\mu_1}\\pi_0=\\frac{20}{1}c=20c$$\n",
    "$$\\pi_2=\\frac{\\lambda_1}{\\mu_2}\\pi_1=\\frac{10}{1}20c=200c$$\n",
    "$$\\pi_3=\\frac{\\lambda_2}{\\mu_3}\\pi_2=\\frac{20}{3*2}200c=2000c/3$$\n",
    "$\\pi_0=c=\\frac{3}{2663},\\ \\pi_1=\\frac{60}{2663},\\ \\pi_2=\\frac{600}{2663},\\ \\pi_3=\\frac{2000}{2663}$"
   ]
  },
  {
   "cell_type": "markdown",
   "id": "cb26ff0a",
   "metadata": {},
   "source": [
    "**4.16. A computer lab has 3 laser printers and 5 toner cartridges. Each machine requires one toner cartridges which lasts for an exponentially distributed amount of time with mean 6 days. When a toner cartridge is empty it is sent to a repairman who takes an exponential amount of time with mean 1 day to refill it. (a) Compute the stationary distribution. (b) How often are all three printers working?**"
   ]
  },
  {
   "cell_type": "markdown",
   "id": "e6c3c19a",
   "metadata": {},
   "source": [
    "(a) It is a _Birth and Death process_ where $X_t=5,4,2,1,0$ is the number of toners. Where $\\lambda_i=1$ and $\\mu_1=1/6,\\ \\mu_2=2/6,\\ \\mu_3=3/6,\\ \\mu_4=3/6,\\ \\mu_5=3/6$. Let $\\pi_0=c$\n",
    "$$\\pi_1=\\frac{\\lambda}{\\mu_1}\\pi_0=\\frac{6}{1}c=6c$$\n",
    "$$\\pi_2=\\frac{\\lambda}{\\mu_2}\\pi_1=\\frac{6}{2}6c=18c$$\n",
    "$$\\pi_3=\\frac{\\lambda}{\\mu_3}\\pi_2=\\frac{6}{3}18c=36c$$\n",
    "$$\\pi_4=\\frac{\\lambda}{\\mu_4}\\pi_0=\\frac{6}{3}36c=72c$$\n",
    "$$\\pi_5=\\frac{\\lambda}{\\mu_5}\\pi_0=\\frac{6}{3}72c=144c$$\n",
    "$c=\\frac{1}{277}$\n",
    "$$\\pi_0=\\frac{1}{277},\\ \\pi_1=\\frac{6}{277},\\ \\pi_2=\\frac{18}{277},\\ \\pi_3=\\frac{36}{277},\\ \\pi_4=\\frac{72}{277},\\ \\pi_5=\\frac{144}{277}$$\n",
    "\n",
    "(b) $20*\\frac{252}{277}$"
   ]
  },
  {
   "cell_type": "markdown",
   "id": "852b0019",
   "metadata": {},
   "source": [
    "**4.17. Customers arrive at a full-service one-pump gas station at rate of 20 cars per hour. However, customers will go to another station if there are at least two cars in the station, i.e., one being served and one waiting. Suppose that the service time for customers is exponential with mean 6 minutes. (a) Formulate a Markov chain model for the number of cars at the gas station and find its stationary distribution. (b) On the average how many customers are served per hour?**"
   ]
  },
  {
   "cell_type": "markdown",
   "id": "02c0d153",
   "metadata": {},
   "source": [
    "(a)\n",
    "```\n",
    "    0      1    2\n",
    "0 -20     20    0\n",
    "1  10 -(10+20) 20\n",
    "2 -10     10    0\n",
    "```\n",
    "$20\\pi_0=10\\pi_1,\\ 20\\pi_1=10\\pi_2$ => $\\pi_0=c,\\ \\pi_1=2c,\\ \\pi_2=4c$ => $c=1/7$  \n",
    "$\\pi_0=1/7,\\ \\pi_1=2/7,\\ \\pi_2=4/7$  \n",
    "(b) $20*6/7=120/7=17.14$"
   ]
  },
  {
   "cell_type": "markdown",
   "id": "8feaa335",
   "metadata": {},
   "source": [
    "**4.18. Solve the previous problem for a two-pump self-serve station under the assumption that customers will go to another station if there are at least four cars in the station, i.e., two being served and two waiting.**"
   ]
  },
  {
   "cell_type": "markdown",
   "id": "10f8ea20",
   "metadata": {},
   "source": [
    "(a) $10\\pi_1=20\\pi_0,\\ 20\\pi_i=20\\pi_{i+1}$, setting $\\pi_0=c$ => $\\pi_0=1/9,\\ \\pi_i=2/9$   \n",
    "(b) $20*\\frac{7}{9}=140/9$"
   ]
  },
  {
   "cell_type": "markdown",
   "id": "16f57d83",
   "metadata": {},
   "source": [
    "**4.19. Consider a barbershop with two barbers and two waiting chairs. Customers arrive at a rate of 5 per hour. Customers arriving to a fully occupied shop leave without being served. Find the stationary distribution for the number of customers in the shop, assuming that the service rate for each barber is 2 customers per hour.**"
   ]
  },
  {
   "cell_type": "markdown",
   "id": "ccb7cda6",
   "metadata": {},
   "source": [
    "It is a _Birth and Death process_ where $X_t=4,2,1,0$ is the number of customers at barbershop. $\\lambda_i=5$, $\\mu_1=2,\\ \\mu_2=\\mu_3=\\mu_4=4$, using DBC and $\\pi_0=c$, $\\pi_1=\\frac{5}{2}c,\\ \\pi_2=\\frac{25}{8}c,\\ \\pi_3=\\frac{125c}{32},\\ \\pi_4=\\frac{625c}{128}$."
   ]
  },
  {
   "cell_type": "code",
   "execution_count": 26,
   "id": "4c7a5c62",
   "metadata": {},
   "outputs": [
    {
     "name": "stdout",
     "output_type": "stream",
     "text": [
      "[0.06487582 0.16218956 0.20273695 0.25342119 0.31677648]\n"
     ]
    }
   ],
   "source": [
    "c = 128/(128 + 5*64 + 25*16 + 125*4+625)\n",
    "print(c * np.array([1, 5/2, 25/8, 125/32, 625/128]))"
   ]
  },
  {
   "cell_type": "markdown",
   "id": "b9a2fb25",
   "metadata": {},
   "source": [
    "**4.20. Consider a barbershop with one barber who can cut hair at rate 4 and three waiting chairs. Customers arrive at a rate of 5 per hour. (a) Argue that this new set-up will result in fewer lost customers than the previous scheme.\n",
    "(b) Compute the increase in the number of customers served per hour.**"
   ]
  },
  {
   "cell_type": "markdown",
   "id": "bb169723",
   "metadata": {},
   "source": [
    "(a) The only difference is $\\mu_1=4$ instead of 2 as in the previous problem.  \n",
    "(b) $\\lambda_i=5$, $\\mu_i=4$, using DBC and $\\pi_0=c$, $\\pi_1=\\frac{5}{4}c,\\ \\pi_2=\\frac{25}{16}c,\\ \\pi_3=\\frac{125c}{64},\\ \\pi_4=\\frac{625c}{256}$."
   ]
  },
  {
   "cell_type": "markdown",
   "id": "4f1da4ae",
   "metadata": {},
   "source": [
    "**4.21. There are two tennis courts. Pairs of players arrive at rate 3 per hour and play for an exponentially distributed amount of time with mean 1 hour. If there are already two pairs of players waiting new arrivals will leave. Find the stationary distribution for the number of courts occupied.**"
   ]
  },
  {
   "cell_type": "code",
   "execution_count": 34,
   "id": "68d25972",
   "metadata": {},
   "outputs": [
    {
     "name": "stdout",
     "output_type": "stream",
     "text": [
      "Stationary distribution:  [0.12184674 0.15230842 0.19038553 0.23798191 0.29747739]\n",
      "The difference is 0.01929909000000002\n"
     ]
    }
   ],
   "source": [
    "c = 256/(256 + 5*64 + 25*16 + 125*4+625)\n",
    "print(\"Stationary distribution: \", c * np.array([1, 5/4, 25/16, 125/64, 625/256]))\n",
    "print(f\"The difference is {(0.31677648-0.29747739)}\")"
   ]
  },
  {
   "cell_type": "markdown",
   "id": "e39122aa",
   "metadata": {},
   "source": [
    "**4.22. A taxi company has three cabs. Calls come in to the dispatcher at times of a Poisson process with rate 2 per hour. Suppose that each requires an exponential amount of time with mean 20 minutes, and that callers will hang up if they hear there are no cabs available. (a) What is the probability all three cabs are busy when a call comes in? (b) In the long run, on the average how many customers are served per hour?**"
   ]
  },
  {
   "cell_type": "code",
   "execution_count": null,
   "id": "1dfa94c1",
   "metadata": {},
   "outputs": [],
   "source": []
  }
 ],
 "metadata": {
  "kernelspec": {
   "display_name": "Python 3 (ipykernel)",
   "language": "python",
   "name": "python3"
  },
  "language_info": {
   "codemirror_mode": {
    "name": "ipython",
    "version": 3
   },
   "file_extension": ".py",
   "mimetype": "text/x-python",
   "name": "python",
   "nbconvert_exporter": "python",
   "pygments_lexer": "ipython3",
   "version": "3.9.13"
  }
 },
 "nbformat": 4,
 "nbformat_minor": 5
}
