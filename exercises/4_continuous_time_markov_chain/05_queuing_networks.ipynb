{
 "cells": [
  {
   "cell_type": "markdown",
   "id": "1f1a6668",
   "metadata": {},
   "source": [
    "# Queuing Networks"
   ]
  },
  {
   "cell_type": "code",
   "execution_count": 1,
   "id": "a6135ff2",
   "metadata": {},
   "outputs": [],
   "source": [
    "import numpy as np"
   ]
  },
  {
   "cell_type": "markdown",
   "id": "4cb16725",
   "metadata": {},
   "source": [
    "**4.32. Consider a production system consisting of a machine center followed by an inspection station. Arrivals from outside the system occur only at the machine center and follow a Poisson process with rate $\\lambda$. The machine center and inspection station are each single-server operations with rates $\\mu_1$ and $\\mu_2$. Suppose that each item independently passes inspection with probability $p$. When an object fails inspection it is sent to the machine center for reworking. Find the conditions on the parameters that are necessary for the system to have a stationary distribution.**"
   ]
  },
  {
   "cell_type": "markdown",
   "id": "2a4c0a6b",
   "metadata": {},
   "source": [
    "$$r_1 = \\lambda + (1-p)r_2,\\ \\ \\ r_2=r_1$$\n",
    "$r_2=r_1=\\frac{\\lambda}{p} < min\\{\\mu_1, \\mu_2\\}$"
   ]
  },
  {
   "cell_type": "markdown",
   "id": "8c05dcbe",
   "metadata": {},
   "source": [
    "**4.33. Consider a three station queueing network in which arrivals to servers $i=1,2,3$ occur at rates $3,2,1$, while service at stations $i=1,2,3$ occurs at rates $4,5,6$. Suppose that the probability of going to $j$ when exiting $i$, $p(i,j)$ is given by $p(1,2)=1/3$, $p(1,3)=1/3$, $p(2,3)=2/3$, and $p(i,j)=0$ otherwise. Find the stationary distribution.**"
   ]
  },
  {
   "cell_type": "markdown",
   "id": "b5804d80",
   "metadata": {},
   "source": [
    "Using $r_i = \\lambda_i + \\sum_{j=1}^{n}r_jp(j, i)$ we get following equations:  \n",
    " - $r_1 = \\lambda_1=3$  \n",
    " - $r_2 = \\lambda_2 + r_1p(1,2)=2 + 3*1/3=3$\n",
    " - $r_3 = \\lambda_3 + r_1p(1,3)+r_2p(2,3)=1+3*1/3+3*2/3=4$  \n",
    "\n",
    "Now using $\\alpha_i=\\frac{r_i}{\\mu_i}$, we get $\\alpha_i=(3/4, 3/5, 4/6)$."
   ]
  },
  {
   "cell_type": "markdown",
   "id": "d5f6074b",
   "metadata": {},
   "source": [
    "**4.34. _Feed-forward queues_. Consider a $k$ station queueing network in which arrivals to server i occur at rate $\\lambda_i$ and service at station $i$ occurs at rate $\\mu_i$. We say that the queueing network is feed-forward if the probability of going from $i$ to $j < i$ has $p(i, j) = 0$. Consider a general three station feed-forward queue. What conditions on the rates must be satisfied for a stationary distribution to exist?**"
   ]
  },
  {
   "cell_type": "markdown",
   "id": "cc22f966",
   "metadata": {},
   "source": [
    "For $k=3$ we have following equations:\n",
    " - $r_1=\\lambda_1$\n",
    " - $r_2=\\lambda_2 + p(1,2)r_1=\\lambda_2 + p(1,2)\\lambda_1$\n",
    " - $r_3=\\lambda_3 + p(1,3)r_1 + p(2,3)r_2$\n",
    " \n",
    "Stationary distribution exists iff $r_i < \\mu_i$."
   ]
  },
  {
   "cell_type": "markdown",
   "id": "55d071e9",
   "metadata": {},
   "source": [
    "**4.35. _Queues in series_. Consider a k station queueing network in which arrivals to server $i$ occur at rate $\\lambda_i$ and service at station $i$ occurs at rate $\\mu_i$. In this problem we examine the special case of the feed-forward system in which $p(i,i+1)= p_i$ for $1 \\leq i < k$. In words the customer goes to the next station or leaves the system. What conditions on the rates must be satisfied for a stationary distribution to exist?**"
   ]
  },
  {
   "cell_type": "markdown",
   "id": "ba8353e0",
   "metadata": {},
   "source": [
    " - $r_1=\\lambda_1$\n",
    " - $r_{i+1}=\\lambda_{i+1}+p(i,i+1)r_i=\\lambda_{i+1}+\\lambda_ip(i,i+1)+\\dots+\\lambda_1p(1,2)\\dots p(i, i+1)$\n",
    " \n",
    "Stationary distribution exists iff $r_i < \\mu_i$."
   ]
  },
  {
   "cell_type": "markdown",
   "id": "d18989f3",
   "metadata": {},
   "source": [
    "**4.36. At registration at a very small college, students arrive at the English table at rate 10 and at the Math table at rate 5. A student who completes service at the English table goes to the Math table with probability 1/4 and to the cashier with probability 3/4. A student who completes service at the Math table goes to the English table with probability 2/5 and to the cashier with probability 3/5. Students who reach the cashier leave the system after they pay. Suppose that the service times for the English table, Math table, and cashier are 25, 30, and 20, respectively. Find the stationary distribution.**"
   ]
  },
  {
   "cell_type": "markdown",
   "id": "84005d85",
   "metadata": {},
   "source": [
    " - $r_M = \\lambda_M + \\frac{1}{4}r_E$\n",
    " - $r_E = \\lambda_E + \\frac{2}{5}r_M$\n",
    " - $r_C = \\frac{3}{4}r_M + \\frac{3}{5}r_E$\n",
    "\n",
    "$r_E=\\frac{40}{3},\\ \\ r_M=\\frac{25}{3}, \\ \\ r_C=15$. However $\\mu=(25, 30, 20)$ the stationary distribution exists. $\\alpha_i=\\frac{r_i}{\\mu_i}$"
   ]
  },
  {
   "cell_type": "markdown",
   "id": "4151eded",
   "metadata": {},
   "source": [
    "**4.37. At a local grocery store there are queues for service at the fish counter (1), meat counter (2), and cafe (3). For $i=1, 2, 3$ customers arrive from outside the system to station $i$ at rate $i$, and receive service at rate $4 + i$. A customer leaving station $i$ goes to $j$ with probabilities $p(i,j)$ given the following matrix**\n",
    "```\n",
    "   1  2   3 \n",
    "1  0 1/4 1/2\n",
    "2 1/5 0  1/5\n",
    "3 1/3 1/3 0\n",
    "```\n",
    "\n",
    "**In equilibrium what is the probability no one is in the system, i.e., $\\pi(0, 0, 0)$.**"
   ]
  },
  {
   "cell_type": "code",
   "execution_count": 11,
   "id": "883da771",
   "metadata": {},
   "outputs": [
    {
     "name": "stdout",
     "output_type": "stream",
     "text": [
      "𝛼=[0.8    0.8333 0.8571]\n",
      "𝜋(0, 0, 0)=(1-𝛼1)(1-𝛼2)(1-𝛼3)𝛼1^0𝛼2^0𝛼3^0=0.0048\n"
     ]
    }
   ],
   "source": [
    "p = np.array([\n",
    "    [0, 1/4, 1/2],\n",
    "    [1/5, 0, 1/5],\n",
    "    [1/3, 1/3, 0]\n",
    "])\n",
    "rates = np.array([1, 2, 3])\n",
    "mu = np.array([5, 6, 7])\n",
    "r = np.dot(rates, np.linalg.inv(np.eye(3) - p))\n",
    "print(f\"𝛼={np.round(r / mu, 4)}\")\n",
    "print(f\"𝜋(0, 0, 0)=(1-𝛼1)(1-𝛼2)(1-𝛼3)𝛼1^0𝛼2^0𝛼3^0={np.round(np.prod(1 - r / mu), 4)}\")"
   ]
  },
  {
   "cell_type": "markdown",
   "id": "43b661e9",
   "metadata": {},
   "source": [
    "**4.38. Three vendors have vegetable stands in a row. Customers arrive at the stands 1, 2, and 3 at rates 10, 8, and 6. A customer visiting stand 1 buys something and leaves with probability 1/2 or visits stand 2 with probability 1/2. A customer visiting stand 3 buys something and leaves with probability 7/10 or visits stand 2 with probability 3/10. A customer visiting stand 2 buys something and leaves with probability 4/10 or visits stands 1 or 3 with probability 3/10 each. Suppose that the service rates at the three stands are large enough so that a stationary distribution exists. At what rate do the three stands make sales. To check your answer note that since each entering customers buys exactly once the three rates must add up to 10+8+6=24.**"
   ]
  },
  {
   "cell_type": "code",
   "execution_count": 25,
   "id": "f3d29c59",
   "metadata": {},
   "outputs": [
    {
     "name": "stdout",
     "output_type": "stream",
     "text": [
      "𝛼=[7.9211 7.7895 8.2895], ∑𝛼=24.0\n"
     ]
    }
   ],
   "source": [
    "p = np.array([\n",
    "    [0, 1/2, 0],\n",
    "    [3/10, 0, 3/10],\n",
    "    [0, 3/10, 0]\n",
    "])\n",
    "rates = np.array([10, 8, 6])\n",
    "mu = np.array([2, 10/4, 10/7])\n",
    "r = np.dot(rates, np.linalg.inv(np.eye(3) - p))\n",
    "print(f\"𝛼={np.round(r / mu, 4)}, ∑𝛼={np.round(np.sum(r / mu), 4)}\")"
   ]
  },
  {
   "cell_type": "markdown",
   "id": "071f7f91",
   "metadata": {},
   "source": [
    "**4.39. Four children are playing two video games. The first game, which takes an average of 4 minutes to play, is not very exciting, so when a child completes a turn on it they always stand in line to play the other one. The second one, which takes an average of 8 minutes, is more interesting so when they are done they will get back in line to play it with probability 1/2 or go to the other machine with probability 1/2. Assuming that the turns take an exponentially distributed amount of time, find the stationary distribution of the number of children playing or in line at each of the two machines.**"
   ]
  },
  {
   "cell_type": "code",
   "execution_count": 26,
   "id": "9b71f02e",
   "metadata": {},
   "outputs": [
    {
     "data": {
      "text/plain": [
       "array([1.33333333, 5.33333333])"
      ]
     },
     "execution_count": 26,
     "metadata": {},
     "output_type": "execute_result"
    }
   ],
   "source": [
    "p = np.array([\n",
    "    [0, 1],\n",
    "    [1/2, 1/2]\n",
    "])\n",
    "mu = np.array([1/4, 1/8])\n",
    "pi = np.array([1/3, 2/3])\n",
    "\n",
    "pi_children = np.array(pi / mu)\n",
    "pi_children"
   ]
  },
  {
   "cell_type": "code",
   "execution_count": 38,
   "id": "10d3100f",
   "metadata": {},
   "outputs": [
    {
     "data": {
      "text/plain": [
       "1.328125"
      ]
     },
     "execution_count": 38,
     "metadata": {},
     "output_type": "execute_result"
    }
   ],
   "source": [
    "np.sum((1/4) ** np.arange(4))"
   ]
  },
  {
   "cell_type": "markdown",
   "id": "d5ebb397",
   "metadata": {},
   "source": [
    "$\\pi(n, 4-n)=c\\big(\\frac{4}{3}\\big)^n\\big(\\frac{8}{3}\\big)^{4-n}=1.328125\\big(\\frac{1}{4}\\big)^n$"
   ]
  }
 ],
 "metadata": {
  "kernelspec": {
   "display_name": "Python 3 (ipykernel)",
   "language": "python",
   "name": "python3"
  },
  "language_info": {
   "codemirror_mode": {
    "name": "ipython",
    "version": 3
   },
   "file_extension": ".py",
   "mimetype": "text/x-python",
   "name": "python",
   "nbconvert_exporter": "python",
   "pygments_lexer": "ipython3",
   "version": "3.10.6"
  }
 },
 "nbformat": 4,
 "nbformat_minor": 5
}
