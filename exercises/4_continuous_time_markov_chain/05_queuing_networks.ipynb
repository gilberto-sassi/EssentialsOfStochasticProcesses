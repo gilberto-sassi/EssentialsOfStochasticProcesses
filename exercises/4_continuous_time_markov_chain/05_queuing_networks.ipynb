{
 "cells": [
  {
   "cell_type": "markdown",
   "id": "1f1a6668",
   "metadata": {},
   "source": [
    "# Queuing Networks"
   ]
  },
  {
   "cell_type": "markdown",
   "id": "4cb16725",
   "metadata": {},
   "source": [
    "**4.32. Consider a production system consisting of a machine center followed by an inspection station. Arrivals from outside the system occur only at the machine center and follow a Poisson process with rate $\\lambda$. The machine center and inspection station are each single-server operations with rates $\\mu_1$ and $\\mu_2$. Suppose that each item independently passes inspection with probability $p$. When an object fails inspection it is sent to the machine center for reworking. Find the conditions on the parameters that are necessary for the system to have a stationary distribution.**"
   ]
  },
  {
   "cell_type": "code",
   "execution_count": null,
   "id": "da0fdea3",
   "metadata": {},
   "outputs": [],
   "source": []
  },
  {
   "cell_type": "markdown",
   "id": "8c05dcbe",
   "metadata": {},
   "source": [
    "**4.33. Consider a three station queueing network in which arrivals to servers $i=1,2,3$ occur at rates $3,2,1$, while service at stations $i=1,2,3$ occurs at rates $4,5,6$. Suppose that the probability of going to $j$ when exiting $i$, $p(i,j)$ is given by $p(1,2)=1/3$, $p(1,3)=1/3$, $p(2,3)=2/3$, and $p(i,j)=0$ otherwise. Find the stationary distribution.**"
   ]
  },
  {
   "cell_type": "code",
   "execution_count": null,
   "id": "5bcecf20",
   "metadata": {},
   "outputs": [],
   "source": []
  },
  {
   "cell_type": "markdown",
   "id": "d5f6074b",
   "metadata": {},
   "source": [
    "**4.34. _Feed-forward queues_. Consider a $k$ station queueing network in which arrivals to server i occur at rate $\\lambda_i$ and service at station $i$ occurs at rate $\\mu_i$. We say that the queueing network is feed-forward if the probability of going from $i$ to $j < i$ has $p(i, j) = 0$. Consider a general three station feed-forward queue. What conditions on the rates must be satisfied for a stationary distribution to exist?**"
   ]
  },
  {
   "cell_type": "code",
   "execution_count": null,
   "id": "dc90a693",
   "metadata": {},
   "outputs": [],
   "source": []
  },
  {
   "cell_type": "markdown",
   "id": "55d071e9",
   "metadata": {},
   "source": [
    "**4.35. _Queues in series_. Consider a k station queueing network in which arrivals to server i occur at rate $\\lambda_i$ and service at station i occurs at rate μi. In this problem we examine the special case of the feed-forward system in which p(i,i + 1) = pi for 1 ≤ i < k. In words the customer goes to the next station or leaves the system. What conditions on the rates must be satisfied for a stationary distribution to exist?**"
   ]
  },
  {
   "cell_type": "code",
   "execution_count": null,
   "id": "7f26dd81",
   "metadata": {},
   "outputs": [],
   "source": []
  },
  {
   "cell_type": "markdown",
   "id": "d18989f3",
   "metadata": {},
   "source": [
    "**4.36. At registration at a very small college, students arrive at the English table at rate 10 and at the Math table at rate 5. A student who completes service at the English table goes to the Math table with probability 1/4 and to the cashier with probability 3/4. A student who completes service at the Math table goes to the English table with probability 2/5 and to the cashier with probability 3/5. Students who reach the cashier leave the system after they pay. Suppose that the service times for the English table, Math table, and cashier are 25, 30, and 20, respectively. Find the stationary distribution.**"
   ]
  },
  {
   "cell_type": "code",
   "execution_count": null,
   "id": "73622d36",
   "metadata": {},
   "outputs": [],
   "source": []
  },
  {
   "cell_type": "markdown",
   "id": "4151eded",
   "metadata": {},
   "source": [
    "**4.37. At a local grocery store there are queues for service at the fish counter (1), meat counter (2), and cafe (3). For $i=1, 2, 3$ customers arrive from outside the system to station $i$ at rate $i$, and receive service at rate $4 + i$. A customer leaving station $i$ goes to $j$ with probabilities $p(i,j)$ given the following matrix**\n",
    "```\n",
    "   1  2   3 \n",
    "1  0 1/4 1/2\n",
    "2 1/5 0  1/5\n",
    "3 1/3 1/3 0\n",
    "```\n",
    "\n",
    "**In equilibrium what is the probability no one is in the system, i.e., $\\pi(0, 0, 0)$.**"
   ]
  },
  {
   "cell_type": "code",
   "execution_count": null,
   "id": "883da771",
   "metadata": {},
   "outputs": [],
   "source": []
  },
  {
   "cell_type": "markdown",
   "id": "43b661e9",
   "metadata": {},
   "source": [
    "**4.38. Three vendors have vegetable stands in a row. Customers arrive at the stands 1, 2, and 3 at rates 10, 8, and 6. A customer visiting stand 1 buys something and leaves with probability 1/2 or visits stand 2 with probability 1/2. A customer visiting stand 3 buys something and leaves with probability 7/10 or visits stand 2 with probability 3/10. A customer visiting stand 2 buys something and leaves with probability 4/10 or visits stands 1 or 3 with probability 3/10 each. Suppose that the service rates at the three stands are large enough so that a stationary distribution exists. At what rate do the three stands make sales. To check your answer note that since each entering customers buys exactly once the three rates must add up to 10+8+6=24.**"
   ]
  },
  {
   "cell_type": "code",
   "execution_count": null,
   "id": "f3d29c59",
   "metadata": {},
   "outputs": [],
   "source": []
  },
  {
   "cell_type": "markdown",
   "id": "071f7f91",
   "metadata": {},
   "source": [
    "**4.39. Four children are playing two video games. The first game, which takes an average of 4 minutes to play, is not very exciting, so when a child completes a turn on it they always stand in line to play the other one. The second one, which takes an average of 8 minutes, is more interesting so when they are done they will get back in line to play it with probability 1/2 or go to the other machine with probability 1/2. Assuming that the turns take an exponentially distributed amount of time, find the stationary distribution of the number of children playing or in line at each of the two machines.**"
   ]
  },
  {
   "cell_type": "code",
   "execution_count": null,
   "id": "9b71f02e",
   "metadata": {},
   "outputs": [],
   "source": []
  }
 ],
 "metadata": {
  "kernelspec": {
   "display_name": "Python 3 (ipykernel)",
   "language": "python",
   "name": "python3"
  },
  "language_info": {
   "codemirror_mode": {
    "name": "ipython",
    "version": 3
   },
   "file_extension": ".py",
   "mimetype": "text/x-python",
   "name": "python",
   "nbconvert_exporter": "python",
   "pygments_lexer": "ipython3",
   "version": "3.9.13"
  }
 },
 "nbformat": 4,
 "nbformat_minor": 5
}
