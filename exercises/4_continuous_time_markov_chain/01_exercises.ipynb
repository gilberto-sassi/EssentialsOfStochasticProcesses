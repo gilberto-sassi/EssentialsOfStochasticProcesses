{
 "cells": [
  {
   "cell_type": "markdown",
   "id": "5813c393",
   "metadata": {},
   "source": [
    "# Continuous Time Markov Chains"
   ]
  },
  {
   "cell_type": "code",
   "execution_count": 1,
   "id": "b34a301d",
   "metadata": {},
   "outputs": [],
   "source": [
    "import os\n",
    "import sys\n",
    "import numpy as np\n",
    "\n",
    "module_path = os.path.abspath(os.path.join(\"..\"))\n",
    "if module_path not in sys.path:\n",
    "    sys.path.append(\"../libs\")\n",
    "    \n",
    "from libs.stationary_distribution import get_stationary_distribution, check_detailed_balance_condition"
   ]
  },
  {
   "cell_type": "markdown",
   "id": "969f8633",
   "metadata": {},
   "source": [
    "**4.1. A salesman flies around between Atlanta, Boston, and Chicago as follows.**\n",
    "```\n",
    "   A B C \n",
    "A −4 2 2 \n",
    "B 3 −4 1\n",
    "C 5 0 −5\n",
    "```\n",
    "**(a) Find the limiting fraction of time she spends in each city. (b) What is her\n",
    "average number of trips each year from Boston to Atlanta?**"
   ]
  },
  {
   "cell_type": "code",
   "execution_count": 6,
   "id": "70f3268a",
   "metadata": {},
   "outputs": [
    {
     "name": "stdout",
     "output_type": "stream",
     "text": [
      "(a) Limiting fraction of time in each city: [0.5  0.25 0.25]\n",
      "(b) Average number of trips each year from Boston to Atlanta: 3.0*3=9.0\n"
     ]
    }
   ],
   "source": [
    "q = np.array([\n",
    "    [-4, 2, 2],\n",
    "    [3, -4, 1],\n",
    "    [5, 0, -5]\n",
    "])\n",
    "pi = get_stationary_distribution(q, rates=True)\n",
    "print(f\"(a) Limiting fraction of time in each city: {pi}\")\n",
    "print(f\"(b) Average number of trips each year from Boston to Atlanta: {pi[1] * 12}*{q[1][0]}={pi[1] * 12 * q[1][0]}\")"
   ]
  },
  {
   "cell_type": "markdown",
   "id": "84ea0ea8",
   "metadata": {},
   "source": [
    "**4.2. A small computer store has room to display up to 3 computers for sale. Customers come at times of a Poisson process with rate 2 per week to buy a computer and will buy one if at least 1 is available. When the store has only 1 computer left it places an order for 2 more computers. The order takes an exponentially distributed amount of time with mean 1 week to arrive. Of course, while the store is waiting for delivery, sales may reduce the inventory to 1 and then to 0. (a) Write down the matrix of transition rates $Q_{ij}$ and solve $\\pi Q = 0$ to find the stationary distribution. (b) At what rate does the store make sales?**"
   ]
  },
  {
   "cell_type": "markdown",
   "id": "71f17ded",
   "metadata": {},
   "source": [
    "Let $\\lambda=1$ be the rate for supplies, $\\mu=2$ be the rate for sales.\n",
    "```\n",
    "   0    1   2  3\n",
    "0 -𝜆    0   𝜆  0\n",
    "1  𝜇 -(𝜆+𝜇) 0  𝜆\n",
    "2  0    𝜇  -𝜇  0\n",
    "3  0    0   𝜇 -𝜇 \n",
    "```"
   ]
  },
  {
   "cell_type": "code",
   "execution_count": 8,
   "id": "2733b725",
   "metadata": {},
   "outputs": [
    {
     "name": "stdout",
     "output_type": "stream",
     "text": [
      "(a) stationary distribution: [0.4 0.2 0.3 0.1]\n",
      "(b) Store rate 𝜇(1-𝜋(0))=1.2\n"
     ]
    }
   ],
   "source": [
    "q = np.array([\n",
    "    [-1, 0, 1, 0],\n",
    "    [2, -3, 0, 1],\n",
    "    [0, 2, -2, 0],\n",
    "    [0, 0, 2, -2],\n",
    "])\n",
    "pi = get_stationary_distribution(q, rates=True)\n",
    "print(f\"(a) stationary distribution: {pi}\")\n",
    "print(f\"(b) Store rate 𝜇(1-𝜋(0))={2*(1-pi[0])}\")"
   ]
  },
  {
   "cell_type": "markdown",
   "id": "3ee84e0c",
   "metadata": {},
   "source": [
    "**4.3. Consider two machines that are maintained by a single repairman. Machine $i$ functions for an exponentially distributed amount of time with rate $\\lambda_i$ before it fails. The repair times for each unit are exponential with rate $\\mu_i$. They are repaired in the order in which they fail. (a) Formulate a Markov chain model for this situation with state space $\\{0, 1, 2, 12, 21\\}$. (b) Suppose that $\\lambda_1=1, \\mu_1 = 2, \\lambda_2 = 3, \\mu_2 = 4$. Find the stationary distribution.**"
   ]
  },
  {
   "cell_type": "markdown",
   "id": "c9b53dc5",
   "metadata": {},
   "source": [
    "(a) Let 0=_both working_, 1=_one is broken_, 2=_two is broken_, 12=_first one then two_, 21=_first two then one_.\n",
    "```\n",
    "      0       1      2     12   21\n",
    "0 -(𝜆1+𝜆2)   𝜆1      𝜆2     0    0\n",
    "1    𝜇1   -(𝜆2+𝜇1)   0     𝜆2    0\n",
    "2    𝜇2       0  -(𝜆1+𝜇2)  0    𝜆1\n",
    "12   0        0     𝜇1    -𝜇1    0\n",
    "21   0        𝜇2     0     0   -𝜇2\n",
    "```"
   ]
  },
  {
   "cell_type": "code",
   "execution_count": 9,
   "id": "0c6523bd",
   "metadata": {},
   "outputs": [
    {
     "name": "stdout",
     "output_type": "stream",
     "text": [
      "(b) stationary distribution: [0.34108527 0.12403101 0.27906977 0.18604651 0.06976744]\n"
     ]
    }
   ],
   "source": [
    "q = np.array([\n",
    "    [-4, 1, 3, 0, 0],\n",
    "    [2, -5, 0, 3, 0],\n",
    "    [4, 0, -5, 0, 1],\n",
    "    [0, 0, 2, -2, 0],\n",
    "    [0, 4, 0, 0, -4],\n",
    "])\n",
    "pi = get_stationary_distribution(q, rates=True)\n",
    "print(f\"(b) stationary distribution: {pi}\")"
   ]
  },
  {
   "cell_type": "markdown",
   "id": "de85ec75",
   "metadata": {},
   "source": [
    "**4.4. Consider the set-up of the previous problem but now suppose machine 1 is much more important than 2, so the repairman will always service 1 if it is broken. (a) Formulate a Markov chain model for the this system with state space {0, 1, 2, 12} where the numbers indicate the machines that are broken at the time. (b) Suppose that $\\lambda_1=1, \\mu_1 = 2, \\lambda_2 = 3, \\mu_2 = 4$. Find the stationary distribution.**"
   ]
  },
  {
   "cell_type": "markdown",
   "id": "d06d1729",
   "metadata": {},
   "source": [
    "(a) Let 0=_both working_, 1=_one is broken_, 2=_two is broken_, 12=_first one then two_, 21=_first two then one_.\n",
    "```\n",
    "      0       1      2     12 \n",
    "0 -(𝜆1+𝜆2)   𝜆1      𝜆2     0 \n",
    "1    𝜇1   -(𝜆2+𝜇1)   0     𝜆2 \n",
    "2    𝜇2       0  -(𝜆1+𝜇2)  𝜆1\n",
    "12   0        0     𝜇1    -𝜇1 \n",
    "```"
   ]
  },
  {
   "cell_type": "code",
   "execution_count": 11,
   "id": "6edf3bfa",
   "metadata": {},
   "outputs": [
    {
     "name": "stdout",
     "output_type": "stream",
     "text": [
      "(b) stationary distribution: [0.35087719 0.07017544 0.31578947 0.26315789]\n"
     ]
    }
   ],
   "source": [
    "q = np.array([\n",
    "    [-4, 1, 3, 0],\n",
    "    [2, -5, 0, 3],\n",
    "    [4, 0, -5, 1],\n",
    "    [0, 0, 2, -2],\n",
    "])\n",
    "pi = get_stationary_distribution(q, rates=True)\n",
    "print(f\"(b) stationary distribution: {pi}\")"
   ]
  },
  {
   "cell_type": "markdown",
   "id": "dfc40aa6",
   "metadata": {},
   "source": [
    "**4.5. Two people are working in a small office selling shares in a mutual fund. Each is either on the phone or not. Suppose that salesman $i$ is on the phone for an exponential amount of time with rate $\\mu_i$ and then off the phone for an exponential amount of time with rate $\\lambda_i$. (a) Formulate a Markov chain model for this system with state space $\\{0, 1, 2, 12\\}$ where the state indicates who is on the phone. (b) Find the stationary distribution.**"
   ]
  },
  {
   "cell_type": "markdown",
   "id": "7c9b4670",
   "metadata": {},
   "source": [
    "(a) Let 0=_none of them on a phone_, 1=_one is on a phone_, 2=_two is on a phone_, 12=_both are on a phone_.\n",
    "```\n",
    "      0       1      2     12 \n",
    "0 -(𝜆1+𝜆2)   𝜆1      𝜆2     0 \n",
    "1    𝜇1   -(𝜆2+𝜇1)   0     𝜆2 \n",
    "2    𝜇2       0  -(𝜆1+𝜇2)  𝜆1\n",
    "12   0       𝜇1     𝜇2  -(𝜇1+𝜇2) \n",
    "```\n",
    "(b) $\\pi(i) = \\frac{\\lambda_i}{\\lambda_i+\\mu_i}$"
   ]
  },
  {
   "cell_type": "markdown",
   "id": "27d54618",
   "metadata": {},
   "source": [
    "**4.6. (a) Consider the special case of the previous problem in which $\\lambda_1=\\lambda_2=1$, and $\\mu_1=\\mu_2=3$, and find the stationary probabilities. (b) Suppose they upgrade their telephone system so that a call to one line that is busy is forwarded to the other phone and lost if that phone is busy. Find the new stationary probabilities.**"
   ]
  },
  {
   "cell_type": "markdown",
   "id": "d4415955",
   "metadata": {},
   "source": [
    "(a) $\\pi(i)=\\frac{1}{4}$\n",
    "```\n",
    "      0       1        2       12 \n",
    "0 -(𝜆1+𝜆2)   𝜆1        𝜆2       0 \n",
    "1    𝜇1   -(𝜆1+𝜆2+𝜇1)   0      𝜆1+𝜆2\n",
    "2    𝜇2       0    -(𝜆2+𝜆1+𝜇2) 𝜆1+𝜆2\n",
    "12   0        𝜇1       𝜇2    -(𝜇1+𝜇2) \n",
    "```"
   ]
  },
  {
   "cell_type": "code",
   "execution_count": 12,
   "id": "742eeb20",
   "metadata": {},
   "outputs": [
    {
     "name": "stdout",
     "output_type": "stream",
     "text": [
      "(b) stationary distribution: [0.52941176 0.17647059 0.17647059 0.11764706]\n"
     ]
    }
   ],
   "source": [
    "q = np.array([\n",
    "    [-2, 1, 1, 0],\n",
    "    [3, -5, 0, 2],\n",
    "    [3, 0, -5, 2],\n",
    "    [0, 3, 3, -6],\n",
    "])\n",
    "pi = get_stationary_distribution(q, rates=True)\n",
    "print(f\"(b) stationary distribution: {pi}\")"
   ]
  },
  {
   "cell_type": "markdown",
   "id": "cb1bffe5",
   "metadata": {},
   "source": [
    "**4.7. Two people who prepare tax forms are working in a store at a local mall. Each has a chair next to his desk where customers can sit and be served. In addition there is one chair where customers can sit and wait. Customers arrive at rate $\\lambda$ but will go away if there is already someone sitting in the chair waiting. Suppose that server $i$ requires an exponential amount of time with rate $\\mu_i$ and that when both servers are free an arriving customer is equally likely to choose either one. (a) Formulate a Markov chain model for this system with state space {0, 1, 2, 12, 3} where the first four states indicate the servers that are busy while the last indicates that there is a total of three customers in the system: one at each server and one waiting. (b) Consider the special case in which $\\lambda = 2, \\mu_1 = 3$ and $\\mu_2 = 3$. Find the stationary distribution.**"
   ]
  },
  {
   "cell_type": "markdown",
   "id": "6e22bee3",
   "metadata": {},
   "source": [
    "(a) \n",
    "```\n",
    "     0     1     2     12     3\n",
    "0   -𝜆    𝜆/2   𝜆/2     0     0\n",
    "1   𝜇1  -(𝜆+𝜇1)  0      𝜆     0\n",
    "2   𝜇2     0   -(𝜆+𝜇2)  𝜆     0\n",
    "12   0    𝜇2    𝜇1 -(𝜇1+𝜇2+𝜆) 𝜆\n",
    "3    0     0     0    𝜇1+𝜇2 -(𝜇1+𝜇2)\n",
    "```"
   ]
  },
  {
   "cell_type": "code",
   "execution_count": 13,
   "id": "81c1cc1c",
   "metadata": {},
   "outputs": [
    {
     "name": "stdout",
     "output_type": "stream",
     "text": [
      "(b) stationary distribution: [0.50943396 0.16981132 0.16981132 0.11320755 0.03773585]\n"
     ]
    }
   ],
   "source": [
    "q = np.array([\n",
    "    [-2, 1, 1, 0, 0],\n",
    "    [3, -5, 0, 2, 0],\n",
    "    [3, 0, -5, 2, 0],\n",
    "    [0, 3, 3, -8, 2],\n",
    "    [0, 0, 0, 6, -6]\n",
    "])\n",
    "pi = get_stationary_distribution(q, rates=True)\n",
    "print(f\"(b) stationary distribution: {pi}\")"
   ]
  },
  {
   "cell_type": "markdown",
   "id": "e4c84c0f",
   "metadata": {},
   "source": [
    "**4.8. _Two queues in series_. Consider a two station queueing network in which arrivals only occur at the first server and do so at rate 2. If a customer finds server 1 free he enters the system; otherwise he goes away. When a customer is done at the first server he moves on to the second server if it is free and leaves the system if it is not. Suppose that server 1 serves at rate 4 while server 2 serves at rate 2. Formulate a Markov chain model for this system with state space {0, 1, 2, 12} where the state indicates the servers who are busy. In the long run (a) what proportion of customers enter the system? (b) What proportion of the customers visit server 2?**"
   ]
  },
  {
   "cell_type": "markdown",
   "id": "80ec4591",
   "metadata": {},
   "source": [
    "```\n",
    "   0    1     2     12\n",
    "0 -𝜆    𝜆     0     0\n",
    "1  0  -𝜇1    𝜇1     0\n",
    "2 𝜇2    0  -(𝜆+𝜇2)  𝜆\n",
    "12 0   𝜇2    𝜇1  -(𝜇1+𝜇2) \n",
    "```"
   ]
  },
  {
   "cell_type": "code",
   "execution_count": 17,
   "id": "290aaef7",
   "metadata": {},
   "outputs": [
    {
     "name": "stdout",
     "output_type": "stream",
     "text": [
      "stationary distribution: [0.33333333 0.22222222 0.33333333 0.11111111]\n",
      "(a) 𝜋(0)+𝜋(2)=0.6666666666666666\n",
      "(b) 𝜋(0)+𝜋(2)(𝜇2/(𝜇1+𝜇2))=4/9\n"
     ]
    }
   ],
   "source": [
    "q = np.array([\n",
    "    [-2, 2, 0, 0],\n",
    "    [0, -4, 4, 0],\n",
    "    [2, 0, -4, 2],\n",
    "    [0, 2, 4, -6],\n",
    "])\n",
    "pi = get_stationary_distribution(q, rates=True)\n",
    "print(f\"stationary distribution: {pi}\")\n",
    "print(f\"(a) 𝜋(0)+𝜋(2)={pi[0]+pi[2]}\")\n",
    "print(f\"(b) 𝜋(0)+𝜋(2)(𝜇2/(𝜇1+𝜇2))=4/9\")"
   ]
  }
 ],
 "metadata": {
  "kernelspec": {
   "display_name": "Python 3 (ipykernel)",
   "language": "python",
   "name": "python3"
  },
  "language_info": {
   "codemirror_mode": {
    "name": "ipython",
    "version": 3
   },
   "file_extension": ".py",
   "mimetype": "text/x-python",
   "name": "python",
   "nbconvert_exporter": "python",
   "pygments_lexer": "ipython3",
   "version": "3.9.13"
  }
 },
 "nbformat": 4,
 "nbformat_minor": 5
}
