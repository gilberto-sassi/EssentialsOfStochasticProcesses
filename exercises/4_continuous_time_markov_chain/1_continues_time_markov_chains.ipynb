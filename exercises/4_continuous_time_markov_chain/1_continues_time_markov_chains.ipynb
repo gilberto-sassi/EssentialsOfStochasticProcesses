{
 "cells": [
  {
   "cell_type": "markdown",
   "id": "0269493a",
   "metadata": {},
   "source": [
    "# Continuous Time Markov Chains"
   ]
  },
  {
   "cell_type": "code",
   "execution_count": 1,
   "id": "d98314d8",
   "metadata": {},
   "outputs": [],
   "source": [
    "import os\n",
    "import sys\n",
    "import numpy as np\n",
    "\n",
    "module_path = os.path.abspath(os.path.join(\"..\"))\n",
    "if module_path not in sys.path:\n",
    "    sys.path.append(\"../libs\")\n",
    "    \n",
    "from libs.stationary_distribution import get_stationary_distribution, check_detailed_balance_condition"
   ]
  },
  {
   "cell_type": "markdown",
   "id": "d4df16a7",
   "metadata": {},
   "source": [
    "**4.1. A salesman flies around between Atlanta, Boston, and Chicago as follows.**\n",
    "```\n",
    "   A B C \n",
    "A −4 2 2 \n",
    "B 3 −4 1\n",
    "C 5 0 −5\n",
    "```\n",
    "**(a) Find the limiting fraction of time she spends in each city. (b) What is her\n",
    "average number of trips each year from Boston to Atlanta?**"
   ]
  },
  {
   "cell_type": "code",
   "execution_count": 2,
   "id": "153efb87",
   "metadata": {},
   "outputs": [
    {
     "name": "stdout",
     "output_type": "stream",
     "text": [
      "(a) Limiting fraction of time in each city: [0.5  0.25 0.25]\n",
      "(b) Average number of trips each year from Boston to Atlanta: 3.0*3=9.0\n"
     ]
    }
   ],
   "source": [
    "q = np.array([\n",
    "    [-4, 2, 2],\n",
    "    [3, -4, 1],\n",
    "    [5, 0, -5]\n",
    "])\n",
    "pi = get_stationary_distribution(q, rates=True)\n",
    "print(f\"(a) Limiting fraction of time in each city: {pi}\")\n",
    "print(f\"(b) Average number of trips each year from Boston to Atlanta: {pi[1] * 12}*{q[1][0]}={pi[1] * 12 * q[1][0]}\")"
   ]
  },
  {
   "cell_type": "markdown",
   "id": "85b6e2fe",
   "metadata": {},
   "source": [
    "**4.2. A hemoglobin molecule can carry one oxygen or one carbon monoxide molecule. Suppose that the two types of gases arrive at rates 1 and 2 and attach for an exponential amount of time with rates 3 and 4, respectively. Formulate a Markov chain model with state space {+,0,−} where + denotes an attached oxygen molecule, − an attached carbon monoxide molecule, and 0 a free hemoglobin molecule and find the long-run fraction of time the hemoglobin molecule is in each of its three states.**"
   ]
  },
  {
   "cell_type": "markdown",
   "id": "6da927ef",
   "metadata": {},
   "source": [
    "```\n",
    "   +   0   - \n",
    "+ -3   3   0\n",
    "0  1  -3   2 \n",
    "-  0   4  -4   \n",
    "```\n",
    "Using detailed balance condition, we know $\\pi_ir_{ji}=\\pi_jr_{ij}$, therefore,  \n",
    "$3\\pi_+=\\pi_0,\\ 2\\pi_0=4\\pi_4$, let $\\pi_0=c$ while $\\sum \\pi_i=1$, $\\pi_+=\\frac{c}{3},\\ \\pi_-=\\frac{c}{2}$  \n",
    "$\\pi_+ = \\frac{2}{11},\\ \\pi_0=\\frac{6}{11},\\ \\pi_-=\\frac{3}{11}$"
   ]
  },
  {
   "cell_type": "markdown",
   "id": "d9c8c4d0",
   "metadata": {},
   "source": [
    "**4.3. A machine is subject to failures of types $i=1,2,3$ at rates $\\lambda_i$ and a failure of type $i$ takes an exponential amount of time with rate $\\mu_i$ to repair. Formulate a Markov chain model with state space {0,1,2,3} and find its stationary distribution.**"
   ]
  },
  {
   "cell_type": "markdown",
   "id": "9642c40e",
   "metadata": {},
   "source": [
    "```\n",
    "  0  1   2   3\n",
    "0 .. 𝜆1  𝜆2  𝜆3  \n",
    "1 𝜇1-𝜇1  0   0\n",
    "2 𝜇2 0  -𝜇2  0\n",
    "3 𝜇3 0   0  -𝜇3\n",
    "```\n",
    "Using DBC $\\pi_0 \\lambda_i=\\pi_i \\mu_i$, let $\\pi_0=c$ then $\\pi_i=c\\frac{\\lambda_i}{\\mu_i}$ while $\\sum \\pi_i=1$."
   ]
  },
  {
   "cell_type": "markdown",
   "id": "1820b701",
   "metadata": {},
   "source": [
    "**4.4. A small computer store has room to display up to 3 computers for sale. Customers come at times of a Poisson process with rate 2 per week to buy a computer and will buy one if at least 1 is available. When the store has only 1 computer left it places an order for 2 more computers. The order takes an exponentially distributed amount of time with mean 1 week to arrive. Of course, while the store is waiting for delivery, sales may reduce the inventory to 1 and then to 0. (a) Write down the matrix of transition rates $Q_{ij}$ and solve $\\pi Q = 0$ to find the stationary distribution. (b) At what rate does the store make sales?**"
   ]
  },
  {
   "cell_type": "markdown",
   "id": "4d202407",
   "metadata": {},
   "source": [
    "Let $\\lambda=1$ be the rate for supplies, $\\mu=2$ be the rate for sales.\n",
    "```\n",
    "   0    1   2  3\n",
    "0 -𝜆    0   𝜆  0\n",
    "1  𝜇 -(𝜆+𝜇) 0  𝜆\n",
    "2  0    𝜇  -𝜇  0\n",
    "3  0    0   𝜇 -𝜇 \n",
    "```"
   ]
  },
  {
   "cell_type": "code",
   "execution_count": 3,
   "id": "e6ab85f8",
   "metadata": {},
   "outputs": [
    {
     "name": "stdout",
     "output_type": "stream",
     "text": [
      "(a) stationary distribution: [0.4 0.2 0.3 0.1]\n",
      "(b) Store rate 𝜇(1-𝜋(0))=1.2\n"
     ]
    }
   ],
   "source": [
    "q = np.array([\n",
    "    [-1, 0, 1, 0],\n",
    "    [2, -3, 0, 1],\n",
    "    [0, 2, -2, 0],\n",
    "    [0, 0, 2, -2],\n",
    "])\n",
    "pi = get_stationary_distribution(q, rates=True)\n",
    "print(f\"(a) stationary distribution: {pi}\")\n",
    "print(f\"(b) Store rate 𝜇(1-𝜋(0))={2*(1-pi[0])}\")"
   ]
  },
  {
   "cell_type": "markdown",
   "id": "e47f9f93",
   "metadata": {},
   "source": [
    "**4.5. Consider two machines that are maintained by a single repairman. Machine $i$ functions for an exponentially distributed amount of time with rate $\\lambda_i$ before it fails. The repair times for each unit are exponential with rate $\\mu_i$. They are repaired in the order in which they fail. (a) Formulate a Markov chain model for this situation with state space $\\{0, 1, 2, 12, 21\\}$. (b) Suppose that $\\lambda_1=1, \\mu_1 = 2, \\lambda_2 = 3, \\mu_2 = 4$. Find the stationary distribution.**"
   ]
  },
  {
   "cell_type": "markdown",
   "id": "dc713276",
   "metadata": {},
   "source": [
    "(a) Let 0=_both working_, 1=_one is broken_, 2=_two is broken_, 12=_first one then two_, 21=_first two then one_.\n",
    "```\n",
    "      0       1      2     12   21\n",
    "0 -(𝜆1+𝜆2)   𝜆1      𝜆2     0    0\n",
    "1    𝜇1   -(𝜆2+𝜇1)   0     𝜆2    0\n",
    "2    𝜇2       0  -(𝜆1+𝜇2)  0    𝜆1\n",
    "12   0        0     𝜇1    -𝜇1    0\n",
    "21   0        𝜇2     0     0   -𝜇2\n",
    "```"
   ]
  },
  {
   "cell_type": "code",
   "execution_count": 4,
   "id": "7c39b283",
   "metadata": {},
   "outputs": [
    {
     "name": "stdout",
     "output_type": "stream",
     "text": [
      "(b) stationary distribution: [0.34108527 0.12403101 0.27906977 0.18604651 0.06976744]\n"
     ]
    }
   ],
   "source": [
    "q = np.array([\n",
    "    [-4, 1, 3, 0, 0],\n",
    "    [2, -5, 0, 3, 0],\n",
    "    [4, 0, -5, 0, 1],\n",
    "    [0, 0, 2, -2, 0],\n",
    "    [0, 4, 0, 0, -4],\n",
    "])\n",
    "pi = get_stationary_distribution(q, rates=True)\n",
    "print(f\"(b) stationary distribution: {pi}\")"
   ]
  },
  {
   "cell_type": "markdown",
   "id": "52afa30e",
   "metadata": {},
   "source": [
    "**4.6. Consider the set-up of the previous problem but now suppose machine 1 is much more important than 2, so the repairman will always service 1 if it is broken. (a) Formulate a Markov chain model for the this system with state space {0, 1, 2, 12} where the numbers indicate the machines that are broken at the time. (b) Suppose that $\\lambda_1=1, \\mu_1 = 2, \\lambda_2 = 3, \\mu_2 = 4$. Find the stationary distribution.**"
   ]
  },
  {
   "cell_type": "markdown",
   "id": "d5f5254c",
   "metadata": {},
   "source": [
    "(a) Let 0=_both working_, 1=_one is broken_, 2=_two is broken_, 12=_first one then two_, 21=_first two then one_.\n",
    "```\n",
    "      0       1      2     12 \n",
    "0 -(𝜆1+𝜆2)   𝜆1      𝜆2     0 \n",
    "1    𝜇1   -(𝜆2+𝜇1)   0     𝜆2 \n",
    "2    𝜇2       0  -(𝜆1+𝜇2)  𝜆1\n",
    "12   0        0     𝜇1    -𝜇1 \n",
    "```"
   ]
  },
  {
   "cell_type": "code",
   "execution_count": 5,
   "id": "1d44a2aa",
   "metadata": {},
   "outputs": [
    {
     "name": "stdout",
     "output_type": "stream",
     "text": [
      "(b) stationary distribution: [0.35087719 0.07017544 0.31578947 0.26315789]\n"
     ]
    }
   ],
   "source": [
    "q = np.array([\n",
    "    [-4, 1, 3, 0],\n",
    "    [2, -5, 0, 3],\n",
    "    [4, 0, -5, 1],\n",
    "    [0, 0, 2, -2],\n",
    "])\n",
    "pi = get_stationary_distribution(q, rates=True)\n",
    "print(f\"(b) stationary distribution: {pi}\")"
   ]
  },
  {
   "cell_type": "markdown",
   "id": "1f130d58",
   "metadata": {},
   "source": [
    "**4.7. Two people are working in a small office selling shares in a mutual fund. Each is either on the phone or not. Suppose that salesman $i$ is on the phone for an exponential amount of time with rate $\\mu_i$ and then off the phone for an exponential amount of time with rate $\\lambda_i$. (a) Formulate a Markov chain model for this system with state space $\\{0, 1, 2, 12\\}$ where the state indicates who is on the phone. (b) Find the stationary distribution. (c) Consider the special case of the previous problem in which $\\lambda_1=\\lambda_2=1$, and $\\mu_1=\\mu_2=3$, and find the stationary probabilities. (d) Suppose they upgrade their telephone system so that a call to one line that is busy is forwarded to the other phone and lost if that phone is busy. Find the new stationary probabilities.**"
   ]
  },
  {
   "cell_type": "markdown",
   "id": "3473744a",
   "metadata": {},
   "source": [
    "(a) Let 0=_none of them on a phone_, 1=_one is on a phone_, 2=_two is on a phone_, 12=_both are on a phone_.\n",
    "```\n",
    "      0       1      2     12 \n",
    "0 -(𝜆1+𝜆2)   𝜆1      𝜆2     0 \n",
    "1    𝜇1   -(𝜆2+𝜇1)   0     𝜆2 \n",
    "2    𝜇2       0  -(𝜆1+𝜇2)  𝜆1\n",
    "12   0       𝜇1     𝜇2  -(𝜇1+𝜇2) \n",
    "```\n",
    "(b) $\\pi(i) = \\frac{\\lambda_i}{\\lambda_i+\\mu_i}$\n",
    "(c) $\\pi(i)=\\frac{1}{4}$\n",
    "```\n",
    "      0       1        2       12 \n",
    "0 -(𝜆1+𝜆2)   𝜆1        𝜆2       0 \n",
    "1    𝜇1   -(𝜆1+𝜆2+𝜇1)   0      𝜆1+𝜆2\n",
    "2    𝜇2       0    -(𝜆2+𝜆1+𝜇2) 𝜆1+𝜆2\n",
    "12   0        𝜇1       𝜇2    -(𝜇1+𝜇2) \n",
    "```"
   ]
  },
  {
   "cell_type": "code",
   "execution_count": 6,
   "id": "3c470f15",
   "metadata": {},
   "outputs": [
    {
     "name": "stdout",
     "output_type": "stream",
     "text": [
      "(b) stationary distribution: [0.52941176 0.17647059 0.17647059 0.11764706]\n"
     ]
    }
   ],
   "source": [
    "q = np.array([\n",
    "    [-2, 1, 1, 0],\n",
    "    [3, -5, 0, 2],\n",
    "    [3, 0, -5, 2],\n",
    "    [0, 3, 3, -6],\n",
    "])\n",
    "pi = get_stationary_distribution(q, rates=True)\n",
    "print(f\"(b) stationary distribution: {pi}\")"
   ]
  },
  {
   "cell_type": "markdown",
   "id": "5f77571f",
   "metadata": {},
   "source": [
    "**4.8. Customers arrive at a full-service one-pump gas station at rate of 20 cars per hour. However, customers will go to another station if there are at least two cars in the station, i.e., one being served and one waiting. Suppose that the service time for customers is exponential with mean 6 minutes. (a) Formulate a Markov chain model for the number of cars at the gas station and find its stationary distribution. (b) On the average how many customers are served per hour?**"
   ]
  },
  {
   "cell_type": "markdown",
   "id": "723a6ecf",
   "metadata": {},
   "source": [
    "(a)\n",
    "```\n",
    "    0      1    2\n",
    "0 -20     20    0\n",
    "1  10 -(10+20) 20\n",
    "2 -10     10    0\n",
    "```\n",
    "$20\\pi_0=10\\pi_1,\\ 20\\pi_1=10\\pi_2$ => $\\pi_0=c,\\ \\pi_1=2c,\\ \\pi_2=4c$ => $c=1/7$  \n",
    "$\\pi_0=1/7,\\ \\pi_1=2/7,\\ \\pi_2=4/7$  \n",
    "(b) $20*6/7=120/7=17.14$"
   ]
  },
  {
   "cell_type": "markdown",
   "id": "5be82348",
   "metadata": {},
   "source": [
    "**4.8. Solve the previous problem for a two-pump self-serve station under the assumption that customers will go to another station if there are at least four cars in the station, i.e., two being served and two waiting.**"
   ]
  },
  {
   "cell_type": "markdown",
   "id": "691035d7",
   "metadata": {},
   "source": [
    "(a) $10\\pi_1=20\\pi_0,\\ 20\\pi_i=20\\pi_{i+1}$, setting $\\pi_0=c$ => $\\pi_0=1/9,\\ \\pi_i=2/9$   \n",
    "(b) $20*\\frac{7}{9}=140/9$"
   ]
  },
  {
   "cell_type": "markdown",
   "id": "dc385042",
   "metadata": {},
   "source": [
    "**4.9. Consider a barbershop with two barbers and two waiting chairs. Customers arrive at a rate of 5 per hour. Customers arriving to a fully occupied shop leave without being served. Find the stationary distribution for the number of customers in the shop, assuming that the service rate for each barber is 2 customers per hour.**"
   ]
  },
  {
   "cell_type": "markdown",
   "id": "392ab020",
   "metadata": {},
   "source": [
    "It is a _Birth and Death process_ where $X_t=4,2,1,0$ is the number of customers at barbershop. $\\lambda_i=5$, $\\mu_1=2,\\ \\mu_2=\\mu_3=\\mu_4=4$, using DBC and $\\pi_0=c$, $\\pi_1=\\frac{5}{2}c,\\ \\pi_2=\\frac{25}{8}c,\\ \\pi_3=\\frac{125c}{32},\\ \\pi_4=\\frac{625c}{128}$."
   ]
  },
  {
   "cell_type": "markdown",
   "id": "ba2e9bb7",
   "metadata": {},
   "source": [
    "**4.10. A computer lab has three laser printers, two that are hooked to the network and one that is used as a spare. A working printer will function for an exponential amount of time with mean 20 days. Upon failure it is immediately sent to the repair facility and replaced by another machine if there is one in working order. At the repair facility machines are worked on by a single repair- man who needs an exponentially distributed amount of time with mean 2 days to fix one printer. In the long run how often are there two working printers?**"
   ]
  },
  {
   "cell_type": "markdown",
   "id": "b1369718",
   "metadata": {},
   "source": [
    "It is a _Birth and Death process_ where $X_t=0,1,2,3$ is the number of working printers with the rates $\\lambda_i=1/2$ and the _death_ / failure rate is $\\mu_1=1/20,\\ \\mu_2=\\mu_3=\\frac{2}{20}$. As it is _Birth and Death process_, we can use DBC, setting $\\pi_0=c$:\n",
    "$$\\pi_1=\\frac{\\lambda}{\\mu_1}\\pi_0=\\frac{20}{2}c=10c$$\n",
    "$$\\pi_2=\\frac{\\lambda}{\\mu_2}\\pi_1=\\frac{10}{2}10c=50c$$\n",
    "$$\\pi_3=\\frac{\\lambda}{\\mu_3}\\pi_2=\\frac{10}{2}50c=250c$$\n",
    "$\\pi_0=c=\\frac{1}{311},\\ \\pi_1=\\frac{10}{311},\\ \\pi_2=\\frac{50}{311},\\ \\pi_3=\\frac{250}{311}$"
   ]
  },
  {
   "cell_type": "markdown",
   "id": "f4d29512",
   "metadata": {},
   "source": [
    "**4.11. A computer lab has three laser printers that are hooked to the network. A working printer will function for an exponential amount of time with mean 20 days. Upon failure it is immediately sent to the repair facility. There machines are worked on by two repairman who can each repair one printer in an exponential amount of time with mean 2 days. However, it is not possible for two people to work on one printer at once. (a) Formulate a Markov chain model for the number of working printers and find the stationary distribution. (b) How often are both repairmen busy? (c) What is the average number of machines in use?**"
   ]
  },
  {
   "cell_type": "markdown",
   "id": "890e98e3",
   "metadata": {},
   "source": [
    "It is a _Birth and Death process_ where $X_t=0,1,2,3$ is the number of working printers with the rates $\\lambda_2=1/2,\\ \\lambda_0=\\lambda_1=1$ and the _death_ / failure rate is $\\mu_1=1/20,\\ \\mu_2=\\frac{2}{20},\\ \\mu_3=\\frac{3}{20}$. As it is _Birth and Death process_, we can use DBC, setting $\\pi_0=c$:\n",
    "$$\\pi_1=\\frac{\\lambda_0}{\\mu_1}\\pi_0=\\frac{20}{1}c=20c$$\n",
    "$$\\pi_2=\\frac{\\lambda_1}{\\mu_2}\\pi_1=\\frac{10}{1}20c=200c$$\n",
    "$$\\pi_3=\\frac{\\lambda_2}{\\mu_3}\\pi_2=\\frac{20}{3*2}200c=2000c/3$$\n",
    "$\\pi_0=c=\\frac{3}{2663},\\ \\pi_1=\\frac{60}{2663},\\ \\pi_2=\\frac{600}{2663},\\ \\pi_3=\\frac{2000}{2663}$"
   ]
  },
  {
   "cell_type": "markdown",
   "id": "d9dda384",
   "metadata": {},
   "source": [
    "**4.12. A computer lab has 3 laser printers and 5 toner cartridges. Each machine requires one toner cartridges which lasts for an exponentially distributed amount of time with mean 6 days. When a toner cartridge is empty it is sent to a repairman who takes an exponential amount of time with mean 1 day to refill it. (a) Compute the stationary distribution. (b) How often are all three printers working?**"
   ]
  },
  {
   "cell_type": "markdown",
   "id": "9ab2bc8a",
   "metadata": {},
   "source": [
    "(a) It is a _Birth and Death process_ where $X_t=5,4,2,1,0$ is the number of toners. Where $\\lambda_i=1$ and $\\mu_1=1/6,\\ \\mu_2=2/6,\\ \\mu_3=3/6,\\ \\mu_4=3/6,\\ \\mu_5=3/6$. Let $\\pi_0=c$\n",
    "$$\\pi_1=\\frac{\\lambda}{\\mu_1}\\pi_0=\\frac{6}{1}c=6c$$\n",
    "$$\\pi_2=\\frac{\\lambda}{\\mu_2}\\pi_1=\\frac{6}{2}6c=18c$$\n",
    "$$\\pi_3=\\frac{\\lambda}{\\mu_3}\\pi_2=\\frac{6}{3}18c=36c$$\n",
    "$$\\pi_4=\\frac{\\lambda}{\\mu_4}\\pi_0=\\frac{6}{3}36c=72c$$\n",
    "$$\\pi_5=\\frac{\\lambda}{\\mu_5}\\pi_0=\\frac{6}{3}72c=144c$$\n",
    "$c=\\frac{1}{277}$\n",
    "$$\\pi_0=\\frac{1}{277},\\ \\pi_1=\\frac{6}{277},\\ \\pi_2=\\frac{18}{277},\\ \\pi_3=\\frac{36}{277},\\ \\pi_4=\\frac{72}{277},\\ \\pi_5=\\frac{144}{277}$$\n",
    "\n",
    "(b) $20*\\frac{252}{277}$"
   ]
  },
  {
   "cell_type": "markdown",
   "id": "272b481e",
   "metadata": {},
   "source": [
    "**4.13. A taxi company has three cabs. Calls come in to the dispatcher at times of a Poisson process with rate 2 per hour. Suppose that each requires an exponential amount of time with mean 20 minutes, and that callers will hang up if they hear there are no cabs available. (a) What is the probability all three cabs are busy when a call comes in? (b) In the long run, on the average how many customers are served per hour?**"
   ]
  },
  {
   "cell_type": "markdown",
   "id": "fd23c431",
   "metadata": {},
   "source": [
    "Let $X_t=0,1,2,3$ be the number of taxis in service. Then $\\mu_1=3,\\ \\mu_2=6,\\ \\mu_3=9$ and $\\lambda_i=2$. Using DBC, and setting $\\pi_0=c$, $\\pi_1=\\frac{2c}{3},\\ \\pi_2=\\frac{2c}{9},\\ \\pi_3=\\frac{4c}{81}$"
   ]
  },
  {
   "cell_type": "code",
   "execution_count": 7,
   "id": "925378af",
   "metadata": {},
   "outputs": [
    {
     "name": "stdout",
     "output_type": "stream",
     "text": [
      "Stationary distribution:  ['pi_0=0.5159', 'pi_1=0.3439', 'pi_2=0.1146', 'pi_3=0.0255']\n"
     ]
    }
   ],
   "source": [
    "c = 1/(81+54+18+4)\n",
    "print(\"Stationary distribution: \", [f\"pi_{i}={round(v, 4)}\" for i, v in enumerate(c * np.array([81, 54, 18, 4]))])"
   ]
  },
  {
   "cell_type": "markdown",
   "id": "0072cd6a",
   "metadata": {},
   "source": [
    "(a) The probability all three cabs are busy when a call comes in is $\\pi_3=0.0255$  \n",
    "(b) $2(1-\\pi_3)=2(1-0.0255)=1.949$"
   ]
  },
  {
   "cell_type": "markdown",
   "id": "b9915935",
   "metadata": {},
   "source": [
    "**4.29. A small company maintains a fleet of four cars to be driven by its workers on business trips. Requests to use cars are a Poisson process with rate 1.5 per day. A car is used for an exponentially distributed time with mean 2 days. Forgetting about weekends, we arrive at the following Markov chain for the number of cars in service.**\n",
    "```\n",
    "    0   1  2   3  4 \n",
    "0 −1.5 1.5 0   0  0\n",
    "1  0.5 −2 1.5  0  0\n",
    "2  0   1 −2.5 1.5 0 \n",
    "3  0   0  1.5 −3 1.5 \n",
    "4  0   0   0   2 −2\n",
    "```\n",
    "**(a) Find the stationary distribution. (b) At what rate do unfulfilled requests come in? How would this change if there were only three cars? (c) Let $g(i) = E_iT_4$. Write and solve equations to find the $g(i)$. (d) Use the stationary distribution to compute $E_3T_4$.**"
   ]
  },
  {
   "cell_type": "markdown",
   "id": "b2d4e35d",
   "metadata": {},
   "source": [
    "(a) We can use DBC as it is _Birth and Death process_.\n",
    "$$\\pi_0=c,\\ \\pi_1=\\frac{15}{5}c=3c,\\ \\pi_2=\\frac{15*3c}{10}=\\frac{9c}{2},\\ \\pi_3=\\frac{9c}{2},\\ \\pi_4=\\frac{27c}{8}$$"
   ]
  },
  {
   "cell_type": "code",
   "execution_count": 8,
   "id": "07f7bbb7",
   "metadata": {},
   "outputs": [
    {
     "name": "stdout",
     "output_type": "stream",
     "text": [
      "Stationary distribution:  ['pi_0=0.0611', 'pi_1=0.1832', 'pi_2=0.2748', 'pi_3=0.2748', 'pi_4=0.2061']\n"
     ]
    }
   ],
   "source": [
    "c = 1 / (8+24+36+36+27)\n",
    "print(\"Stationary distribution: \", [f\"pi_{i}={round(v, 4)}\" for i, v in enumerate(c * np.array([8, 24, 36, 36, 27]))])"
   ]
  },
  {
   "cell_type": "markdown",
   "id": "fd979fce",
   "metadata": {},
   "source": [
    "(b) $1.5\\pi_4=\\frac{15*27}{10*131}=0.3092$  \n",
    "(c) $$"
   ]
  }
 ],
 "metadata": {
  "kernelspec": {
   "display_name": "Python 3 (ipykernel)",
   "language": "python",
   "name": "python3"
  },
  "language_info": {
   "codemirror_mode": {
    "name": "ipython",
    "version": 3
   },
   "file_extension": ".py",
   "mimetype": "text/x-python",
   "name": "python",
   "nbconvert_exporter": "python",
   "pygments_lexer": "ipython3",
   "version": "3.9.13"
  }
 },
 "nbformat": 4,
 "nbformat_minor": 5
}
