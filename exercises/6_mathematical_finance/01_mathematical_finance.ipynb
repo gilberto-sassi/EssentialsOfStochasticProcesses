{
 "cells": [
  {
   "cell_type": "markdown",
   "id": "29af071a",
   "metadata": {},
   "source": [
    "# Mathematical finance"
   ]
  },
  {
   "cell_type": "code",
   "execution_count": 6,
   "id": "b7567e22",
   "metadata": {},
   "outputs": [],
   "source": [
    "import numpy as np\n",
    "from primefac import primefac\n",
    "from itertools import product\n",
    "from scipy.stats import norm\n",
    "from collections import Counter"
   ]
  },
  {
   "cell_type": "markdown",
   "id": "720ab0d9",
   "metadata": {},
   "source": [
    "**6.1. A stock is now at \\\\$110. In a year its price will either be \\\\$121 or \\\\$99. (a) Assuming that the interest rate is $r= 0.04$ find the price of a call $(S_1−113)^+$. (b) How much stock $\\Delta_0$ do we need to buy to replicate the option. (c) Verify that having $V_0$ in cash and $\\Delta_0$ in stock replicates the option exactly.**"
   ]
  },
  {
   "cell_type": "markdown",
   "id": "aa925f7b",
   "metadata": {},
   "source": [
    "(a) $u=1.1$, $d=0.9$ and $p* = \\frac{1+r-d}{u-d}=\\frac{1.04-0.9}{1.1-0.9}=\\frac{0.14}{0.2}=0.7$\n",
    "$$V_0=\\frac{1}{1+r}\\big(p*8\\big)=\\frac{56}{10.4}=5.385$$\n",
    "(b) $\\Delta_0=\\frac{V_1(H)-V_1(T)}{S_1(H)-S_1(T)}=\\frac{8-0}{121-99}=\\frac{8}{22}=\\frac{4}{11}$  \n",
    "(c)  \n",
    "$V_0 + \\Delta_0\\big(\\frac{1}{r+1}S_1(H) - S_0\\big)=\\frac{1}{r+1}V_1(H)$  \n",
    "$V_0 + \\Delta_0\\big(\\frac{1}{r+1}S_1(T) - S_0\\big)=\\frac{1}{r+1}V_1(T)$  \n",
    "---\n",
    "$\\frac{56}{10.4}+\\frac{4}{11}\\big(\\frac{121}{1.04}-110\\big)=\\frac{8}{1.04}$  \n",
    "$\\frac{56}{10.4}+\\frac{4}{11}\\big(\\frac{99}{1.04}-110\\big)=0$"
   ]
  },
  {
   "cell_type": "code",
   "execution_count": 2,
   "id": "13a66941",
   "metadata": {},
   "outputs": [],
   "source": [
    "def get_risk_neutral_probability(rate: float, up: float, down: float) -> float:\n",
    "    return round((1 + rate - down) / (up - down), 4)\n",
    "\n",
    "\n",
    "def get_optimal_number_of_shares(s_h: float, s_t: float, v_h: float, v_t: float) -> float:\n",
    "    return round((v_h - v_t) / (s_h - s_t), 4)\n",
    "\n",
    "\n",
    "def get_option_price(p: float, rate: float, v_h: float, v_t: float):\n",
    "    return round((1 / (1 + rate)) * (p * v_h + (1 - p) * v_t), 4)"
   ]
  },
  {
   "cell_type": "markdown",
   "id": "fd56b347",
   "metadata": {},
   "source": [
    "**6.2. A stock is now at \\\\$60. In a year its price will either be \\\\$75 or \\\\$45. (a) Assuming that the interest rate is $r = 0.05$ find the price of a put $(60−S_1)^+$. (b) How much stock $\\Delta_0$ do we need to sell to replicate the option. (c) Verify that having $V_0$ in cash and $\\Delta_0$ in stock replicates the option exactly.**"
   ]
  },
  {
   "cell_type": "code",
   "execution_count": 29,
   "id": "a61ea753",
   "metadata": {},
   "outputs": [
    {
     "name": "stdout",
     "output_type": "stream",
     "text": [
      "(a) Price of the put option: $5.7143\n",
      "(b) Δ=-0.5\n"
     ]
    }
   ],
   "source": [
    "r = 0.05\n",
    "u = 1.25\n",
    "d = 0.75\n",
    "\n",
    "p = get_risk_neutral_probability(r, u, d)\n",
    "v_0 = put_price = get_option_price(p, r, 0, 15)\n",
    "\n",
    "delta_0 = get_optimal_number_of_shares(75, 45, 0, 15)\n",
    "print(f\"(a) Price of the put option: ${v_0}\")\n",
    "print(f\"(b) Δ={delta_0}\")"
   ]
  },
  {
   "cell_type": "markdown",
   "id": "60ce0c7b",
   "metadata": {},
   "source": [
    "**6.3. It was crucial for our no arbitrage computations that there were only two possible values of the stock. Suppose that a stock is now at 100, but in one month my be at 130, 110 or 80 in outcomes that we call 1, 2 and 3. (a) Find all the (nonnegative) probabilities $p_1, p_2$ and $p_3 = 1-p_1-p_2$ that make the stock price a martingale. (b) Find the maximum and minimum values, $v_1$ and $v_0$, of the expected value of the the call option $(S_1-105)^+$ among the martingale probabilities. (c) Show that we can start with $v_1$ in cash, buy $x_1$ shares of stock and we have $v_1 +x_1(S_1-S_0) \\geq (S_1-105)^+$ in all three outcomes with equality for 1 and 3. (d) If we start with $v_0$ in cash, buy $x_0$ shares of stock and we have $v_0 + x_0(S_1-S_0) \\leq (S_1-105)^+$ in all three outcomes with equality for 2 and 3. (e) Use (c) and (d) to argue that the only prices for the option consistent with absence of arbitrage are those in $[v_0,v_1]$.**"
   ]
  },
  {
   "cell_type": "markdown",
   "id": "e7cd4cd0",
   "metadata": {},
   "source": [
    "(a) There is an infinitely many solutions for $p_1, p_2$ and $p_3$. Where $p_1 + p_2 + p_3 = 1$ and $3p_1+p_2-2p_3=0$, possible solutions are $(0, 2/3, 1/3)$ and $(2/5,0,3/5)$  \n",
    "(b) $V_0=\\frac{1}{1+r}\\big(p*V_1(H)+(1-p*)V_1(T)\\big)$, for $p^*_1=2/5$ $v_1=2/5*25=10$ and for $p^*_2=2/3$ $v_0=2/3*5=10/3$ as the solutions of $p^*_i$ (d) lie on a line, we know that the values will be between those 2 values.  \n",
    "(c) $x_1=1/2$ (d) $x_0=1/6$ \n"
   ]
  },
  {
   "cell_type": "markdown",
   "id": "151904b6",
   "metadata": {},
   "source": [
    "**6.4. The Cornell hockey team is playing a game against Harvard that it will either win, lose, or draw. A gambler offers you the following three payoffs, each for a \\\\$1 bet**\n",
    "```\n",
    "     win lose draw \n",
    "Bet1  0   1   1.5\n",
    "Bet2  2   2    0 \n",
    "Bet3 .5  1.5   0\n",
    "```\n",
    "**(a) Assume you are able to buy any amounts (even negative) of these bets. Is there an arbitrage opportunity? (b) What if only the first two bets are available?**"
   ]
  },
  {
   "cell_type": "markdown",
   "id": "892bd3f2",
   "metadata": {},
   "source": [
    "(a) Subtracting 1 from each bet (cost of the bet) we get the payoffs: \n",
    "```\n",
    "     win lose draw \n",
    "Bet1  -1  0   .5\n",
    "Bet2   1  1   -1 \n",
    "Bet3 -.5 .5  -1\n",
    "```\n",
    "$a*Bet1 + b*Bet2 + c*Bet3>0$ e.g. $Bet1+Bet2-Bet3=1.5$, so there is an arbitrage opportunity.  \n",
    "(b)  \n",
    "$-p_1+\\frac{p_3}{2}=0$  \n",
    "$p_1+p_2-p_3=0$  \n",
    "$p_1+p_2+p_3=1$  \n",
    "with a solution (1/4, 1/4, 1/2) there is no arbitrage."
   ]
  },
  {
   "cell_type": "markdown",
   "id": "a83280a4",
   "metadata": {},
   "source": [
    "**6.5. Suppose Microsoft stock sells for 100 while Netscape sells for 50. Three possible outcomes of a court case will have the following impact on the two stocks.**\n",
    "```\n",
    "        Microsoft  Netscape \n",
    "1 (win)    120        30\n",
    "2 (draw)   110        55\n",
    "3 (lose)    84        60\n",
    "```\n",
    "\n",
    "**What should we be willing to pay for an option to buy Netscape for 50 after the court case is over? Answer this question two ways: (i) find a probability distribution so that the two stocks are martingales, (ii) show that by using cash and buying Microsoft and Netscape stock one can replicate the option.**"
   ]
  },
  {
   "cell_type": "markdown",
   "id": "0461cc00",
   "metadata": {},
   "source": [
    "(i) -100 / -50 to each row will give us the payoffs:\n",
    "```\n",
    "        Microsoft  Netscape  option (Netscape±)\n",
    "1 (win)    20       -20       0\n",
    "2 (draw)   10         5       5\n",
    "3 (lose)  -16        10       10\n",
    "```\n",
    "$20p_1+10p_2-16p_3=0$  \n",
    "$-20p_1+5p_2+10p_3=0$  \n",
    "$p3=1-p_1-p_2$  \n",
    "$p_1=0.3, p_2=0.2, p_3=0.5$  \n",
    "\n",
    "(ii)  \n",
    "$a + 20b - 20c = 0$  \n",
    "$a + 10b + 5c = 5$  \n",
    "$a - 16b + 10c = 10$  \n",
    "$a=6$ "
   ]
  },
  {
   "cell_type": "code",
   "execution_count": 65,
   "id": "bd207ea5",
   "metadata": {},
   "outputs": [],
   "source": [
    "def payoff(strike, s, t):\n",
    "    return max(strike - s, 0) if t == \"put\" else max(s - strike, 0)\n",
    "\n",
    "\n",
    "def bionomial_model(n, u, d, r, spot, strike, ty=\"put\"):\n",
    "    v = {}\n",
    "    p = get_risk_neutral_probability(r, u, d)\n",
    "    print(f\"{p=}\")\n",
    "    for i in range(n, -1, -1):\n",
    "        for a in product([\"h\", \"t\"], repeat=i):\n",
    "            h = a.count(\"h\")\n",
    "            t = a.count(\"t\")\n",
    "            c = \"\".join(a)\n",
    "            \n",
    "            v_h = v.get(c + \"h\", spot * (u ** (h + 1))*(d ** t))\n",
    "            v_t = v.get(c + \"t\", spot * (u ** h)*(d ** (t + 1)))\n",
    "            if i == n - 1:\n",
    "                v[c] = get_option_price(p, r, payoff(strike, v_h, ty), payoff(strike, v_t, ty))\n",
    "            else:\n",
    "                v[c or \"0\"] = get_option_price(p, r, v_h, v_t)\n",
    "    return v"
   ]
  },
  {
   "cell_type": "markdown",
   "id": "3d3d5996",
   "metadata": {},
   "source": [
    "**6.6. Consider the two-period binomial model with $u = 2$, $d = 1/2$ and interest rate $r = 1/4$. and suppose $S_0=100$. What is the value of the European call option with strike price 80, i.e., the option with payoff $(S_2 − 80)^+$. Find the stock holdings $\\Delta_0, \\Delta_1(H)$ and $\\Delta_1(T)$ need to replicate the option exactly.**"
   ]
  },
  {
   "cell_type": "markdown",
   "id": "10a95d5f",
   "metadata": {},
   "source": [
    " - $p^* = \\frac{1+r-d}{u-d}=\\frac{1}{2}$  \n",
    " - $V_1(H) = \\frac{4}{5}\\big[\\frac{1}{2}320 - \\frac{1}{2}20\\big]=136$\n",
    " - $V_1(T) = \\frac{4}{5}\\big[\\frac{1}{2}20\\big]=8$\n",
    " - $V_0 = \\frac{4}{5}\\big[\\frac{1}{2}136 - \\frac{1}{2}8\\big]=57.6$\n",
    " - $\\Delta_1(H)=\\frac{320-20}{400-100}=1$\n",
    " - $\\Delta_1(T)=\\frac{20-0}{100-25}=\\frac{4}{15}$\n",
    " - $\\Delta_0=\\frac{133-8}{200-50}=0.853$"
   ]
  },
  {
   "cell_type": "code",
   "execution_count": 158,
   "id": "5e11cd57",
   "metadata": {},
   "outputs": [
    {
     "name": "stdout",
     "output_type": "stream",
     "text": [
      "V0=57.6\n"
     ]
    }
   ],
   "source": [
    "v = bionomial_model(2, 2, 1/2, 1/4, 100, 80, \"call\")\n",
    "print(f\"V0={v['0']}\")"
   ]
  },
  {
   "cell_type": "markdown",
   "id": "965c0c61",
   "metadata": {},
   "source": [
    "**6.7. Consider the two-period binomial model with u = 3/2, d = 2/3, interest rate r = 1/6. and suppose $S_0 = 45$. What is the value of the European ~call~ put option with strike price 50, i.e., the option with payoff $(50 - S_2)^+$. Find the stock holdings $\\Delta_0$, $\\Delta_1(H)$ and $\\Delta_1(T)$ need to replicate the option exactly.**"
   ]
  },
  {
   "cell_type": "code",
   "execution_count": 159,
   "id": "e710c563",
   "metadata": {},
   "outputs": [
    {
     "name": "stdout",
     "output_type": "stream",
     "text": [
      "V0=2.8884\n"
     ]
    }
   ],
   "source": [
    "v = bionomial_model(3, 3/2, 2/3, 1/6, 45, 40, \"put\")\n",
    "print(f\"V0={v['0']}\")"
   ]
  },
  {
   "cell_type": "markdown",
   "id": "140374d1",
   "metadata": {},
   "source": [
    "**6.8. The payoff of the Asian option is based on the average price: $A_n = (S_0 + \\dots + S_n)/(n + 1)$. Suppose that the stock follows the binomial model with $S_0=4$, $u = 2$, $d = 1/2$, and $r = 1/4$. (a) Compute the value function $V_n(a)$ and the replicating portfolio $\\Delta_n(a)$ for the three period call option with strike 4. (b) Check your answer for $V_0$ by using $V_0 = E^∗(V_3/(1 + r)^3)$.**"
   ]
  },
  {
   "cell_type": "code",
   "execution_count": 215,
   "id": "848d084d",
   "metadata": {},
   "outputs": [
    {
     "name": "stdout",
     "output_type": "stream",
     "text": [
      "p=0.5\n",
      "V0=1.216\n",
      "V0=V_3/(1+r)^3=1.216\n"
     ]
    }
   ],
   "source": [
    "p = get_risk_neutral_probability(1/4, 2, 1/2)\n",
    "print(f\"{p=}\")\n",
    "\n",
    "def asian_payoff(s, spot, u, d):\n",
    "    powers = np.array([1] + [u if i == \"h\" else d for i in s])\n",
    "    return max(np.mean(spot * np.cumprod(powers)) - spot, 0)\n",
    "\n",
    "def asian(n, u, d, r, spot):\n",
    "    p = get_risk_neutral_probability(r, u, d)\n",
    "    v = {}\n",
    "    \n",
    "    for i in range(n, -1, -1):\n",
    "        for a in product([\"h\", \"t\"], repeat=i):\n",
    "            h = a.count(\"h\")\n",
    "            t = a.count(\"t\")\n",
    "            c = \"\".join(a)\n",
    "            \n",
    "            v_h = v.get(c + \"h\", spot * (u ** (h + 1))*(d ** t))\n",
    "            v_t = v.get(c + \"t\", spot * (u ** h)*(d ** (t + 1)))\n",
    "            if i == n - 1:\n",
    "                v[c] = get_option_price(p, r, asian_payoff(c + \"h\", spot, u, d), asian_payoff(c + \"t\", spot, u, d))\n",
    "            else:\n",
    "                v[c or \"0\"] = get_option_price(p, r, v_h, v_t)\n",
    "    return v\n",
    "\n",
    "v = asian(3, 2, 1/2, 1/4, 4)\n",
    "print(f\"V0={v['0']}\")\n",
    "print(f\"V0=V_3/(1+r)^3={round(np.mean(np.array([asian_payoff(''.join(a), 4, 2, 1/2) for a in product(['h', 't'], repeat=3)])) * (4/5)**3, 4)}\")"
   ]
  },
  {
   "cell_type": "markdown",
   "id": "f30fb872",
   "metadata": {},
   "source": [
    "**6.9. In the _putback_ option at time 3 you can buy the stock for the lowest price seen in the past and the sell it at its current price for a profit of**\n",
    "$$V_3 = S_3 - \\min_{0\\leq m \\leq 3} S_m$$\n",
    "**Suppose that the stock follows the binomial model with $S_0=4, u=2, d=1/2$, and $r=1/4$. (a) Compute the value function $V_n(a)$ and the replicating portfolio $\\Delta_n(a)$ for the three period call option with strike 4. (b) Check your answer for $V_0$ by using $V_0 = E^∗(V_3/(1 + r)^3)$.**"
   ]
  },
  {
   "cell_type": "code",
   "execution_count": 244,
   "id": "e0940123",
   "metadata": {},
   "outputs": [
    {
     "name": "stdout",
     "output_type": "stream",
     "text": [
      "(a) V0=2.752\n",
      "(b) V0=V_3/(1+r)^3=2.752\n"
     ]
    }
   ],
   "source": [
    "def putback_payoff(s, spot, u, d):\n",
    "    powers = np.array([1] + [u if i == \"h\" else d for i in s])\n",
    "    cumprod = spot * np.cumprod(powers)\n",
    "    return cumprod[-1] - np.min(cumprod)\n",
    "\n",
    "def putback(n, u, d, r, spot):\n",
    "    p = get_risk_neutral_probability(r, u, d)\n",
    "    v = {}\n",
    "    \n",
    "    for i in range(n, -1, -1):\n",
    "        for a in product([\"h\", \"t\"], repeat=i):\n",
    "            h = a.count(\"h\")\n",
    "            t = a.count(\"t\")\n",
    "            c = \"\".join(a)\n",
    "            \n",
    "            v_h = v.get(c + \"h\", spot * (u ** (h + 1))*(d ** t))\n",
    "            v_t = v.get(c + \"t\", spot * (u ** h)*(d ** (t + 1)))\n",
    "            if i == n - 1:\n",
    "                v[c] = get_option_price(p, r, putback_payoff(c + \"h\", spot, u, d), putback_payoff(c + \"t\", spot, u, d))\n",
    "            else:\n",
    "                v[c or \"0\"] = get_option_price(p, r, v_h, v_t)\n",
    "    return v\n",
    "\n",
    "v = putback(3, 2, 1/2, 1/4, 4)\n",
    "print(f\"(a) V0={v['0']}\")\n",
    "print(f\"(b) V0=V_3/(1+r)^3={round(np.mean(np.array([putback_payoff(''.join(a), 4, 2, 1/2) for a in product(['h', 't'], repeat=3)])) * (4/5)**3, 4)}\")"
   ]
  },
  {
   "cell_type": "markdown",
   "id": "30a78cb9",
   "metadata": {},
   "source": [
    "**6.10. Consider the three-period binomial model with $u = 3, d = 1/2$ and $r = 1/3$ and $S_0 = 16$. The European prime factor option pays off \\\\$1 for each factor in the prime factorization of the stock price at time 3 (when the option expires). For example, if the stock price is $24 = 2^33^1$ then the payoff is $4 = 3+1$. Find the no arbitrage price of this option.**"
   ]
  },
  {
   "cell_type": "code",
   "execution_count": 52,
   "id": "ff9107c7",
   "metadata": {},
   "outputs": [],
   "source": [
    "def prime_factor_payoff(n):\n",
    "    return int(sum(Counter(primefac(n)).values()))\n",
    "\n",
    "\n",
    "def prime_factor_option(n, u, d, r, spot):\n",
    "    p = get_risk_neutral_probability(r, u, d)\n",
    "    print(f\"{p=}\")\n",
    "    v = {}\n",
    "    \n",
    "    for i in range(n-1, -1, -1):\n",
    "        for a in product([\"h\", \"t\"], repeat=i):\n",
    "            h = a.count(\"h\")\n",
    "            t = a.count(\"t\")\n",
    "            c = \"\".join(a)\n",
    "            \n",
    "            v_h = v.get(c + \"h\", spot * (u ** (h + 1))*(d ** t))\n",
    "            v_t = v.get(c + \"t\", spot * (u ** h)*(d ** (t + 1)))\n",
    "            if i == n-1:\n",
    "                v[c] = get_option_price(p, r, prime_factor_payoff(int(v_h)), prime_factor_payoff(int(v_t)))\n",
    "            else:\n",
    "                v[c or \"0\"] = get_option_price(p, r, v_h, v_t)\n",
    "    return v"
   ]
  },
  {
   "cell_type": "code",
   "execution_count": 53,
   "id": "bde6f85b",
   "metadata": {},
   "outputs": [
    {
     "name": "stdout",
     "output_type": "stream",
     "text": [
      "p=0.3333\n",
      "(a) V0=1.2656\n"
     ]
    }
   ],
   "source": [
    "v = prime_factor_option(3, 3, 1/2, r=1/3, spot=16)\n",
    "print(f\"(a) V0={v['0']}\")"
   ]
  },
  {
   "cell_type": "markdown",
   "id": "8d283706",
   "metadata": {},
   "source": [
    "**6.11. Suppose $S_0=27,u=4/3, d=2/3$ and interest rate $r = 1/9$. The European \"_cash-or-nothing option_\" pays \\\\$1 if $S_3 > 27$ and $0$ otherwise. Find the value of the option $V_n$ and for the hedge $\\Delta_n$.**"
   ]
  },
  {
   "cell_type": "code",
   "execution_count": 57,
   "id": "dce6bd19",
   "metadata": {},
   "outputs": [],
   "source": [
    "def cash_or_nothing_payoff(s, strike):\n",
    "    return (s > strike) * 1 \n",
    "\n",
    "\n",
    "def cash_or_nothing(n, u, d, r, spot, strike):\n",
    "    p = get_risk_neutral_probability(r, u, d)\n",
    "    print(f\"{p=}\")\n",
    "    v = {}\n",
    "    \n",
    "    for i in range(n-1, -1, -1):\n",
    "        for a in product([\"h\", \"t\"], repeat=i):\n",
    "            h = a.count(\"h\")\n",
    "            t = a.count(\"t\")\n",
    "            c = \"\".join(a)\n",
    "            \n",
    "            v_h = v.get(c + \"h\", spot * (u ** (h + 1))*(d ** t))\n",
    "            v_t = v.get(c + \"t\", spot * (u ** h)*(d ** (t + 1)))\n",
    "            if i == n-1:\n",
    "                v[c] = get_option_price(p, r, cash_or_nothing_payoff(int(v_h), strike), cash_or_nothing_payoff(int(v_t), strike))\n",
    "            else:\n",
    "                v[c or \"0\"] = get_option_price(p, r, v_h, v_t)\n",
    "    return v"
   ]
  },
  {
   "cell_type": "code",
   "execution_count": 59,
   "id": "03fad591",
   "metadata": {},
   "outputs": [
    {
     "name": "stdout",
     "output_type": "stream",
     "text": [
      "p=0.6667\n",
      "(a) V0=0.54\n"
     ]
    }
   ],
   "source": [
    "v = cash_or_nothing(3, 4/3, 2/3, 1/9, 27, 27)\n",
    "print(f\"(a) V0={v['0']}\")"
   ]
  },
  {
   "cell_type": "markdown",
   "id": "bda4d198",
   "metadata": {},
   "source": [
    "**6.12. Assume the binomial model with $S_0 = 54, u = 3/2, d = 2/3$, and $r = 1/6$. and consider a put $(50 - S_3)^+$ with a knockout barrier at 70. Find the value of the option.**"
   ]
  },
  {
   "cell_type": "code",
   "execution_count": 81,
   "id": "f1dca6d9",
   "metadata": {},
   "outputs": [
    {
     "name": "stdout",
     "output_type": "stream",
     "text": [
      "p=0.6\n",
      "v_0=3.063043731778426\n"
     ]
    }
   ],
   "source": [
    "v = bionomial_model(3, 3/2, 2/3, 1/6, 54, 50, \"put\")\n",
    "p = 0.6\n",
    "v_0 = (6/7) ** 3 * ((1-p)**3 * payoff(50, v[\"ttt\"], \"put\") + 2 * p * (1-p)**2 * payoff(50, v[\"tth\"], \"put\"))\n",
    "print(f\"{v_0=}\")"
   ]
  },
  {
   "cell_type": "markdown",
   "id": "8f6de9d3",
   "metadata": {},
   "source": [
    "**6.13. Consider now a four period binomial model with $S_0 = 32, u = 2, d = 1/2$, and $r = 1/4$, and suppose we have a put $(50 - S_4)^+$ with a knockout barrier at 100. Show that the knockout option as the same value as an option that pays off $(50−S_4)^+$ when $S_4 = 2, 8$, or $32, 0$ when $S_4 = 128$, and $−18$ when $S_4 = 512$. (b) Compute the value of the option in (a)**"
   ]
  },
  {
   "cell_type": "code",
   "execution_count": 84,
   "id": "ad2640cd",
   "metadata": {},
   "outputs": [
    {
     "name": "stdout",
     "output_type": "stream",
     "text": [
      "p=0.5\n",
      "v_0=7.8336000000000015\n"
     ]
    }
   ],
   "source": [
    "v = bionomial_model(4, 2, 1/2, 1/4, 32, 50, \"put\")\n",
    "p = 1/2\n",
    "v_0 = (4/5) ** 4 * ((1-p)**4 * payoff(50, v[\"tttt\"], \"put\") + 4 * p * (1-p)**3 * payoff(50, v[\"ttth\"], \"put\") + 6 * p**2 * (1-p)**2 * payoff(50, v[\"tthh\"], \"put\") - p**4 * payoff(50, v[\"tthh\"], \"put\"))\n",
    "print(f\"{v_0=}\")"
   ]
  },
  {
   "cell_type": "markdown",
   "id": "4d1024aa",
   "metadata": {},
   "source": [
    "**6.14. Consider the binomial model with $S_0 = 64, u = 2, d = 1/2$, and $r = 1/4$. (a) Find the value $V_n(a)$ of the call option $(S_3-125)^+$ and the hedging strategy $\\Delta_n(a)$. (b) Check your answer to (a) by computing $V_0 = E^∗(V_3/(1 + r)^3)$. (c) Find the value at time 0 of the put option.**"
   ]
  },
  {
   "cell_type": "code",
   "execution_count": 90,
   "id": "5c79ece0",
   "metadata": {},
   "outputs": [
    {
     "name": "stdout",
     "output_type": "stream",
     "text": [
      "p=0.5\n",
      "v['0']=25.344\n",
      "(b) V0=V_3/(1+r)^3=25.344\n"
     ]
    }
   ],
   "source": [
    "v = bionomial_model(3, 2, 1/2, 1/4, 64, 125, \"call\")\n",
    "print(f\"{v['0']=}\")\n",
    "print(f\"(b) V0=V_3/(1+r)^3={round(np.mean(np.array([payoff(125, v[''.join(a)], 'call') for a in product(['h', 't'], repeat=3)])) * (4/5)**3, 4)}\")"
   ]
  },
  {
   "cell_type": "markdown",
   "id": "5874a762",
   "metadata": {},
   "source": [
    "**6.15. Consider the binomial model with $S_0 = 27, u = 4/3, d = 2/3$, and $r = 1/9$. (a) Find the risk neutral probability $p^∗$. (b) Find value $V_n(a)$ of the put option $(30 - S_3)^+$ and the hedging strategy $\\Delta_n(a)$. (c) Check your answer to (b) by computing $V_0 = E^∗(V_3/(1 + r)^3)$.**"
   ]
  },
  {
   "cell_type": "code",
   "execution_count": 98,
   "id": "97fed94a",
   "metadata": {},
   "outputs": [
    {
     "name": "stdout",
     "output_type": "stream",
     "text": [
      "p=0.6667\n",
      "v['0']=2.8614\n",
      "(b) V0=V_3/(1+r)^3=2.8619\n"
     ]
    }
   ],
   "source": [
    "v = bionomial_model(3, 4/3, 2/3, 1/9, 27, 30, \"put\")\n",
    "print(f\"{v['0']=}\")\n",
    "print(f\"(b) V0=V_3/(1+r)^3={round(sum([payoff(30, v['ttt'], 'put'), payoff(30, v['tth'], 'put')*6]) / 27 * (9/10)**3, 4)}\")"
   ]
  },
  {
   "cell_type": "markdown",
   "id": "f6514b4d",
   "metadata": {},
   "source": [
    "**6.16. Consider the binomial model of Problem 6.15 $S_0 = 27, u = 4/3, d = 2/3$, and $r = 1/9$ but now (a) find value and the optimal exercise strategy for the American put option $(30 - S_3)^+$, and (b) find the value of the American call option $(S_3 - 30)^+$.**"
   ]
  },
  {
   "cell_type": "markdown",
   "id": "e631eb83",
   "metadata": {},
   "source": [
    "![](../../american_put.png)"
   ]
  },
  {
   "cell_type": "code",
   "execution_count": 111,
   "id": "cb366426",
   "metadata": {},
   "outputs": [
    {
     "name": "stdout",
     "output_type": "stream",
     "text": [
      "For continuing strategy\n",
      "v0=9.288\n"
     ]
    }
   ],
   "source": [
    "print(\"For continuing strategy\")\n",
    "print(f\"v0={round((9/10)**3 * (3 * 4 * 14 + 8 * 22) / 27, 4)}\")"
   ]
  },
  {
   "cell_type": "markdown",
   "id": "93b995a9",
   "metadata": {},
   "source": [
    "**6.17. Continuing with the model of previous problem $S_0 = 27, u = 4/3, d = 2/3$, and $r = 1/9$, we are now interested in finding value $V_S$ of the American straddle $|S_3 - 30|$. Comparing with the values $V_P$ and $V_C$ of the call and the put computed in the previous problem we see that $V_S \\leq V_P + V_C$ . Explain why this should be true.**"
   ]
  },
  {
   "cell_type": "markdown",
   "id": "20326547",
   "metadata": {},
   "source": [
    "![](../../american_straddle.png)"
   ]
  },
  {
   "cell_type": "code",
   "execution_count": 114,
   "id": "f15bb60b",
   "metadata": {},
   "outputs": [
    {
     "name": "stdout",
     "output_type": "stream",
     "text": [
      "v0=12.24\n",
      "v_c=2.8619, v_p=9.288: v_c + c_p=12.1499\n"
     ]
    }
   ],
   "source": [
    "print(f\"v0={(9/10) * (2/3 * 14.4 + 1/3 * 12)}\")\n",
    "v_c = 2.8619\n",
    "v_p = 9.288\n",
    "print(f\"{v_c=}, {v_p=}: v_c + c_p={v_c + v_p}\")"
   ]
  },
  {
   "cell_type": "markdown",
   "id": "d7cdcf56",
   "metadata": {},
   "source": [
    "**6.18. Consider the three-period binomial model with $S_0=16, u = 3, d = 1/2$ and $r = 1/3$ An American limited liability call option pays $min\\{(S_n - 10)^+ , 60\\}$ if exercised at time $0 \\leq n \\leq 3$. In words it is a call option but your profit is limited to \\\\$60. Find the value and the optimal exercise strategy.**"
   ]
  },
  {
   "cell_type": "markdown",
   "id": "4a98ec41",
   "metadata": {},
   "source": [
    "![](./american_limited.png)"
   ]
  },
  {
   "cell_type": "markdown",
   "id": "cf5d6583",
   "metadata": {},
   "source": [
    "**6.19. In the American version of the callback option, you can buy the stock at time n at its current price and then sell it at the highest price seen in the past for a profit of $V_n = \\max_{0\\leq m \\leq n}{S_m -S_n}$. Compute the value of the three period version of this option when the stock follows the binomial model with $S_0 = 8, u = 2, d = 1/2$, and $r = 1/4$.**"
   ]
  },
  {
   "cell_type": "markdown",
   "id": "01387c8a",
   "metadata": {},
   "source": [
    "![](./american_callback.png)"
   ]
  },
  {
   "cell_type": "markdown",
   "id": "047eee9e",
   "metadata": {},
   "source": [
    "**6.20. The payoff of the Asian option is based on the average price: $A_n = (S_0 +\\dots+S_n)/(n+1)$. Suppose that the stock follows the binomial model with $S_0=4,u=2,d=1/2$, and $r=1/4$. Find the value of the American version of the three period Asian option, $(S_n -4)^+$, i.e., when you can exercise the option at any time.**"
   ]
  },
  {
   "cell_type": "markdown",
   "id": "1608b626",
   "metadata": {},
   "source": [
    "![](./american_asian.png)"
   ]
  },
  {
   "cell_type": "markdown",
   "id": "d70794c7",
   "metadata": {},
   "source": [
    "**6.21. Show that for any $a$ and $b$, $V(S, t)=aS + be^{rt}$ satisfies the Black-Scholes differential equation. What investment does this correspond to?**"
   ]
  },
  {
   "cell_type": "markdown",
   "id": "a515ea63",
   "metadata": {},
   "source": [
    "We need show that:\n",
    "$$\\frac{\\partial V}{\\partial t}V(S, t) - rV(S, t) + rS\\frac{\\partial V}{\\partial x}+\\frac{1}{2}\\sigma^2S^2\\frac{\\partial V^2}{\\partial x^2}(S, t)=0$$\n",
    "So:\n",
    " - $\\frac{\\partial V}{\\partial t}V(S, t)=rbe^{rt}$\n",
    " - $-rV(S, t) = -raS -rbe^{rt}$\n",
    " - $rS\\frac{\\partial V}{\\partial x}=rSa$\n",
    " - $\\frac{1}{2}\\sigma^2S^2\\frac{\\partial V^2}{\\partial x^2}(S, t)=0$\n",
    " \n",
    "Now we can clearly see that it sums to 0.\n",
    "\n",
    "The equation equals to holding $a$ number of stocks and having $b$ number in bank over $t$ time period."
   ]
  },
  {
   "cell_type": "markdown",
   "id": "145407ba",
   "metadata": {},
   "source": [
    "**Theorem 6.11.** The price of the European call option $(S_t − K)^+$ is given by\n",
    "$$V_c = S_0\\Phi(d_1)-e^{-rt}K\\Phi(d_2)$$\n",
    "where the constants\n",
    "$$d_1=\\frac{ln(S_0/K) + (r + \\sigma^2/2)t}{\\sigma \\sqrt{t}}\\ \\ \\ d_2=d_1−\\sigma \\sqrt{t}.$$"
   ]
  },
  {
   "cell_type": "markdown",
   "id": "923c3bd7",
   "metadata": {},
   "source": [
    "**Put-call parity**\n",
    "$$V_P-V_C=e^{-rt}K-S_0$$\n",
    "Therefore, $V_P=V_C+e^{-rt}K-S_0$"
   ]
  },
  {
   "cell_type": "markdown",
   "id": "138fe30e",
   "metadata": {},
   "source": [
    "**6.22. Find a formula for the value (at time 0) of cash-or-nothing option that pays off \\\\$1 if $S_t > K$ and 0 otherwise. What is the value when the strike is the initial value, the option is for 1/4 year, the volatility is $\\sigma = 0.3$, and for simplicity we suppose that the interest rate is 0.**"
   ]
  },
  {
   "cell_type": "markdown",
   "id": "c9965544",
   "metadata": {},
   "source": [
    "In other words it is asking what is the probability that $S_t>K$.\n",
    "$$P(S_0e^{-\\sigma^2t/2 + \\sigma B_t}>K)=\\Phi(x),\\ \\ \\ x=\\frac{ln(S_0/K)+\\sigma^2t/2}{\\sigma\\sqrt{t}}$$"
   ]
  },
  {
   "cell_type": "code",
   "execution_count": 118,
   "id": "0e9d567c",
   "metadata": {},
   "outputs": [
    {
     "name": "stdout",
     "output_type": "stream",
     "text": [
      "V_0=0.485\n"
     ]
    }
   ],
   "source": [
    "print(f\"V_0={round(norm.cdf(-.3/8), 4)}\")"
   ]
  },
  {
   "cell_type": "code",
   "execution_count": 23,
   "id": "e95335bf",
   "metadata": {},
   "outputs": [],
   "source": [
    "def black_scholes_call(spot: float, strike: float, volatility: float, rate: float, t: float) -> float:\n",
    "    d1 = (np.log(spot / strike) + (rate + (volatility ** 2) / 2) * t) / (volatility * np.sqrt(t))\n",
    "    d2 = d1 - volatility * np.sqrt(t)\n",
    "    \n",
    "    cdf_d1 = norm.cdf(d1)\n",
    "    cdf_d2 = norm.cdf(d2)\n",
    "    \n",
    "    return np.round(spot * cdf_d1 - np.exp(-rate * t) * strike * cdf_d2, 4)\n",
    "\n",
    "\n",
    "def black_scholes_put(spot: float, strike: float, volatility: float, rate: float, t: float) -> float:\n",
    "    call = black_scholes_call(spot, strike, volatility, rate, t)\n",
    "    \n",
    "    return np.round(call + np.exp(-rate * t) * strike - spot, 4)"
   ]
  },
  {
   "cell_type": "markdown",
   "id": "12023674",
   "metadata": {},
   "source": [
    "**6.23. On May 22, 1998 Intel was selling at $74.625$. Use the Black-Scholes formula to compute the value of a Janaury 2000 call ($t = 1.646$ years) with strike $100$, assuming the interest rate was $r=0.05$ and the volatility $\\sigma = 0.375$.**"
   ]
  },
  {
   "cell_type": "code",
   "execution_count": 12,
   "id": "5ca9d29a",
   "metadata": {},
   "outputs": [
    {
     "name": "stdout",
     "output_type": "stream",
     "text": [
      "(a) $8.5663\n"
     ]
    }
   ],
   "source": [
    "print(f\"(a) ${black_scholes_call(spot=74.625, strike=100, volatility=0.375, rate=0.05, t=1.646)}\")"
   ]
  },
  {
   "cell_type": "markdown",
   "id": "ca989a7b",
   "metadata": {},
   "source": [
    "**6.24. On December 20, 2011, stock in Kraft Foods was selling at $36.83$. (a) Use the Black-Scholes formula to compute the value of a March 12 call ($t = 0.227$ years) with strike $33$, assuming an interest rate of $r = 0.01$ and the volatility $\\sigma = 0.15$. The volatility here has been chosen to make the price consistent with the bid-ask spread of ($3.9,4.0$). (b) Is the price of $0.4$ for a put with strike $33$ consistent with put-call parity.**"
   ]
  },
  {
   "cell_type": "code",
   "execution_count": 19,
   "id": "cdd08b7e",
   "metadata": {},
   "outputs": [
    {
     "name": "stdout",
     "output_type": "stream",
     "text": [
      "(a) Call $3.9671\n",
      "(b) Put $0.0623\n"
     ]
    }
   ],
   "source": [
    "print(f\"(a) Call ${black_scholes_call(spot=36.83 , strike=33, volatility=0.15, rate=0.01, t=0.227)}\")\n",
    "print(f\"(b) Put ${black_scholes_put(spot=36.83 , strike=33, volatility=0.15, rate=0.01, t=0.227)}\")"
   ]
  },
  {
   "cell_type": "markdown",
   "id": "6af3407b",
   "metadata": {},
   "source": [
    "Therefore, the price of $0.4 it is not consistent for put."
   ]
  },
  {
   "cell_type": "markdown",
   "id": "da2bc9ec",
   "metadata": {},
   "source": [
    "**6.25. On December 20, 2011, stock in Exxon Mobil was selling at 81.63. (a) Use the Black-Scholes formula to compute the value of an April 12 call ($t=0.3123$ years) with strike 70, assuming an interest rate of $r=0.01$ and the volatility $\\sigma=0.26$. The volatility here has been chosen to make the price consistent with the bid-ask spread of (12.6,12.7). (b) Is the price of 1.43 for a put with strike 70 consistent with put-call parity.**"
   ]
  },
  {
   "cell_type": "code",
   "execution_count": 24,
   "id": "f070c923",
   "metadata": {},
   "outputs": [
    {
     "name": "stdout",
     "output_type": "stream",
     "text": [
      "(a) Call $12.6307\n",
      "(b) Put $0.7824\n"
     ]
    }
   ],
   "source": [
    "print(f\"(a) Call ${black_scholes_call(spot=81.63 , strike=70, volatility=0.26, rate=0.01, t=0.3123)}\")\n",
    "print(f\"(b) Put ${black_scholes_put(spot=81.63 , strike=70, volatility=0.26, rate=0.01, t=0.3123)}\")"
   ]
  },
  {
   "cell_type": "markdown",
   "id": "a8ae5e95",
   "metadata": {},
   "source": [
    "Therefore, the price of $1.43 it is not consistent for put."
   ]
  }
 ],
 "metadata": {
  "kernelspec": {
   "display_name": "Python 3 (ipykernel)",
   "language": "python",
   "name": "python3"
  },
  "language_info": {
   "codemirror_mode": {
    "name": "ipython",
    "version": 3
   },
   "file_extension": ".py",
   "mimetype": "text/x-python",
   "name": "python",
   "nbconvert_exporter": "python",
   "pygments_lexer": "ipython3",
   "version": "3.10.6"
  }
 },
 "nbformat": 4,
 "nbformat_minor": 5
}
