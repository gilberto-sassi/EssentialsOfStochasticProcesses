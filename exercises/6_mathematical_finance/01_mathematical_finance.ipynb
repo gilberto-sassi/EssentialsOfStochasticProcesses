{
 "cells": [
  {
   "cell_type": "markdown",
   "id": "4e398b1b",
   "metadata": {},
   "source": [
    "# Mathematical finance"
   ]
  },
  {
   "cell_type": "code",
   "execution_count": 4,
   "id": "23a9b37d",
   "metadata": {},
   "outputs": [],
   "source": [
    "import numpy as np\n",
    "from scipy.stats import norm"
   ]
  },
  {
   "cell_type": "markdown",
   "id": "a89c2efa",
   "metadata": {},
   "source": [
    "**Theorem 6.11.** The price of the European call option $(S_t − K)^+$ is given by\n",
    "$$V_c = S_0\\Phi(d_1)-e^{-rt}K\\Phi(d_2)$$\n",
    "where the constants\n",
    "$$d_1=\\frac{ln(S_0/K) + (r + \\sigma^2/2)t}{\\sigma \\sqrt{t}}\\ \\ \\ d_2=d_1−\\sigma \\sqrt{t}.$$"
   ]
  },
  {
   "cell_type": "markdown",
   "id": "cb23a5e5",
   "metadata": {},
   "source": [
    "**Put-call parity**\n",
    "$$V_P-V_C=e^{-rt}K-S_0$$\n",
    "Therefore, $V_P=V_C+e^{-rt}K-S_0$"
   ]
  },
  {
   "cell_type": "code",
   "execution_count": 23,
   "id": "09ed7054",
   "metadata": {},
   "outputs": [],
   "source": [
    "def black_scholes_call(spot: float, strike: float, volatility: float, rate: float, t: float) -> float:\n",
    "    d1 = (np.log(spot / strike) + (rate + (volatility ** 2) / 2) * t) / (volatility * np.sqrt(t))\n",
    "    d2 = d1 - volatility * np.sqrt(t)\n",
    "    \n",
    "    cdf_d1 = norm.cdf(d1)\n",
    "    cdf_d2 = norm.cdf(d2)\n",
    "    \n",
    "    return np.round(spot * cdf_d1 - np.exp(-rate * t) * strike * cdf_d2, 4)\n",
    "\n",
    "\n",
    "def black_scholes_put(spot: float, strike: float, volatility: float, rate: float, t: float) -> float:\n",
    "    call = black_scholes_call(spot, strike, volatility, rate, t)\n",
    "    \n",
    "    return np.round(call + np.exp(-rate * t) * strike - spot, 4)"
   ]
  },
  {
   "cell_type": "markdown",
   "id": "960b5db8",
   "metadata": {},
   "source": [
    "**6.1. A stock is now at \\\\$110. In a year its price will either be \\\\$121 or \\\\$99. (a) Assuming that the interest rate is $r= 0.04$ find the price of a call $(S_1−113)^+$. (b) How much stock $\\Delta_0$ do we need to buy to replicate the option. (c) Verify that having $V_0$ in cash and $\\Delta_0$ in stock replicates the option exactly.**"
   ]
  },
  {
   "cell_type": "markdown",
   "id": "9064a8e2",
   "metadata": {},
   "source": [
    "(a) $u=1.1$, $d=0.9$ and $p* = \\frac{1+r-d}{u-d}=\\frac{1.04-0.9}{1.1-0.9}=\\frac{0.14}{0.2}=0.7$\n",
    "$$V_0=\\frac{1}{1+r}\\big(p*8\\big)=\\frac{56}{10.4}=5.385$$\n",
    "(b) $\\Delta_0=\\frac{V_1(H)-V_1(T)}{S_1(H)-S_1(T)}=\\frac{8-0}{121-99}=\\frac{8}{22}=\\frac{4}{11}$  \n",
    "(c)  \n",
    "$V_0 + \\Delta_0\\big(\\frac{1}{r+1}S_1(H) - S_0\\big)=\\frac{1}{r+1}V_1(H)$  \n",
    "$V_0 + \\Delta_0\\big(\\frac{1}{r+1}S_1(T) - S_0\\big)=\\frac{1}{r+1}V_1(T)$  \n",
    "---\n",
    "$\\frac{56}{10.4}+\\frac{4}{11}\\big(\\frac{121}{1.04}-110\\big)=\\frac{8}{1.04}$  \n",
    "$\\frac{56}{10.4}+\\frac{4}{11}\\big(\\frac{99}{1.04}-110\\big)=0$"
   ]
  },
  {
   "cell_type": "markdown",
   "id": "67723eca",
   "metadata": {},
   "source": [
    "**6.2. A stock is now at \\\\$60. In a year its price will either be \\\\$75 or \\\\$45. (a) Assuming that the interest rate is $r = 0.05$ find the price of a put $(60−S_1)^+$. (b) How much stock $\\Delta_0$ do we need to sell to replicate the option. (c) Verify that having $V_0$ in cash and $\\Delta_0$ in stock replicates the option exactly.**"
   ]
  },
  {
   "cell_type": "markdown",
   "id": "fceee8eb",
   "metadata": {},
   "source": []
  },
  {
   "cell_type": "markdown",
   "id": "efbefa85",
   "metadata": {},
   "source": [
    "**6.3. It was crucial for our no arbitrage computations that there were only two possible values of the stock. Suppose that a stock is now at 100, but in one month my be at 130, 110 or 80 in outcomes that we call 1, 2 and 3. (a) Find all the (nonnegative) probabilities $p_1, p_2$ and $p_3 = 1-p_1-p_2$ that make the stock price a martingale. (b) Find the maximum and minimum values, $v_1$ and $v_0$, of the expected value of the the call option $(S_1-105)^+$ among the martingale probabilities. (c) Show that we can start with $v_1$ in cash, buy $x_1$ shares of stock and we have $v_1 +x_1(S_1-S_0) \\geq (S_1-105)^+$ in all three outcomes with equality for 1 and 3. (d) If we start with $v_0$ in cash, buy $x_0$ shares of stock and we have $v_0 + x_0(S_1-S_0) \\leq (S_1-105)^+$ in all three outcomes with equality for 2 and 3. (e) Use (c) and (d) to argue that the only prices for the option consistent with absence of arbitrage are those in $[v_0,v_1]$.**"
   ]
  },
  {
   "cell_type": "code",
   "execution_count": null,
   "id": "4d4a5074",
   "metadata": {},
   "outputs": [],
   "source": []
  },
  {
   "cell_type": "markdown",
   "id": "f9970169",
   "metadata": {},
   "source": [
    "**6.23. On May 22, 1998 Intel was selling at $74.625$. Use the Black-Scholes formula to compute the value of a Janaury 2000 call ($t = 1.646$ years) with strike $100$, assuming the interest rate was $r=0.05$ and the volatility $\\sigma = 0.375$.**"
   ]
  },
  {
   "cell_type": "code",
   "execution_count": 12,
   "id": "fffea14d",
   "metadata": {},
   "outputs": [
    {
     "name": "stdout",
     "output_type": "stream",
     "text": [
      "(a) $8.5663\n"
     ]
    }
   ],
   "source": [
    "print(f\"(a) ${black_scholes_call(spot=74.625, strike=100, volatility=0.375, rate=0.05, t=1.646)}\")"
   ]
  },
  {
   "cell_type": "markdown",
   "id": "aaf92295",
   "metadata": {},
   "source": [
    "**6.24. On December 20, 2011, stock in Kraft Foods was selling at $36.83$. (a) Use the Black-Scholes formula to compute the value of a March 12 call ($t = 0.227$ years) with strike $33$, assuming an interest rate of $r = 0.01$ and the volatility $\\sigma = 0.15$. The volatility here has been chosen to make the price consistent with the bid-ask spread of ($3.9,4.0$). (b) Is the price of $0.4$ for a put with strike $33$ consistent with put-call parity.**"
   ]
  },
  {
   "cell_type": "code",
   "execution_count": 19,
   "id": "3ac9c188",
   "metadata": {},
   "outputs": [
    {
     "name": "stdout",
     "output_type": "stream",
     "text": [
      "(a) Call $3.9671\n",
      "(b) Put $0.0623\n"
     ]
    }
   ],
   "source": [
    "print(f\"(a) Call ${black_scholes_call(spot=36.83 , strike=33, volatility=0.15, rate=0.01, t=0.227)}\")\n",
    "print(f\"(b) Put ${black_scholes_put(spot=36.83 , strike=33, volatility=0.15, rate=0.01, t=0.227)}\")"
   ]
  },
  {
   "cell_type": "markdown",
   "id": "c68f4959",
   "metadata": {},
   "source": [
    "Therefore, the price of $0.4 it is not consistent for put."
   ]
  },
  {
   "cell_type": "markdown",
   "id": "42a773f8",
   "metadata": {},
   "source": [
    "**6.25. On December 20, 2011, stock in Exxon Mobil was selling at 81.63. (a) Use the Black-Scholes formula to compute the value of an April 12 call ($t=0.3123$ years) with strike 70, assuming an interest rate of $r=0.01$ and the volatility $\\sigma=0.26$. The volatility here has been chosen to make the price consistent with the bid-ask spread of (12.6,12.7). (b) Is the price of 1.43 for a put with strike 70 consistent with put-call parity.**"
   ]
  },
  {
   "cell_type": "code",
   "execution_count": 24,
   "id": "221fab95",
   "metadata": {},
   "outputs": [
    {
     "name": "stdout",
     "output_type": "stream",
     "text": [
      "(a) Call $12.6307\n",
      "(b) Put $0.7824\n"
     ]
    }
   ],
   "source": [
    "print(f\"(a) Call ${black_scholes_call(spot=81.63 , strike=70, volatility=0.26, rate=0.01, t=0.3123)}\")\n",
    "print(f\"(b) Put ${black_scholes_put(spot=81.63 , strike=70, volatility=0.26, rate=0.01, t=0.3123)}\")"
   ]
  },
  {
   "cell_type": "markdown",
   "id": "e8ecf4d9",
   "metadata": {},
   "source": [
    "Therefore, the price of $1.43 it is not consistent for put."
   ]
  }
 ],
 "metadata": {
  "kernelspec": {
   "display_name": "Python 3 (ipykernel)",
   "language": "python",
   "name": "python3"
  },
  "language_info": {
   "codemirror_mode": {
    "name": "ipython",
    "version": 3
   },
   "file_extension": ".py",
   "mimetype": "text/x-python",
   "name": "python",
   "nbconvert_exporter": "python",
   "pygments_lexer": "ipython3",
   "version": "3.10.6"
  }
 },
 "nbformat": 4,
 "nbformat_minor": 5
}
