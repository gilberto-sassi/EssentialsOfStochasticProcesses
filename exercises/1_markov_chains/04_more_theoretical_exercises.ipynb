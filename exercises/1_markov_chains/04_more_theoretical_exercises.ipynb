{
 "cells": [
  {
   "cell_type": "markdown",
   "id": "8edb3d34",
   "metadata": {},
   "source": [
    "# More Theoretical Exercises"
   ]
  },
  {
   "cell_type": "markdown",
   "id": "0fffd585",
   "metadata": {},
   "source": [
    "**1.45. Consider a general chain with state space $S={1,2}$ and write the transition probability as**  \n",
    "$\\ \\ \\ \\ $1 2  \n",
    "1 1−a a  \n",
    "2 b 1−b  \n",
    "**Use the Markov property to show that** \n",
    "$$P(X_{n+1}=1) - \\frac{b}{a+b} = (1- a- b)\\{P(X_n=1)-\\frac{b}{a+b} \\}$$\n",
    "**and then conclude**\n",
    "$$P(X_{n+1}=1) - \\frac{b}{a+b} = (1- a- b)^n\\{P(X_0=1)-\\frac{b}{a+b} \\}$$\n",
    "**This shows that if $0 < a + b < 2$, then $P(X_n=1)$ converges exponentially fast to its limiting value $b/(a + b)$.**"
   ]
  },
  {
   "cell_type": "markdown",
   "id": "b8ac66f8",
   "metadata": {},
   "source": [
    "Firstly, three valuable relations:    \n",
    " (a) $P(X_{n+1}=1) = (1-a)P(X_n=1) + bP(X_n=2)$  \n",
    " (b) $P(X_n=2) = 1-P(X_n=1)$   \n",
    " (c) $(1-a-b)\\frac{b}{a + b} + b = \\frac{b-ab - b^2}{a+b} + \\frac{ab+b^2}{a+b} = \\frac{b}{a+b}$  \n",
    "Now putting it together:  \n",
    "$P(X_{n+1}=1) = (1-a)P(X_n=1) + bP(X_n=2)$  _/ starting from (a)_  \n",
    "$P(X_{n+1}=1) = (1-a)P(X_n=1) + b(1-P(X_n=1)) = (1-a-b)P(X_n=1) + b$ _/ using (b)_  \n",
    "$P(X_{n+1}=1) -\\frac{b}{a + b} = (1-a-b)P(X_n=1) - \\frac{b}{a + b} + b - \\frac{b}{a + b}$  _/ adding $\\frac{b}{a + b}$ and using (c)_  \n",
    "$P(X_{n+1}=1) -\\frac{b}{a + b} = (1-a-b)[P(X_n=1) - \\frac{b}{a + b}]$  \n",
    "\n",
    "Now we could repeatedly replacing $P(X_n=1)$ with (a) and we would get the general expression."
   ]
  },
  {
   "cell_type": "code",
   "execution_count": null,
   "id": "8266b423",
   "metadata": {},
   "outputs": [],
   "source": []
  }
 ],
 "metadata": {
  "kernelspec": {
   "display_name": "Python 3 (ipykernel)",
   "language": "python",
   "name": "python3"
  },
  "language_info": {
   "codemirror_mode": {
    "name": "ipython",
    "version": 3
   },
   "file_extension": ".py",
   "mimetype": "text/x-python",
   "name": "python",
   "nbconvert_exporter": "python",
   "pygments_lexer": "ipython3",
   "version": "3.9.12"
  }
 },
 "nbformat": 4,
 "nbformat_minor": 5
}
