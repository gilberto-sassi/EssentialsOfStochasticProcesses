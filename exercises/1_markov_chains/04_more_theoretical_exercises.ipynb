{
 "cells": [
  {
   "cell_type": "markdown",
   "id": "592728eb",
   "metadata": {},
   "source": [
    "# More Theoretical Exercises"
   ]
  },
  {
   "cell_type": "markdown",
   "id": "a953516a",
   "metadata": {},
   "source": [
    "**1.45. Consider a general chain with state space $S={1,2}$ and write the transition probability as**  \n",
    "$\\ \\ \\ \\ $1 2  \n",
    "1 1−a a  \n",
    "2 b 1−b  \n",
    "**Use the Markov property to show that** \n",
    "$$P(X_{n+1}=1) - \\frac{b}{a+b} = (1- a- b)\\{P(X_n=1)-\\frac{b}{a+b} \\}$$\n",
    "**and then conclude**\n",
    "$$P(X_{n+1}=1) - \\frac{b}{a+b} = (1- a- b)^n\\{P(X_0=1)-\\frac{b}{a+b} \\}$$\n",
    "**This shows that if $0 < a + b < 2$, then $P(X_n=1)$ converges exponentially fast to its limiting value $b/(a + b)$.**"
   ]
  },
  {
   "cell_type": "markdown",
   "id": "e3093a64",
   "metadata": {},
   "source": [
    "Firstly, three valuable relations:    \n",
    " (a) $P(X_{n+1}=1) = (1-a)P(X_n=1) + bP(X_n=2)$  \n",
    " (b) $P(X_n=2) = 1-P(X_n=1)$   \n",
    " (c) $(1-a-b)\\frac{b}{a + b} + b = \\frac{b-ab - b^2}{a+b} + \\frac{ab+b^2}{a+b} = \\frac{b}{a+b}$  \n",
    "Now putting it together:  \n",
    "$P(X_{n+1}=1) = (1-a)P(X_n=1) + bP(X_n=2)$  _/ starting from (a)_  \n",
    "$P(X_{n+1}=1) = (1-a)P(X_n=1) + b(1-P(X_n=1)) = (1-a-b)P(X_n=1) + b$ _/ using (b)_  \n",
    "$P(X_{n+1}=1) -\\frac{b}{a + b} = (1-a-b)P(X_n=1) + b - \\frac{b}{a + b}$  _/ adding $\\frac{b}{a + b}$ and using (c)_  \n",
    "$P(X_{n+1}=1) -\\frac{b}{a + b} = (1-a-b)[P(X_n=1) - \\frac{b}{a + b}]$  \n",
    "\n",
    "Now we could repeatedly replace $P(X_n=1)$ with $(1-a-b)[P(X_{n-1}=1) - \\frac{b}{a + b}]$ and we would get the general expression."
   ]
  },
  {
   "cell_type": "markdown",
   "id": "44bac852",
   "metadata": {},
   "source": [
    "**1.46. Bernoulli–Laplace model of diffusion. Consider two urns each of which contains m balls; b of these 2m balls are black, and the remaining 2m − b are white. We say that the system is in state i if the first urn contains i black balls and m−i white balls while the second contains b−i black balls and m−b+i white balls. Each trial consists of choosing a ball at random from each urn and exchanging the two. Let Xn be the state of the system after n exchanges have been made. Xn is a Markov chain.  \n",
    "(a) Compute its transition probability.  \n",
    "(b) Verify that the stationary distribution is given by** \n",
    "$$\\pi(i) = \\binom{b}{i}\\binom{2m-b}{m-i}/\\binom{2m}{m}$$  \n",
    "**(c) Can you give a simple intuitive explanation why the formula in (b) gives\n",
    "the right answer?**"
   ]
  },
  {
   "cell_type": "markdown",
   "id": "5e256dcb",
   "metadata": {},
   "source": [
    "(a)   \n",
    " - $P(X_{n+1}=i+1|X_n=i) = P(⚪⚫) = \\frac{m-i}{m}\\frac{b-i}{m}$  \n",
    " - $P(X_{n+1}=i|X_n=i) = P(⚫⚫) + P(⚪⚪) = \\frac{i}{m}\\frac{b-i}{m} + \\frac{m-i}{m}\\frac{m-b+i}{m}$\n",
    " - $P(X_{n+1}=i-1|X_n=i) = P(⚫⚪) = \\frac{i}{m}\\frac{m-b+i}{m}$\n",
    " - rest are 0\n",
    " \n",
    "(b) It is a _birth-n-death_ process, so it has detailed balanced condition. $\\pi(i)p(i,i+1)=\\pi(i+1)p(i+1,i)$\n",
    "$$\\frac{\\pi(i+1)}{\\pi(i)} = \\frac{\\binom{b}{i+1}\\binom{2m-b}{m-i+1}}{\\binom{b}{i}\\binom{2m-b}{m-i}} = \\frac{b-1}{i+1}\\frac{m-i}{m-b+i+1}=\\frac{p(i,i+1)}{p(i+1,i)}$$\n",
    "\n",
    "(c) To choose $m$ balls from $2m$ is $\\binom{2m}{m}$ - all possible scenarios. There are $\\binom{b}{i}$ possible ways to arrange $i$ black balls in the first urn and $\\binom{2m-b}{m-i}$ ways to choose remaining $m-i$ white balls. "
   ]
  },
  {
   "cell_type": "markdown",
   "id": "573ac5cd",
   "metadata": {},
   "source": [
    "**1.47. Library chain. On each request the ith of n possible books is the one chosen with probability $p_i$. To make it quicker to find the book the next time, the librarian moves the book to the left end of the shelf. Define the state at any time to be the sequence of books we see as we examine the shelf from left to right. Since all the books are distinct this list is a permutation of the set {1, 2, . . . n}, i.e., each number is listed exactly once. Show that**. \n",
    "$$\\pi(i_1,\\dots,i_n)=p_{i_1}\\frac{p_{i_2}}{1-p_{i_1}}\\frac{p_{i_3}}{1-p_{i_1}-p_{i_2}}\\dots\\frac{p_{i_n}}{1-p_{i_1}-\\dots-p_{i_{n-1}}}$$\n",
    "**is a stationary distribution.**"
   ]
  },
  {
   "cell_type": "markdown",
   "id": "9852e600",
   "metadata": {},
   "source": []
  },
  {
   "cell_type": "markdown",
   "id": "9ee4cae1",
   "metadata": {},
   "source": [
    "**1.48. Random walk on a clock. Consider the numbers 1, 2, . . . 12 written around a ring as they usually are on a clock. Consider a Markov chain that at any point jumps with equal probability to the two adjacent numbers. (a) What is the expected number of steps that Xn will take to return to its starting position? (b) What is the probability Xn will visit all the other states before returning to its starting position?  \n",
    "The next three examples continue Example 1.34. Again we represent our chessboard as $\\{(i, j) : 1 \\leq i, j \\leq 8\\}$. How do you think that the pieces bishop, knight, king, queen, and rook rank in their answers to (b)?**\n"
   ]
  },
  {
   "cell_type": "markdown",
   "id": "63e832a5",
   "metadata": {},
   "source": []
  },
  {
   "cell_type": "markdown",
   "id": "7413a891",
   "metadata": {},
   "source": [
    "**1.49. King’s random walk. A king can move one squares horizontally, vertically, or diagonally. Let Xn be the sequence of squares that results if we pick one of king’s legal moves at random. Find (a) the stationary distribution and (b) the expected number of moves to return to corner (1,1) when we start there.**"
   ]
  },
  {
   "cell_type": "markdown",
   "id": "91acbfe0",
   "metadata": {},
   "source": []
  },
  {
   "cell_type": "markdown",
   "id": "d89dc6d3",
   "metadata": {},
   "source": [
    "**1.50. Bishop’s random walk. A bishop can move any number of squares diagonally. Let $X_n$ be the sequence of squares that results if we pick one of bishop’s legal moves at random. Find (a) the stationary distribution and (b) the expected number of moves to return to corner (1,1) when we start there.**"
   ]
  },
  {
   "cell_type": "markdown",
   "id": "b7566d48",
   "metadata": {},
   "source": []
  },
  {
   "cell_type": "markdown",
   "id": "4dc6089f",
   "metadata": {},
   "source": [
    "**1.51. Queen’s random walk. A queen can move any number of squares horizontally, vertically, or diagonally. Let $X_n$ be the sequence of squares that results if we pick one of queen’s legal moves at random. Find (a) the stationary distribution and (b) the expected number of moves to return to corner (1,1) when we start there.**"
   ]
  },
  {
   "cell_type": "markdown",
   "id": "1d088db9",
   "metadata": {},
   "source": []
  },
  {
   "cell_type": "markdown",
   "id": "7b7fb2ec",
   "metadata": {},
   "source": [
    "**1.52. Wright–Fisher model. Consider the chain described in Example 1.7.**   \n",
    "$$p(x,y)=\\binom{N}{y}\\rho_x^y(1-\\rho_x)^{N-y}$$\n",
    "\n",
    "**where $\\rho_x = (1−u)x/N +v(N−x)/N$.  \n",
    "(a) Show that if $u,v > 0$, then $\\lim_{n\\rightarrow \\infty} p^n(x, y) = \\pi(y)$, where $\\pi$ is the unique stationary distribution.  \n",
    "There is no known formula for $\\pi(y)$, but you can (b) compute the mean $v = \\sum_{y}y\\pi(y) = \\lim_{n\\rightarrow \\infty} E_xX_n.$**"
   ]
  },
  {
   "cell_type": "markdown",
   "id": "8c6d77ed",
   "metadata": {},
   "source": []
  },
  {
   "cell_type": "markdown",
   "id": "a4cd8821",
   "metadata": {},
   "source": [
    "**1.53. Ehrenfest chain. Consider the Ehrenfest chain, Example 1.2, with transition probability \n",
    "$p(i,i+1)=(N−i)/N$, and $p(i,i−1)=i/N$ for $0\\leq i\\leq N$. Let $\\mu_n = E_xX_n$.**  \n",
    "**(a) Show that $\\mu_{n+1} =1+(1 −2/N)\\mu n$.  \n",
    "(b) Use this and induction to conclude that** \n",
    "$$\\mu_n=\\frac{N}{2} + \\bigg(1-\\frac{2}{N}\\bigg)^n (x−N/2)$$\n",
    "\n",
    "**From this we see that the mean μn converges exponentially rapidly to the\n",
    "equilibrium value of $N/2$ with the error at time n being $(1 − 2/N)^n(x − N/2)$.** "
   ]
  },
  {
   "cell_type": "markdown",
   "id": "f020558a",
   "metadata": {},
   "source": []
  },
  {
   "cell_type": "markdown",
   "id": "4dfd0c51",
   "metadata": {},
   "source": [
    "**1.54. Prove that if $p_{ij}$ > 0 for all $i$ and $j$ then a necessary and sufficient\n",
    "condition for the existence of a reversible stationary distribution is**  \n",
    "$$p_{ij}p_{jk}p_{ki} = p_{ik}p_{kj}p_{ji}\\ for\\ all\\ i,j,k$$\n",
    "**Hint: fix $i$ and take $\\pi_j = c\\frac{p_{ij}}{p_{ji}}$.**"
   ]
  },
  {
   "cell_type": "markdown",
   "id": "9b7f5eec",
   "metadata": {},
   "source": [
    "However, is the same as detailed balanced condition [1]. So the necessary condition is: \n",
    "$$\\pi_i p_{ij}p_{jk}p_{ki} = p_{ij}\\pi_j p_{jk}p_{ki} = p_{ij}p_{jk}\\pi_k p_{ki}$$\n",
    "For sufficient condition:\n",
    "$$\\pi_jp_{jk}=c\\frac{p_{ij}p_{jk}}{p_{ji}}=c\\frac{p_{ik}p_{kj}}{p_{ki}}=\\pi_kp_{kj}$$"
   ]
  },
  {
   "cell_type": "markdown",
   "id": "8ce945cd",
   "metadata": {},
   "source": [
    "## Resources\n",
    "[1] https://inst.eecs.berkeley.edu/~ee126/sp18/reversibility.pdf "
   ]
  }
 ],
 "metadata": {
  "kernelspec": {
   "display_name": "Python 3 (ipykernel)",
   "language": "python",
   "name": "python3"
  },
  "language_info": {
   "codemirror_mode": {
    "name": "ipython",
    "version": 3
   },
   "file_extension": ".py",
   "mimetype": "text/x-python",
   "name": "python",
   "nbconvert_exporter": "python",
   "pygments_lexer": "ipython3",
   "version": "3.9.12"
  }
 },
 "nbformat": 4,
 "nbformat_minor": 5
}
