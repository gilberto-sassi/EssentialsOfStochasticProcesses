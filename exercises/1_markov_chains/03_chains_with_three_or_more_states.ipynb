{
 "cells": [
  {
   "cell_type": "markdown",
   "id": "4a18473c",
   "metadata": {},
   "source": [
    "# Chains with three or more states"
   ]
  },
  {
   "cell_type": "code",
   "execution_count": 1,
   "id": "623752e3",
   "metadata": {},
   "outputs": [],
   "source": [
    "import os\n",
    "import sys\n",
    "import numpy as np\n",
    "\n",
    "module_path = os.path.abspath(os.path.join(\"..\"))\n",
    "if module_path not in sys.path:\n",
    "    sys.path.append(\"../libs\")\n",
    "    \n",
    "from libs.stationary_distribution import get_stationary_distribution, check_detailed_balance_condition"
   ]
  },
  {
   "cell_type": "markdown",
   "id": "4d22e7b9",
   "metadata": {},
   "source": [
    "**1.27. (a) Suppose brands A and B have consumer loyalties of .7 and .8, meaning that a customer who buys A one week will with probability .7 buy it again the next week, or try the other brand with .3. What is the limiting market share for each of these products? (b) Suppose now there is a third brand with loyalty .9, and that a consumer who changes brands picks one of the other two at random. What is the new limiting market share for these three products?**"
   ]
  },
  {
   "cell_type": "code",
   "execution_count": 4,
   "id": "e0277b2e",
   "metadata": {},
   "outputs": [
    {
     "name": "stdout",
     "output_type": "stream",
     "text": [
      "(a) Limiting market share: [0.4 0.6]\n",
      "(b) Limiting market share: [0.18 0.27 0.55]\n"
     ]
    }
   ],
   "source": [
    "brands_2 = np.array([\n",
    "    [.7, .3],\n",
    "    [.2, .8]\n",
    "])\n",
    "pi_2 = get_stationary_distribution(brands_2)\n",
    "print(f\"(a) Limiting market share: {pi_2}\")\n",
    "\n",
    "brands_3 = np.array([\n",
    "    [.7, .15, .15],\n",
    "    [.1, .8, .1],\n",
    "    [.05, .05, .9]\n",
    "])\n",
    "pi_3 = get_stationary_distribution(brands_3)\n",
    "print(f\"(b) Limiting market share: {np.round(pi_3, 2)}\")"
   ]
  },
  {
   "cell_type": "markdown",
   "id": "ca52abba",
   "metadata": {},
   "source": [
    "**1.28. A midwestern university has three types of health plans: a health maintenance organization (HMO), a preferred provider organization (PPO), and a traditional fee for service plan (FFS). Experience dictates that people change plans according to the following transition matrix**   \n",
    "$\\ \\ \\ \\ \\ \\ \\ \\ \\ $HMO PPO FFS  \n",
    "HMO .85 .1 .05  \n",
    "PPO .2 .7 .1   \n",
    "FFS .1 .3 .6  \n",
    "\n",
    "**In 2000, the percentages for the three plans were HMO:30%, PPO:25%, and FFS:45%. (a) What will be the percentages for the three plans in 2001? (b) What is the long run fraction choosing each of the three plans?**"
   ]
  },
  {
   "cell_type": "code",
   "execution_count": 7,
   "id": "669a9c32",
   "metadata": {},
   "outputs": [
    {
     "name": "stdout",
     "output_type": "stream",
     "text": [
      "(a) ditribution in 2001: [0.35 0.34 0.31]\n",
      "(b) long term: [0.5294 0.3235 0.1471]\n"
     ]
    }
   ],
   "source": [
    "health_plans = np.array([\n",
    "    [.85, .1, .05],\n",
    "    [.2, .7, .1],\n",
    "    [.1, .3, .6]\n",
    "])\n",
    "state_2000 = np.array([.3, .25, .45])\n",
    "pi = get_stationary_distribution(health_plans)\n",
    "print(f\"(a) ditribution in 2001: {np.round(np.dot(state_2000, health_plans), 4)}\")\n",
    "print(f\"(b) long term: {np.round(pi, 4)}\")"
   ]
  },
  {
   "cell_type": "markdown",
   "id": "3f4ea737",
   "metadata": {},
   "source": [
    "**1.29. Bob eats lunch at the campus food court every week day. He either eats Chinese food, Quesadila, or Salad. His transition matrix is**  \n",
    "$\\ \\ \\ \\ \\ $C Q S  \n",
    "C .15 .6 .25  \n",
    "Q .4 .1 .5  \n",
    "S .1 .3 .6  \n",
    "**He had Chinese food on Monday. (a) What are the probabilities for his three meal choices on Friday (four days later). (b) What are the long run frequencies for his three choices?**"
   ]
  },
  {
   "cell_type": "code",
   "execution_count": 11,
   "id": "3bfacb31",
   "metadata": {},
   "outputs": [
    {
     "name": "stdout",
     "output_type": "stream",
     "text": [
      "(a) Friday distribution: [0.2115 0.2863 0.5022]\n",
      "(b) long term: [0.2 0.3 0.5]\n"
     ]
    }
   ],
   "source": [
    "lunch = np.array([\n",
    "    [.15, .6, .25],\n",
    "    [.4, .1, .5],\n",
    "    [.1, .3, .6]\n",
    "])\n",
    "chinese_monday = np.array([1, 0, 0])\n",
    "pi = get_stationary_distribution(lunch)\n",
    "print(f\"(a) Friday distribution: {np.round(np.dot(chinese_monday, np.linalg.matrix_power(lunch, 4)), 4)}\")\n",
    "print(f\"(b) long term: {np.round(pi, 4)}\")"
   ]
  },
  {
   "cell_type": "markdown",
   "id": "fd5fb4fc",
   "metadata": {},
   "source": [
    "**1.30. The liberal town of Ithaca has a \"free bikes for the people program.\" You can pick up bikes at the library (L), the coffee shop (C) or the cooperative grocery store (G). The director of the program has determined that bikes move around according to the following Markov chain**  \n",
    "$\\ \\ \\ \\ \\$L C G  \n",
    "L .5 .2 .3  \n",
    "C .4 .5 .1  \n",
    "G .25 .25 .5  \n",
    "**On Sunday there are an equal number of bikes at each place. (a) What fraction of the bikes are at the three locations on Tuesday? (b) on the next Sunday? (c) In the long run what fraction are at the three locations?**"
   ]
  },
  {
   "cell_type": "code",
   "execution_count": 16,
   "id": "9e8cbe2c",
   "metadata": {},
   "outputs": [
    {
     "name": "stdout",
     "output_type": "stream",
     "text": [
      "(a) Tuesday distribution: [0.3933 0.31   0.2967]\n",
      "(a) Sunday distribution: [0.3947 0.307  0.2982]\n",
      "(c) long term: [0.3947 0.307  0.2982]\n"
     ]
    }
   ],
   "source": [
    "bike_sharing = np.array([\n",
    "    [.5, .2, .3],\n",
    "    [.4, .5, .1],\n",
    "    [.25, .25, .5]\n",
    "])\n",
    "sunday = np.ones(3) / 3\n",
    "pi = get_stationary_distribution(bike_sharing)\n",
    "print(f\"(a) Tuesday distribution: {np.round(np.dot(sunday, np.linalg.matrix_power(bike_sharing, 2)), 4)}\")\n",
    "print(f\"(a) Sunday distribution: {np.round(np.dot(sunday, np.linalg.matrix_power(bike_sharing, 7)), 4)}\")\n",
    "print(f\"(c) long term: {np.round(pi, 4)}\")"
   ]
  },
  {
   "cell_type": "markdown",
   "id": "c50a28a6",
   "metadata": {},
   "source": [
    "**1.31. A plant species has red, pink, or white flowers according to the genotypes RR, RW, and WW, respectively. If each of these genotypes is crossed with a pink (RW) plant then the offspring fractions are:**  \n",
    "$\\ \\ \\ \\ \\ \\ \\ $RR RW WW  \n",
    "RR .5 .5 0  \n",
    "RW .25 .5 .25  \n",
    "WW 0 .5 .5  \n",
    "**What is the long run fraction of plants of the three types?**"
   ]
  },
  {
   "cell_type": "code",
   "execution_count": 17,
   "id": "871a99a0",
   "metadata": {},
   "outputs": [
    {
     "name": "stdout",
     "output_type": "stream",
     "text": [
      "Long run fraction: [0.25 0.5  0.25]\n"
     ]
    }
   ],
   "source": [
    "genotype = np.array([\n",
    "    [.5, .5, 0],\n",
    "    [.25, .5, .25],\n",
    "    [0, .5, .5]\n",
    "])\n",
    "pi = get_stationary_distribution(genotype)\n",
    "print(f\"Long run fraction: {np.round(pi, 4)}\")"
   ]
  },
  {
   "cell_type": "markdown",
   "id": "f3aef0f7",
   "metadata": {},
   "source": [
    "**1.32. The weather in a certain town is classified as rainy, cloudy, or sunny and changes according to the following transition probability is**  \n",
    "$\\ \\ \\ \\ \\$R C S  \n",
    "R 1/2 1/4 1/4  \n",
    "C 1/4 1/2 1/4  \n",
    "S 1/2 1/2 0  \n",
    "**In the long run what proportion of days in this town are rainy? cloudy? sunny?**"
   ]
  },
  {
   "cell_type": "code",
   "execution_count": 18,
   "id": "4262c72e",
   "metadata": {},
   "outputs": [
    {
     "name": "stdout",
     "output_type": "stream",
     "text": [
      "Long run fraction: [0.4 0.4 0.2]\n"
     ]
    }
   ],
   "source": [
    "weather = np.array([\n",
    "    [.5, .25, .25],\n",
    "    [.25, .5, .25],\n",
    "    [.5, .5, 0]\n",
    "])\n",
    "pi = get_stationary_distribution(weather)\n",
    "print(f\"Long run fraction: {np.round(pi, 4)}\")"
   ]
  },
  {
   "cell_type": "markdown",
   "id": "9fc03039",
   "metadata": {},
   "source": [
    "**1.33. A sociologist studying living patterns in a certain region determines that the pattern of movement between urban (U), suburban (S), and rural areas (R) is given by the following transition matrix.**  \n",
    "$\\ \\ \\ \\ $U S R  \n",
    "U .86 .08 .06  \n",
    "S .05 .88 .07  \n",
    "R .03 .05 .92  \n",
    "**In the long run what fraction of the population will live in the three areas?**"
   ]
  },
  {
   "cell_type": "code",
   "execution_count": 19,
   "id": "f3a78b8b",
   "metadata": {},
   "outputs": [
    {
     "name": "stdout",
     "output_type": "stream",
     "text": [
      "Long run fraction: [0.2155 0.3322 0.4523]\n"
     ]
    }
   ],
   "source": [
    "urban = np.array([\n",
    "    [.86, .08, .06],\n",
    "    [.05, .88, .07],\n",
    "    [.03, .05, .92]\n",
    "])\n",
    "pi = get_stationary_distribution(urban)\n",
    "print(f\"Long run fraction: {np.round(pi, 4)}\")"
   ]
  },
  {
   "cell_type": "markdown",
   "id": "4422017c",
   "metadata": {},
   "source": [
    "**1.34. In a large metropolitan area, commuters either drive alone (A), carpool (C), or take public transportation (T). A study showed that transportation changes according to the following matrix:**  \n",
    "$\\ \\ \\ \\ $A C T  \n",
    "A .8 .15 .05  \n",
    "C .05 .9 .05  \n",
    "S .05 .1 .85  \n",
    "**In the long run what fraction of commuters will use the three types of transportation?**"
   ]
  },
  {
   "cell_type": "code",
   "execution_count": 22,
   "id": "bf416bfa",
   "metadata": {},
   "outputs": [
    {
     "name": "stdout",
     "output_type": "stream",
     "text": [
      "Long run fraction: [0.2  0.55 0.25]\n"
     ]
    }
   ],
   "source": [
    "transportation = np.array([\n",
    "    [.8, .15, .05],\n",
    "    [.05, .9, .05],\n",
    "    [.05, .1, .85]\n",
    "])\n",
    "pi = get_stationary_distribution(transportation)\n",
    "print(f\"Long run fraction: {np.round(pi, 4)}\")"
   ]
  },
  {
   "cell_type": "markdown",
   "id": "be2c5b25",
   "metadata": {},
   "source": [
    "**1.35. (a) Three telephone companies A, B, and C compete for customers. Each year customers switch between companies according the following transition probability**  \n",
    "$\\ \\ \\ \\ $A B C  \n",
    "A .75 .05 .20  \n",
    "B .15 .65 .20  \n",
    "C .05 .1 .85  \n",
    "**What is the limiting market share for each of these companies?**"
   ]
  },
  {
   "cell_type": "code",
   "execution_count": 23,
   "id": "daa11fd6",
   "metadata": {},
   "outputs": [
    {
     "name": "stdout",
     "output_type": "stream",
     "text": [
      "Long run fraction: [0.2321 0.1964 0.5714]\n"
     ]
    }
   ],
   "source": [
    "telephone_companies = np.array([\n",
    "    [.75, .05, .20],\n",
    "    [.15, .65, .20],\n",
    "    [.05, .1, .85]\n",
    "])\n",
    "pi = get_stationary_distribution(telephone_companies)\n",
    "print(f\"Long run fraction: {np.round(pi, 4)}\")"
   ]
  },
  {
   "cell_type": "markdown",
   "id": "8d524a64",
   "metadata": {},
   "source": [
    "**1.36. A professor has two light bulbs in his garage. When both are burned out, they are replaced, and the next day starts with two working light bulbs. Suppose that when both are working, one of the two will go out with probability .02 (each has probability .01 and we ignore the possibility of losing two on the same day). However, when only one is there, it will burn out with probability .05.  \n",
    "(i) What is the long-run fraction of time that there is exactly one bulb working?  \n",
    "(ii) What is the expected time between light bulb replacements?**"
   ]
  },
  {
   "cell_type": "code",
   "execution_count": 30,
   "id": "f6c8d406",
   "metadata": {},
   "outputs": [
    {
     "name": "stdout",
     "output_type": "stream",
     "text": [
      "(i) Long-run fraction of time that there is exactly one bulb working: 0.2817\n",
      "(ii) Expected time between light bulb replacements: 71.0 days.\n"
     ]
    }
   ],
   "source": [
    "bulbs = np.array([\n",
    "    [.98, .02, 0],\n",
    "    [0, .95, .05],\n",
    "    [1, 0, 0]\n",
    "])\n",
    "pi = get_stationary_distribution(bulbs)\n",
    "print(f\"(i) Long-run fraction of time that there is exactly one bulb working: {np.round(pi, 4)[1]}\")\n",
    "print(f\"(ii) Expected time between light bulb replacements: {np.round(1 / pi[2], 4)} days.\")"
   ]
  },
  {
   "cell_type": "markdown",
   "id": "9fd5c515",
   "metadata": {},
   "source": [
    "**1.37. An individual has three umbrellas, some at her office, and some at home. If she is leaving home in the morning (or leaving work at night) and it is raining, she will take an umbrella, if one is there. Otherwise, she gets wet. Assume that independent of the past, it rains on each trip with probability 0.2. To formulate a Markov chain, let $X_n$ be the number of umbrellas at her current location.  \n",
    "(a) Find the transition probability for this Markov chain.  \n",
    "(b) Calculate the limiting fraction of time she gets wet.**"
   ]
  },
  {
   "cell_type": "code",
   "execution_count": 38,
   "id": "814aaefd",
   "metadata": {},
   "outputs": [
    {
     "name": "stdout",
     "output_type": "stream",
     "text": [
      "(a) \n",
      " [[0.  0.  0.  1. ]\n",
      " [0.  0.  0.8 0.2]\n",
      " [0.  0.8 0.2 0. ]\n",
      " [0.8 0.2 0.  0. ]]\n",
      "(b) fraction of time she gets wet: 0.0421\n"
     ]
    }
   ],
   "source": [
    "umbrellas = np.array([\n",
    "    [0, 0, 0, 1],\n",
    "    [0, 0, 4/5, 1/5],\n",
    "    [0, 4/5, 1/5, 0],\n",
    "    [4/5, 1/5, 0, 0]\n",
    "])\n",
    "pi = get_stationary_distribution(umbrellas)\n",
    "print(f\"(a) \\n {umbrellas}\")\n",
    "print(f\"(b) fraction of time she gets wet: {np.round((pi[0]) * 1/5, 4)}\")"
   ]
  },
  {
   "cell_type": "markdown",
   "id": "e2eeb169",
   "metadata": {},
   "source": [
    "**1.38. Let $X_n$ be the number of days since David last shaved, calculated at 7:30am when he is trying to decide if he wants to shave today. Suppose that $X_n$ is a Markov chain with transition matrix**  \n",
    "$\\ \\ \\ \\ $1 $\\ \\ $2 $\\ \\ $3 $\\ \\ $4  \n",
    "1 1/2 1/2 $\\ $0$\\ \\ $0  \n",
    "2 2/3$\\ \\ $0 1/3$\\ \\ $0  \n",
    "3 3/4 0$\\ \\ $0 1/4  \n",
    "4$\\ \\ $1$\\ \\ $0$\\ \\ $0$\\ \\ $0  \n",
    "**In words, if he last shaved k days ago, he will not shave with probability $\\frac{1}{k+1}$. However, when he has not shaved for 4 days his mother orders him to shave, and he does so with probability 1.  \n",
    "(a) What is the long-run fraction of time David shaves?  \n",
    "(b) Does the stationary distribution for this chain satisfy the detailed balance condition?**"
   ]
  },
  {
   "cell_type": "code",
   "execution_count": 5,
   "id": "44f3b22f",
   "metadata": {},
   "outputs": [
    {
     "name": "stdout",
     "output_type": "stream",
     "text": [
      "(a) Long run fraction: [0.5854 0.2927 0.0976 0.0244]\n",
      "(b) Does the stationary distribution for this chain satisfy the detailed balance condition: False because\n",
      "[[ True False False False]\n",
      " [False  True False  True]\n",
      " [False False  True False]\n",
      " [False  True False  True]]\n"
     ]
    }
   ],
   "source": [
    "shave = np.array([\n",
    "    [1/2, 1/2, 0, 0],\n",
    "    [2/3, 0, 1/3, 0],\n",
    "    [3/4, 0, 0, 1/4],\n",
    "    [1, 0, 0, 0]\n",
    "])\n",
    "pi = get_stationary_distribution(shave)\n",
    "is_dbc = check_detailed_balance_condition(shave)\n",
    "print(f\"(a) Long run fraction: {np.round(pi, 4)}\")\n",
    "print(f\"(b) Does the stationary distribution for this chain satisfy the detailed balance condition: {is_dbc.all()} because\")\n",
    "print(is_dbc)"
   ]
  },
  {
   "cell_type": "markdown",
   "id": "1182aa76",
   "metadata": {},
   "source": [
    "**1.39. In a particular county voters declare themselves as members of the Republican, Democrat, or Green party. No voters change directly from the Republican to Green party or vice versa. Other transitions occur according to the following matrix:**  \n",
    "$\\ \\ \\ \\ \\ $R D G  \n",
    "R .85 .15 0  \n",
    "D .05 .85 .10  \n",
    "G 0 .05 .95  \n",
    "**In the long run what fraction of voters will belong to the three parties?**"
   ]
  },
  {
   "cell_type": "code",
   "execution_count": 6,
   "id": "24844420",
   "metadata": {},
   "outputs": [
    {
     "name": "stdout",
     "output_type": "stream",
     "text": [
      "Long run fraction: [0.1 0.3 0.6]\n"
     ]
    }
   ],
   "source": [
    "parties = np.array([\n",
    "    [.85, .15, 0],\n",
    "    [.05, .85, .10],\n",
    "    [0, .05, .95]\n",
    "])\n",
    "\n",
    "pi = get_stationary_distribution(parties)\n",
    "print(f\"Long run fraction: {np.round(pi, 4)}\")"
   ]
  },
  {
   "cell_type": "markdown",
   "id": "a648ee2a",
   "metadata": {},
   "source": [
    "**1.40. An auto insurance company classifies its customers in three categories: poor, satisfactory and excellent. No one moves from poor to excellent or from excellent to poor in one year.**  \n",
    "$\\ \\ \\ \\ $P S E  \n",
    "P .6 .4 0  \n",
    "S .1 .6 .3  \n",
    "E 0 .2 .8  \n",
    "**What is the limiting fraction of drivers in each of these categories?**"
   ]
  },
  {
   "cell_type": "code",
   "execution_count": 7,
   "id": "964212b8",
   "metadata": {},
   "outputs": [
    {
     "name": "stdout",
     "output_type": "stream",
     "text": [
      "Long run fraction: [0.0909 0.3636 0.5455]\n"
     ]
    }
   ],
   "source": [
    "car_insurance = np.array([\n",
    "    [.6, .4, 0],\n",
    "    [.1, .6, .3],\n",
    "    [0, .2, .8]\n",
    "])\n",
    "pi = get_stationary_distribution(car_insurance)\n",
    "print(f\"Long run fraction: {np.round(pi, 4)}\")"
   ]
  },
  {
   "cell_type": "markdown",
   "id": "0d6e739b",
   "metadata": {},
   "source": [
    "**1.41. _Reflecting random walk on the line_. Consider the points $1,2,3,4$ to be marked on a straight line. Let $X_n$ be a Markov chain that moves to the right with probability 2/3 and to the left with probability 1/3, but subject this time to the rule that if $X_n$ tries to go to the left from 1 or to the right from 4 it stays put. Find (a) the transition probability for the chain, and (b) the limiting amount of time the chain spends at each site.**"
   ]
  },
  {
   "cell_type": "code",
   "execution_count": 10,
   "id": "27fde60c",
   "metadata": {},
   "outputs": [
    {
     "name": "stdout",
     "output_type": "stream",
     "text": [
      "(a) the transition probability:  \n",
      " [[0.33333333 0.66666667 0.         0.        ]\n",
      " [0.33333333 0.         0.66666667 0.        ]\n",
      " [0.         0.33333333 0.         0.66666667]\n",
      " [0.         0.         0.33333333 0.66666667]]\n",
      "\n",
      "(b) Long run fraction: [0.0667 0.1333 0.2667 0.5333]\n"
     ]
    }
   ],
   "source": [
    "reflecting_random_walk = np.array([\n",
    "    [1/3, 2/3, 0, 0],\n",
    "    [1/3, 0, 2/3, 0],\n",
    "    [0, 1/3, 0, 2/3],\n",
    "    [0, 0, 1/3, 2/3]\n",
    "])\n",
    "pi = get_stationary_distribution(reflecting_random_walk)\n",
    "print(f\"(a) the transition probability:  \\n {reflecting_random_walk}\\n\")\n",
    "print(f\"(b) Long run fraction: {np.round(pi, 4)}\")"
   ]
  },
  {
   "cell_type": "markdown",
   "id": "019331ba",
   "metadata": {},
   "source": [
    "_Hint_: 1.39-1.41 are a Death and Birth processes and they all satisfy _detailed balanced condition_ i.e. $\\pi_i p(i, j) = \\pi_j p(j, i)$. Therefore, e.g. _reflecting random walk on the line_ can be solved like:  \n",
    "$\\pi_i\\frac{2}{3}=\\pi_{i+1}\\frac{1}{3}$, then getting $\\pi_1 := c, c + 2c + 4c + 8c =1, \\pi=(\\frac{1}{15}, \\frac{2}{15}, \\frac{4}{15}, \\frac{8}{15})$"
   ]
  },
  {
   "cell_type": "markdown",
   "id": "e1da7216",
   "metadata": {},
   "source": [
    "**1.42. At the end of a month, a large retail store classifies each of its customer’s accounts according to current (0), 30–60 days overdue (1), 60–90 days overdue (2), more than 90 days (3). Their experience indicates that the accounts move from state to state according to a Markov chain with transition probability matrix:**  \n",
    "$\\ \\ \\ \\ $0 1 2 3  \n",
    "0 .9 .1 0 0  \n",
    "1 .8 0 .2 0  \n",
    "2 .5 0 0 .5  \n",
    "3 .1 0 0 .9  \n",
    "**In the long run what fraction of the accounts are in each category?**"
   ]
  },
  {
   "cell_type": "code",
   "execution_count": 11,
   "id": "0d8ba4e9",
   "metadata": {},
   "outputs": [
    {
     "name": "stdout",
     "output_type": "stream",
     "text": [
      "Long run fraction: [0.8197 0.082  0.0164 0.082 ]\n"
     ]
    }
   ],
   "source": [
    "overdues = np.array([\n",
    "    [.9, .1, 0, 0],\n",
    "    [.8, 0, .2, 0],\n",
    "    [.5, 0, 0, .5],\n",
    "    [.1, 0, 0, .9]\n",
    "])\n",
    "pi = get_stationary_distribution(overdues)\n",
    "print(f\"Long run fraction: {np.round(pi, 4)}\")"
   ]
  },
  {
   "cell_type": "markdown",
   "id": "9733c2bd",
   "metadata": {},
   "source": [
    "**1.43. At the beginning of each day, a piece of equipment is inspected to determine its working condition, which is classified as state 1 = new, 2, 3, or 4 = broken. We assume the state is a Markov chain with the following transition matrix:**  \n",
    "$\\ \\ \\ \\ $1 2 3 4  \n",
    "1 .95 .05 0 0  \n",
    "2 0 .9 .1 0   \n",
    "3 0 0 .875 .125  \n",
    "\n",
    "**(a) Suppose that a broken machine requires three days to fix. To incorporate this into the Markov chain we add states 5 and 6 and suppose that $p(4, 5) = 1$, $p(5,6) = 1$, and $p(6,1) = 1$. Find the fraction of time that the machine is working.   \n",
    "(b) Suppose now that we have the option of performing preventative maintenance when the machine is in state 3, and that this maintenance takes one day and returns the machine to state 1. This changes the transition probability to**  \n",
    "$\\ \\ \\ \\ $1 2 3  \n",
    "1 .95 .05 0   \n",
    "2 0 .9 .1  \n",
    "3 1 0 0  \n",
    "**Find the fraction of time the machine is working under this new policy.**"
   ]
  },
  {
   "cell_type": "code",
   "execution_count": 15,
   "id": "e5f8868a",
   "metadata": {},
   "outputs": [
    {
     "name": "stdout",
     "output_type": "stream",
     "text": [
      "(a) Long run fraction: [0.4878 0.2439 0.1951 0.0244 0.0244 0.0244]\n",
      "(b) Long run fraction with new policy: [0.6452 0.3226 0.0323]\n"
     ]
    }
   ],
   "source": [
    "machines = np.array([\n",
    "    [.95, .05, 0, 0, 0, 0],\n",
    "    [0, .9, .1, 0, 0, 0],\n",
    "    [0, 0, .875, .125, 0, 0],\n",
    "    [0, 0, 0, 0, 1, 0],\n",
    "    [0, 0, 0, 0, 0, 1],\n",
    "    [1, 0, 0, 0, 0, 0]\n",
    "])\n",
    "pi = get_stationary_distribution(machines)\n",
    "print(f\"(a) Long run fraction: {np.round(pi, 4)}\")\n",
    "\n",
    "machines2 = np.array([\n",
    "    [.95, .05, 0],\n",
    "    [0, .9, .1],\n",
    "    [1, 0, 0]\n",
    "])\n",
    "pi2 = get_stationary_distribution(machines2)\n",
    "print(f\"(b) Long run fraction with new policy: {np.round(pi2, 4)}\")"
   ]
  },
  {
   "cell_type": "markdown",
   "id": "0e7eac53",
   "metadata": {},
   "source": [
    "**1.44. Landscape dynamics. To make a crude model of a forest we might intro- duce states 0 = grass, 1 = bushes, 2 = small trees, 3 = large trees, and write down a transition matrix like the following:**  \n",
    "$\\ \\ \\ \\ $ 0 1 2 3   \n",
    "0 1/2 1/2 0 0  \n",
    "1 1/24 7/8 1/12 0  \n",
    "2 1/36 0 8/9 1/12  \n",
    "3 1/8 0 0 7/8  \n",
    "**The idea behind this matrix is that if left undisturbed a grassy area will see bushes grow, then small trees, which of course grow into large trees. However, disturbances such as tree falls or fires can reset the system to state 0. Find the limiting fraction of land in each of the states.**"
   ]
  },
  {
   "cell_type": "code",
   "execution_count": 16,
   "id": "99065c9a",
   "metadata": {},
   "outputs": [
    {
     "name": "stdout",
     "output_type": "stream",
     "text": [
      "Long run fraction: [0.1 0.4 0.3 0.2]\n"
     ]
    }
   ],
   "source": [
    "landscape = np.array([\n",
    "    [1/2, 1/2, 0, 0],\n",
    "    [1/24, 7/8, 1/12, 0],\n",
    "    [1/36, 0, 8/9, 1/12],\n",
    "    [1/8, 0, 0, 7/8]\n",
    "])\n",
    "\n",
    "pi = get_stationary_distribution(landscape)\n",
    "print(f\"Long run fraction: {np.round(pi, 4)}\")"
   ]
  }
 ],
 "metadata": {
  "kernelspec": {
   "display_name": "Python 3 (ipykernel)",
   "language": "python",
   "name": "python3"
  },
  "language_info": {
   "codemirror_mode": {
    "name": "ipython",
    "version": 3
   },
   "file_extension": ".py",
   "mimetype": "text/x-python",
   "name": "python",
   "nbconvert_exporter": "python",
   "pygments_lexer": "ipython3",
   "version": "3.10.6"
  }
 },
 "nbformat": 4,
 "nbformat_minor": 5
}
