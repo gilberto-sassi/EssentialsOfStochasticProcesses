{
 "cells": [
  {
   "cell_type": "markdown",
   "id": "9f0b4357",
   "metadata": {},
   "source": [
    "# Chains with three or more states"
   ]
  },
  {
   "cell_type": "code",
   "execution_count": 1,
   "id": "f3363793",
   "metadata": {},
   "outputs": [],
   "source": [
    "import os\n",
    "import sys\n",
    "import numpy as np\n",
    "\n",
    "module_path = os.path.abspath(os.path.join(\"..\"))\n",
    "if module_path not in sys.path:\n",
    "    sys.path.append(\"../libs\")\n",
    "    \n",
    "from libs.stationary_distribution import get_stationary_distribution"
   ]
  },
  {
   "cell_type": "markdown",
   "id": "77f675a1",
   "metadata": {},
   "source": [
    "**1.27. (a) Suppose brands A and B have consumer loyalties of .7 and .8, meaning that a customer who buys A one week will with probability .7 buy it again the next week, or try the other brand with .3. What is the limiting market share for each of these products? (b) Suppose now there is a third brand with loyalty .9, and that a consumer who changes brands picks one of the other two at random. What is the new limiting market share for these three products?**"
   ]
  },
  {
   "cell_type": "code",
   "execution_count": 4,
   "id": "64ba8040",
   "metadata": {},
   "outputs": [
    {
     "name": "stdout",
     "output_type": "stream",
     "text": [
      "(a) Limiting market share: [0.4 0.6]\n",
      "(b) Limiting market share: [0.18 0.27 0.55]\n"
     ]
    }
   ],
   "source": [
    "brands_2 = np.array([\n",
    "    [.7, .3],\n",
    "    [.2, .8]\n",
    "])\n",
    "pi_2 = get_stationary_distribution(brands_2)\n",
    "print(f\"(a) Limiting market share: {pi_2}\")\n",
    "\n",
    "brands_3 = np.array([\n",
    "    [.7, .15, .15],\n",
    "    [.1, .8, .1],\n",
    "    [.05, .05, .9]\n",
    "])\n",
    "pi_3 = get_stationary_distribution(brands_3)\n",
    "print(f\"(b) Limiting market share: {np.round(pi_3, 2)}\")"
   ]
  },
  {
   "cell_type": "markdown",
   "id": "a069aed8",
   "metadata": {},
   "source": [
    "**1.28. A midwestern university has three types of health plans: a health maintenance organization (HMO), a preferred provider organization (PPO), and a traditional fee for service plan (FFS). Experience dictates that people change plans according to the following transition matrix**   \n",
    "$\\ \\ \\ \\ \\ \\ \\ \\ \\ $HMO PPO FFS  \n",
    "HMO .85 .1 .05  \n",
    "PPO .2 .7 .1   \n",
    "FFS .1 .3 .6  \n",
    "\n",
    "**In 2000, the percentages for the three plans were HMO:30%, PPO:25%, and FFS:45%. (a) What will be the percentages for the three plans in 2001? (b) What is the long run fraction choosing each of the three plans?**"
   ]
  },
  {
   "cell_type": "code",
   "execution_count": 7,
   "id": "dea43801",
   "metadata": {},
   "outputs": [
    {
     "name": "stdout",
     "output_type": "stream",
     "text": [
      "(a) ditribution in 2001: [0.35 0.34 0.31]\n",
      "(b) long term: [0.5294 0.3235 0.1471]\n"
     ]
    }
   ],
   "source": [
    "health_plans = np.array([\n",
    "    [.85, .1, .05],\n",
    "    [.2, .7, .1],\n",
    "    [.1, .3, .6]\n",
    "])\n",
    "state_2000 = np.array([.3, .25, .45])\n",
    "pi = get_stationary_distribution(health_plans)\n",
    "print(f\"(a) ditribution in 2001: {np.round(np.dot(state_2000, health_plans), 4)}\")\n",
    "print(f\"(b) long term: {np.round(pi, 4)}\")"
   ]
  },
  {
   "cell_type": "markdown",
   "id": "5d035c5e",
   "metadata": {},
   "source": [
    "**1.29. Bob eats lunch at the campus food court every week day. He either eats Chinese food, Quesadila, or Salad. His transition matrix is**  \n",
    "$\\ \\ \\ \\ \\ $C Q S  \n",
    "C .15 .6 .25  \n",
    "Q .4 .1 .5  \n",
    "S .1 .3 .6  \n",
    "**He had Chinese food on Monday. (a) What are the probabilities for his three meal choices on Friday (four days later). (b) What are the long run frequencies for his three choices?**"
   ]
  },
  {
   "cell_type": "code",
   "execution_count": 11,
   "id": "83212567",
   "metadata": {},
   "outputs": [
    {
     "name": "stdout",
     "output_type": "stream",
     "text": [
      "(a) Friday distribution: [0.2115 0.2863 0.5022]\n",
      "(b) long term: [0.2 0.3 0.5]\n"
     ]
    }
   ],
   "source": [
    "lunch = np.array([\n",
    "    [.15, .6, .25],\n",
    "    [.4, .1, .5],\n",
    "    [.1, .3, .6]\n",
    "])\n",
    "chinese_monday = np.array([1, 0, 0])\n",
    "pi = get_stationary_distribution(lunch)\n",
    "print(f\"(a) Friday distribution: {np.round(np.dot(chinese_monday, np.linalg.matrix_power(lunch, 4)), 4)}\")\n",
    "print(f\"(b) long term: {np.round(pi, 4)}\")"
   ]
  },
  {
   "cell_type": "markdown",
   "id": "a1a594f9",
   "metadata": {},
   "source": [
    "**1.30. The liberal town of Ithaca has a \"free bikes for the people program.\" You can pick up bikes at the library (L), the coffee shop (C) or the cooperative grocery store (G). The director of the program has determined that bikes move around according to the following Markov chain**  \n",
    "$\\ \\ \\ \\ \\$L C G  \n",
    "L .5 .2 .3  \n",
    "C .4 .5 .1  \n",
    "G .25 .25 .5  \n",
    "**On Sunday there are an equal number of bikes at each place. (a) What fraction of the bikes are at the three locations on Tuesday? (b) on the next Sunday? (c) In the long run what fraction are at the three locations?**"
   ]
  },
  {
   "cell_type": "code",
   "execution_count": 16,
   "id": "c1ec62fe",
   "metadata": {},
   "outputs": [
    {
     "name": "stdout",
     "output_type": "stream",
     "text": [
      "(a) Tuesday distribution: [0.3933 0.31   0.2967]\n",
      "(a) Sunday distribution: [0.3947 0.307  0.2982]\n",
      "(c) long term: [0.3947 0.307  0.2982]\n"
     ]
    }
   ],
   "source": [
    "bike_sharing = np.array([\n",
    "    [.5, .2, .3],\n",
    "    [.4, .5, .1],\n",
    "    [.25, .25, .5]\n",
    "])\n",
    "sunday = np.ones(3) / 3\n",
    "pi = get_stationary_distribution(bike_sharing)\n",
    "print(f\"(a) Tuesday distribution: {np.round(np.dot(sunday, np.linalg.matrix_power(bike_sharing, 2)), 4)}\")\n",
    "print(f\"(a) Sunday distribution: {np.round(np.dot(sunday, np.linalg.matrix_power(bike_sharing, 7)), 4)}\")\n",
    "print(f\"(c) long term: {np.round(pi, 4)}\")"
   ]
  },
  {
   "cell_type": "markdown",
   "id": "3bcd3651",
   "metadata": {},
   "source": [
    "**1.31. A plant species has red, pink, or white flowers according to the genotypes RR, RW, and WW, respectively. If each of these genotypes is crossed with a pink (RW) plant then the offspring fractions are:**  \n",
    "$\\ \\ \\ \\ \\ \\ \\ $RR RW WW  \n",
    "RR .5 .5 0  \n",
    "RW .25 .5 .25  \n",
    "WW 0 .5 .5  \n",
    "**What is the long run fraction of plants of the three types?**"
   ]
  },
  {
   "cell_type": "code",
   "execution_count": 17,
   "id": "34500d1d",
   "metadata": {},
   "outputs": [
    {
     "name": "stdout",
     "output_type": "stream",
     "text": [
      "Long run fraction: [0.25 0.5  0.25]\n"
     ]
    }
   ],
   "source": [
    "genotype = np.array([\n",
    "    [.5, .5, 0],\n",
    "    [.25, .5, .25],\n",
    "    [0, .5, .5]\n",
    "])\n",
    "pi = get_stationary_distribution(genotype)\n",
    "print(f\"Long run fraction: {np.round(pi, 4)}\")"
   ]
  },
  {
   "cell_type": "markdown",
   "id": "f4a4a7fd",
   "metadata": {},
   "source": [
    "**1.32. The weather in a certain town is classified as rainy, cloudy, or sunny and changes according to the following transition probability is**  \n",
    "$\\ \\ \\ \\ \\$R C S  \n",
    "R 1/2 1/4 1/4  \n",
    "C 1/4 1/2 1/4  \n",
    "S 1/2 1/2 0  \n",
    "**In the long run what proportion of days in this town are rainy? cloudy? sunny?**"
   ]
  },
  {
   "cell_type": "code",
   "execution_count": 18,
   "id": "010fe1d1",
   "metadata": {},
   "outputs": [
    {
     "name": "stdout",
     "output_type": "stream",
     "text": [
      "Long run fraction: [0.4 0.4 0.2]\n"
     ]
    }
   ],
   "source": [
    "weather = np.array([\n",
    "    [.5, .25, .25],\n",
    "    [.25, .5, .25],\n",
    "    [.5, .5, 0]\n",
    "])\n",
    "pi = get_stationary_distribution(weather)\n",
    "print(f\"Long run fraction: {np.round(pi, 4)}\")"
   ]
  },
  {
   "cell_type": "markdown",
   "id": "56001642",
   "metadata": {},
   "source": [
    "**1.33. A sociologist studying living patterns in a certain region determines that the pattern of movement between urban (U), suburban (S), and rural areas (R) is given by the following transition matrix.**  \n",
    "$\\ \\ \\ \\ $U S R  \n",
    "U .86 .08 .06  \n",
    "S .05 .88 .07  \n",
    "R .03 .05 .92  \n",
    "**In the long run what fraction of the population will live in the three areas?**"
   ]
  },
  {
   "cell_type": "code",
   "execution_count": 19,
   "id": "02b11f04",
   "metadata": {},
   "outputs": [
    {
     "name": "stdout",
     "output_type": "stream",
     "text": [
      "Long run fraction: [0.2155 0.3322 0.4523]\n"
     ]
    }
   ],
   "source": [
    "urban = np.array([\n",
    "    [.86, .08, .06],\n",
    "    [.05, .88, .07],\n",
    "    [.03, .05, .92]\n",
    "])\n",
    "pi = get_stationary_distribution(urban)\n",
    "print(f\"Long run fraction: {np.round(pi, 4)}\")"
   ]
  },
  {
   "cell_type": "markdown",
   "id": "d68246fe",
   "metadata": {},
   "source": [
    "**1.34. In a large metropolitan area, commuters either drive alone (A), carpool (C), or take public transportation (T). A study showed that transportation changes according to the following matrix:**  \n",
    "$\\ \\ \\ \\ $A C T  \n",
    "A .8 .15 .05  \n",
    "C .05 .9 .05  \n",
    "S .05 .1 .85  \n",
    "**In the long run what fraction of commuters will use the three types of transportation?**"
   ]
  },
  {
   "cell_type": "code",
   "execution_count": 22,
   "id": "d3713501",
   "metadata": {},
   "outputs": [
    {
     "name": "stdout",
     "output_type": "stream",
     "text": [
      "Long run fraction: [0.2  0.55 0.25]\n"
     ]
    }
   ],
   "source": [
    "transportation = np.array([\n",
    "    [.8, .15, .05],\n",
    "    [.05, .9, .05],\n",
    "    [.05, .1, .85]\n",
    "])\n",
    "pi = get_stationary_distribution(transportation)\n",
    "print(f\"Long run fraction: {np.round(pi, 4)}\")"
   ]
  },
  {
   "cell_type": "markdown",
   "id": "4853997d",
   "metadata": {},
   "source": [
    "**1.35. (a) Three telephone companies A, B, and C compete for customers. Each year customers switch between companies according the following transition probability**  \n",
    "$\\ \\ \\ \\ $A B C  \n",
    "A .75 .05 .20  \n",
    "B .15 .65 .20  \n",
    "C .05 .1 .85  \n",
    "**What is the limiting market share for each of these companies?**"
   ]
  },
  {
   "cell_type": "code",
   "execution_count": 23,
   "id": "08c4dc1a",
   "metadata": {},
   "outputs": [
    {
     "name": "stdout",
     "output_type": "stream",
     "text": [
      "Long run fraction: [0.2321 0.1964 0.5714]\n"
     ]
    }
   ],
   "source": [
    "telephone_companies = np.array([\n",
    "    [.75, .05, .20],\n",
    "    [.15, .65, .20],\n",
    "    [.05, .1, .85]\n",
    "])\n",
    "pi = get_stationary_distribution(telephone_companies)\n",
    "print(f\"Long run fraction: {np.round(pi, 4)}\")"
   ]
  },
  {
   "cell_type": "markdown",
   "id": "08b76d63",
   "metadata": {},
   "source": [
    "**1.36. A professor has two light bulbs in his garage. When both are burned out, they are replaced, and the next day starts with two working light bulbs. Suppose that when both are working, one of the two will go out with probability .02 (each has probability .01 and we ignore the possibility of losing two on the same day). However, when only one is there, it will burn out with probability .05.  \n",
    "(i) What is the long-run fraction of time that there is exactly one bulb working?  \n",
    "(ii) What is the expected time between light bulb replacements?**"
   ]
  },
  {
   "cell_type": "code",
   "execution_count": null,
   "id": "289b4f56",
   "metadata": {},
   "outputs": [],
   "source": []
  },
  {
   "cell_type": "markdown",
   "id": "5fb2ab3f",
   "metadata": {},
   "source": [
    "**1.37. An individual has three umbrellas, some at her office, and some at home. If she is leaving home in the morning (or leaving work at night) and it is raining, she will take an umbrella, if one is there. Otherwise, she gets wet. Assume that independent of the past, it rains on each trip with probability 0.2. To formulate a Markov chain, let $X_n$ be the number of umbrellas at her current location.  \n",
    "(a) Find the transition probability for this Markov chain.  \n",
    "(b) Calculate the limiting fraction of time she gets wet.**"
   ]
  },
  {
   "cell_type": "code",
   "execution_count": null,
   "id": "99811310",
   "metadata": {},
   "outputs": [],
   "source": []
  },
  {
   "cell_type": "markdown",
   "id": "ea81e8e9",
   "metadata": {},
   "source": [
    "**1.38. Let $X_n$ be the number of days since David last shaved, calculated at 7:30am when he is trying to decide if he wants to shave today. Suppose that $X_n$ is a Markov chain with transition matrix**  \n",
    "$\\ \\ \\ \\ $1 $\\ \\ $2 $\\ \\ $3 $\\ \\ $4  \n",
    "1 1/2 1/2 $\\ $0$\\ \\ $0  \n",
    "2 2/3$\\ \\ $0 1/3$\\ \\ $0  \n",
    "3 3/4 0$\\ \\ $0 1/4  \n",
    "4$\\ \\ $1$\\ \\ $0$\\ \\ $0$\\ \\ $0  \n",
    "**In words, if he last shaved k days ago, he will not shave with probability $\\frac{1}{k+1}$. However, when he has not shaved for 4 days his mother orders him to shave, and he does so with probability 1.  \n",
    "(a) What is the long-run fraction of time David shaves?  \n",
    "(b) Does the stationary distribution for this chain satisfy the detailed balance condition?**"
   ]
  },
  {
   "cell_type": "code",
   "execution_count": null,
   "id": "b356c9b7",
   "metadata": {},
   "outputs": [],
   "source": []
  }
 ],
 "metadata": {
  "kernelspec": {
   "display_name": "Python 3 (ipykernel)",
   "language": "python",
   "name": "python3"
  },
  "language_info": {
   "codemirror_mode": {
    "name": "ipython",
    "version": 3
   },
   "file_extension": ".py",
   "mimetype": "text/x-python",
   "name": "python",
   "nbconvert_exporter": "python",
   "pygments_lexer": "ipython3",
   "version": "3.9.12"
  }
 },
 "nbformat": 4,
 "nbformat_minor": 5
}
