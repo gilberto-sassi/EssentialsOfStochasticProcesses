{
 "cells": [
  {
   "cell_type": "markdown",
   "id": "b8a4d8c4",
   "metadata": {},
   "source": [
    "# Understanding the Definitions"
   ]
  },
  {
   "cell_type": "code",
   "execution_count": 56,
   "id": "6cf20220",
   "metadata": {},
   "outputs": [],
   "source": [
    "import scipy\n",
    "import numpy as np\n",
    "import networkx as nx\n",
    "import matplotlib.pyplot as plt"
   ]
  },
  {
   "cell_type": "markdown",
   "id": "1f9bd596",
   "metadata": {},
   "source": [
    "**1.1. A fair coin is tossed repeatedly with results $Y_0, Y_1, Y_2, \\dots$ that are 0 or 1 with probability 1/2 each. For $n \\geq 1$ let $X_n = Y_n + Y_{n−1}$ be the number of 1 in the $(n − 1)$th and $n$th tosses. Is $X_n$ a Markov chain?**"
   ]
  },
  {
   "cell_type": "markdown",
   "id": "b343387b",
   "metadata": {},
   "source": [
    "No. We need to check following Markov memoryless property:   \n",
    "$$P(X_{n+1}=j|X_n=i,X_{n−1}=i_{n−1},\\dots,X_0=i_0) = P(X_{n+1} = j|X_n = i)=p(i,j)$$\n",
    "Which in our case is clear:\n",
    "$$P(X_{n+1}=j|X_n=i,X_{n−1}=i_{n−1},\\dots,X_0=i_0)=P(Y_{n+1}+Y_{n}=j|Y_n+Y_{n-1}=i_n,Y_{n-1}+Y_{n-2}=i_{n-1},\\dots,Y_{1}+Y_{0}=i_0)\\neq P(Y_{n+1}+Y_{n}=j|Y_n+Y_{n-1}=i_n)$$\n",
    "As the $X_n=Y_n+Y_{n-1}$ depends on more than one step, it could be more visible on concrete example:  \n",
    "$\\frac{1}{2}=P(X_3=2|X_2=1,X_1=0,X_0=0) \\neq P(X_3=2|X_2=1,X_1=1,X_0=0)=0$"
   ]
  },
  {
   "cell_type": "markdown",
   "id": "7e469595",
   "metadata": {},
   "source": [
    "**1.2. Five white balls and five black balls are distributed in two urns in such a way that each urn contains five balls. At each step we draw one ball from each urn and exchange them. Let $X_n$ be the number of white balls in the left urn at time $n$. Compute the transition probability for $X_n$.**"
   ]
  },
  {
   "cell_type": "markdown",
   "id": "db7d2746",
   "metadata": {},
   "source": [
    "$X_n$ can be in 6 states $\\{0, 1, 2, 3, 4, 5\\}$ i.e number of balls. The transitional probability matrix is\n",
    "$$(p_{ij}) = \\begin{bmatrix}\n",
    "0 & 1 & 0 & 0 & 0 & 0 \\\\\n",
    "\\frac{1}{25} & \\frac{8}{25} & \\frac{16}{25} & 0 & 0 & 0 \\\\\n",
    "0 & \\frac{4}{25} & \\frac{12}{25} & \\frac{9}{25} & 0 & 0 \\\\\n",
    "0 & 0 & \\frac{9}{25} & \\frac{12}{25} & \\frac{4}{25} & 0 \\\\\n",
    "0 & 0 & 0 & \\frac{16}{25} & \\frac{8}{25} & \\frac{1}{25} \\\\\n",
    "0 & 0 & 0 & 0 & 1 & 0 \n",
    "\\end{bmatrix}$$"
   ]
  },
  {
   "cell_type": "markdown",
   "id": "349ced26",
   "metadata": {},
   "source": [
    "**1.3. We repeated roll two four sided dice with numbers $1, 2, 3,$ and $4$ on them. Let $Y_k$ be the sum on the k-th roll, $S_n = Y_1 +\\dots+Y_n$ be the total of the first n rolls, and $X_n = S_n\\ (mod\\ 6)$. Find the transition probability for $X_n$.**"
   ]
  },
  {
   "cell_type": "markdown",
   "id": "b0d925b5",
   "metadata": {},
   "source": [
    "$S_n$ can be in 6 states $\\{0, 1, 2, 3, 4, 5\\}$ i.e $(mod\\ 6)$. Helpful step is to figure out which dice outcome lead to each reminder:\n",
    "- $0\\ (mod\\ 6)$: |{(3,3), (4,2), (2,4)}| = 3 \n",
    "- $1\\ (mod\\ 6)$: |{(4,3), (3,4)}| = 2\n",
    "- $2\\ (mod\\ 6)$: |{(1,1), (4,4)}| = 2\n",
    "- $3\\ (mod\\ 6)$: |{(1,2),(2,1)}| = 2  \n",
    "- $4\\ (mod\\ 6)$: |{(2,2), (1,3), (3,1)}| = 3\n",
    "- $5\\ (mod\\ 6)$: |{(1,4), (4,1), (2, 3), (3,2)}| = 4 \n",
    "\n",
    "The transitional probability matrix is\n",
    "$$(p_{ij}) = \\frac{1}{16}\\begin{bmatrix}\n",
    "3 & 2 & 2 & 2 & 3 & 4 \\\\\n",
    "4 & 3 & 2 & 2 & 2 & 3 \\\\\n",
    "3 & 4 & 3 & 2 & 2 & 2 \\\\\n",
    "2 & 3 & 4 & 3 & 2 & 2 \\\\\n",
    "2 & 2 & 3 & 4 & 3 & 2 \\\\\n",
    "2 & 2 & 2 & 3 & 4 & 3 \n",
    "\\end{bmatrix}$$"
   ]
  },
  {
   "cell_type": "markdown",
   "id": "41ce2919",
   "metadata": {},
   "source": [
    "**1.4. The 1990 census showed that 36% of the households in the District of Columbia were homeowners while the remainder were renters. During the next decade 6% of the homeowners became renters and 12% of the renters became homeowners. What percentage were homeowners in 2000? in 2010?**"
   ]
  },
  {
   "cell_type": "code",
   "execution_count": 12,
   "id": "2eb0220f",
   "metadata": {},
   "outputs": [
    {
     "name": "stdout",
     "output_type": "stream",
     "text": [
      "Homeowners in 2000s: 0.4152\n",
      "Homeowners in 2010s: 0.4605\n"
     ]
    }
   ],
   "source": [
    "init_state = np.array([.36, .64])\n",
    "p_matrix = np.array([\n",
    "    [.94, .06],\n",
    "    [.12, .88]\n",
    "])\n",
    "\n",
    "print(fr\"Homeowners in 2000s: {np.round(np.dot(init_state, p_matrix)[0], 4)}\")\n",
    "print(fr\"Homeowners in 2010s: {np.round(np.dot(init_state, np.dot(p_matrix, p_matrix))[0], 4)}\")"
   ]
  },
  {
   "cell_type": "markdown",
   "id": "2f29c970",
   "metadata": {},
   "source": [
    "**1.5. Consider a gambler’s ruin chain with $N = 4$. That is, if $1 \\leq i \\leq 3$, $p(i, i + 1) = 0.4$, and $p(i, i − 1) = 0.6$, but the endpoints are absorbing states: $p(0, 0) = 1$ and $p(4, 4) = 1$ Compute $p^3(1, 4)$ and $p^3(1, 0)$.**"
   ]
  },
  {
   "cell_type": "code",
   "execution_count": 30,
   "id": "7c429374",
   "metadata": {},
   "outputs": [
    {
     "name": "stdout",
     "output_type": "stream",
     "text": [
      "p^3(1,4)=0.064\n",
      "p^3(1,0)=0.744\n"
     ]
    }
   ],
   "source": [
    "p_matrix = np.array([\n",
    "    [1, 0, 0, 0, 0],\n",
    "    [.6, 0, .4, 0, 0],\n",
    "    [0, .6, 0, .4, 0],\n",
    "    [0, 0, .6, 0, .4],\n",
    "    [0, 0, 0, 0, 1]\n",
    "])\n",
    "\n",
    "print(fr\"p^3(1,4)={np.round(np.linalg.matrix_power(p_matrix, 3)[1, 4], 4)}\")\n",
    "print(fr\"p^3(1,0)={np.round(np.linalg.matrix_power(p_matrix, 3)[1, 0], 4)}\")"
   ]
  },
  {
   "cell_type": "markdown",
   "id": "eedc10d1",
   "metadata": {},
   "source": [
    "**1.6. A taxicab driver moves between the airport A and two hotels B and C according to the following rules. If he is at the airport, he will be at one of the two hotels next with equal probability. If at a hotel then he returns to the airport with probability 3/4 and goes to the other hotel with probability 1/4. (a) Find the transition matrix for the chain. (b) Suppose the driver begins at the airport at time 0. Find the probability for each of his three possible locations at time 2 and the probability he is at hotel B at time 3.**"
   ]
  },
  {
   "cell_type": "code",
   "execution_count": 41,
   "id": "427d0641",
   "metadata": {},
   "outputs": [
    {
     "name": "stdout",
     "output_type": "stream",
     "text": [
      "(a) transition matrix for the chain\n",
      " [[0.   0.5  0.5 ]\n",
      " [0.75 0.   0.25]\n",
      " [0.75 0.25 0.  ]]\n",
      "\n",
      "(b) t=2 [0.75  0.125 0.125]\n",
      "    P(being at hotel B at t=3)=0.4062\n"
     ]
    }
   ],
   "source": [
    "init_state = np.array([1, 0, 0])\n",
    "p_matrix = np.array([\n",
    "    [0, .5, .5],\n",
    "    [.75, 0, .25],\n",
    "    [.75, .25, 0],\n",
    "])\n",
    "print(f\"(a) transition matrix for the chain\\n {p_matrix}\\n\")\n",
    "\n",
    "print(f\"(b) t=2 {np.round(np.dot(init_state, np.linalg.matrix_power(p_matrix, 2)), 4)}\")\n",
    "print(f\"    P(being at hotel B at t=3)={np.round(np.dot(init_state, np.linalg.matrix_power(p_matrix, 3))[1], 4)}\")"
   ]
  },
  {
   "cell_type": "markdown",
   "id": "58936385",
   "metadata": {},
   "source": [
    "**1.7. Suppose that the probability it rains today is 0.3 if neither of the last two days was rainy, but 0.6 if at least one of the last two days was rainy. Let the weather on day $n$, $W_n$, be R for rain, or S for sun. $W_n$ is not a Markov chain, but the weather for the last two days $X_n = (W_{n−1} , W_n)$ is a Markov chain with four states {RR, RS, SR, SS}.   \n",
    "(a) Compute its transition probability.  \n",
    "(b) Compute the two-step transition probability.  \n",
    "(c) What is the probability it will rain on Wednesday given that it did not rain on Sunday or Monday.**"
   ]
  },
  {
   "cell_type": "code",
   "execution_count": 54,
   "id": "0ed022a0",
   "metadata": {},
   "outputs": [
    {
     "name": "stdout",
     "output_type": "stream",
     "text": [
      "(a) Transition probability:\n",
      " [[0.6 0.4 0.  0. ]\n",
      " [0.  0.  0.6 0.4]\n",
      " [0.6 0.4 0.  0. ]\n",
      " [0.  0.  0.3 0.7]]\n",
      "\n",
      "(b) Two-step transition probability\n",
      " [[0.36 0.24 0.24 0.16]\n",
      " [0.36 0.24 0.12 0.28]\n",
      " [0.36 0.24 0.24 0.16]\n",
      " [0.18 0.12 0.21 0.49]]\n",
      "\n",
      "(c) probability it will rain on Wednesday given that it did not rain on Sunday or Monday: 0.39\n",
      "\n"
     ]
    }
   ],
   "source": [
    "p_matrix = np.array([\n",
    "    [.6, .4, 0, 0],  \n",
    "    [0, 0, .6, .4],\n",
    "    [.6, .4, 0, 0],\n",
    "    [0, 0, .3, .7]\n",
    "])\n",
    "p_squared = np.round(np.linalg.matrix_power(p_matrix, 2), 4)\n",
    "no_rain = np.dot(np.array([0, 0, 0, 1]), p_squared)\n",
    "\n",
    "print(f\"(a) Transition probability:\\n {p_matrix}\\n\")\n",
    "print(f\"(b) Two-step transition probability\\n {p_squared}\\n\")\n",
    "print(f\"(c) probability it will rain on Wednesday given that it did not rain on Sunday or Monday: {np.sum([no_rain[0], no_rain[2]])}\\n\")"
   ]
  },
  {
   "cell_type": "markdown",
   "id": "4e7c1000",
   "metadata": {},
   "source": [
    "**1.8. Consider the following transition matrices. Identify the transient and recurrent states, and the irreducible closed sets in the Markov chains. Give reasons for your answers.**"
   ]
  },
  {
   "cell_type": "code",
   "execution_count": 80,
   "id": "7d910337",
   "metadata": {},
   "outputs": [
    {
     "data": {
      "image/png": "[encoded data removed]",
      "text/plain": [
       "<Figure size 720x720 with 4 Axes>"
      ]
     },
     "metadata": {},
     "output_type": "display_data"
    }
   ],
   "source": [
    "a = np.array([\n",
    "    [.4, .3, .3, 0, 0],\n",
    "    [0, .5, 0, .5, 0],\n",
    "    [.5, 0, .5, 0, 0],\n",
    "    [0, .5, 0, .5, 0],\n",
    "    [0, .3, 0, .3, .4]\n",
    "])\n",
    "\n",
    "b = np.array([\n",
    "    [.1, 0, 0, .4, .5, 0],\n",
    "    [.1, .2, .2, 0, .5, 0],\n",
    "    [0, .1, .3, 0, 0, .6],\n",
    "    [.1, 0, 0, .9, 0, 0],\n",
    "    [0, 0, 0, .4, 0, .6],\n",
    "    [0, 0, 0, 0, .5, .5]\n",
    "])\n",
    "\n",
    "c = np.array([\n",
    "    [0, 0, 0, 0, 1],\n",
    "    [0, .2, 0, .8, 0],\n",
    "    [.1, .2, .3, .4, 0],\n",
    "    [0, .6, 0, .4, 0],\n",
    "    [.3, 0, 0, 0, .7]\n",
    "])\n",
    "\n",
    "d = np.array([\n",
    "    [.8, 0, 0, .2, 0, 0],\n",
    "    [0, .5, 0, 0, .5, 0],\n",
    "    [0, 0, .3, .4, .3, 0],\n",
    "    [.1, 0, 0, .9, 0, 0],\n",
    "    [0, .2, 0, 0, .8, 0],\n",
    "    [.7, 0, 0, .3, 0, 0]\n",
    "])\n",
    "\n",
    "options = {\n",
    "    'node_color': 'white',\n",
    "    'node_size': 100,\n",
    "    'width': 1,\n",
    "    'arrowstyle': '->',\n",
    "    'arrowsize': 20,\n",
    "}\n",
    "\n",
    "graph_a = nx.from_numpy_matrix(a)\n",
    "graph_b = nx.from_numpy_matrix(b)\n",
    "graph_c = nx.from_numpy_matrix(c)\n",
    "graph_d = nx.from_numpy_matrix(d)\n",
    "\n",
    "plt.figure(figsize=(10, 10))\n",
    "plt.subplot(221)\n",
    "nx.draw_networkx(graph_a, arrows=True, **options)\n",
    "plt.subplot(222)\n",
    "nx.draw_networkx(graph_b, arrows=True, **options)\n",
    "plt.subplot(223)\n",
    "nx.draw_networkx(graph_c, arrows=True, **options)\n",
    "plt.subplot(224)\n",
    "nx.draw_networkx(graph_d, arrows=True, **options)\n",
    "plt.draw()"
   ]
  },
  {
   "cell_type": "markdown",
   "id": "f333bb70",
   "metadata": {},
   "source": [
    "Graph A: \n",
    " - transient states: {0, 1, 3}\n",
    " - recurrent states: {4, 2}\n",
    " - irreducible closed sets: {4} and {2} \n",
    " \n",
    "Graph B: \n",
    " - transient states: {0, 1, 2, 3, 4}\n",
    " - recurrent states: {5}\n",
    " - irreducible closed sets: {5}\n",
    "\n",
    "Graph C: \n",
    " - transient states: {0, 1, 2}\n",
    " - recurrent states: {4, 3}\n",
    " - irreducible closed sets: {4} and {3}\n",
    " \n",
    "Graph D: \n",
    " - transient states: {0, 1, 2, 3}\n",
    " - recurrent states: {5, 4}\n",
    " - irreducible closed sets: {5} and {4}"
   ]
  },
  {
   "cell_type": "markdown",
   "id": "26762bd2",
   "metadata": {},
   "source": [
    "**1.9 Find the stationary distributions for the Markov chains with transition matrices:**\n",
    "$$\\begin{bmatrix}\n",
    "0.5 & 0.4 & 0.1 \\\\\n",
    "0.2 & 0.5 & 0.3 \\\\\n",
    "0.1 & 0.3 & 0.6 \n",
    "\\end{bmatrix};\n",
    "\\begin{bmatrix}\n",
    "0.5 & 0.4 & 0.1 \\\\\n",
    "0.3 & 0.4 & 0.3 \\\\\n",
    "0.2 & 0.2 & 0.6 \n",
    "\\end{bmatrix};\n",
    "\\begin{bmatrix}\n",
    "0.6 & 0.4 & 0  \\\\\n",
    "0.2 & 0.4 & 0.2 \\\\\n",
    "0 & 0.2 & 0.8 \n",
    "\\end{bmatrix}$$"
   ]
  },
  {
   "cell_type": "code",
   "execution_count": 195,
   "id": "2d5bd85f",
   "metadata": {},
   "outputs": [
    {
     "name": "stdout",
     "output_type": "stream",
     "text": [
      "(a) Stationary distributions [0.23404255 0.40425532 0.36170213]\n",
      "(b) Stationary distributions [0.33333333 0.33333333 0.33333333]\n",
      "(c) Stationary distributions [0.14285714 0.28571429 0.57142857]\n"
     ]
    }
   ],
   "source": [
    "a = np.array([\n",
    "    [.5, .4, .1],\n",
    "    [.2, .5, .3],\n",
    "    [.1, .3, .6]\n",
    "])\n",
    "v_a = np.linalg.eig(a.T)[1][:,0] / np.sum(np.linalg.eig(a.T)[1][:,0])\n",
    "print(f\"(a) Stationary distributions {v_a}\")\n",
    "\n",
    "b = np.array([\n",
    "    [.5, .4, .1],\n",
    "    [.3, .4, .3],\n",
    "    [.2, .2, .6],\n",
    "])\n",
    "v_b = np.linalg.eig(b.T)[1][:,0] / np.sum(np.linalg.eig(b.T)[1][:,0])\n",
    "print(f\"(b) Stationary distributions {v_b}\")\n",
    "\n",
    "c = np.array([\n",
    "    [.6, .4, 0],\n",
    "    [.2, .4, .2],\n",
    "    [0, .2, .8]\n",
    "])\n",
    "c_3rd = np.array([\n",
    "    [-.4, .4, 1],\n",
    "    [.2, -.6, 1],\n",
    "    [0, .2, 1]\n",
    "])\n",
    "v_c = np.linalg.inv(c_3rd)[2]\n",
    "print(f\"(c) Stationary distributions {v_c}\")"
   ]
  },
  {
   "cell_type": "markdown",
   "id": "4db62fac",
   "metadata": {},
   "source": [
    "(a) Matrix has eigenvalue $\\lambda=1$ and positive eigenvector, if scale to $\\pi_1+\\pi_2+\\pi_3=1$ it is the stationary distribution\n",
    "(b) Matrix has eigenvalue $\\lambda=1$ and positive eigenvector, if scale to $\\pi_1+\\pi_2+\\pi_3=1$ it is the stationary distribution, easier solution the matrix is _doubly stochastic_ i.e. both rows and columns sums to 1, therefore, $\\pi_i = \\frac{1}{n}$\n",
    "(c) However, eigenvalues and eigenvectors don't sum up nicely we can use another trick explained in ESP on pages 24-25.\n",
    "\n",
    "$$\\begin{bmatrix}\n",
    "  0.6 & 0.4 & 0.\\\\\n",
    "  0.2 & 0.4 & 0.2\\\\\n",
    "  0. & 0.2 & 0.8\\\\\n",
    "\\end{bmatrix}\\sim\\begin{bmatrix}\n",
    "  -0.4 & 0.4 & 1.\\\\\n",
    "  0.2 & -0.6 & 1.\\\\\n",
    "  0. & 0.2 & 1.\\\\\n",
    "\\end{bmatrix}; \n",
    "A = \\begin{bmatrix}\n",
    "  -0.4 & 0.4 & 1.\\\\\n",
    "  0.2 & -0.6 & 1.\\\\\n",
    "  0. & 0.2 & 1.\\\\\n",
    "\\end{bmatrix}$$\n",
    "By $\\pi=(0,0,1)A^{-1}$ we get the answer."
   ]
  },
  {
   "cell_type": "markdown",
   "id": "33f7d6fe",
   "metadata": {},
   "source": [
    "**1.10. Find the stationary distributions for the Markov chains on {1,2,3,4} with transition matrices:**\n",
    "$$A=\\begin{bmatrix}\n",
    "  0.7 & 0. & 0.3 & 0.\\\\\n",
    "  0.6 & 0. & 0.4 & 0.\\\\\n",
    "  0. & 0.5 & 0. & 0.5\\\\\n",
    "  0. & 0.4 & 0. & 0.6\\\\\n",
    "\\end{bmatrix}\n",
    "B = \\begin{bmatrix}\n",
    "  7. & 0.3 & 0. & 0.\\\\\n",
    "  0.2 & 0.5 & 0.3 & 0.\\\\\n",
    "  0. & 0.3 & 0.6 & 0.1\\\\\n",
    "  0. & 0. & 0.2 & 0.8\\\\\n",
    "\\end{bmatrix}\n",
    "C = \\begin{bmatrix}\n",
    "  0.7 & 0. & 0.3 & 0.\\\\\n",
    "  0.2 & 0.5 & 0.3 & 0.\\\\\n",
    "  0.1 & 0.2 & 0.4 & 0.3\\\\\n",
    "  0. & 0.4 & 0. & 0.6\\\\\n",
    "\\end{bmatrix}$$"
   ]
  },
  {
   "cell_type": "code",
   "execution_count": 212,
   "id": "f66a6d25",
   "metadata": {},
   "outputs": [
    {
     "name": "stdout",
     "output_type": "stream",
     "text": [
      "(a) Stationary distributions [0.38095238 0.19047619 0.19047619 0.23809524]\n",
      "(b) Stationary distributions [0.21052632 0.31578947 0.31578947 0.15789474]\n",
      "(c) Stationary distributions [0.25 0.25 0.25 0.25]\n"
     ]
    }
   ],
   "source": [
    "a = np.array([\n",
    "    [.7, 0, .3, 0],\n",
    "    [.6, 0, .4, 0],\n",
    "    [0, .5, 0, .5],\n",
    "    [0, .4, 0, .6]\n",
    "])\n",
    "v_a = np.linalg.eig(a.T)[1][:,0] / np.sum(np.linalg.eig(a.T)[1][:,0])\n",
    "print(f\"(a) Stationary distributions {v_a}\")\n",
    "b = np.array([\n",
    "    [.7, .3, 0, 0],\n",
    "    [.2, .5, .3, 0],\n",
    "    [.0, .3, .6, .1],\n",
    "    [0, 0, .2, .8],\n",
    "])\n",
    "v_b = np.linalg.eig(b.T)[1][:,2] / np.sum(np.linalg.eig(b.T)[1][:,2])\n",
    "print(f\"(b) Stationary distributions {v_b}\")\n",
    "c = np.array([\n",
    "    [.7, 0, .3, 0],\n",
    "    [.2, .5, .3, 0],\n",
    "    [.1, .2, .4, .3],\n",
    "    [0, .4, 0, .6],\n",
    "])\n",
    "v_c = np.ones(4)/4\n",
    "print(f\"(c) Stationary distributions {v_c}\")"
   ]
  },
  {
   "cell_type": "markdown",
   "id": "8fe3118b",
   "metadata": {},
   "source": [
    "(a) and (b) has eigenvalue $\\lambda=1$ so we can used scaled eigenvector. (c) is doubly stochastic. so $\\pi_i=\\frac{1}{4}$"
   ]
  },
  {
   "cell_type": "markdown",
   "id": "254bf326",
   "metadata": {},
   "source": [
    "**1.12.  \n",
    "$\\ \\ $(a) Find the stationary distribution for the transition probability\n",
    "$$A = \\begin{bmatrix}\n",
    "  0 & 2/3 & 0 & 1/3\\\\\n",
    "  1/3 & 0 & 2/3 & 0\\\\\n",
    "  0 & 1/6 & 0 & 5/6\\\\\n",
    "  2/5 & 0 & 3/5 & 0\\\\\n",
    "\\end{bmatrix}$$\n",
    "and show that it does not satisfy the detailed balance condition (1.11).  \n",
    "$\\ \\ $(b) Consider\n",
    "$$B = \\begin{bmatrix}\n",
    "  0. & 1-a & 0. & a\\\\\n",
    "  1-b & 0. & b & 0.\\\\\n",
    "  0. & 1-c & 0. & c\\\\\n",
    "  d & 0. & 1-d & 0.\\\\\n",
    "\\end{bmatrix}$$\n",
    "and show that there is a stationary distribution satisfying (1.11) if $0 < abcd = (1 − a)(1 − b)(1 − c)(1 − d)$.**"
   ]
  },
  {
   "cell_type": "code",
   "execution_count": 255,
   "id": "76273bf3",
   "metadata": {},
   "outputs": [
    {
     "name": "stdout",
     "output_type": "stream",
     "text": [
      "(a) Stationary distribution: [0.18817204 0.17741936 0.31182796 0.32258064]\n"
     ]
    }
   ],
   "source": [
    "a = np.array([\n",
    "    [0, 2/3, 0, 1/3],\n",
    "    [1/3, 0, 2/3, 0],\n",
    "    [0, 1/6, 0, 5/6],\n",
    "    [2/5, 0, 3/5, 0]\n",
    "])\n",
    "# Using the same trick as 𝜋=(0,0,0,1)𝐴−1\n",
    "v_a = np.array([0.18817204, 0.17741936, 0.31182796, 0.32258064])\n",
    "print(f\"(a) Stationary distribution: {v_a}\")\n",
    "aa = bb = cc = dd = 0.5\n",
    "b = np.array([\n",
    "    [0, aa, 0, 1 - aa],\n",
    "    [1 - bb, 0, bb, 0],\n",
    "    [0, 1 - cc, 0, cc],\n",
    "    [dd, 0, 1  - dd, 0]\n",
    "])"
   ]
  },
  {
   "cell_type": "markdown",
   "id": "08c2cf4d",
   "metadata": {},
   "source": [
    "(a) From the definition, stationary distribution is _detailed balance_ when $\\pi(x)p(x, y)=\\pi(y)p(y, x), \\forall x, y$.   \n",
    "In this case $35\\frac{2}{3}=\\pi(1)p(1,2)\\neq\\pi(2)p(2,1)=33\\frac{1}{3}$   \n",
    "(b) From $B$ we get following relations:  \n",
    "$\\pi_1 + \\pi_3 = \\pi_2 + \\pi_4$  \n",
    "$\\pi_1 + \\pi_2 + \\pi_3 + \\pi_4 = 1$  \n",
    "combining them, we get  \n",
    "$\\pi_1 + \\pi_3=\\frac{1}{2}=\\pi_2 + \\pi_4$\n",
    "\n",
    "To check the definition we need to satisfy those equations:  \n",
    "$\\pi_1 a = \\pi_2 (1-b)$    \n",
    "$\\pi_2 b = \\pi_3 (1-c)$  \n",
    "$\\pi_3 c = \\pi_4 (1-d)$  \n",
    "$\\pi_4 d = \\pi_1 (1-a)$  \n",
    "Combining them all together we get:  \n",
    "$\\pi_1 = \\pi_1\\frac{(1-a)(1-b)(1-c)(1-d)}{abcd}$ which for $\\pi_1 \\neq 0$ is $abcd=(1-a)(1-b)(1-c)(1-d)$  \n",
    "If $\\pi_1=0$, then $(1-b)\\pi_2+d\\pi_4=0$ therefore $(1-b)$ or $d < 0$ or $\\pi_2$ or  $\\pi_4 < 0$, which violets the definition of $\\pi$ or $abcd>0$"
   ]
  },
  {
   "cell_type": "code",
   "execution_count": null,
   "id": "3a587374",
   "metadata": {},
   "outputs": [],
   "source": []
  }
 ],
 "metadata": {
  "kernelspec": {
   "display_name": "Python 3 (ipykernel)",
   "language": "python",
   "name": "python3"
  },
  "language_info": {
   "codemirror_mode": {
    "name": "ipython",
    "version": 3
   },
   "file_extension": ".py",
   "mimetype": "text/x-python",
   "name": "python",
   "nbconvert_exporter": "python",
   "pygments_lexer": "ipython3",
   "version": "3.9.12"
  }
 },
 "nbformat": 4,
 "nbformat_minor": 5
}
