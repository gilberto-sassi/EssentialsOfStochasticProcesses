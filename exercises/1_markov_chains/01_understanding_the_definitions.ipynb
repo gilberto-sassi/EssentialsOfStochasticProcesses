{
 "cells": [
  {
   "cell_type": "markdown",
   "id": "3e871a61",
   "metadata": {},
   "source": [
    "# Understanding the Definitions"
   ]
  },
  {
   "cell_type": "code",
   "execution_count": 1,
   "id": "0cc0288f",
   "metadata": {},
   "outputs": [],
   "source": [
    "import scipy\n",
    "import numpy as np\n",
    "import matplotlib.pyplot as plt"
   ]
  },
  {
   "cell_type": "markdown",
   "id": "77ef0432",
   "metadata": {},
   "source": [
    "**1.1. A fair coin is tossed repeatedly with results $Y_0, Y_1, Y_2, \\dots$ that are 0 or 1 with probability 1/2 each. For $n \\geq 1$ let $X_n = Y_n + Y_{n−1}$ be the number of 1 in the $(n − 1)$th and $n$th tosses. Is $X_n$ a Markov chain?**"
   ]
  },
  {
   "cell_type": "markdown",
   "id": "b22423b1",
   "metadata": {},
   "source": [
    "No. We need to check following Markov memoryless property:   \n",
    "$$P(X_{n+1}=j|X_n=i,X_{n−1}=i_{n−1},\\dots,X_0=i_0) = P(X_{n+1} = j|X_n = i)=p(i,j)$$\n",
    "Which in our case is clear:\n",
    "$$P(X_{n+1}=j|X_n=i,X_{n−1}=i_{n−1},\\dots,X_0=i_0)=P(Y_{n+1}+Y_{n}=j|Y_n+Y_{n-1}=i_n,Y_{n-1}+Y_{n-2}=i_{n-1},\\dots,Y_{1}+Y_{0}=i_0)\\neq P(Y_{n+1}+Y_{n}=j|Y_n+Y_{n-1}=i_n)$$\n",
    "As the $X_n=Y_n+Y_{n-1}$ depends on more than one step, it could be more visible on concrete example:  \n",
    "$\\frac{1}{2}=P(X_3=2|X_2=1,X_1=0,X_0=0) \\neq P(X_3=2|X_2=1,X_1=1,X_0=0)=0$"
   ]
  },
  {
   "cell_type": "markdown",
   "id": "ff3610c4",
   "metadata": {},
   "source": [
    "**1.2. Five white balls and five black balls are distributed in two urns in such a way that each urn contains five balls. At each step we draw one ball from each urn and exchange them. Let $X_n$ be the number of white balls in the left urn at time $n$. Compute the transition probability for $X_n$.**"
   ]
  },
  {
   "cell_type": "markdown",
   "id": "2b720634",
   "metadata": {},
   "source": [
    "$X_n$ can be in 6 states $\\{0, 1, 2, 3, 4, 5\\}$ i.e number of balls. The transitional probability matrix is\n",
    "$$(p_{ij}) = \\begin{bmatrix}\n",
    "0 & 1 & 0 & 0 & 0 & 0 \\\\\n",
    "\\frac{1}{25} & \\frac{8}{25} & \\frac{16}{25} & 0 & 0 & 0 \\\\\n",
    "0 & \\frac{4}{25} & \\frac{12}{25} & \\frac{9}{25} & 0 & 0 \\\\\n",
    "0 & 0 & \\frac{9}{25} & \\frac{12}{25} & \\frac{4}{25} & 0 \\\\\n",
    "0 & 0 & 0 & \\frac{16}{25} & \\frac{8}{25} & \\frac{1}{25} \\\\\n",
    "0 & 0 & 0 & 0 & 1 & 0 \n",
    "\\end{bmatrix}$$"
   ]
  },
  {
   "cell_type": "markdown",
   "id": "5e785dd8",
   "metadata": {},
   "source": [
    "**1.3. We repeated roll two four sided dice with numbers $1, 2, 3,$ and $4$ on them. Let $Y_k$ be the sum on the k-th roll, $S_n = Y_1 +\\dots+Y_n$ be the total of the first n rolls, and $X_n = S_n\\ (mod\\ 6)$. Find the transition probability for $X_n$.**"
   ]
  },
  {
   "cell_type": "markdown",
   "id": "9a9ef336",
   "metadata": {},
   "source": [
    "$S_n$ can be in 6 states $\\{0, 1, 2, 3, 4, 5\\}$ i.e $(mod\\ 6)$. Helpful step is to figure out which dice outcome lead to each reminder:\n",
    "- $0\\ (mod\\ 6)$: |{(3,3), (4,2), (2,4)}| = 3 \n",
    "- $1\\ (mod\\ 6)$: |{(4,3), (3,4)}| = 2\n",
    "- $2\\ (mod\\ 6)$: |{(1,1), (4,4)}| = 2\n",
    "- $3\\ (mod\\ 6)$: |{(1,2),(2,1)}| = 2  \n",
    "- $4\\ (mod\\ 6)$: |{(2,2), (1,3), (3,1)}| = 3\n",
    "- $5\\ (mod\\ 6)$: |{(1,4), (4,1), (2, 3), (3,2)}| = 4 \n",
    "\n",
    "The transitional probability matrix is\n",
    "$$(p_{ij}) = \\frac{1}{16}\\begin{bmatrix}\n",
    "3 & 2 & 2 & 2 & 3 & 4 \\\\\n",
    "4 & 3 & 2 & 2 & 2 & 3 \\\\\n",
    "3 & 4 & 3 & 2 & 2 & 2 \\\\\n",
    "2 & 3 & 4 & 3 & 2 & 2 \\\\\n",
    "2 & 2 & 3 & 4 & 3 & 2 \\\\\n",
    "2 & 2 & 2 & 3 & 4 & 3 \n",
    "\\end{bmatrix}$$"
   ]
  },
  {
   "cell_type": "markdown",
   "id": "1c6e4dbc",
   "metadata": {},
   "source": [
    "**1.4. The 1990 census showed that 36% of the households in the District of Columbia were homeowners while the remainder were renters. During the next decade 6% of the homeowners became renters and 12% of the renters became homeowners. What percentage were homeowners in 2000? in 2010?**"
   ]
  },
  {
   "cell_type": "code",
   "execution_count": 12,
   "id": "14c02def",
   "metadata": {},
   "outputs": [
    {
     "name": "stdout",
     "output_type": "stream",
     "text": [
      "Homeowners in 2000s: 0.4152\n",
      "Homeowners in 2010s: 0.4605\n"
     ]
    }
   ],
   "source": [
    "init_state = np.array([.36, .64])\n",
    "p_matrix = np.array([\n",
    "    [.94, .06],\n",
    "    [.12, .88]\n",
    "])\n",
    "\n",
    "print(fr\"Homeowners in 2000s: {np.round(np.dot(init_state, p_matrix)[0], 4)}\")\n",
    "print(fr\"Homeowners in 2010s: {np.round(np.dot(init_state, np.dot(p_matrix, p_matrix))[0], 4)}\")"
   ]
  },
  {
   "cell_type": "markdown",
   "id": "f40cc4fd",
   "metadata": {},
   "source": [
    "**1.5. Consider a gambler’s ruin chain with $N = 4$. That is, if $1 \\leq i \\leq 3$, $p(i, i + 1) = 0.4$, and $p(i, i − 1) = 0.6$, but the endpoints are absorbing states: $p(0, 0) = 1$ and $p(4, 4) = 1$ Compute $p^3(1, 4)$ and $p^3(1, 0)$.**"
   ]
  },
  {
   "cell_type": "code",
   "execution_count": 30,
   "id": "5a242136",
   "metadata": {},
   "outputs": [
    {
     "name": "stdout",
     "output_type": "stream",
     "text": [
      "p^3(1,4)=0.064\n",
      "p^3(1,0)=0.744\n"
     ]
    }
   ],
   "source": [
    "p_matrix = np.array([\n",
    "    [1, 0, 0, 0, 0],\n",
    "    [.6, 0, .4, 0, 0],\n",
    "    [0, .6, 0, .4, 0],\n",
    "    [0, 0, .6, 0, .4],\n",
    "    [0, 0, 0, 0, 1]\n",
    "])\n",
    "\n",
    "print(fr\"p^3(1,4)={np.round(np.linalg.matrix_power(p_matrix, 3)[1, 4], 4)}\")\n",
    "print(fr\"p^3(1,0)={np.round(np.linalg.matrix_power(p_matrix, 3)[1, 0], 4)}\")"
   ]
  }
 ],
 "metadata": {
  "kernelspec": {
   "display_name": "Python 3 (ipykernel)",
   "language": "python",
   "name": "python3"
  },
  "language_info": {
   "codemirror_mode": {
    "name": "ipython",
    "version": 3
   },
   "file_extension": ".py",
   "mimetype": "text/x-python",
   "name": "python",
   "nbconvert_exporter": "python",
   "pygments_lexer": "ipython3",
   "version": "3.9.12"
  }
 },
 "nbformat": 4,
 "nbformat_minor": 5
}
