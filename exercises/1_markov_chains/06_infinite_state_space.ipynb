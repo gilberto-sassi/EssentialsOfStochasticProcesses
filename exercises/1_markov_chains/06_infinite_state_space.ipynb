{
 "cells": [
  {
   "cell_type": "markdown",
   "id": "e478aa8a",
   "metadata": {},
   "source": [
    "# Infinite State Space"
   ]
  },
  {
   "cell_type": "markdown",
   "id": "451b4a73",
   "metadata": {},
   "source": [
    "**1.70. General birth and death chains. The state space is {0, 1, 2, . . .} and the\n",
    "transition probability has**  \n",
    "$$p(x, x + 1) = p_x$$\n",
    "$$p(x, x − 1) = q_x\\ for\\ x > 0$$\n",
    "$$p(x, x) = r_x\\ for\\ x ≥ 0$$\n",
    "**while the other $p(x,y)=0$. Let $V_y=min\\{n\\leq0:X_n=y\\}$ be the time of the first visit to $y$ and let $h_N(x) = P_x(V_N < V_0)$. By considering what happens on the first step, we can write**\n",
    "$$h_N (x) = p_xh_N(x + 1) + r_xh_N(x) + q_xh_N(x − 1)$$\n",
    "**Set $h_N(1)=c_N$ and solve this equation to conclude that 0 is recurrent if and\n",
    "only if** \n",
    "$$\\sum_{y=1}^\\infty\\Pi^{y-1}_{x=1} \\frac{q_x}{p_x}=\\infty$$\n",
    "**where by convention $\\Pi^0_{x=1}=1$.**"
   ]
  },
  {
   "cell_type": "markdown",
   "id": "172809c6",
   "metadata": {},
   "source": [
    "$$h_N(x+1)-h_N(x)=\\frac{q_x}{p_x}\\bigg(h(x) - h(x-1)\\bigg)$$\n",
    "As $h_N(0)=0$ and $h_N(1)=c_N$, then $h_N(y)-h_N(y-1)=\\Pi^{y-1}_{x=1}\\frac{q_x}{p_x}$, $h_N(z)=\\sum^{z}_{y=1}\\Pi^{y-1}_{x=1}\\frac{q_x}{p_x}$ as $h_N(1)=c_N$, therefore, $c_N=\\frac{1}{\\sum^{N}_{y=1}\\Pi^{y-1}_{x=1}\\frac{q_x}{p_x}}$\n",
    "\n",
    "In order 0 to be recurrent i.e. $h_N(1)=P_1(V_N<V_0)\\rightarrow 0$ as $N \\rightarrow \\infty$ and $h_N(1)=c_N\\rightarrow 0$\n"
   ]
  },
  {
   "cell_type": "markdown",
   "id": "01968f41",
   "metadata": {},
   "source": [
    "**1.71. To see what the conditions in the last problem say we will now consider some concrete examples. Let $p_x = 1/2$, $q_x = \\frac{e^{cx^{-\\alpha}}}{2}$, $r_x = 1/2 − q_x$ for $x \\geq 1$ and $p_0 = 1$. For large $x$, $q_x \\approx (1 − cx^{−\\alpha})/2$, but the exponential formulation keeps the probabilities nonnegative and makes the problem easier to solve. Show that the chain is recurrent if $\\alpha>1$ or if $\\alpha=1$ and $c\\leq1$ but is transient otherwise.**"
   ]
  },
  {
   "cell_type": "markdown",
   "id": "0911a4c3",
   "metadata": {},
   "source": [
    "$$\\frac{q_x}{p_x}=\\frac{2}{1}\\frac{e^{cx^{-\\alpha}}}{2}=e^{cx^{-\\alpha}},\\ then\\ \\Pi^{y=1}_{x=1}\\frac{q_x}{p_x}=e^{-c\\sum^{y-1}_{x=1}x^{-\\alpha}}$$\n",
    "if $\\alpha > 1$, then the sum of: $$\\sum_{y=1}^\\infty\\Pi^{y-1}_{x=1} \\frac{q_x}{p_x}=\\infty$$ and chain is recurrent.  \n",
    "If $\\alpha=1$ and $c\\leq1$:\n",
    "$$c\\ log(y)  \\leq c\\sum^{y-1}_{x=1}x^{-1} \\leq c(1+log(y))$$\n",
    "$$\\sum_{y=1} exp(c\\ log(y))  \\leq \\sum_{y=1} exp(c\\sum^{y-1}_{x=1}x^{-1}) \\leq \\sum_{y=1} exp(c(1+log(y)))$$\n",
    "\n",
    "For $\\alpha < 1$\n",
    "$$\\sum^{y-1}_{x=1}x^{-\\alpha}\\geq (1-\\alpha)^{-1}y^{1-\\alpha}$$\n",
    "which means\n",
    "$$\\sum_{y=1}^\\infty\\Pi^{y-1}_{x=1} \\frac{q_x}{p_x}=e^{-c\\sum^{y-1}_{x=1}x^{-\\alpha}}<\\infty$$"
   ]
  },
  {
   "cell_type": "markdown",
   "id": "7bbdd3b0",
   "metadata": {},
   "source": [
    "**1.72. Consider the Markov chain with state space {0,1,2,...} and transition probability\n",
    "$$p(m,m+1)=\\frac{1}{2}\\bigg(1-\\frac{1}{m+2}\\bigg)\\ for\\ m\\geq 0$$\n",
    "$$p(m,m-1)=\\frac{1}{2}\\bigg(1+\\frac{1}{m+2}\\bigg)\\ for\\ m\\geq 1$$\n",
    "and $p(0,0)=1−p(0, 1)= 3/4$. Find the stationary distribution $\\pi$.**"
   ]
  },
  {
   "cell_type": "markdown",
   "id": "91368254",
   "metadata": {},
   "source": [
    "From detailed balanced condition: \n",
    "$$\\pi(m+1)=\\frac{(m+1)(m+3)}{(m+2)(m+4)}\\pi => \\pi(m) = \\frac{c}{(m+1)(m+3)}$$  \n",
    "$$\\sum_{m=0}^{\\infty}\\frac{1}{(m+1)(m+3)} = \\frac{1}{2}\\sum_{m=0}^{\\infty}\\frac{1}{m+1}-\\frac{1}{m+3}$$\n",
    "$$\\frac{1}{1}-\\frac{1}{3}+\\frac{1}{2}-\\frac{1}{4}+\\frac{1}{3}+\\frac{1}{5}\\dots=1+\\frac{1}{2}$$ \n",
    "therefore $c=\\frac{4}{3}$"
   ]
  },
  {
   "cell_type": "markdown",
   "id": "5583a7b8",
   "metadata": {},
   "source": [
    "**1.73. Consider the Markov chain with state space {1,2,...} and transition\n",
    "  probability:**\n",
    "$$p(m, m + 1) = m/(2m + 2)\\ for\\ m \\geq 1$$ \n",
    "$$p(m, m − 1) = 1/2 \\ for\\ m \\geq 2$$\n",
    "$$p(m, m) = 1/(2m + 2)\\ for\\ m \\geq 2$$\n",
    "**and $p(1, 1)=1−p(1, 2)=3/4$. Show that there is no stationary distribution.**\n"
   ]
  },
  {
   "cell_type": "markdown",
   "id": "005fad05",
   "metadata": {},
   "source": [
    "Similarly ☝️ _detailed balanced condition_ says:\n",
    "$$\\pi(m+1)=2\\frac{1}{2(m+1)}\\pi(m)$$\n",
    "and $\\pi(m)=\\frac{c}{m+1}$ as $\\sum^\\infty_{m=0}\\frac{1}{m+1}=\\infty$ it means there is no finite stationary distribution possible."
   ]
  },
  {
   "cell_type": "markdown",
   "id": "df53b00b",
   "metadata": {},
   "source": [
    "**1.74. Consider the aging chain on {0,1,2,...} in which for any $n \\geq 0$ the individual gets one day older from n to $n + 1$ with probability $p_n$ but dies and returns to age $0$ with probability $1 − pn$. Find conditions that guarantee that (a) 0 is recurrent, (b) positive recurrent. (c) Find the stationary distribution.**"
   ]
  },
  {
   "cell_type": "markdown",
   "id": "5e70d04d",
   "metadata": {},
   "source": [
    "(a) 0 is recurrent iff $P_1(V_n<V_0)\\rightarrow 0$. Probability of an individual never reaching back 0 is $P_1(V_n<V_0)=\\Pi_{i=0}^{\\infty}p_i\\not\\to 0$ iff   $lim_{n\\rightarrow \\infty}p_i \\neq 0$  \n",
    "(b) $E_0T_0 =\\sum_{i=0}^{n}\\Pi^{i}_{j=0}p_j < \\infty$   \n",
    "(c) $\\pi(i) = \\frac{p_0p1\\dots p_{i-1}}{E_0T_0}$"
   ]
  },
  {
   "cell_type": "markdown",
   "id": "892fe64c",
   "metadata": {},
   "source": [
    "**1.75. The opposite of the aging chain is the renewal chain with state space {0,1,2,...} in which $p(i,i−1) = 1$ when $i > 0$. The only nontrivial part of the transition probability is $p(0,i) = p_i$. Show that this chain is always recurrent but is positive recurrent if and only if $\\sum_n np_n < \\infty$.**"
   ]
  },
  {
   "cell_type": "markdown",
   "id": "d2581ac3",
   "metadata": {},
   "source": [
    "If $E_0T_0 < \\infty$ then the 0 is positive recurrent. If it jumps to $n$ state, it takes $(n+1)$ steps to jump back to 0, so if $E_0T_0\\sum_{n}(i)(n+1)p_n < \\infty$ it is positive recurrent iff $\\sum_n np_n < \\infty$."
   ]
  },
  {
   "cell_type": "markdown",
   "id": "3763c793",
   "metadata": {},
   "source": [
    "**1.76. Consider a branching process as defined in Example 1.55, in which each family has exactly three children, but invert Galton and Watson’s original motivation and ignore male children. In this model a mother will have an average of 1.5 daughters. Compute the probability that a given woman’s descendents will die out.**"
   ]
  },
  {
   "cell_type": "markdown",
   "id": "59a1c1ad",
   "metadata": {},
   "source": [
    "Probability of dying out if $\\rho = \\sum^{\\infty}_{l=0}p_k\\rho^k$ and the generating function is $\\phi(x) = \\sum^{\\infty}_{l=0}p_k x^k$. For this process it is:  \n",
    "$\\phi(x) = \\frac{1}{2^3}(1+3x+3x^2+x^3)$, which have fixed point i.e. $8x = 1+3x+3x^2+x^3$ <=> $\\frac{1}{2^3}(1-5x+3x^2+x^3)$, however 1 is always a root, we can divide it by $(x-1)$ so $\\frac{x^2+4x−1}{8}$ has the smallest root: \n",
    "$\\sqrt(5)-2\\approx0.2361$"
   ]
  },
  {
   "cell_type": "markdown",
   "id": "7b2809fe",
   "metadata": {},
   "source": [
    "**1.77. Consider a branching process as defined in Example 1.55, in which each family has a number of children that follows a shifted geometric distribution: $p_k = p(1 − p)^k$ for $k \\geq 0$, which counts the number of failures before the first success when success has probability $p$. Compute the probability that starting from one individual the chain will be absorbed at $0$.**"
   ]
  },
  {
   "cell_type": "markdown",
   "id": "2d41bcd9",
   "metadata": {},
   "source": [
    "If $p \\geq \\frac{1}{2}$ then it has certain extinction. Otherwise, we consider generating function:\n",
    "$$\\Phi(x)=\\sum_{k=1}^\\infty p(1-p)^k x^k=\\frac{p}{(1-p)x}=x$$\n",
    "$$x-(1-p)x^2-p=0$$\n",
    "However, it has root 1 we can divide the polynomial with $(x-1)$ and we get:\n",
    "$$(x-1)\\big((1-p)x - p\\big)=0$$\n",
    "Therefore, the smallest root is $x=\\frac{p}{1-p}$ which is the extinction probability."
   ]
  }
 ],
 "metadata": {
  "kernelspec": {
   "display_name": "Python 3 (ipykernel)",
   "language": "python",
   "name": "python3"
  },
  "language_info": {
   "codemirror_mode": {
    "name": "ipython",
    "version": 3
   },
   "file_extension": ".py",
   "mimetype": "text/x-python",
   "name": "python",
   "nbconvert_exporter": "python",
   "pygments_lexer": "ipython3",
   "version": "3.9.12"
  }
 },
 "nbformat": 4,
 "nbformat_minor": 5
}
