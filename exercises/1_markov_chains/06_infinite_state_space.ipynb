{
 "cells": [
  {
   "cell_type": "markdown",
   "id": "05742af4",
   "metadata": {},
   "source": [
    "# Infinite State Space"
   ]
  },
  {
   "cell_type": "markdown",
   "id": "664e14a6",
   "metadata": {},
   "source": [
    "**1.70. General birth and death chains. The state space is {0, 1, 2, . . .} and the\n",
    "transition probability has**  \n",
    "$$p(x, x + 1) = p_x$$\n",
    "$$p(x, x − 1) = q_x\\ for\\ x > 0$$\n",
    "$$p(x, x) = r_x\\ for\\ x ≥ 0$$\n",
    "**while the other $p(x,y)=0$. Let $V_y=min\\{n\\leq0:X_n=y\\}$ be the time of the first visit to $y$ and let $h_N(x) = P_x(V_N < V_0)$. By considering what happens on the first step, we can write**\n",
    "$$h_N (x) = p_xh_N(x + 1) + r_xh_N(x) + q_xh_N(x − 1)$$\n",
    "**Set $h_N(1)=c_N$ and solve this equation to conclude that 0 is recurrent if and\n",
    "only if** \n",
    "$$\\sum_{y=1}^\\infty\\Pi^{y-1}_{x=1} \\frac{q_x}{p_x}=\\infty$$\n",
    "**where by convention $\\Pi^0_{x=1}=1$.**"
   ]
  },
  {
   "cell_type": "markdown",
   "id": "878586e4",
   "metadata": {},
   "source": [
    "$$h_N(x+1)-h_N(x)=\\frac{q_x}{p_x}\\bigg(h(x) - h(x-1)\\bigg)$$\n",
    "As $h_N(0)=0$ and $h_N(1)=c_N$, then $h_N(y)-h_N(y-1)=\\Pi^{y-1}_{x=1}\\frac{q_x}{p_x}$, $h_N(z)=\\sum^{z}_{y=1}\\Pi^{y-1}_{x=1}\\frac{q_x}{p_x}$ as $h_N(1)=c_N$, therefore, $c_N=\\frac{1}{\\sum^{N}_{y=1}\\Pi^{y-1}_{x=1}\\frac{q_x}{p_x}}$\n",
    "\n",
    "In order 0 to be recurrent i.e. $h_N(1)=P_1(V_N<V_0)\\rightarrow 0$ as $N \\rightarrow \\infty$ and $h_N(1)=c_N\\rightarrow 0$\n"
   ]
  },
  {
   "cell_type": "code",
   "execution_count": null,
   "id": "ae276b38",
   "metadata": {},
   "outputs": [],
   "source": []
  }
 ],
 "metadata": {
  "kernelspec": {
   "display_name": "Python 3 (ipykernel)",
   "language": "python",
   "name": "python3"
  },
  "language_info": {
   "codemirror_mode": {
    "name": "ipython",
    "version": 3
   },
   "file_extension": ".py",
   "mimetype": "text/x-python",
   "name": "python",
   "nbconvert_exporter": "python",
   "pygments_lexer": "ipython3",
   "version": "3.9.12"
  }
 },
 "nbformat": 4,
 "nbformat_minor": 5
}
