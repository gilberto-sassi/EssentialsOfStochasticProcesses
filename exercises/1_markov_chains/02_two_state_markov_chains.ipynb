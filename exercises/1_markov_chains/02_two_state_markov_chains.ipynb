{
 "cells": [
  {
   "cell_type": "markdown",
   "id": "6d4293d3",
   "metadata": {},
   "source": [
    "# Two state Markov chains"
   ]
  },
  {
   "cell_type": "code",
   "execution_count": 1,
   "id": "b2973769",
   "metadata": {},
   "outputs": [],
   "source": [
    "import numpy as np"
   ]
  },
  {
   "cell_type": "markdown",
   "id": "4dd2f4f0",
   "metadata": {},
   "source": [
    "**1.17. Market research suggests that in a five year period 8% of people with cable television will get rid of it, and 26% of those without it will sign up for it. Compare the predictions of the Markov chain model with the following data on the fraction of people with cable TV: 56.4% in 1990, 63.4% in 1995, and 68.0% in 2000. What is the long run fraction of people with cable TV?**"
   ]
  },
  {
   "cell_type": "code",
   "execution_count": 2,
   "id": "a42d2dc4",
   "metadata": {},
   "outputs": [
    {
     "name": "stdout",
     "output_type": "stream",
     "text": [
      "Markov chain model for 1995s: 63.22%\n",
      "Markov chain model for 2000s: 67.73%\n"
     ]
    }
   ],
   "source": [
    "tv = np.array([\n",
    "    [.92, .08],\n",
    "    [.26, .74],\n",
    "])\n",
    "init_state = np.array([.564, 1 - .564])\n",
    "print(f\"Markov chain model for 1995s: {np.round(np.dot(init_state, tv)[0], 4) * 100}%\")\n",
    "print(f\"Markov chain model for 2000s: {np.round(np.dot(init_state, np.linalg.matrix_power(tv, 2))[0], 4) * 100}%\")"
   ]
  },
  {
   "cell_type": "markdown",
   "id": "31c8b244",
   "metadata": {},
   "source": [
    "**1.18. A sociology professor postulates that in each decade 8% of women in the work force leave it and 20% of the women not in it begin to work. Compare the predictions of his model with the following data on the percentage of women working: 43.3% in 1970, 51.5% in 1980, 57.5% in 1990, and 59.8% in 2000. In the long run what fraction of women will be working?**"
   ]
  },
  {
   "cell_type": "code",
   "execution_count": 3,
   "id": "c6d2b30b",
   "metadata": {},
   "outputs": [
    {
     "name": "stdout",
     "output_type": "stream",
     "text": [
      "Markov chain model for 1980s: 50.96%\n",
      "Markov chain model for 1990s: 56.69%\n",
      "Markov chain model for 2000s: 60.82%\n",
      "In long run it will be: 71.4%\n"
     ]
    }
   ],
   "source": [
    "woman_workforce = np.array([\n",
    "    [.92, .08],\n",
    "    [.2, .8]\n",
    "])\n",
    "init_state = np.array([.43, 1 - .43])\n",
    "print(\n",
    "    f\"Markov chain model for 1980s: \"\n",
    "    f\"{np.round(np.dot(init_state, woman_workforce)[0] * 100, 2)}%\"\n",
    ")\n",
    "print(\n",
    "    f\"Markov chain model for 1990s: \"\n",
    "    f\"{np.round(np.dot(init_state, np.linalg.matrix_power(woman_workforce, 2))[0] * 100, 2)}%\"\n",
    ")\n",
    "print(\n",
    "    f\"Markov chain model for 2000s: \"\n",
    "    f\"{np.round(np.dot(init_state, np.linalg.matrix_power(woman_workforce, 3))[0] * 100, 2)}%\"\n",
    ")\n",
    "\n",
    "pi = np.array([.2, .08]) / (.2 + .08)\n",
    "print(f\"In long run it will be: {np.round(pi[0] * 100, 1)}%\")"
   ]
  },
  {
   "cell_type": "markdown",
   "id": "06c39cc6",
   "metadata": {},
   "source": [
    "**1.19. A rapid transit system has just started operating. In the first month of operation, it was found that 25% of commuters are using the system while 75% are traveling by automobile. Suppose that each month 10% of transit users go back to using their cars, while 30% of automobile users switch to the transit system. (a) Compute the three step transition probability $p^3$. (b) What will be the fractions using rapid transit in the fourth month? (c) In the long run?**"
   ]
  },
  {
   "cell_type": "code",
   "execution_count": 4,
   "id": "9fdb8857",
   "metadata": {},
   "outputs": [
    {
     "name": "stdout",
     "output_type": "stream",
     "text": [
      "(a) p^3: \n",
      "[[0.804 0.196]\n",
      " [0.588 0.412]]\n",
      "\n",
      "(b) Fractions using rapid transit in the fourth month: 64.2%\n",
      "\n",
      "(c) In long run: 75.0%\n"
     ]
    }
   ],
   "source": [
    "transit_system = np.array([\n",
    "    [.9, .1], \n",
    "    [.3, .7]\n",
    "])\n",
    "init_state = np.array([.25, .75])\n",
    "pi = np.array([.3, .1]) / (.3 + .1)\n",
    "print(f\"(a) p^3: \\n{np.linalg.matrix_power(transit_system, 3)}\\n\")\n",
    "print(\n",
    "    f\"(b) Fractions using rapid transit in the fourth month: \"\n",
    "    f\"{np.round(np.dot(init_state, np.linalg.matrix_power(transit_system, 3))[0] * 100, 2)}%\\n\"\n",
    ")\n",
    "print(f\"(c) In long run: {np.round(pi[0] * 100, 2)}%\")"
   ]
  },
  {
   "cell_type": "markdown",
   "id": "d77fb60f",
   "metadata": {},
   "source": [
    "**1.20. A regional health study indicates that from one year to the next, 75% percent of smokers will continue to smoke while 25% will quit. 8% of those who stopped smoking will resume smoking while 92% will not. If 70% of the population were smokers in 1995, what fraction will be smokers in 1998? in 2005? in the long run?**"
   ]
  },
  {
   "cell_type": "code",
   "execution_count": 5,
   "id": "36df9448",
   "metadata": {},
   "outputs": [
    {
     "name": "stdout",
     "output_type": "stream",
     "text": [
      "Smokers in 1998: 38.0%\n",
      "Smokers in 2005: 25.08%\n",
      "Smokers in long run: 24.24%\n"
     ]
    }
   ],
   "source": [
    "smokers = np.array([\n",
    "    [.75, .25],\n",
    "    [.08, .92]\n",
    "])\n",
    "init_state = np.array([.7, .3])\n",
    "pi = np.array([.08, .25]) / (.25 + .08)\n",
    "\n",
    "print(\n",
    "    f\"Smokers in 1998: \"\n",
    "    f\"{np.round(np.dot(init_state, np.linalg.matrix_power(smokers, 3))[0] * 100, 2)}%\"\n",
    ")\n",
    "print(\n",
    "    f\"Smokers in 2005: \"\n",
    "    f\"{np.round(np.dot(init_state, np.linalg.matrix_power(smokers, 10))[0] * 100, 2)}%\"\n",
    ")\n",
    "print(f\"Smokers in long run: {np.round(pi[0] * 100, 2)}%\")"
   ]
  },
  {
   "cell_type": "markdown",
   "id": "ece269f0",
   "metadata": {},
   "source": [
    "**1.21. Three of every four trucks on the road are followed by a car, while only one of every five cars is followed by a truck. What fraction of vehicles on the road are trucks?**"
   ]
  },
  {
   "cell_type": "code",
   "execution_count": 6,
   "id": "4373fbc1",
   "metadata": {},
   "outputs": [
    {
     "name": "stdout",
     "output_type": "stream",
     "text": [
      "Fraction of trucks: 0.21\n"
     ]
    }
   ],
   "source": [
    "trucks = np.array([\n",
    "    [1/4, 3/4],\n",
    "    [4/5, 1/5]\n",
    "])\n",
    "print(f\"Fraction of trucks: {np.round((1/5) / (1/5 + 3/4), 2)}\")"
   ]
  },
  {
   "cell_type": "markdown",
   "id": "527802d5",
   "metadata": {},
   "source": [
    "**1.22. In a test paper the questions are arranged so that 3/4’s of the time a True answer is followed by a True, while 2/3’s of the time a False answer is followed by a False. You are confronted with a 100 question test paper. Approximately what fraction of the answers will be True.**"
   ]
  },
  {
   "cell_type": "code",
   "execution_count": 7,
   "id": "3fc3be08",
   "metadata": {},
   "outputs": [
    {
     "name": "stdout",
     "output_type": "stream",
     "text": [
      "Fraction of True's 0.57\n"
     ]
    }
   ],
   "source": [
    "print(f\"Fraction of True's {np.round((1/3)/(1/4 + 1/3), 2)}\")"
   ]
  },
  {
   "cell_type": "markdown",
   "id": "272dd15c",
   "metadata": {},
   "source": [
    "**1.23. In unprofitable times corporations sometimes suspend dividend payments. Suppose that after a dividend has been paid the next one will be paid with probability 0.9, while after a dividend is suspended the next one will be suspended with probability 0.6. In the long run what is the fraction of dividends that will be paid?**"
   ]
  },
  {
   "cell_type": "code",
   "execution_count": 8,
   "id": "d8f2fdd6",
   "metadata": {},
   "outputs": [
    {
     "name": "stdout",
     "output_type": "stream",
     "text": [
      "Long term fraction of dividends: 0.8\n"
     ]
    }
   ],
   "source": [
    "print(f\"Long term fraction of dividends: {np.round((.4)/(.4+.1), 2)}\")"
   ]
  },
  {
   "cell_type": "markdown",
   "id": "08764b2d",
   "metadata": {},
   "source": [
    "**1.24. Census results reveal that in the United States 80% of the daughters of working women work and that 30% of the daughters of nonworking women work. (a) Write the transition probability for this model. (b) In the long run what fraction of women will be working?**"
   ]
  },
  {
   "cell_type": "code",
   "execution_count": 9,
   "id": "3360311b",
   "metadata": {},
   "outputs": [
    {
     "name": "stdout",
     "output_type": "stream",
     "text": [
      "(a) transition probability: \n",
      " [[0.8 0.2]\n",
      " [0.3 0.7]]\n",
      "\n",
      "(b) in long term 0.6\n"
     ]
    }
   ],
   "source": [
    "daughters = np.array([\n",
    "    [.8, .2],\n",
    "    [.3, .7]\n",
    "])\n",
    "print(f\"(a) transition probability: \\n {daughters}\\n\")\n",
    "print(f\"(b) in long term {np.round((.3) / (.5), 2)}\")"
   ]
  },
  {
   "cell_type": "markdown",
   "id": "a79d465d",
   "metadata": {},
   "source": [
    "**1.25. When a basketball player makes a shot then he tries a harder shot the next time and hits (H) with probability 0.4, misses (M) with probability 0.6. When he misses he is more conservative the next time and hits (H) with proba bility 0.7, misses (M) with probability 0.3. (a) Write the transition probability for the two state Markov chain with state space {H,M}. (b) Find the long-run fraction of time he hits a shot.**"
   ]
  },
  {
   "cell_type": "code",
   "execution_count": 10,
   "id": "6be38c2d",
   "metadata": {},
   "outputs": [
    {
     "name": "stdout",
     "output_type": "stream",
     "text": [
      "(a) transition probability: \n",
      " [[0.4 0.6]\n",
      " [0.7 0.3]]\n",
      "\n",
      "(b) in long term 0.54\n"
     ]
    }
   ],
   "source": [
    "basketball = np.array([\n",
    "    [.4, .6], \n",
    "    [.7, .3]\n",
    "])\n",
    "print(f\"(a) transition probability: \\n {basketball}\\n\")\n",
    "print(f\"(b) in long term {np.round((.7) / (.6 + .7), 2)}\")"
   ]
  },
  {
   "cell_type": "markdown",
   "id": "edf7928e",
   "metadata": {},
   "source": [
    "**1.26. Folk wisdom holds that in Ithaca in the summer it rains 1/3 of the time, but a rainy day is followed by a second one with probability 1/2. Suppose that Ithaca weather is a Markov chain. What is its transition probability?**"
   ]
  },
  {
   "cell_type": "markdown",
   "id": "2a44e259",
   "metadata": {},
   "source": [
    "We know that $p(r, r)=p(r,s) = \\frac{1}{2}$, from detailed balanced condition $\\frac{1}{3}p(r,s)=\\frac{2}{3}p(s,r)$ which implies $\\frac{1}{4}=p(s,r)$"
   ]
  },
  {
   "cell_type": "code",
   "execution_count": 11,
   "id": "f50c014c",
   "metadata": {},
   "outputs": [
    {
     "name": "stdout",
     "output_type": "stream",
     "text": [
      "Transition probability: \n",
      " [[0.75 0.25]\n",
      " [0.5  0.5 ]]\n",
      "\n"
     ]
    }
   ],
   "source": [
    "ithaca = np.array([\n",
    "    [3/4, 1/4],\n",
    "    [1/2, 1/2]\n",
    "])\n",
    "print(f\"Transition probability: \\n {ithaca}\\n\")"
   ]
  }
 ],
 "metadata": {
  "kernelspec": {
   "display_name": "Python 3 (ipykernel)",
   "language": "python",
   "name": "python3"
  },
  "language_info": {
   "codemirror_mode": {
    "name": "ipython",
    "version": 3
   },
   "file_extension": ".py",
   "mimetype": "text/x-python",
   "name": "python",
   "nbconvert_exporter": "python",
   "pygments_lexer": "ipython3",
   "version": "3.9.12"
  }
 },
 "nbformat": 4,
 "nbformat_minor": 5
}
