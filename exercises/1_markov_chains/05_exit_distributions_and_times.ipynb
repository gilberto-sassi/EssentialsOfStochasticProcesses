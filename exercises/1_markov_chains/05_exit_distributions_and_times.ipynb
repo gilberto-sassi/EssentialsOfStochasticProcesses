{
 "cells": [
  {
   "cell_type": "markdown",
   "id": "c1f5f9da",
   "metadata": {},
   "source": [
    "# Exit distributions and times"
   ]
  },
  {
   "cell_type": "code",
   "execution_count": 2,
   "id": "c0650323",
   "metadata": {},
   "outputs": [],
   "source": [
    "import os\n",
    "import sys\n",
    "import numpy as np\n",
    "\n",
    "module_path = os.path.abspath(os.path.join(\"..\"))\n",
    "if module_path not in sys.path:\n",
    "    sys.path.append(\"../libs\")\n",
    "    \n",
    "from libs.stationary_distribution import get_stationary_distribution, check_detailed_balance_condition"
   ]
  },
  {
   "cell_type": "markdown",
   "id": "ac5e1f35",
   "metadata": {},
   "source": [
    "**1.55. The Markov chain associated with a manufacturing process may be described as follows: A part to be manufactured will begin the process by entering step 1. After step 1, 20% of the parts must be reworked, i.e., returned to step 1, 10% of the parts are thrown away, and 70% proceed to step 2. After step 2, 5% of the parts must be returned to the step 1, 10% to step 2, 5% are scrapped, and 80% emerge to be sold for a profit. (a) Formulate a four-state Markov chain with states 1, 2, 3, and 4 where 3 = a part that was scrapped and 4 = a part that was sold for a profit. (b) Compute the probability a part is scrapped in the production process.**"
   ]
  },
  {
   "cell_type": "code",
   "execution_count": 7,
   "id": "ce98cb8a",
   "metadata": {},
   "outputs": [
    {
     "name": "stdout",
     "output_type": "stream",
     "text": [
      "(a) Transition matrix: \n",
      " [[0.2  0.7  0.1  0.  ]\n",
      " [0.05 0.1  0.05 0.8 ]\n",
      " [0.   0.   1.   0.  ]\n",
      " [0.   0.   0.   1.  ]] \n",
      "\n"
     ]
    }
   ],
   "source": [
    "manufacturing_process = np.array([\n",
    "    [.2, .7, .1, 0],\n",
    "    [.05, .1, .05, .8],\n",
    "    [0, 0, 1, 0],\n",
    "    [0, 0, 0, 1]\n",
    "])\n",
    "print(f\"(a) Transition matrix: \\n {manufacturing_process} \\n\")"
   ]
  },
  {
   "cell_type": "markdown",
   "id": "ed546cd5",
   "metadata": {},
   "source": [
    "(b) Let $h(x) = P_x(V_3 < V_4)$, therefore, $h(3)=1$ and $h(4)=0$  \n",
    "$h(1) = 0.2 h(1) + 0.7 h(2) + 0.1$  \n",
    "$h(2) = 0.05 h(1) + 0.1 h(2) + 0.05$  "
   ]
  },
  {
   "cell_type": "code",
   "execution_count": 18,
   "id": "abbee0df",
   "metadata": {},
   "outputs": [
    {
     "name": "stdout",
     "output_type": "stream",
     "text": [
      "h(1)=0.1825, h(2)=0.0657\n"
     ]
    }
   ],
   "source": [
    "a = np.array([\n",
    "    [-.8, .05],\n",
    "    [.7, -.9], \n",
    "])\n",
    "h = np.round(np.dot(np.array([-.1, -.05]), np.linalg.inv(a)), 4)\n",
    "print(f\"h(1)={h[0]}, h(2)={h[1]}\")"
   ]
  },
  {
   "cell_type": "markdown",
   "id": "05bd3966",
   "metadata": {},
   "source": [
    "**1.56. A bank classifies loans as paid in full (F), in good standing (G), in arrears (A), or as a bad debt (B). Loans move between the categories according to the following transition probability:**  \n",
    "$\\ \\ \\ $ F G A B  \n",
    "F 1 0 0 0  \n",
    "G .1 .8 .1 0  \n",
    "A .1 .4 .4 .1  \n",
    "B 0 0 0 1  \n",
    "**What fraction of loans in good standing are eventually paid in full? What is the answer for those in arrears?**"
   ]
  },
  {
   "cell_type": "markdown",
   "id": "eac194d7",
   "metadata": {},
   "source": [
    "$h(x)$ be probability loans ending in F state. Naturally $h(B) = 0 $ as bad loans can be pay back.  \n",
    "$h(G) = 0.1 + 0.8 h(G) + 0.1 h(A)$  \n",
    "$h(A) = 0.1 + 0.4 h(G) + 0.4 h(A)$ "
   ]
  },
  {
   "cell_type": "code",
   "execution_count": 21,
   "id": "65a0fe2c",
   "metadata": {},
   "outputs": [
    {
     "name": "stdout",
     "output_type": "stream",
     "text": [
      "h(1)=0.875, h(2)=0.75\n"
     ]
    }
   ],
   "source": [
    "a = np.array([\n",
    "    [-.2, .4],\n",
    "    [.1, -.6], \n",
    "])\n",
    "h = np.round(np.dot(np.array([-.1, -.1]), np.linalg.inv(a)), 4)\n",
    "print(f\"h(G)={h[0]}, h(A)={h[1]}\")"
   ]
  },
  {
   "cell_type": "markdown",
   "id": "7eb76b54",
   "metadata": {},
   "source": [
    "**1.57. A warehouse has a capacity to hold four items. If the warehouse is neither full nor empty, the number of items in the warehouse changes whenever a new item is produced or an item is sold. Suppose that (no matter when we look) the probability that the next event is \"a new item is produced\" is 2/3 and that the new event is a \"sale\" is 1/3. If there is currently one item in the warehouse, what is the probability that the warehouse will become full before it becomes empty.**"
   ]
  },
  {
   "cell_type": "markdown",
   "id": "73d5e9e6",
   "metadata": {},
   "source": [
    "Let $h(x)=P_x(V_4<V_0)$ be the probability of warehouse becoming full before being empty. $h(0)=0, h(4)=1$. This is a gambler's ruin problem with $p=\\frac{2}{3}$  \n",
    "$h(x)=\\frac{1-(\\frac{1-p}{p})^x}{1-(\\frac{1-p}{p})^4}$  \n",
    "$h(1) = \\frac{1-\\frac{1-p}{p}}{1-(\\frac{1-p}{p})^4}=\\frac{1-\\frac{1}{2}}{1-\\frac{1}{16}}=\\frac{1}{2}\\frac{16}{15}=\\frac{8}{15}$"
   ]
  },
  {
   "cell_type": "markdown",
   "id": "78e68ce1",
   "metadata": {},
   "source": [
    "**1.58. Six children (Dick, Helen, Joni, Mark, Sam, and Tony) play catch. If Dick has the ball he is equally likely to throw it to Helen, Mark, Sam, and Tony. If Helen has the ball she is equally likely to throw it to Dick, Joni, Sam, and Tony. If Sam has the ball he is equally likely to throw it to Dick, Helen, Mark, and Tony. If either Joni or Tony gets the ball, they keep throwing it to each other. If Mark gets the ball he runs away with it.  \n",
    "(a) Find the transition probability and classify the states of the chain.  \n",
    "(b) Suppose Dick has the ball at the beginning of the game. What is the probability Mark will end up with it?**"
   ]
  },
  {
   "cell_type": "code",
   "execution_count": 22,
   "id": "a3bf9fc6",
   "metadata": {},
   "outputs": [
    {
     "name": "stdout",
     "output_type": "stream",
     "text": [
      "(a) transition probability matrix: \n",
      " [[0.   0.25 0.   0.25 0.25 0.25]\n",
      " [0.25 0.   0.25 0.   0.25 0.25]\n",
      " [0.   0.   0.   0.   0.   1.  ]\n",
      " [0.   0.   0.   1.   0.   0.  ]\n",
      " [0.25 0.25 0.   0.25 0.   0.25]\n",
      " [0.   0.   1.   0.   0.   0.  ]]\n",
      "\n"
     ]
    }
   ],
   "source": [
    "p = np.array([\n",
    "    [0, 1/4, 0, 1/4, 1/4, 1/4],\n",
    "    [1/4, 0, 1/4, 0, 1/4, 1/4],\n",
    "    [0, 0, 0, 0, 0, 1],\n",
    "    [0, 0, 0, 1, 0, 0],\n",
    "    [1/4, 1/4, 0, 1/4, 0, 1/4],\n",
    "    [0, 0, 1, 0, 0, 0]\n",
    "])\n",
    "print(f\"(a) transition probability matrix: \\n {p}\\n\")"
   ]
  },
  {
   "cell_type": "markdown",
   "id": "9bd101f6",
   "metadata": {},
   "source": [
    "There are two irreducible sets {J, T} and {M}. Let $h(x)=P_x(V_M<V_{\\{J, T\\}})$ be the probability that the ball reach M before {J, T}. $h(J)=h(T)=0$ and $h(M)=1$  \n",
    "$h(D) = \\frac{1}{4}h(H) + \\frac{1}{4}h(S) + \\frac{1}{4}$  \n",
    "$h(H) = \\frac{1}{4}h(D) + \\frac{1}{4}h(S)$  \n",
    "$h(S) = \\frac{1}{4}h(D) + \\frac{1}{4}h(H) + \\frac{1}{4}$"
   ]
  },
  {
   "cell_type": "code",
   "execution_count": 23,
   "id": "ffa28aba",
   "metadata": {},
   "outputs": [
    {
     "name": "stdout",
     "output_type": "stream",
     "text": [
      "h(D)=0.4, h(H)=0.2, h(S)=0.4\n"
     ]
    }
   ],
   "source": [
    "a = np.array([\n",
    "    [-1, 1/4, 1/4],\n",
    "    [1/4, -1, 1/4],\n",
    "    [1/4, 1/4, -1]\n",
    "])\n",
    "h = np.round(np.dot(np.array([-1/4, 0, -1/4]), np.linalg.inv(a)), 4)\n",
    "print(f\"h(D)={h[0]}, h(H)={h[1]}, h(S)={h[2]}\")"
   ]
  },
  {
   "cell_type": "markdown",
   "id": "70de913d",
   "metadata": {},
   "source": [
    "**1.59. Use the second solution in Example 1.48 to compute the expected waiting times for the patterns $HHH$, $HHT$, $HTT$, and $HTH$. Which pattern has the longest waiting time? Which ones achieve the minimum value of 8?**"
   ]
  },
  {
   "cell_type": "markdown",
   "id": "08147ddb",
   "metadata": {},
   "source": [
    " - $E(HHH) = 8 + 4 + 2 =14$\n",
    " - $E(HHT) = 8$\n",
    " - $E(HTT) = 8$\n",
    " - $E(HTH) = 8 + 2 = 10$ "
   ]
  },
  {
   "cell_type": "markdown",
   "id": "26a63379",
   "metadata": {},
   "source": [
    "**1.60. Sucker bet. Consider the following gambling game. Player 1 picks a three coin pattern (for example $HTH$) and player 2 picks another (say $THH$). A coin is flipped repeatedly and outcomes are recorded until one of the two patterns appears. Somewhat surprisingly player 2 has a considerable advantage in this game. No matter what player 1 picks, player 2 can win with probability ≥ 2/3. Suppose without loss of generality that player 1 picks a pattern that begins with H:** \n",
    "```\n",
    "case  Player 1 Player 2  Prob. 2 wins\n",
    " 1     HHH      THH          7/8\n",
    " 2     HHT      THH          3/4\n",
    " 3     HTH      HHT          2/3\n",
    " 4     HTT      HHT          2/3\n",
    "```\n",
    "**Verify the results in the table. You can do unknowns but this is not the easiest way.**"
   ]
  },
  {
   "cell_type": "markdown",
   "id": "8c0f7228",
   "metadata": {},
   "source": [
    " - case 1: $THH$ wins in 7 cases, loses if $HHH$\n",
    " - case 2: $THH$ loses if it starts with $HH$ which is $\\frac{1}{4}$ times\n",
    " - case 3: as both starts with $H$, if next is $H$ then 2 wins, if next two are $TH$ 1 wins, if next two are $TT$ if starts again. $\\frac{1}{2}\\sum_{i=0}^{\\infty}(\\frac{1}{4})^i = \\frac{1}{2}\\frac{4}{3}=\\frac{2}{3}$\n",
    " - case 4: The same as case 3 but with $TT$ instead of $TH$"
   ]
  },
  {
   "cell_type": "code",
   "execution_count": 40,
   "id": "ead2f670",
   "metadata": {},
   "outputs": [
    {
     "name": "stdout",
     "output_type": "stream",
     "text": [
      "HHH vs THH 0.88 (0.875)\n",
      "HHT vs THH 0.7733 (0.75)\n",
      "HTH vs HHT 0.6467 (0.6667)\n",
      "HTT vs HHT 0.6633 (0.6667)\n"
     ]
    }
   ],
   "source": [
    "def first_appear(random_coin, pattern):\n",
    "    n = len(pattern)\n",
    "    for i in range(len(random_coin) - n):\n",
    "        if (random_coin[i:i + n] == pattern).all():\n",
    "            return i + n\n",
    "    return len(random_coin)\n",
    "m = 300\n",
    "x = np.random.randint(0, 2, size=(m, 1000))\n",
    "hhh_thh = hht_thh = hth_hht = htt_hht = 0\n",
    "for i in range(m):\n",
    "    hhh_thh += (first_appear(x[i], np.array([1,1,1])) > first_appear(x[i], np.array([0,1,1]))) * 1\n",
    "    hht_thh += (first_appear(x[i], np.array([1,1,0])) > first_appear(x[i], np.array([0,1,1]))) * 1\n",
    "    hth_hht += (first_appear(x[i], np.array([1,0,1])) > first_appear(x[i], np.array([1,1,0]))) * 1\n",
    "    htt_hht += (first_appear(x[i], np.array([1,0,0])) > first_appear(x[i], np.array([1,1,0]))) * 1\n",
    "\n",
    "print(f\"HHH vs THH {np.round(hhh_thh / m, 4)} ({round(7/8, 4)})\")\n",
    "print(f\"HHT vs THH {np.round(hht_thh / m, 4)} ({round(3/4, 4)})\")\n",
    "print(f\"HTH vs HHT {np.round(hth_hht / m, 4)} ({round(2/3, 4)})\")\n",
    "print(f\"HTT vs HHT {np.round(htt_hht / m, 4)} ({round(2/3, 4)})\")"
   ]
  },
  {
   "cell_type": "markdown",
   "id": "e229a233",
   "metadata": {},
   "source": [
    "**1.61. At the New York State Fair in Syracuse, Larry encounters a carnival game where for one dollar he may buy a single coupon allowing him to play a guessing game. On each play, Larry has an even chance of winning or losing a coupon. When he runs out of coupons he loses the game. However, if he can collect three coupons, he wins a surprise. (a) What is the probability Larry will win the surprise? (b) What is the expected number of plays he needs to win or lose the game.**"
   ]
  },
  {
   "cell_type": "markdown",
   "id": "d825e3be",
   "metadata": {},
   "source": [
    "(a) $P_x(\\{winning\\ surprise\\}) = \\frac{x}{3}$, if he has 1 dollar $p_1=1/3$, if 2 dollars $p_2=2/3$   \n",
    "(b) $E_x(V_3) = 1 + \\sum_{i=0}^{3}p(x, i)$   \n",
    " - $E_1 = 1 + \\frac{E_2}{2}$\n",
    " - $E_2 = 1 + \\frac{E_1}{2}$\n",
    " - $E_1=E_2 = 2$"
   ]
  },
  {
   "cell_type": "markdown",
   "id": "2ebc4c9c",
   "metadata": {},
   "source": [
    "**1.62. The Megasoft company gives each of its employees the title of programmer (P) or project manager (M). In any given year 70% of programmers remain in that position 20% are promoted to project manager and 10% are fired (state X). 95% of project managers remain in that position while 5% are fired. How long on the average does a programmer work before they are fired?**"
   ]
  },
  {
   "cell_type": "markdown",
   "id": "39c176cd",
   "metadata": {},
   "source": [
    "- $E_P = 1 + 0.7E_P + 0.2E_M + 0.1$\n",
    "- $E_M = 1 + 0.95E_M + .05$\n",
    "- $E_M = 21$ => $E_P=17.6667$"
   ]
  },
  {
   "cell_type": "markdown",
   "id": "7f00a90b",
   "metadata": {},
   "source": [
    "**1.63. At a nationwide travel agency, newly hired employees are classified as beginners (B). Every six months the performance of each agent is reviewed. Past records indicate that transitions through the ranks to intermediate (I) and qualified (Q) are according to the following Markov chain, where F indicates workers that were fired:**\n",
    "```\n",
    "   B  I   Q  F \n",
    "B .45 .4  0 .15\n",
    "I 0   .6 .3 .1 \n",
    "Q 0   0   1  0 \n",
    "F 0   0   0  1\n",
    "```\n",
    "**(a) What fraction are eventually promoted?  \n",
    "(b) What is the expected time until a beginner is fired or becomes qualified?**"
   ]
  },
  {
   "cell_type": "markdown",
   "id": "9fd982c1",
   "metadata": {},
   "source": [
    "(a) Let $h(x)=P_x(V_Q<V_F)$, $h(F)=0$, $h(Q)=1$  \n",
    "$h(B) = 0.45 h(B) + 0.4 h(I)$  \n",
    "$h(I) = 0.6 h(I) + 0.3 => h(I)=\\frac{3}{4}$  \n",
    "$h(B) = \\frac{6}{11}$  \n",
    "(b)  \n",
    "$E_B = 1 + 0.45 E_B + 0.4 E_I$  \n",
    "$E_I = 1 + 0.6 E_I => E_I = 2.5$  \n",
    "$E_B = \\frac{20}{11}$"
   ]
  },
  {
   "cell_type": "markdown",
   "id": "a1dfaa58",
   "metadata": {},
   "source": [
    "**1.64. At a manufacturing plant, employees are classified as trainee (R), technician (T) or supervisor (S). Writing Q for an employee who quits we model their progress through the ranks as a Markov chain with transition probability**\n",
    "```\n",
    "   R  T   S  Q\n",
    "R .2 .6   0  .2 \n",
    "T  0 .55 .15 .3\n",
    "S  0  0   1  0\n",
    "Q  0  0   0  1\n",
    "```\n",
    "\n",
    "**(a) What fraction of recruits eventually make supervisor?  \n",
    "(b) What is the expected time until a trainee auits or becomes supervisor?**"
   ]
  },
  {
   "cell_type": "markdown",
   "id": "79ce061d",
   "metadata": {},
   "source": [
    "(a) Let $h(x)=P_x(V_S<V_Q)$, $h(Q)=0$, $h(S)=1$  \n",
    "$h(R) = 0.2 h(R) + 0.6 h(T)$  \n",
    "$h(T) = 0 + 0.55 h(T) + 0.15 => h(T) = \\frac{1}{3}$   \n",
    "$h(R) = \\frac{1}{4}$\n",
    "\n",
    "(b) $E_Q=E_S=0$  \n",
    "$E_R = 1 + 0.2 E_R + 0.6 E_T$  \n",
    "$E_T = 1 + 0.55 E_T => E_T = \\frac{20}{9}$   \n",
    "$E_R = \\frac{35}{12}$"
   ]
  },
  {
   "cell_type": "markdown",
   "id": "5465d04d",
   "metadata": {},
   "source": [
    "**1.65. Customers shift between variable rate loans (V), thirty year fixed-rate loans (30), fifteen year fixed-rate loans (15), or enter the states paid in full (P), or foreclosed according to the following transition matrix:**  \n",
    "```\n",
    "    V   30  15  P   F \n",
    "V  .55 .35  0  .05 .05 \n",
    "30 .15 .54 .25 .05 .01 \n",
    "15 .20  0  .75 .04 .01\n",
    "P   0   0   0   1   0 \n",
    "F   0   0   0   0   1\n",
    "```\n",
    "**For each of the three loan types find  \n",
    "(a) the expected time until paid or foreclosed.  \n",
    "(b) the probability the loan is paid.**"
   ]
  },
  {
   "cell_type": "code",
   "execution_count": 45,
   "id": "c48a2a2e",
   "metadata": {},
   "outputs": [
    {
     "name": "stdout",
     "output_type": "stream",
     "text": [
      "(a) Expected time to pay the loans: [13.7278 14.7929 14.9822]\n",
      "(b) Fractions the loans: [0.645  0.6864 0.676 ]\n"
     ]
    }
   ],
   "source": [
    "loans = np.array([\n",
    "    [.55, .35,  0],\n",
    "    [.15, .54, .25],\n",
    "    [.20,  0,  .75]\n",
    "])\n",
    "inv = np.linalg.inv(np.eye(3) - loans)\n",
    "print(f\"(a) Expected time to pay the loans: {np.round(np.dot(inv, np.array([1, 1, 1])), 4)}\")\n",
    "print(f\"(b) Fractions the loans: {np.round(np.dot(inv, np.array([.05, .05, .04])), 4)}\")"
   ]
  },
  {
   "cell_type": "markdown",
   "id": "fa895aa3",
   "metadata": {},
   "source": [
    "**1.66. _Brother–sister mating_. In this genetics scheme two individuals (one male and one female) are retained from each generation and are mated to give the next. If the individuals involved are diploid and we are interested in a trait with two alleles, A and a, then each individual has three possible states AA, Aa, aa or more succinctly 2, 1, 0. If we keep track of the sexes of the two individuals the chain has nine states, but if we ignore the sex there are just six: 22, 21, 20, 11, 10, and 00.  \n",
    "(a) Assuming that reproduction corresponds to picking one letter at random from each parent, compute the transition probability.  \n",
    "(b) 22 and 00 are absorbing states for the chain. Show that the probability of absorption in 22 is equal to the fraction of A’s in the state.  \n",
    "(c) Let $T =min\\{n\\geq 0:X_n = 22\\ or\\ 00\\}$ be the absorption time. Find $E_xT$ for all states x.**"
   ]
  },
  {
   "cell_type": "markdown",
   "id": "da8c3c04",
   "metadata": {},
   "source": [
    "(a) \n",
    "```\n",
    "    22  21  20  11  10  00\n",
    "22  1   0   0   0   0   0\n",
    "21 1/4 1/2  0  1/4  0   0 \n",
    "20  0   0   0   1   0   0 \n",
    "11 1/16 1/4 1/8 1/4 1/4 1/16 \n",
    "10  0   0   0  1/4 1/2 1/4\n",
    "00  0   0   0   0   0   1\n",
    "```\n",
    "\n",
    "(b) From the definition of $P_x(V_{22}<V_{00}) = h(x)$, where $h(22)=1$, $h(00)=0$ - which is the fraction of A's in the state.  "
   ]
  },
  {
   "cell_type": "code",
   "execution_count": 46,
   "id": "87010063",
   "metadata": {},
   "outputs": [
    {
     "name": "stdout",
     "output_type": "stream",
     "text": [
      "(c) Expected time to pay the loans: [4.8333 6.6667 5.6667 4.8333]\n"
     ]
    }
   ],
   "source": [
    "mating = np.array([\n",
    "    [1/2, 0, 1/4, 0],\n",
    "    [0, 0, 1, 0],\n",
    "    [1/4, 1/8, 1/4, 1/4],\n",
    "    [0, 0, 1/4, 1/2]\n",
    "])\n",
    "\n",
    "inv = np.linalg.inv(np.eye(4) - mating)\n",
    "print(f\"(c) Expected time to pay the loans: {np.round(np.dot(inv, np.array([1, 1, 1, 1])), 4)}\")"
   ]
  },
  {
   "cell_type": "markdown",
   "id": "eef4873c",
   "metadata": {},
   "source": [
    "**1.67. Roll a fair die repeatedly and let $Y_1,Y_2,\\dots$ be the resulting numbers. Let $X_n = |\\{Y_1,Y_2,\\dots,Y_n\\}|$ be the number of values we have seen in the first n rolls for $n \\geq 1$ and set $X_0 = 0$. $X_n$ is a Markov chain. (a) Find its transition probability. (b) Let $T = min\\{n:X_n=6\\}$ be the number of trials we need to see all 6 numbers at least once. Find $E_T$.**"
   ]
  },
  {
   "cell_type": "markdown",
   "id": "379e335c",
   "metadata": {},
   "source": [
    "(a)  \n",
    "```\n",
    "   0   1   2   3   4   5   6\n",
    "0  0   1   0   0   0   0   0\n",
    "1  0  1/6 5/6  0   0   0   0\n",
    "2  0   0  2/6 4/6  0   0   0\n",
    "3  0   0   0  3/6 3/6  0   0\n",
    "4  0   0   0   0  4/6 2/6  0\n",
    "5  0   0   0   0   0  5/6 1/6\n",
    "6  0   0   0   0   0   0   1 \n",
    "```\n",
    "(b) Solving as _Coupon collector's problem_:  \n",
    "$E_T = \\frac{6}{6} + \\frac{6}{5} + \\frac{6}{4} + \\frac{6}{3} + \\frac{6}{2} + \\frac{6}{1}=14.7$"
   ]
  },
  {
   "cell_type": "code",
   "execution_count": 59,
   "id": "22a78954",
   "metadata": {},
   "outputs": [
    {
     "name": "stdout",
     "output_type": "stream",
     "text": [
      "(c) E_T: 14.7\n"
     ]
    }
   ],
   "source": [
    "dice = np.array([\n",
    "    [0, 1, 0, 0, 0, 0],\n",
    "    [0, 1/6, 5/6, 0, 0, 0],\n",
    "    [0, 0, 2/6, 4/6, 0, 0],\n",
    "    [0, 0, 0, 3/6, 3/6, 0],\n",
    "    [0, 0, 0, 0, 4/6, 2/6],\n",
    "    [0, 0, 0, 0, 0, 5/6]\n",
    "])\n",
    "inv = np.linalg.inv(np.eye(6) - dice)\n",
    "print(f\"(c) E_T: {np.round(np.dot(inv, np.array([1, 1, 1, 1, 1, 1]))[0], 4)}\")"
   ]
  },
  {
   "cell_type": "code",
   "execution_count": 65,
   "id": "ab97df7d",
   "metadata": {},
   "outputs": [
    {
     "name": "stdout",
     "output_type": "stream",
     "text": [
      "(c) E_T (simulation): 14.423\n"
     ]
    }
   ],
   "source": [
    "m = 1000\n",
    "s = np.random.randint(0, 6, size=(m, 100))\n",
    "e_t = 0\n",
    "for t in range(m):\n",
    "    for j in range(100):\n",
    "        if len(set(s[t, :j])) == 6:\n",
    "            e_t += j\n",
    "            break\n",
    "\n",
    "print(f\"(c) E_T (simulation): {np.round(e_t / m, 4)}\")"
   ]
  },
  {
   "cell_type": "markdown",
   "id": "18dcb96b",
   "metadata": {},
   "source": [
    "**1.68. _Coupon collector’s problem_. We are interested now in the time it takes to collect a set of N baseball cards. Let $T_k$ be the number of cards we have to buy before we have $k$ that are distinct. Clearly, $T_1 = 1$. A little more thought reveals that if each time we get a card chosen at random from all N possibilities, then for $k \\geq 1$, $T_{k+1} − T_k$ has a geometric distribution with success probability $(N − k)/N$. Use this to show that the mean time to collect a set of $N$ baseball cards is $\\approx N log N$, while the variance is $\\approx N^2 \\sum_{k=1}^\\infty \\frac{1}{k^2}$.**"
   ]
  },
  {
   "cell_type": "markdown",
   "id": "d2cc8e79",
   "metadata": {},
   "source": [
    "See [Cupon collector's problem](https://gist.github.com/matejker/77409eda6d5eb6bbe64b27d7f3e616de) and [Harmonic series grow rate](https://en.wikipedia.org/wiki/Harmonic_series_(mathematics)#Growth_rate) as $E(T_N) = N\\sum^N_{k=1}\\frac{1}{k}$.  "
   ]
  },
  {
   "cell_type": "markdown",
   "id": "552c5eef",
   "metadata": {},
   "source": [
    "**1.69. _Algorithmic efficiency_. The simplex method minimizes linear functions by moving between extreme points of a polyhedral region so that each transition decreases the objective function. Suppose there are $n$ extreme points and they are numbered in increasing order of their values. Consider the Markov chain in which $p(1, 1) = 1$ and $p(i, j) = \\frac{1}{i − 1}$ for $j < i$. In words, when we leave $j$ we are equally likely to go to any of the extreme points with better value. (a) Use (1.25) to show that for $i > 1$**\n",
    "$$E_iT_1 = 1+\\frac{1}{2}+\\dots+\\frac{1}{i−1}$$\n",
    "**(b)Let $I_j =1$ if the chain visits $j$ on the way from $n$ to $1$. Show that for $j<n$**\n",
    "$$P(I_j=1|I_{j+1},\\dots,I_n)=\\frac{1}{j}$$\n",
    "**to get another proof of the result and conclude that $I_1, \\dots I_{n−1}$ are independent.**"
   ]
  },
  {
   "cell_type": "markdown",
   "id": "72611747",
   "metadata": {},
   "source": [
    "_I have zero idea what the author is asking_ ¯\\\\_(ツ)_/¯"
   ]
  }
 ],
 "metadata": {
  "kernelspec": {
   "display_name": "Python 3 (ipykernel)",
   "language": "python",
   "name": "python3"
  },
  "language_info": {
   "codemirror_mode": {
    "name": "ipython",
    "version": 3
   },
   "file_extension": ".py",
   "mimetype": "text/x-python",
   "name": "python",
   "nbconvert_exporter": "python",
   "pygments_lexer": "ipython3",
   "version": "3.9.12"
  }
 },
 "nbformat": 4,
 "nbformat_minor": 5
}
