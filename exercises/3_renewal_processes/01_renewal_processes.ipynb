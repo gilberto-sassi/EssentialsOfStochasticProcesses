{
 "cells": [
  {
   "cell_type": "markdown",
   "id": "9cb0d13a",
   "metadata": {},
   "source": [
    "# Renewal processes"
   ]
  },
  {
   "cell_type": "code",
   "execution_count": 1,
   "id": "b06c3a27",
   "metadata": {},
   "outputs": [],
   "source": [
    "import numpy as np"
   ]
  },
  {
   "cell_type": "markdown",
   "id": "6b598924",
   "metadata": {},
   "source": [
    "**3.1. The weather in a certain locale consists of alternating wet and dry spells. Suppose that the number of days in each rainy spell is a Poisson distribution with mean 2, and that a dry spell follows a geometric distribution with mean 7. Assume that the successive durations of rainy and dry spells are independent. What is the long-run fraction of time that it rains?**"
   ]
  },
  {
   "cell_type": "markdown",
   "id": "0c627e5f",
   "metadata": {},
   "source": [
    "$\\frac{2}{2+7}$"
   ]
  },
  {
   "cell_type": "markdown",
   "id": "6f00befb",
   "metadata": {},
   "source": [
    "**3.2. Monica works on a temporary basis. The mean length of each job she gets is 11 months. If the amount of time she spends between jobs is exponential with mean 3 months, then in the long run what fraction of the time does she spend working?**"
   ]
  },
  {
   "cell_type": "markdown",
   "id": "7c6b9737",
   "metadata": {},
   "source": [
    "$\\frac{11}{11+3}$"
   ]
  },
  {
   "cell_type": "markdown",
   "id": "faced7ab",
   "metadata": {},
   "source": [
    "**3.3. Thousands of people are going to a Grateful dead concert in Pauley Pavillion at UCLA. They park their 10 foot cars on several of the long streets near the arena. There are no lines to tell the drivers where to park, so they park at random locations, and end up leaving spacings between the cars that are independent and uniform on (0, 10). In the long run, what fraction of the street is covered with cars?**"
   ]
  },
  {
   "cell_type": "markdown",
   "id": "5a1dc0f9",
   "metadata": {},
   "source": [
    "$\\frac{10}{10+5}$"
   ]
  },
  {
   "cell_type": "markdown",
   "id": "568afb02",
   "metadata": {},
   "source": [
    "**3.4. The times between the arrivals of customers at a taxi stand are independent and have a distribution $F$ with mean $\\mu_F$ . Assume an unlimited supply of cabs, such as might occur at an airport. Suppose that each customer pays a random fare with distribution $G$ and mean $\\mu_G$. Let $W(t)$ be the total fares paid up to time $t$. Find $\\lim_{t\\rightarrow\\infty} EW(t)/t$.**"
   ]
  },
  {
   "cell_type": "markdown",
   "id": "ea1a7e54",
   "metadata": {},
   "source": [
    "$\\frac{\\mu_G}{\\mu_F}$ by Theorem 3.3"
   ]
  },
  {
   "cell_type": "markdown",
   "id": "2f4aa0fe",
   "metadata": {},
   "source": [
    "**3.5. In front of terminal C at the Chicago airport is an area where hotel shuttle vans park. Customers arrive at times of a Poisson process with rate 10 per hour looking for transportation to the Hilton hotel nearby. When 7 people are in the van it leaves for the 36-minute round trip to the hotel. Customers who arrive while the van is gone go to some other hotel instead. (a) What fraction of the customers actually go to the Hilton? (b) What is the average amount of time that a person who actually goes to the Hilton ends up waiting in the van?**"
   ]
  },
  {
   "cell_type": "markdown",
   "id": "22c0e89f",
   "metadata": {},
   "source": [
    "(a) $\\frac{7}{10}=42$, and it takes 36 mins for the bus, $\\frac{42}{36+42}$ is the fraction of customers.  \n",
    "(b) Customers are arriving every $\\frac{60}{10}=6$ min. So first customer waits 36mins, second 30, ..., 6th 6mins and finally last one 0. Therefore average time is $\\frac{126}{7}=18$.  "
   ]
  },
  {
   "cell_type": "markdown",
   "id": "f689a399",
   "metadata": {},
   "source": [
    "**3.6. Three children take turns shooting a ball at a basket. They each shoot until they misses and then it is next child’s turn. Suppose that child i makes a basket with probability $p_i$ and that successive trials are independent. (a) Determine the proportion of time in the long run that each child shoots. (b) Find the answer when $p_1 = 2/3, p_2 = 3/4, p_3=4/5$.**"
   ]
  },
  {
   "cell_type": "markdown",
   "id": "9274fb5d",
   "metadata": {},
   "source": [
    "$P_i = \\frac{1/(1-p_i)}{1/(1-p_1)+1/(1-p_2)+1/(1-p_3)}$"
   ]
  },
  {
   "cell_type": "code",
   "execution_count": 19,
   "id": "4fbd3be0",
   "metadata": {},
   "outputs": [
    {
     "name": "stdout",
     "output_type": "stream",
     "text": [
      "Simulation: [0.2509 0.3335 0.4157]\n",
      "Theoretical values: [0.25   0.3333 0.4167]\n"
     ]
    }
   ],
   "source": [
    "plays = np.zeros(3)\n",
    "p = np.array([2/3, 3/4, 4/5])\n",
    "\n",
    "kid = 0\n",
    "n = 200000\n",
    "for i in range(n):\n",
    "    if np.random.uniform(0, 1) < p[kid]:\n",
    "        plays[kid] += 1\n",
    "    else:\n",
    "        kid = (kid + 1) % 3\n",
    "        plays[kid] += 1\n",
    "\n",
    "print(f\"Simulation: {np.round(plays / n, 4)}\")\n",
    "print(f\"Theoretical values: {np.round(np.array([(1/(1 - q)) / np.sum(1/(1 - p)) for q in p]), 4)}\")"
   ]
  },
  {
   "cell_type": "markdown",
   "id": "cc91c84d",
   "metadata": {},
   "source": [
    "**3.7. A policeman cruises (on average) approximately 10 minutes before stopping a car for speeding. 90% of the cars stopped are given speeding tickets with an \\\\$80 fine. It takes the policeman an average of 5 minutes to write such a ticket. The other 10% of the stops are for more serious offenses, leading to an average fine of \\\\$300. These more serious charges take an average of 30 minutes to process. In the long run, at what rate (in dollars per minute) does he assign fines.**"
   ]
  },
  {
   "cell_type": "markdown",
   "id": "043fcbdd",
   "metadata": {},
   "source": [
    "$\\frac{0.9*80+0.1*300}{10+0.9*5+0.1*30}=\\frac{102}{17.5}=5.93$ per minute"
   ]
  },
  {
   "cell_type": "markdown",
   "id": "a52a6b93",
   "metadata": {},
   "source": [
    "**3.8. _Counter processes._ As in Example 1.5, we suppose that arrivals at a counter come at times of a Poisson process with rate $\\lambda$. An arriving particle that finds the counter free gets registered and then locks the counter for an amount of time $\\tau$. Particles that arrive while the counter is locked have no effect. (a) Find the limiting probability the counter is locked at time $t$. (b) Compute the limiting fraction of particles that get registered.**"
   ]
  },
  {
   "cell_type": "markdown",
   "id": "6d756b66",
   "metadata": {},
   "source": [
    "(a) $\\frac{\\tau}{\\tau + 1/\\lambda}$  \n",
    "(b) $\\frac{1/\\lambda}{\\tau + 1/\\lambda} = \\frac{1}{\\tau\\lambda + 1}$"
   ]
  },
  {
   "cell_type": "markdown",
   "id": "44c9ca0f",
   "metadata": {},
   "source": [
    "**3.9. A cocaine dealer is standing on a street corner. Customers arrive at times of a Poisson process with rate $\\lambda$. The customer and the dealer then disappear from the street for an amount of time with distribution G while the transaction is completed. Customers that arrive during this time go away never to return. (a) At what rate does the dealer make sales? (b) What fraction of customers are lost?**"
   ]
  },
  {
   "cell_type": "markdown",
   "id": "4aef2d62",
   "metadata": {},
   "source": [
    "(a) $\\frac{1/\\lambda}{\\mu_G + 1/\\lambda}$  \n",
    "(b) $\\frac{\\mu_G}{\\mu_G + 1/\\lambda}$"
   ]
  },
  {
   "cell_type": "markdown",
   "id": "0152fd74",
   "metadata": {},
   "source": [
    "**3.10. One of the difficulties about probability is realizing when two different looking problems are the same, in this case dealing cocaine and fighting fires. In Problem 2.26, calls to a fire station arrive according to a Poisson process with rate 0.5 per hour, and the time required to respond to a call, return to the station, and get ready to respond to the next call is uniformly distributed between 1/2 and 1 hour. If a new call comes before the Dryden fire department is ready to respond, the Ithaca fire department is asked to respond. What fraction of calls must be handled by the Ithaca fire department.**"
   ]
  },
  {
   "cell_type": "markdown",
   "id": "9cfdccbe",
   "metadata": {},
   "source": [
    "$\\mu = \\frac{0.5 + 1}{2}=0.75$  \n",
    "$\\frac{0.75}{0.75 + 2} =\\frac{0.75}{2.75}=3/11$"
   ]
  },
  {
   "cell_type": "markdown",
   "id": "764af234",
   "metadata": {},
   "source": [
    "**3.11. A young doctor is working at night in an emergency room. Emergencies come in at times of a Poisson process with rate 0.5 per hour. The doctor can only get to sleep when it has been 36 minutes (.6 hours) since the last emergency. For example, if there is an emergency at 1:00 and a second one at 1:17 then she will not be able to get to sleep until at least 1:53, and it will be even later if there is another emergency before that time.\n",
    "(a) Compute the long-run fraction of time she spends sleeping, by formulating a renewal reward process in which the reward in the ith interval is the amount of time she gets to sleep in that interval.\n",
    "(b) The doctor alternates between sleeping for an amount of time $s_i$ and being awake for an amount of time $u_i$. Use the result from (a) to compute $Eu_i$.\n",
    "(c) Solve problem (b) by noting that the doctor trying to sleep is the same as chicken crossing the road in Exercise 2.33.**"
   ]
  },
  {
   "cell_type": "markdown",
   "id": "afbfae36",
   "metadata": {},
   "source": [
    "(a) $P(t_i>36/60)=P(t_i>0.6)=e^{-0.6/2}$  \n",
    "$2E(r_i)=2e^{-0.3}$, $E(s_i)=E(r_i)/E(t_i)=\\frac{2e^{-0.3}}{2}=e^{-0.3}$  \n",
    "(b) $\\frac{E(s_i)}{E(s_i)+E(u_i)} = \\frac{2}{2 + E(u_i)}=2e^{-0.3}$  \n",
    "$E(u_i) = 2(e^{0.3} − 1)$   \n",
    "(c) $E(u_{i-1} + c) = (e^{\\lambda c} − 1)/\\lambda$ with $c=0.6, \\lambda=1/2$  \n",
    "$E(u_{i-1} + 0.6) = 2(e^{0.3} − 1)$"
   ]
  },
  {
   "cell_type": "markdown",
   "id": "50a3271c",
   "metadata": {},
   "source": [
    "**3.12. A worker has a number of machines to repair. Each time a repair is completed a new one is begun. Each repair independently takes an exponential amount of time with rate $\\mu$ to complete. However, independent of this, mistakes occur according to a Poisson process with rate $\\lambda$. Whenever a mistake occurs, the item is ruined and work is started on a new item. In the long run how often are jobs completed?**"
   ]
  },
  {
   "cell_type": "markdown",
   "id": "91c31e93",
   "metadata": {},
   "source": [
    "$$\\frac{R(t)}{t}\\rightarrow \\frac{\\frac{\\mu}{\\mu+\\lambda}}{\\frac{1}{\\mu+\\lambda}}=\\mu$$"
   ]
  },
  {
   "cell_type": "markdown",
   "id": "79fd0ae6",
   "metadata": {},
   "source": [
    "**3.13. In the Duke versus Miami football game, possessions alternate between Duke who has the ball for an average of 2 minutes and Miami who has the ball for an average of 6 minutes. (a) In the long run what fraction of time does Duke have the ball? (b) Suppose that on each possession Duke scores a touchdown with probability 1/4 while Miami scores with probability one. On the average how many touchdowns will they score per hour?**"
   ]
  },
  {
   "cell_type": "markdown",
   "id": "df99643f",
   "metadata": {},
   "source": [
    "(a) $\\frac{\\mu_1}{\\mu_1 + \\mu_2}=2/8=1/4$  \n",
    "(b) $\\frac{1/4}{2/60+6/60}=60/32$ for Duke, $\\frac{1}{2/60+6/60}=60/8$ for Miami."
   ]
  },
  {
   "cell_type": "markdown",
   "id": "386160c2",
   "metadata": {},
   "source": [
    "**3.14. Random Investment. An investor has \\\\$100,000. If the current interest rate is $i\\%$ (compounded continuously so that the grow per year is $exp(i/100))$, he invests his money in a $i$ year CD, takes the profits and then reinvests the \\\\$100,000. Suppose that the $k$th investment leads to an interest rate $X_k$ which is uniform on {1, 2, 3, 4, 5}. In the long run how much money does he make per year.**"
   ]
  },
  {
   "cell_type": "markdown",
   "id": "c334f1a9",
   "metadata": {},
   "source": []
  },
  {
   "cell_type": "markdown",
   "id": "e11f6ac0",
   "metadata": {},
   "source": [
    "**3.15. Consider the set-up of Example 3.4 but now suppose that the car’s lifetime $h(t)=\\lambda e^{−\\lambda t}.$ Show that for any A and B the optimal time $T=\\infty$. Can you give a simple verbal explanantion?**"
   ]
  },
  {
   "cell_type": "markdown",
   "id": "61cf6e39",
   "metadata": {},
   "source": []
  },
  {
   "cell_type": "markdown",
   "id": "6fb90337",
   "metadata": {},
   "source": [
    "**3.16. A machine tool wears over time and may fail. The failure time measured in months has density $f_{T(t)} = 2t/900$ for $0 \\leq t \\leq 30$ and 0 otherwise. If the tool fails it must be replaced immediately at a cost of \\\\$1200. If it is replaced prior to failure the cost is only \\\\$300. Consider a replacement policy in which the tool is replaces after $c$ months or when it fails. What is the value of $c$ that minimizes cost per unit time.**"
   ]
  },
  {
   "cell_type": "markdown",
   "id": "fd417339",
   "metadata": {},
   "source": [
    "Using the same logic as in _Example 3.4_.\n",
    "$$\\frac{E(r_i)}{E(t_i)}=\\frac{1200\\big(1-\\int_0^c \\frac{2t}{900}dt\\big) + 300\\int^c_0\\frac{2t}{900}dt}{\\int_{0}^{c}t\\frac{2t}{900}dt+c\\int^c_0\\frac{t}{900}dt}$$"
   ]
  },
  {
   "cell_type": "markdown",
   "id": "242bedaf",
   "metadata": {},
   "source": [
    "**3.17. People arrive at a college admissions office at rate 1 per minute. When k people have arrive a tour starts. Student tour guides are paid \\\\$20 for each tour they conduct. The college estimates that it loses 10 cents in good will for each minute a person waits. What is the optimal tour group size?**"
   ]
  },
  {
   "cell_type": "markdown",
   "id": "2fe4b900",
   "metadata": {},
   "source": [
    "Let $k$ be the size of the group. First person waits $k-1$ mins on average, second $k-2$ mins on average, ..., last k-th person waits 0 min. Therefore the total waiting time for $k$ sized group is $0+1+2\\dots+(k-2)+(k-1)=\\frac{k(k-1)}{2}$. The expected cost would be $E(r_i)=20 + \\frac{k(k-1)}{2}0.10$ and $E(t_i)=k$. \n",
    "$$\\frac{E(r_i)}{E(t_i)}=\\frac{20 + k(k-1)0.05}{k}=> \\bigg(\\frac{E(r_i)}{E(t_i)}\\bigg)' = 0 => k=20$$"
   ]
  },
  {
   "cell_type": "markdown",
   "id": "2a7d885d",
   "metadata": {},
   "source": [
    "**3.18. A scientist has a machine for measuring ozone in the atmosphere that is located in the mountains just north of Los Angeles. At times of a Poisson process with rate 1, storms or animals disturb the equipment so that it can no longer collect data. The scientist comes every L units of time to check the equipment. If the equipment has been disturbed then she can usually fix it quickly so we will assume the the repairs take 0 time. (a) What is the limiting fraction of time the machine is working? (b) Suppose that the data that is being collected is worth $a$ dollars per unit time, while each inspection costs $c < a$. Find the best value of the inspection time $L$.**"
   ]
  },
  {
   "cell_type": "markdown",
   "id": "8c02e8a3",
   "metadata": {},
   "source": [
    "(a) $P(T\\geq L)=1-e^{-L}$, $E(r_i)=1-e^{-L}$, $E(t_i)=L$, $\\frac{E(r_i)}{E(t_i)}=\\frac{1-e^{-L}}{L}$    \n",
    "(b) $a\\frac{1-e^{-L}}{L} - \\frac{c}{L}$, \n",
    "$$\\frac{d}{dL}\\ a\\frac{1-e^{-L}}{L} - \\frac{c}{L}=\\frac{1}{L^2}\\big(aLe^{-L}-a+c+ae^{-L}\\big)=0$$\n",
    "$$\\frac{c}{a}=1-(1+Le^{-L}), 0<\\frac{c}{a}<1$$"
   ]
  }
 ],
 "metadata": {
  "kernelspec": {
   "display_name": "Python 3 (ipykernel)",
   "language": "python",
   "name": "python3"
  },
  "language_info": {
   "codemirror_mode": {
    "name": "ipython",
    "version": 3
   },
   "file_extension": ".py",
   "mimetype": "text/x-python",
   "name": "python",
   "nbconvert_exporter": "python",
   "pygments_lexer": "ipython3",
   "version": "3.9.13"
  }
 },
 "nbformat": 4,
 "nbformat_minor": 5
}
