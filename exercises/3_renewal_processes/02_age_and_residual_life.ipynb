{
 "cells": [
  {
   "cell_type": "markdown",
   "id": "f468a76e",
   "metadata": {},
   "source": [
    "# Age and Residual Life"
   ]
  },
  {
   "cell_type": "markdown",
   "id": "c208c79a",
   "metadata": {},
   "source": [
    "**3.19. Consider the discrete renewal process with $f_j = P(t_1=j)$ and $F_i =\n",
    "P(t_1>i)$. (a) Show that the age chain has transition probability \n",
    "$$q(j,j+1)=\\frac{F_{j+1}}{F_j}\\ \\  q(j,0)=1−\\frac{F_{j+1}}{F_j} =\\frac{f_{j+1}}\\ for\\ j\\geq0$$\n",
    "(b) Show that if $Et_1 < \\infty$, the stationary distribution $\\pi(i) = \\frac{P(t_1 > i)}{E(t_1)}$.  \n",
    "(c) Let $p(i, j)$ be the transition probability for the renewal chain. Verify that It should be clear by comparing the numerical examples above that there is a close relationship between $q$ is the dual chain of $p$, i.e., the chain $p$ run backwards. That is,\n",
    "$$q(i, j) = \\pi(j)p(j, i)$$**"
   ]
  },
  {
   "cell_type": "markdown",
   "id": "36238c7d",
   "metadata": {},
   "source": []
  },
  {
   "cell_type": "markdown",
   "id": "a0ab9214",
   "metadata": {},
   "source": []
  },
  {
   "cell_type": "markdown",
   "id": "5f7edcf0",
   "metadata": {},
   "source": []
  },
  {
   "cell_type": "markdown",
   "id": "98f2a43c",
   "metadata": {},
   "source": [
    "**3.21. The city of Ithaca, New York, allows for two-hour parking in all downtown spaces. Methodical parking officials patrol the downtown area, passing the same point every two hours. When an official encounters a car, he marks it with chalk. If the car is still there two hours later, a ticket is written. Suppose that you park your car for a random amount of time that is uniformly distributed on (0, 4) hours. What is the probability you will get a ticket?**"
   ]
  },
  {
   "cell_type": "markdown",
   "id": "001999f1",
   "metadata": {},
   "source": []
  },
  {
   "cell_type": "markdown",
   "id": "4d5b09bb",
   "metadata": {},
   "source": [
    "**3.22. Each time the frozen yogurt machine at the mall breaks down, it is replaced by a new one of the same type. (a) What is the limiting age distribution for the machine in use if the lifetime of a machine has a $gamma(2, \\lambda)$ distribution, i.e., the sum of two exponentials with mean $\\frac{1}{\\lambda}$. (b) Find the answer to (a) by thinking about a rate one Poisson process in which arrivals are alternately colored red and blue.**"
   ]
  },
  {
   "cell_type": "markdown",
   "id": "5cbe6e92",
   "metadata": {},
   "source": []
  },
  {
   "cell_type": "markdown",
   "id": "04283206",
   "metadata": {},
   "source": [
    "**3.23. While visiting Haifa, Sid Resnick discovered that people who wish to travel from the port area up the mountain frequently take a shared taxi known as a sherut. The capacity of each car is 5 people. Potential customers arrive according to a Poisson process with rate $\\lambda$. As soon as 5 people are in the car, it departs for The Carmel, and another taxi moves up to accept passenger so on. A local resident (who has no need of a ride) wanders onto the scene. What is the distribution of the time he has to wait to see a cab depart?**"
   ]
  },
  {
   "cell_type": "markdown",
   "id": "3771d2bc",
   "metadata": {},
   "source": []
  },
  {
   "cell_type": "markdown",
   "id": "9c7bce5c",
   "metadata": {},
   "source": [
    "**3.24. Suppose that the limiting age distribution in (3.9) is the same as the original distribution. Conclude that $F (x) = 1 − e^{−\\lambda x}$ for some $\\lambda > 0$.**"
   ]
  },
  {
   "cell_type": "markdown",
   "id": "78b8d4c6",
   "metadata": {},
   "source": []
  }
 ],
 "metadata": {
  "kernelspec": {
   "display_name": "Python 3 (ipykernel)",
   "language": "python",
   "name": "python3"
  },
  "language_info": {
   "codemirror_mode": {
    "name": "ipython",
    "version": 3
   },
   "file_extension": ".py",
   "mimetype": "text/x-python",
   "name": "python",
   "nbconvert_exporter": "python",
   "pygments_lexer": "ipython3",
   "version": "3.9.13"
  }
 },
 "nbformat": 4,
 "nbformat_minor": 5
}
