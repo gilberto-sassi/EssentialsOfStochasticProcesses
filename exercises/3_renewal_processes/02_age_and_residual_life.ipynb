{
 "cells": [
  {
   "cell_type": "markdown",
   "id": "db139b83",
   "metadata": {},
   "source": [
    "# Age and Residual Life"
   ]
  },
  {
   "cell_type": "markdown",
   "id": "dd8a1182",
   "metadata": {},
   "source": [
    "**3.19. Consider the discrete renewal process with $f_j = P(t_1=j)$ and $F_i =\n",
    "P(t_1>i)$. (a) Show that the age chain has transition probability \n",
    "$$q(j,j+1)=\\frac{F_{j+1}}{F_j}\\ \\  q(j,0)=1−\\frac{F_{j+1}}{F_j} =\\frac{f_{j+1}}{F_j}\\ for\\ j\\geq0$$\n",
    "(b) Show that if $Et_1 < \\infty$, the stationary distribution $\\pi(i) = \\frac{P(t_1 > i)}{E(t_1)}$.  \n",
    "(c) Let $p(i, j)$ be the transition probability for the renewal chain. Verify that It should be clear by comparing the numerical examples above that there is a close relationship between $q$ is the dual chain of $p$, i.e., the chain $p$ run backwards. That is,\n",
    "$$q(i, j) = \\frac{\\pi(j)p(j, i)}{\\pi(i)}$$**"
   ]
  },
  {
   "cell_type": "markdown",
   "id": "53917580",
   "metadata": {},
   "source": [
    "(a) If $j$ is an age $A_n$, then $q(j, j+1)$ is a step from $j$ to $j+1$ which is $\\frac{F_{j+1}}{F_j}$. Not to jump one more step is - renewal process occurred and age is 0, therefore, $1-\\frac{F_{j+1}}{F_j}$.  \n",
    "(b) Starting from $0$ to get to $i$ you need to visit all chain of steps:\n",
    "$$q(0, 1)q(1, 2)\\dots q(i-1, i)=\\frac{F_1}{F_0}\\frac{F_2}{F_1}\\dots\\frac{F_i}{F_{i-1}}=F_i$$\n",
    "Therefore, to $\\sum_i \\pi(i)=1$, $\\pi(i)=\\frac{F_i}{E(t_1)}=\\frac{P(t_1>i)}{E(t_1)}$  \n",
    "(c) The chain is non zero in two cases:  \n",
    " - $i\\geq0, j= i+1$\n",
    " $$q(i, i+1)=\\frac{F_{i+1}}{F_i}=\\frac{F_{i+1}}{E(t_1)}\\frac{E(t_1)}{F_i}p(i+1, i)$$\n",
    " - $i\\geq0, j=0$\n",
    " $$q(i, 0)=\\frac{f_{0}}{F_i}=\\frac{f_{0}}{E(t_1)}\\frac{E(t_1)}{F_i}p(0, i)$$"
   ]
  },
  {
   "cell_type": "markdown",
   "id": "a711f33c",
   "metadata": {},
   "source": [
    "**3.20. Show that chain in Exercise 1.38 with transition probability is**\n",
    "```\n",
    "   1   2   3  4 \n",
    "1 1/2 1/2  0  0 \n",
    "2 2/3  0  1/3 0 \n",
    "3 3/4  0   0 1/4 \n",
    "4  1   0   0  0\n",
    "```\n",
    "**is a special case of the age chain. Use this observation and the previous exercise to compute the stationary distribution.**"
   ]
  },
  {
   "cell_type": "markdown",
   "id": "d284eeaf",
   "metadata": {},
   "source": [
    "$$q(1, 2)=\\frac{F_2}{F_1}=\\frac{1}{2}, q(2, 3)=\\frac{F_3}{F_2}=\\frac{1}{3}, q(3, 4)=\\frac{F_4}{F_3}=\\frac{1}{4}, q(4,1)=1=\\frac{f_5}{F_4}$$\n",
    "$F_0=1, F_1=1/2, F_2=1/6, F_3=1/24, E(t_1)=\\frac{24+12+4+1}{24}$. So  \n",
    "$$\\pi(0)=\\frac{24}{41}, \\pi(1)=\\frac{12}{42}, \\pi(2)=\\frac{4}{42}, \\pi(3)=\\frac{1}{42}$$\n"
   ]
  },
  {
   "cell_type": "markdown",
   "id": "45aa7da7",
   "metadata": {},
   "source": [
    "**3.21. The city of Ithaca, New York, allows for two-hour parking in all downtown spaces. Methodical parking officials patrol the downtown area, passing the same point every two hours. When an official encounters a car, he marks it with chalk. If the car is still there two hours later, a ticket is written. Suppose that you park your car for a random amount of time that is uniformly distributed on (0, 4) hours. What is the probability you will get a ticket?**"
   ]
  },
  {
   "cell_type": "markdown",
   "id": "694fc7fc",
   "metadata": {},
   "source": [
    "Let $N(t)$ be the number times official see my car, $P(N(T)=2)$ be probability of arriving 2 for the time $T\\in(0,4)$\n",
    "- If I park for less than 2 hours ($T<2$), $P(N(T)=2)=0$ \n",
    "- if I park for more than 2 hours ($T\\geq2$), I get ticket the officer came 2 hours before my half of parking time, i.e. $P(N(T)=2)=\\frac{1}{4}\\int_2^4\\frac{t-2}{2}dt=\\frac{1}{4}\\frac{t^2-4t}{4}\\big|_2^4=\\frac{1}{4}$  \n",
    "_$\\frac{1}{4}$ is there as it is equal chance of leaving in interval (0, 4)_"
   ]
  },
  {
   "cell_type": "markdown",
   "id": "8b21c2e6",
   "metadata": {},
   "source": [
    "**3.22. Each time the frozen yogurt machine at the mall breaks down, it is replaced by a new one of the same type. (a) What is the limiting age distribution for the machine in use if the lifetime of a machine has a $gamma(2, \\lambda)$ distribution, i.e., the sum of two exponentials with mean $\\frac{1}{\\lambda}$. (b) Find the answer to (a) by thinking about a rate one Poisson process in which arrivals are alternately colored red and blue.**"
   ]
  },
  {
   "cell_type": "markdown",
   "id": "b27d1ab6",
   "metadata": {},
   "source": []
  },
  {
   "cell_type": "markdown",
   "id": "f8895131",
   "metadata": {},
   "source": [
    "**3.23. While visiting Haifa, Sid Resnick discovered that people who wish to travel from the port area up the mountain frequently take a shared taxi known as a sherut. The capacity of each car is 5 people. Potential customers arrive according to a Poisson process with rate $\\lambda$. As soon as 5 people are in the car, it departs for The Carmel, and another taxi moves up to accept passenger so on. A local resident (who has no need of a ride) wanders onto the scene. What is the distribution of the time he has to wait to see a cab depart?**"
   ]
  },
  {
   "cell_type": "markdown",
   "id": "340a613c",
   "metadata": {},
   "source": []
  },
  {
   "cell_type": "markdown",
   "id": "d73faace",
   "metadata": {},
   "source": [
    "**3.24. Suppose that the limiting age distribution in (3.9) is the same as the original distribution. Conclude that $F (x) = 1 − e^{−\\lambda x}$ for some $\\lambda > 0$.**"
   ]
  },
  {
   "cell_type": "markdown",
   "id": "5c6dbb74",
   "metadata": {},
   "source": []
  }
 ],
 "metadata": {
  "kernelspec": {
   "display_name": "Python 3 (ipykernel)",
   "language": "python",
   "name": "python3"
  },
  "language_info": {
   "codemirror_mode": {
    "name": "ipython",
    "version": 3
   },
   "file_extension": ".py",
   "mimetype": "text/x-python",
   "name": "python",
   "nbconvert_exporter": "python",
   "pygments_lexer": "ipython3",
   "version": "3.9.13"
  }
 },
 "nbformat": 4,
 "nbformat_minor": 5
}
