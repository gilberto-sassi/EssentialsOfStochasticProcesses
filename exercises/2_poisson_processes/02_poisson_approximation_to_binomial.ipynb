{
 "cells": [
  {
   "cell_type": "markdown",
   "id": "35f68b8d",
   "metadata": {},
   "source": [
    "# Poisson approximation to binomial\n",
    "$X\\sim B(n,p),\\ P(X=k)= {n \\choose k}p^k(1-p)^{n-k}$  \n",
    "$Y\\sim Pois(\\lambda),\\ P(Y=k)= \\frac{\\lambda^k e^{-\\lambda}}{k!}$"
   ]
  },
  {
   "cell_type": "code",
   "execution_count": 4,
   "id": "5e0d5d84",
   "metadata": {},
   "outputs": [],
   "source": [
    "import numpy as np\n",
    "from math import factorial as fac"
   ]
  },
  {
   "cell_type": "code",
   "execution_count": 6,
   "id": "840c58c1",
   "metadata": {},
   "outputs": [],
   "source": [
    "def binomial(n, k):\n",
    "    try:\n",
    "        return fac(n) // fac(k) // fac(n - k)\n",
    "    except ValueError:\n",
    "        return 0\n",
    "\n",
    "def bionomial_distribution(n, p, k):\n",
    "    return round(binomial(n, k) * p ** k * (1 - p) ** (n - k), 4)\n",
    "\n",
    "\n",
    "def poisson_distribution(rate, k):\n",
    "    return round(rate ** k * np.exp(-rate) / fac(k), 4)"
   ]
  },
  {
   "cell_type": "markdown",
   "id": "43f1dfab",
   "metadata": {},
   "source": [
    "**2.18. Compare the Poisson approximation with the exact binomial probabilities\n",
    "of 1 success when n = 20, p = 0.1.**"
   ]
  },
  {
   "cell_type": "code",
   "execution_count": 7,
   "id": "96d8688e",
   "metadata": {},
   "outputs": [
    {
     "name": "stdout",
     "output_type": "stream",
     "text": [
      "Binomial P(X=1)=0.2702\n",
      "Poisson P(Y=1)=0.2707\n"
     ]
    }
   ],
   "source": [
    "print(f\"Binomial P(X=1)={bionomial_distribution(20, 0.1, 1)}\")\n",
    "print(f\"Poisson P(Y=1)={poisson_distribution(20 * 0.1, 1)}\")"
   ]
  },
  {
   "cell_type": "markdown",
   "id": "f9555414",
   "metadata": {},
   "source": [
    "**2.19. Compare the Poisson approximation with the exact binomial probabilities\n",
    "of no success when (a) n = 10, p = 0.1, (b) n = 50, p = 0.02.**"
   ]
  },
  {
   "cell_type": "code",
   "execution_count": 9,
   "id": "41b6ff39",
   "metadata": {},
   "outputs": [
    {
     "name": "stdout",
     "output_type": "stream",
     "text": [
      "(a)\n",
      "Binomial P(X=0)=0.3487\n",
      "Poisson P(Y=0)=0.3679\n",
      "(b)\n",
      "Binomial P(X=0)=0.3642\n",
      "Poisson P(Y=0)=0.3679\n"
     ]
    }
   ],
   "source": [
    "print(\"(a)\")\n",
    "print(f\"Binomial P(X=0)={bionomial_distribution(10, 0.1, 0)}\")\n",
    "print(f\"Poisson P(Y=0)={poisson_distribution(10 * 0.1, 0)}\")\n",
    "\n",
    "print(\"(b)\")\n",
    "print(f\"Binomial P(X=0)={bionomial_distribution(50, 0.02, 0)}\")\n",
    "print(f\"Poisson P(Y=0)={poisson_distribution(50 * 0.02, 0)}\")"
   ]
  },
  {
   "cell_type": "markdown",
   "id": "a0f5edb9",
   "metadata": {},
   "source": [
    "**2.20. The probability of a three of a kind in poker is approximately 1/50. Use the Poisson approximation to estimate the probability you will get at least one three of a kind if you play 20 hands of poker.**"
   ]
  },
  {
   "cell_type": "code",
   "execution_count": 11,
   "id": "c347c43e",
   "metadata": {},
   "outputs": [
    {
     "name": "stdout",
     "output_type": "stream",
     "text": [
      "Poisson 1-P(Y=0)=0.3297\n"
     ]
    }
   ],
   "source": [
    "print(f\"Poisson 1-P(Y=0)={1-poisson_distribution(20 * (1/50), 0)}\")"
   ]
  },
  {
   "cell_type": "markdown",
   "id": "58126a78",
   "metadata": {},
   "source": [
    "**2.21. Suppose 1% of a certain brand of Christmas lights is defective. Use the Poisson approximation to compute the probability that in a box of 25 there will be at most one defective bulb.**"
   ]
  },
  {
   "cell_type": "code",
   "execution_count": 12,
   "id": "0cdd3302",
   "metadata": {},
   "outputs": [
    {
     "name": "stdout",
     "output_type": "stream",
     "text": [
      "Poisson P(Y=0)+P(Y=1)=0.9735\n"
     ]
    }
   ],
   "source": [
    "print(f\"Poisson P(Y=0)+P(Y=1)={poisson_distribution(25 * 0.01, 0) + poisson_distribution(25 * 0.01, 1)}\")"
   ]
  }
 ],
 "metadata": {
  "kernelspec": {
   "display_name": "Python 3 (ipykernel)",
   "language": "python",
   "name": "python3"
  },
  "language_info": {
   "codemirror_mode": {
    "name": "ipython",
    "version": 3
   },
   "file_extension": ".py",
   "mimetype": "text/x-python",
   "name": "python",
   "nbconvert_exporter": "python",
   "pygments_lexer": "ipython3",
   "version": "3.9.12"
  }
 },
 "nbformat": 4,
 "nbformat_minor": 5
}
