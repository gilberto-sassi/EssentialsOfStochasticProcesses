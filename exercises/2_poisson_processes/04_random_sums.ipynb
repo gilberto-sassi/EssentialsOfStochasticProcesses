{
 "cells": [
  {
   "cell_type": "markdown",
   "id": "7dd8c038",
   "metadata": {},
   "source": [
    "# Random sums"
   ]
  },
  {
   "cell_type": "markdown",
   "id": "369d5dde",
   "metadata": {},
   "source": [
    "**2.34. Edwin catches trout at times of a Poisson process with rate 3 per hour. Suppose that the trout weigh an average of 4 pounds with a standard deviation of 2 pounds. Find the mean and standard deviation of the total weight of fish he catches in two hours.**"
   ]
  },
  {
   "cell_type": "markdown",
   "id": "c603a6c8",
   "metadata": {},
   "source": [
    "Let $X$ be _total weight of fish he catches in two hours_  \n",
    "$E(X)=3*2*4=24$  \n",
    "$var(X)=3*2(4^2+2^2)=120$, $\\sqrt{var(X)} = 10.9545$"
   ]
  },
  {
   "cell_type": "markdown",
   "id": "b5caa8a0",
   "metadata": {},
   "source": [
    "**2.35. An insurance company pays out claims at times of a Poisson process with rate 4 per week. Writing K as shorthand for “thousands of dollars,” suppose that the mean payment is 10K and the standard deviation is 6K. Find the mean and standard deviation of the total payments for 4 weeks.**"
   ]
  },
  {
   "cell_type": "markdown",
   "id": "e71387eb",
   "metadata": {},
   "source": [
    "$E(X)=4*4*10000=160K$  \n",
    "$\\sqrt{var(X)}=\\sqrt{16*(10K^2+6K^2)}=1000\\sqrt{2176}=46 647$"
   ]
  },
  {
   "cell_type": "markdown",
   "id": "e86c1b26",
   "metadata": {},
   "source": [
    "**2.36. Customers arrive at an automated teller machine at the times of a Poisson process with rate of 10 per hour. Suppose that the amount of money withdrawn on each transaction has a mean of \\\\$30 and a standard deviation of \\\\$20. Find the mean and standard deviation of the total withdrawals in 8 hours.**"
   ]
  },
  {
   "cell_type": "markdown",
   "id": "f5bd4c04",
   "metadata": {},
   "source": [
    "$E(X) = 10*8*30=2400$  \n",
    "$\\sqrt{var(X)}=\\sqrt{80(30^2+20^2)}=322.5$"
   ]
  },
  {
   "cell_type": "markdown",
   "id": "1ccc628f",
   "metadata": {},
   "source": [
    "**2.37. As a community service members of the Mu Alpha Theta fraternity are going to pick up cans from along a roadway. A Poisson mean 60 members show up for work. 2/3 of the workers are enthusiastic and will pick up a mean of 10 cans with a standard deviation of 5. 1/3 of the workers are lazy and will only pick up an average of 3 cans with a standard deviation of 2. Find the mean and standard deviation of the the number of cans collected.**"
   ]
  },
  {
   "cell_type": "markdown",
   "id": "3b1930e8",
   "metadata": {},
   "source": [
    "$E(X)=60\\frac{2}{3}10=400$, $E(Y)=60\\frac{1}{3}3=60$, $E(X+Y)=460$  \n",
    "$\\sqrt{var(X+Y)}=\\sqrt{40(10^2+5^2)+20(3^2+2^2)}=72.53$"
   ]
  },
  {
   "cell_type": "markdown",
   "id": "dcb1543a",
   "metadata": {},
   "source": [
    "**2.38. Let $S_t$ be the price of stock at time t and suppose that at times of a Poisson process with rate $\\lambda$ the price is multiplied by a random variable $X_i>0$ with mean $\\mu$ and variance $\\sigma^2$. That is,\n",
    "$$S_t=S_0\\Pi_{i=1}^{N(t)} X_i$$\n",
    "where the product is 1 if $N(t)=0$. Find $E[S_t]$ and $var[S_t]$.**"
   ]
  },
  {
   "cell_type": "markdown",
   "id": "478c86c7",
   "metadata": {},
   "source": [
    "$E(S_t|N(t)=n)=S_0\\mu^n$  \n",
    "$$E(S_t)=\\sum^{\\infty}_{n=0}E(S_t|N(t)=n)P(N(t)=n)=S_0\\sum^{\\infty}_{n=0}e^{-\\lambda t}\\frac{(\\lambda t)^n}{n!}\\mu^n=S_0e^{-\\lambda t+\\lambda t\\mu}=S_0e^{\\lambda t(\\mu-1)}$$\n",
    "$E(S_t^2|N(t)=n)=S_0^2(\\mu^2+\\lambda^2)^n$\n",
    "$$E(S_t^2)=S_0^2\\sum^{\\infty}_{n=0}e^{-\\lambda t} \\frac{(\\lambda t)^n}{n!}(\\mu^2+\\lambda^2)=S_0^2e^{\\lambda t(\\mu^2 +\\lambda^2-1)}$$  \n",
    "$var(S_t)=E(S_t^2)-E(S_t)^2=S_0^2(e^{2\\lambda t(\\mu^2 +\\lambda^2-1)}-e^{2\\lambda t(\\mu-1)})$"
   ]
  },
  {
   "cell_type": "markdown",
   "id": "e92f99a9",
   "metadata": {},
   "source": [
    "**2.39. Messages arrive to be transmitted across the internet at times of a Poisson process with rate $\\lambda$. Let $Y_i$ be the size of the ith message, measured in bytes, and let $g(z)=E_zY_i$ be the generating function of $Y_i$. Let $N(t)$ be the number of arrivals at time t and $S=Y_1 +\\dots+Y_{N(t)}$ be the total size of the messages up to time t. (a) Find the generating function $f(z) = E(z^S)$. (b) Differentiate and set $z = 1$ to find $ES$. (c) Differentiate again and set $z=1$ to find $E\\{S(S−1)\\}$. (d) Compute $var(S)$.**"
   ]
  },
  {
   "cell_type": "markdown",
   "id": "da8a533b",
   "metadata": {},
   "source": [
    "$$(a)\\ f(z)=E(z^S)=\\sum_{n=0}^\\infty e^{-\\lambda t}\\frac{(\\lambda t)^n}{n!}g(z)^n=e^{-\\lambda t+\\lambda tg(z)}=e^{-\\lambda t(1-g(z))}$$\n",
    "(b)  $f'(z)=\\lambda g'(z)e^{-\\lambda t(1-g(z))}$  \n",
    "$E(S)=\\lambda g'(1)=\\lambda E(Y_i)$  \n",
    "(c) $f''(z)=\\big[\\lambda g''(z) + \\lambda^2 g'(z)^2\\big]e^{-\\lambda t(1-g(z))}$  \n",
    "$E(S(S-1))=f''(1)=\\lambda E(Y_i(Y_i-1)) + \\lambda^2 E(Y_i)^2$  \n",
    "(d) $var(S)=E(S(S-1))+E(S)-E(S)^2=\\dots=\\lambda E(Y_i)^2$"
   ]
  },
  {
   "cell_type": "markdown",
   "id": "42e72ccb",
   "metadata": {},
   "source": [
    "**2.40. Let $\\{N(t),t \\geq 0\\}$ be a Poisson process with rate $\\lambda$. Let $T \\geq 0$ be an independent with mean $\\mu$ and variance $\\sigma^2$. Find $cov(T, N_T)$.**"
   ]
  },
  {
   "cell_type": "markdown",
   "id": "53a7a7e5",
   "metadata": {},
   "source": [
    "$E(TN_T)=\\lambda(\\mu^2+\\sigma^2)$ and $cov(T, N_T)=\\lambda(\\mu^2+\\sigma^2)+\\lambda\\mu^2=\\lambda\\sigma^2$"
   ]
  },
  {
   "cell_type": "markdown",
   "id": "b01af6f6",
   "metadata": {},
   "source": [
    "**2.41. Let $t_1, t_2, \\dots$ be independent $exponential(\\lambda)$ random variables and let N be an independent random variable with $P(N=n)=(1−p)^{n−1}$. What is the distribution of the random sum $T=t_1 + \\dots + t_N$?**"
   ]
  },
  {
   "cell_type": "markdown",
   "id": "1d28776a",
   "metadata": {},
   "source": [
    "Using thinning it is $exponential(\\lambda p)$."
   ]
  }
 ],
 "metadata": {
  "kernelspec": {
   "display_name": "Python 3 (ipykernel)",
   "language": "python",
   "name": "python3"
  },
  "language_info": {
   "codemirror_mode": {
    "name": "ipython",
    "version": 3
   },
   "file_extension": ".py",
   "mimetype": "text/x-python",
   "name": "python",
   "nbconvert_exporter": "python",
   "pygments_lexer": "ipython3",
   "version": "3.9.13"
  }
 },
 "nbformat": 4,
 "nbformat_minor": 5
}
