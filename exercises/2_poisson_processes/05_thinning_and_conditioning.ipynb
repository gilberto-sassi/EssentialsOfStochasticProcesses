{
 "cells": [
  {
   "cell_type": "markdown",
   "id": "68ccf45f",
   "metadata": {},
   "source": [
    "# Thinning and conditioning"
   ]
  },
  {
   "cell_type": "code",
   "execution_count": 1,
   "id": "10ee57f2",
   "metadata": {},
   "outputs": [],
   "source": [
    "import numpy as np"
   ]
  },
  {
   "cell_type": "markdown",
   "id": "069efb3d",
   "metadata": {},
   "source": [
    "**2.42. Traffic on Snyder Hill Road in Ithaca, NY, follows a Poisson process with rate 2/3’s of a vehicle per minute. 10% of the vehicles are trucks, the other 90% are cars. (a) What is the probability at least one truck passes in a hour? (b) Given that 10 trucks have passed by in an hour, what is the expected number of vehicles that have passed by. (c) Given that 50 vehicles have passed by in a hour, what is the probability there were exactly 5 trucks and 45 cars.**"
   ]
  },
  {
   "cell_type": "markdown",
   "id": "408b1ff7",
   "metadata": {},
   "source": [
    "(a) $1-P(X=0)=1-e^\\frac{-2*60}{30}=1-e^{-4}=0.9816$  \n",
    "(b) $E(X+Y|X=10)=E(X|X=10)+E(Y|X=10)=10 + E(Y)=10+36=46$  \n",
    "(c) $P(X=5|X+Y=50)=P(Y=45|X+Y=50)\\binom{50}{5}\\big(\\frac{1}{10}\\big)^5\\big(\\frac{9}{10}\\big)^{45}$"
   ]
  },
  {
   "cell_type": "markdown",
   "id": "c4354c7e",
   "metadata": {},
   "source": [
    "**2.43. Rock concert tickets are sold at a ticket counter. Females and males arrive at times of independent Poisson processes with rates 30 and 20 customers per hour. (a) What is the probability the first three customers are female? (b) If exactly 2 customers arrived in the first five minutes, what is the probability both arrived in the first three minutes. (c) Suppose that customers regardless of sex buy 1 ticket with probability 1/2, two tickets with probability 2/5, and three tickets with probability 1/10. Let $N_i$ be the number of customers that buy i tickets in the first hour. Find the joint distribution of ($N_1,N_2,N_3$).**"
   ]
  },
  {
   "cell_type": "markdown",
   "id": "b41bf19f",
   "metadata": {},
   "source": [
    "(a) $\\big(\\frac{30}{30+20}\\big)^3$ - exponential race  \n",
    "(b) They chances of arriving are equivalent in each minute, therefore, coming in first 3 mins is $\\frac{3}{5}$ for 3 people it is$\\big(\\frac{3}{5}\\big)^2$  \n",
    "(c) $E(N_1)=\\frac{1}{2}(30+20)$  \n",
    "$E(N_2)=\\frac{2}{5}(30+20)$  \n",
    "$E(N_3)=\\frac{1}{10}(30+20)$"
   ]
  },
  {
   "cell_type": "markdown",
   "id": "3a04b47c",
   "metadata": {},
   "source": [
    "**2.44. Ellen catches fish at times of a Poisson process with rate 2 per hour. 40% of the fish are salmon, while 60% of the fish are trout. What is the probability she will catch exactly 1 salmon and 2 trout if she fishes for 2.5 hours?**"
   ]
  },
  {
   "cell_type": "markdown",
   "id": "dff8ab7f",
   "metadata": {},
   "source": [
    "$P(salmon=1)=e^{-\\frac{2}{5}2*\\frac{5}{2}}\\frac{2}{5}2*\\frac{5}{2}=2e^{-2}$  \n",
    "$P(trout=2)=e^{-\\frac{3}{5}2*\\frac{5}{2}}\\frac{\\frac{3}{5}2*\\frac{5}{2}}{2!}=e^{-3}\\frac{3^2}{2!}$"
   ]
  },
  {
   "cell_type": "markdown",
   "id": "7aa9ec4b",
   "metadata": {},
   "source": [
    "**2.45. Signals are transmitted according to a Poisson process with rate $\\lambda$. Each signal is successfully transmitted with probability $p$ and lost with probability $1−p$. The fates of different signals are independent. For $t \\geq 0$ let $N_1(t)$ be the number of signals successfully transmitted and let $N_2(t)$ be the number that are lost up to time $t$. (a) Find the distribution of $(N_1(t), N_2(t))$. (b) What is the distribution of L = the number of signals lost before the first one is successfully transmitted?**"
   ]
  },
  {
   "cell_type": "markdown",
   "id": "f61903b9",
   "metadata": {},
   "source": [
    "(a) $N_1(t)=\\lambda pt$, $N_2(t)=\\lambda (1-p)t$  \n",
    "(b) $P(L=k)=(1-p)^kp$"
   ]
  },
  {
   "cell_type": "markdown",
   "id": "6f0ec6bc",
   "metadata": {},
   "source": [
    "**2.46. A policewoman on the evening shift writes a Poisson mean 6 number of tickets per hour. 2/3’s of these are for speeding and cost \\\\$100. 1/3’s of these are for DWI and cost \\\\$400. (a) Find the mean and standard deviation for the total revenue from the tickets she writes in an hour. (b) What is the probability that between 2AM and 3AM she writes 5 tickets for speeding and 1 for DWI. (c) Let $A$ be the event that she writes no tickets between 1AM and 1:30, and $N$ be the number of tickets she writes between 1AM and 2AM. Which is larger $P(A)$ or $P(A|N=5)$? Don’t just answer yes or no, compute both probabilities.**"
   ]
  },
  {
   "cell_type": "markdown",
   "id": "6d22d84c",
   "metadata": {},
   "source": [
    "(a) $E(N)E(R) = 6(100\\frac{2}{3} + 400\\frac{1}{3})=6\\frac{600}{3}=6*200=1200$\n",
    "$\\sqrt{var(X)}=\\sqrt{E(N)var(R)+var(N)E(R)^2}=\\sqrt{6(20\\ 000) + 6(40\\ 000)}=\\sqrt{360\\ 000}=600$  \n",
    "(b) $P(S=5,DWI=1)=e^{-4}\\frac{4^5}{5!}e^{-2}\\frac{2}{1!}$  \n",
    "(c) $P(A)=e^{-3}$ vs $P(A|N=5)=(\\frac{1}{2})^5$ "
   ]
  },
  {
   "cell_type": "markdown",
   "id": "b4fb8ffb",
   "metadata": {},
   "source": [
    "**2.47. Trucks and cars on highway US 421 are Poisson processes with rate 40 and 100 per hour respectively. 1/8 of the trucks and 1/10 of the cars get off on exit 257 to go to the Bojangle’s in Yadkinville. (a) Find the probability that exactly 6 trucks arrive at Bojangle’s between noon and 1PM. (b) Given that there were 6 truck arrivals at Bojangle’s between noon and 1PM, what is the probability that exactly two arrived between 12:20 and 12:40? (c) Suppose that all trucks have 1 passenger while 30% of the cars have 1 passenger, 50% have 2, and 20% have 4. Find the mean and standard deviation of the number of customers are that arrive at Bojangles’ in one hour.**"
   ]
  },
  {
   "cell_type": "markdown",
   "id": "5e55198f",
   "metadata": {},
   "source": [
    "(a) $P(T=6)=e^{5}\\frac{(5)^6}{6!}$  \n",
    "(b) $\\binom{6}{2}\\frac{1}{3}^2\\frac{2}{3}^4$  \n",
    "(c) $E(N_t)E(X_t)+E(N_c)E(X_c)=40/8*1 + 100/10(3/10 + 10/10 + 8/10)=5+11=26$  \n",
    "$E(X_t)^2+E(X_c)^2 = 40/8*1+10(3 + 4*5 + 16*2)=60$  \n",
    "$var = 26+60$"
   ]
  },
  {
   "cell_type": "markdown",
   "id": "63fd4a84",
   "metadata": {},
   "source": [
    "**2.48. When a power surge occurs on an electrical line, it can damage a com- puter without a surge protector. There are three types of surges: “small” surges occur at rate 8 per day and damage a computer with probability 0.001; “medium” surges occur at rate 1 per day and will damage a computer with probability 0.01; “large” surges occur at rate 1 per month and damage a com- puter with probability 0.1. Assume that months are 30 days. (a) what is the expected number of power surges per month? (b) What is the expected number of computer damaging power surges per month? (c) What is the probability a computer will not be damaged in one month? (d) What is the probability that the first computer damaging surge is a small one?**"
   ]
  },
  {
   "cell_type": "code",
   "execution_count": null,
   "id": "1c4aac65",
   "metadata": {},
   "outputs": [],
   "source": []
  },
  {
   "cell_type": "markdown",
   "id": "519aab9e",
   "metadata": {},
   "source": [
    "**2.49. Wayne Gretsky scored a Poisson mean 6 number of points per game. 60% of these were goals and 40% were assists (each is worth one point). Suppose he is paid a bonus of 3K for a goal and 1K for an assist. (a) Find the mean and standard deviation for the total revenue he earns per game. (b) What is the probability that he has 4 goals and 2 assists in one game? (c) Conditional on the fact that he had 6 points in a game, what is the probability he had 4 in the first half?**"
   ]
  },
  {
   "cell_type": "code",
   "execution_count": null,
   "id": "dfd5879f",
   "metadata": {},
   "outputs": [],
   "source": []
  },
  {
   "cell_type": "markdown",
   "id": "aaf2ebaf",
   "metadata": {},
   "source": [
    "**2.50. A copy editor reads a 200-page manuscript, finding 108 typos. Suppose that the author’s typos follow a Poisson process with some unknown rate $\\lambda$ per page, while from long experience we know that the copyeditor finds 90% of the mistakes that are there. (a) Compute the expected number of typos found as a function of the arrival rate $\\lambda$. (b) Use the answer to (a) to find an estimate of $\\lambda$ and of the number of undiscovered typos.**"
   ]
  },
  {
   "cell_type": "code",
   "execution_count": null,
   "id": "bb7a8845",
   "metadata": {},
   "outputs": [],
   "source": []
  },
  {
   "cell_type": "markdown",
   "id": "38f20747",
   "metadata": {},
   "source": [
    "**2.51. Two copy editors read a 300-page manuscript. The first found 100 typos, the second found 120, and their lists contain 80 errors in common. Suppose that the author’s typos follow a Poisson process with some unknown rate $\\lambda$ per page, while the two copy editors catch errors with unknown probabilities of success $p_1$ and $p_2$. Let $X_0$ be the number of typos that neither found. Let $X_1$ and $X_2$ be the number of typos found only by 1 or only by 2, and let $X_3$ be the number of typos found by both. (a) Find the joint distribution of ($X_0, X_1, X_2, X_3$). (b) Use the answer to (a) to find an estimates of $p_1, p_2$ and then of the number of undiscovered typos.**"
   ]
  },
  {
   "cell_type": "code",
   "execution_count": null,
   "id": "d2c6bee1",
   "metadata": {},
   "outputs": [],
   "source": []
  },
  {
   "cell_type": "markdown",
   "id": "a19c730f",
   "metadata": {},
   "source": [
    "**2.52. A light bulb has a lifetime that is exponential with a mean of 200 days. When it burns out a janitor replaces it immediately. In addition there is a handyman who comes at times of a Poisson process at rate .01 and replaces the bulb as “preventive maintenance.” (a) How often is the bulb replaced? (b) In the long run what fraction of the replacements are due to failure?**"
   ]
  },
  {
   "cell_type": "code",
   "execution_count": null,
   "id": "31c31c9b",
   "metadata": {},
   "outputs": [],
   "source": []
  }
 ],
 "metadata": {
  "kernelspec": {
   "display_name": "Python 3 (ipykernel)",
   "language": "python",
   "name": "python3"
  },
  "language_info": {
   "codemirror_mode": {
    "name": "ipython",
    "version": 3
   },
   "file_extension": ".py",
   "mimetype": "text/x-python",
   "name": "python",
   "nbconvert_exporter": "python",
   "pygments_lexer": "ipython3",
   "version": "3.9.13"
  }
 },
 "nbformat": 4,
 "nbformat_minor": 5
}
