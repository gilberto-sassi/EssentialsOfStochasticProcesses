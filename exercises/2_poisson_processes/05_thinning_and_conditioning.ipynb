{
 "cells": [
  {
   "cell_type": "markdown",
   "id": "4f64c1c1",
   "metadata": {},
   "source": [
    "# Thinning and conditioning"
   ]
  },
  {
   "cell_type": "code",
   "execution_count": 1,
   "id": "6ad992fb",
   "metadata": {},
   "outputs": [],
   "source": [
    "import numpy as np"
   ]
  },
  {
   "cell_type": "markdown",
   "id": "4d02ade7",
   "metadata": {},
   "source": [
    "**2.42. Traffic on Snyder Hill Road in Ithaca, NY, follows a Poisson process with rate 2/3’s of a vehicle per minute. 10% of the vehicles are trucks, the other 90% are cars. (a) What is the probability at least one truck passes in a hour? (b) Given that 10 trucks have passed by in an hour, what is the expected number of vehicles that have passed by. (c) Given that 50 vehicles have passed by in a hour, what is the probability there were exactly 5 trucks and 45 cars.**"
   ]
  },
  {
   "cell_type": "markdown",
   "id": "74214869",
   "metadata": {},
   "source": [
    "(a) $1-P(X=0)=1-e^\\frac{-2*60}{30}=1-e^{-4}=0.9816$  \n",
    "(b) $E(X+Y|X=10)=E(X|X=10)+E(Y|X=10)=10 + E(Y)=10+36=46$  \n",
    "(c) $P(X=5|X+Y=50)=P(Y=45|X+Y=50)\\binom{50}{5}\\big(\\frac{1}{10}\\big)^5\\big(\\frac{9}{10}\\big)^{45}$"
   ]
  },
  {
   "cell_type": "markdown",
   "id": "08bf10bd",
   "metadata": {},
   "source": [
    "**2.43. Rock concert tickets are sold at a ticket counter. Females and males arrive at times of independent Poisson processes with rates 30 and 20 customers per hour. (a) What is the probability the first three customers are female? (b) If exactly 2 customers arrived in the first five minutes, what is the probability both arrived in the first three minutes. (c) Suppose that customers regardless of sex buy 1 ticket with probability 1/2, two tickets with probability 2/5, and three tickets with probability 1/10. Let $N_i$ be the number of customers that buy i tickets in the first hour. Find the joint distribution of ($N_1,N_2,N_3$).**"
   ]
  },
  {
   "cell_type": "markdown",
   "id": "15380a70",
   "metadata": {},
   "source": [
    "(a) $\\big(\\frac{30}{30+20}\\big)^3$ - exponential race  \n",
    "(b) They chances of arriving are equivalent in each minute, therefore, coming in first 3 mins is $\\frac{3}{5}$ for 3 people it is$\\big(\\frac{3}{5}\\big)^2$  \n",
    "(c) $E(N_1)=\\frac{1}{2}(30+20)$  \n",
    "$E(N_2)=\\frac{2}{5}(30+20)$  \n",
    "$E(N_3)=\\frac{1}{10}(30+20)$"
   ]
  },
  {
   "cell_type": "markdown",
   "id": "b2667f23",
   "metadata": {},
   "source": [
    "**2.44. Ellen catches fish at times of a Poisson process with rate 2 per hour. 40% of the fish are salmon, while 60% of the fish are trout. What is the probability she will catch exactly 1 salmon and 2 trout if she fishes for 2.5 hours?**"
   ]
  },
  {
   "cell_type": "markdown",
   "id": "24c43c19",
   "metadata": {},
   "source": [
    "$P(salmon=1)=e^{-\\frac{2}{5}2*\\frac{5}{2}}\\frac{2}{5}2*\\frac{5}{2}=2e^{-2}$  \n",
    "$P(trout=2)=e^{-\\frac{3}{5}2*\\frac{5}{2}}\\frac{\\frac{3}{5}2*\\frac{5}{2}}{2!}=e^{-3}\\frac{3^2}{2!}$"
   ]
  },
  {
   "cell_type": "markdown",
   "id": "a852e30c",
   "metadata": {},
   "source": [
    "**2.45. Signals are transmitted according to a Poisson process with rate $\\lambda$. Each signal is successfully transmitted with probability $p$ and lost with probability $1−p$. The fates of different signals are independent. For $t \\geq 0$ let $N_1(t)$ be the number of signals successfully transmitted and let $N_2(t)$ be the number that are lost up to time $t$. (a) Find the distribution of $(N_1(t), N_2(t))$. (b) What is the distribution of L = the number of signals lost before the first one is successfully transmitted?**"
   ]
  },
  {
   "cell_type": "markdown",
   "id": "4b37c258",
   "metadata": {},
   "source": [
    "(a) $N_1(t)=\\lambda pt$, $N_2(t)=\\lambda (1-p)t$  \n",
    "(b) $P(L=k)=(1-p)^kp$"
   ]
  },
  {
   "cell_type": "markdown",
   "id": "954f62bf",
   "metadata": {},
   "source": [
    "**2.46. A policewoman on the evening shift writes a Poisson mean 6 number of tickets per hour. 2/3’s of these are for speeding and cost \\\\$100. 1/3’s of these are for DWI and cost \\\\$400. (a) Find the mean and standard deviation for the total revenue from the tickets she writes in an hour. (b) What is the probability that between 2AM and 3AM she writes 5 tickets for speeding and 1 for DWI. (c) Let $A$ be the event that she writes no tickets between 1AM and 1:30, and $N$ be the number of tickets she writes between 1AM and 2AM. Which is larger $P(A)$ or $P(A|N=5)$? Don’t just answer yes or no, compute both probabilities.**"
   ]
  },
  {
   "cell_type": "markdown",
   "id": "09c7dbc0",
   "metadata": {},
   "source": [
    "(a) $E(N)E(R) = 6(100\\frac{2}{3} + 400\\frac{1}{3})=6\\frac{600}{3}=6*200=1200$\n",
    "$\\sqrt{var(X)}=\\sqrt{E(N)var(R)+var(N)E(R)^2}=\\sqrt{6(20\\ 000) + 6(40\\ 000)}=\\sqrt{360\\ 000}=600$  \n",
    "(b) $P(S=5,DWI=1)=e^{-4}\\frac{4^5}{5!}e^{-2}\\frac{2}{1!}$  \n",
    "(c) $P(A)=e^{-3}$ vs $P(A|N=5)=(\\frac{1}{2})^5$ "
   ]
  },
  {
   "cell_type": "markdown",
   "id": "710691de",
   "metadata": {},
   "source": [
    "**2.47. Trucks and cars on highway US 421 are Poisson processes with rate 40 and 100 per hour respectively. 1/8 of the trucks and 1/10 of the cars get off on exit 257 to go to the Bojangle’s in Yadkinville. (a) Find the probability that exactly 6 trucks arrive at Bojangle’s between noon and 1PM. (b) Given that there were 6 truck arrivals at Bojangle’s between noon and 1PM, what is the probability that exactly two arrived between 12:20 and 12:40? (c) Suppose that all trucks have 1 passenger while 30% of the cars have 1 passenger, 50% have 2, and 20% have 4. Find the mean and standard deviation of the number of customers are that arrive at Bojangles’ in one hour.**"
   ]
  },
  {
   "cell_type": "markdown",
   "id": "9c2c7ae2",
   "metadata": {},
   "source": [
    "(a) $P(T=6)=e^{5}\\frac{(5)^6}{6!}$  \n",
    "(b) $\\binom{6}{2}\\frac{1}{3}^2\\frac{2}{3}^4$  \n",
    "(c) $E(N_t)E(X_t)+E(N_c)E(X_c)=40/8*1 + 100/10(3/10 + 10/10 + 8/10)=5+11=26$  \n",
    "$E(X_t)^2+E(X_c)^2 = 40/8*1+10(3 + 4*5 + 16*2)=60$  \n",
    "$var = 26+60$"
   ]
  },
  {
   "cell_type": "markdown",
   "id": "3ff94fa6",
   "metadata": {},
   "source": [
    "**2.48. When a power surge occurs on an electrical line, it can damage a computer without a surge protector. There are three types of surges: “small” surges occur at rate 8 per day and damage a computer with probability 0.001; “medium” surges occur at rate 1 per day and will damage a computer with probability 0.01; “large” surges occur at rate 1 per month and damage a computer with probability 0.1. Assume that months are 30 days. (a) what is the expected number of power surges per month? (b) What is the expected number of computer damaging power surges per month? (c) What is the probability a computer will not be damaged in one month? (d) What is the probability that the first computer damaging surge is a small one?**"
   ]
  },
  {
   "cell_type": "markdown",
   "id": "ecceba97",
   "metadata": {},
   "source": [
    "(a) $(8+1)\\times 30 + 1 = 271$  \n",
    "(b) $E(damaged\\ computers) = 30(0.001*8 + 1*0.01) + 1*0.1 = 0.64$  \n",
    "(c) $P(X_1=0)P(X_2=0)P(X_2=)e^{-\\frac{240}{1000}-\\frac{30}{100}-\\frac{1}{10}}=e^{-\\frac{64}{100}}$  \n",
    "(d) $\\frac{\\frac{24}{100}}{\\frac{10}{100}+\\frac{30}{100}+\\frac{24}{100}}=\\frac{24}{100}\\frac{100}{64}=\\frac{24}{64}=0.375$"
   ]
  },
  {
   "cell_type": "code",
   "execution_count": 21,
   "id": "092edb6b",
   "metadata": {},
   "outputs": [
    {
     "data": {
      "text/plain": [
       "5900.271180208584"
      ]
     },
     "execution_count": 21,
     "metadata": {},
     "output_type": "execute_result"
    }
   ],
   "source": [
    "np.sqrt(13200 + 6*5800000)"
   ]
  },
  {
   "cell_type": "markdown",
   "id": "64ca8670",
   "metadata": {},
   "source": [
    "**2.49. Wayne Gretsky scored a Poisson mean 6 number of points per game. 60% of these were goals and 40% were assists (each is worth one point). Suppose he is paid a bonus of 3K for a goal and 1K for an assist. (a) Find the mean and standard deviation for the total revenue he earns per game. (b) What is the probability that he has 4 goals and 2 assists in one game? (c) Conditional on the fact that he had 6 points in a game, what is the probability he had 4 in the first half?**"
   ]
  },
  {
   "cell_type": "markdown",
   "id": "a09d9e96",
   "metadata": {},
   "source": [
    "(a) $E(N)E(X_i)=3000(18/5)+1000(12/5)=13\\ 200$   \n",
    "$E(X_i)^2 = 1000^2(9*3/5 + 2/5)=5\\ 800\\ 000$  \n",
    "$var(Gretsky) = 13\\ 200 + 6*5\\ 800\\ 000=34\\ 813\\ 200$  \n",
    "$sd = 5900$  \n",
    "(b) $P(G=4,A=2)=e^{-18/5}\\frac{(18/5)^4}{4!}e^{-12/5}\\frac{(12/5)^2}{2!}$  \n",
    "(c) $\\binom{6}{2}\\frac{1}{2^6}$"
   ]
  },
  {
   "cell_type": "markdown",
   "id": "cf2dbdb6",
   "metadata": {},
   "source": [
    "**2.50. A copy editor reads a 200-page manuscript, finding 108 typos. Suppose that the author’s typos follow a Poisson process with some unknown rate $\\lambda$ per page, while from long experience we know that the copyeditor finds 90% of the mistakes that are there. (a) Compute the expected number of typos found as a function of the arrival rate $\\lambda$. (b) Use the answer to (a) to find an estimate of $\\lambda$ and of the number of undiscovered typos.**"
   ]
  },
  {
   "cell_type": "markdown",
   "id": "d8be53ab",
   "metadata": {},
   "source": [
    "(a) $E(found\\ typos) = 0.9\\lambda*200$  \n",
    "(b) $E(\\lambda|X=108)=\\frac{108}{0.9*200}=0.6$, therefore, number of undiscovered typos is $12$"
   ]
  },
  {
   "cell_type": "markdown",
   "id": "69120332",
   "metadata": {},
   "source": [
    "**2.51. Two copy editors read a 300-page manuscript. The first found 100 typos, the second found 120, and their lists contain 80 errors in common. Suppose that the author’s typos follow a Poisson process with some unknown rate $\\lambda$ per page, while the two copy editors catch errors with unknown probabilities of success $p_1$ and $p_2$. Let $X_0$ be the number of typos that neither found. Let $X_1$ and $X_2$ be the number of typos found only by 1 or only by 2, and let $X_3$ be the number of typos found by both. (a) Find the joint distribution of ($X_0, X_1, X_2, X_3$). (b) Use the answer to (a) to find an estimates of $p_1, p_2$ and then of the number of undiscovered typos.**"
   ]
  },
  {
   "cell_type": "markdown",
   "id": "644e4051",
   "metadata": {},
   "source": [
    "(a) $\\mu=\\lambda*300$  \n",
    "$X_0=(1-p_1)(1-p_2)\\mu$  \n",
    "$X_1=p_1(1-p_2)\\mu$  \n",
    "$X_2=(1-p_1)p_2\\mu$  \n",
    "$X_3=p_1p_2\\mu$  \n",
    "(b) $X_1=10$, $X_2=40$, $X_3=80$, $X_3=80=p_1p_2\\mu$..."
   ]
  },
  {
   "cell_type": "markdown",
   "id": "b79f9a88",
   "metadata": {},
   "source": [
    "**2.52. A light bulb has a lifetime that is exponential with a mean of 200 days. When it burns out a janitor replaces it immediately. In addition there is a handyman who comes at times of a Poisson process at rate .01 and replaces the bulb as “preventive maintenance.” (a) How often is the bulb replaced? (b) In the long run what fraction of the replacements are due to failure?**"
   ]
  },
  {
   "cell_type": "markdown",
   "id": "51898217",
   "metadata": {},
   "source": [
    "(a) $\\lambda=1/200+0.01=0.015$=>$E(T)=1/0.015=66.6667$  \n",
    "(b) $\\frac{0.005}{0.015}=1/3$"
   ]
  },
  {
   "cell_type": "markdown",
   "id": "a1f34ba9",
   "metadata": {},
   "source": [
    "**2.53. Starting at some fixed time, which we will call 0 for convenience, satellites are launched at times of a Poisson process with rate $\\lambda$. After an independent amount of time having distribution function $F$ and mean $\\mu$, the satellite stops working. Let $X(t)$ be the number of working satellites at time $t$. (a) Find the distribution of $X(t)$. (b) Let $t \\rightarrow \\infty$ in (a) to show that the limiting distribution is Poisson($\\lambda\\mu$).**"
   ]
  },
  {
   "cell_type": "markdown",
   "id": "2ea9ed38",
   "metadata": {},
   "source": [
    "(a) Let be the satellite launched at time $s<t$, the chance of being still functional is $1-F(t-s)$  \n",
    "(b) $$\\lambda \\int^{t}_{0}1-F(u)du \\rightarrow \\lambda\\int_{0}^\\infty1-F(u)du=\\lambda\\mu$$"
   ]
  },
  {
   "cell_type": "markdown",
   "id": "600f0089",
   "metadata": {},
   "source": [
    "**2.54. Calls originate from Dryden according to a rate 12 Poisson process. 3/4 are local and 1/4 are long distance. Local calls last an average of 10 minutes, while long distance calls last an average of 5 minutes. Let M be the number of local calls and N the number of long distance calls in equilibrium. Find the distribution of ($M,N$). what is the number of people on the line.**"
   ]
  },
  {
   "cell_type": "markdown",
   "id": "6a6a534e",
   "metadata": {},
   "source": [
    "Local and distance calls are independent Poisson processes with rates 9 and 3, respectively. Therefore the expected values for M and N are 90 and 15, respectively."
   ]
  },
  {
   "cell_type": "markdown",
   "id": "600f9c9c",
   "metadata": {},
   "source": [
    "**2.55. Ignoring the fact that the bar exam is only given twice a year, let us suppose that new lawyers arrive in Los Angeles according to a Poisson process with mean 300 per year. Suppose that each lawyer independently practices for an amount of time T with a distribution function $F(t) = P(T \\leq t)$ that has $F(0)=0$ and mean 25 years. Show that in the long run the number of lawyers in Los Angeles is Poisson with mean 7500.**"
   ]
  },
  {
   "cell_type": "markdown",
   "id": "0cd75445",
   "metadata": {},
   "source": [
    "$$\\lambda \\int_{0}^{T}1-F(t)dt \\rightarrow \\lambda*\\mu = 300*25=7500$$"
   ]
  },
  {
   "cell_type": "markdown",
   "id": "aa7e6153",
   "metadata": {},
   "source": [
    "**2.56. Policy holders of an insurance company have accidents at times of a Poisson process with rate $\\lambda$. The distribution of the time R until a claim is reported is random with $P(R \\leq r)=G(r)$ and $ER = \\upsilon$. (a) Find the distribution of the number of unreported claims. (b) Suppose each claim has mean $\\mu$ and variance $\\sigma^2$. Find the mean and variance of S the total size of the unreported claims.**"
   ]
  },
  {
   "cell_type": "markdown",
   "id": "29b88f54",
   "metadata": {},
   "source": [
    "(a) $\\lambda \\int_{0}^{r}1-G(t)dt \\rightarrow \\lambda*\\upsilon$  \n",
    "(b) $\\lambda\\mu$ and $\\lambda(\\mu^2 + \\sigma^2)$"
   ]
  },
  {
   "cell_type": "markdown",
   "id": "cda39008",
   "metadata": {},
   "source": [
    "**2.57. Suppose $N(t)$ is a Poisson process with rate 2. Compute the conditional probabilities (a) $P(N(3)=4|N(1)=1)$, (b) $P(N(1)=1|N(3) = 4)$.**"
   ]
  },
  {
   "cell_type": "markdown",
   "id": "047dcaf4",
   "metadata": {},
   "source": [
    "(a) $P(N(3)=4|N(1)=1)=P(N(2)=3)=e^{-2*2}\\frac{(2*2)^3}{2!}=e^{-4}\\frac{64}{3!}$  \n",
    "(b) $P(N(1)=1|N(3)=4)=\\binom{4}{1}\\frac{1}{3}\\frac{2}{3}^2$"
   ]
  },
  {
   "cell_type": "markdown",
   "id": "a9109351",
   "metadata": {},
   "source": [
    "**2.58. For a Poisson process $N(t)$ with arrival rate 2 compute: (a) $P(N(2)=5)$, (b) $P(N(5)=8|N(2)=3)$, (c) $P(N(2)=3|N(5)=8)$.**"
   ]
  },
  {
   "cell_type": "markdown",
   "id": "01abd69f",
   "metadata": {},
   "source": [
    "(a) $P(N(2)=5)=e^{-2*2}\\frac{4^5}{5!}$  \n",
    "(b) $P(N(5)=8|N(2)=3)=e^{-6}\\frac{6^3}{3!}$  \n",
    "(c) $P(N(2)=3|N(5)=8)=\\binom{8}{3}\\frac{3}{5}^5\\frac{2}{5}^3$"
   ]
  },
  {
   "cell_type": "markdown",
   "id": "a62f6749",
   "metadata": {},
   "source": [
    "**2.59. Customers arrive at a bank according to a Poisson process with rate 10 per hour. Given that two customers arrived in the first 5 minutes, what is the probability that (a) both arrived in the first 2 minutes. (b) at least one arrived in the first 2 minutes.**"
   ]
  },
  {
   "cell_type": "markdown",
   "id": "8edcfeff",
   "metadata": {},
   "source": [
    "(a) $P(N(2)=2|N(5)=2)=\\binom{2}{2}\\frac{2}{5}^2$  \n",
    "(b) $1-P(N(2)=0|N(5)=2)=1-\\binom{2}{0}\\frac{3}{5}^2$"
   ]
  },
  {
   "cell_type": "markdown",
   "id": "c0fc38bf",
   "metadata": {},
   "source": [
    "**2.60. Suppose that the number of calls per hour to an answering service follows a Poisson process with rate 4. Suppose that 3/4’s of the calls are made by men, 1/4 by women, and the sex of the caller is independent of the time of the call. (a) What is the probability that in one hour exactly 2 men and 3 women will call the answering service? (b) What is the probability 3 men will make phone calls before 3 women do?**"
   ]
  },
  {
   "cell_type": "markdown",
   "id": "f5c4c9ae",
   "metadata": {},
   "source": [
    "(a) $P(M(1)=2, W(1)=3)=e^{-3}\\frac{3^2}{2!}e^{-1}\\frac{1^3}{3!}$  \n",
    "(b) $\\binom{6}{3}\\frac{3}{4}^3\\frac{1}{4}^3$"
   ]
  },
  {
   "cell_type": "markdown",
   "id": "e71f1a78",
   "metadata": {},
   "source": [
    "**2.61. Hockey teams 1 and 2 score goals at times of Poisson processes with rates 1 and 2. Suppose that $N_1(0)=3$ and $N_2(0)=1$. (a) What is the probability that $N_1(t)$ will reach 5 before $N_2(t)$ does? (b) Answer part (a) for Poisson processes with rates $\\lambda_1$ and $\\lambda_2$.**"
   ]
  },
  {
   "cell_type": "markdown",
   "id": "a12047d8",
   "metadata": {},
   "source": [
    "(b) $P(scoring_1)=\\frac{\\lambda_1}{\\lambda_1+\\lambda_2}, P(scoring_2)=\\frac{\\lambda_2}{\\lambda_1+\\lambda_2}$,\n",
    "$$1-\\binom{4}{0}\\bigg(\\frac{\\lambda_2}{\\lambda_1+\\lambda_2}\\bigg)^4 - \\binom{4}{1}\\bigg(\\frac{\\lambda_2}{\\lambda_1+\\lambda_2}\\bigg)^4\\bigg(\\frac{\\lambda_1}{\\lambda_1+\\lambda_2}\\bigg)$$  \n",
    "(a)  \n",
    "$$1-\\binom{4}{0}\\bigg(\\frac{2}{3}\\bigg)^4 - \\binom{4}{1}\\bigg(\\frac{2}{3}\\bigg)^4\\bigg(\\frac{1}{3}\\bigg)$$ "
   ]
  },
  {
   "cell_type": "markdown",
   "id": "1d6eeaf9",
   "metadata": {},
   "source": [
    "**2.62. Consider two independent Poisson processes $N_1(t)$ and $N_2(t)$ with rates $\\lambda_1$ and $\\lambda_2$. What is the probability that the two-dimensional process $(N_1(t), N_2(t))$ ever visits the point $(i,j)$?**"
   ]
  },
  {
   "cell_type": "markdown",
   "id": "a748a067",
   "metadata": {},
   "source": [
    "$P(N_1(t)=i,N_2(t)=j)=\\binom{i+j}{i}\\frac{\\lambda_1}{\\lambda_1+\\lambda_2}^i\\frac{\\lambda_2}{\\lambda_1+\\lambda_2}^j$"
   ]
  }
 ],
 "metadata": {
  "kernelspec": {
   "display_name": "Python 3 (ipykernel)",
   "language": "python",
   "name": "python3"
  },
  "language_info": {
   "codemirror_mode": {
    "name": "ipython",
    "version": 3
   },
   "file_extension": ".py",
   "mimetype": "text/x-python",
   "name": "python",
   "nbconvert_exporter": "python",
   "pygments_lexer": "ipython3",
   "version": "3.9.13"
  }
 },
 "nbformat": 4,
 "nbformat_minor": 5
}
