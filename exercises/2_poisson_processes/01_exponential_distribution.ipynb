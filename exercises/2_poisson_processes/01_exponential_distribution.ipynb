{
 "cells": [
  {
   "cell_type": "markdown",
   "id": "df8dd7c7",
   "metadata": {},
   "source": [
    "# Exponential distribution\n",
    "$$P(T\\leq t)=1-e^{-\\lambda t}$$"
   ]
  },
  {
   "cell_type": "code",
   "execution_count": 1,
   "id": "967108d6",
   "metadata": {},
   "outputs": [],
   "source": [
    "import numpy as np"
   ]
  },
  {
   "cell_type": "markdown",
   "id": "31209352",
   "metadata": {},
   "source": [
    "**2.1. Suppose that the time to repair a machine is exponentially distributed random variable with mean 2. (a) What is the probability the repair takes more than 2 hours. (b) What is the probability that the repair takes more than 5 hours given that it takes more than 3 hours.**"
   ]
  },
  {
   "cell_type": "markdown",
   "id": "9c354c22",
   "metadata": {},
   "source": [
    "$\\lambda=\\frac{1}{2}$  \n",
    "(a) $P(T>2)=e^{-\\frac{1}{2}2}\\approx0.3679$  \n",
    "(b) $P(T>3+2|T>2)=P(T>2)=e^{-\\frac{1}{2}2}\\approx0.3679$"
   ]
  },
  {
   "cell_type": "markdown",
   "id": "129a45ea",
   "metadata": {},
   "source": [
    "**2.2. The lifetime of a radio is exponentially distributed with mean 5 years. If Ted buys a 7 year-old radio, what is the probability it will be working 3 years later?**"
   ]
  },
  {
   "cell_type": "markdown",
   "id": "d65f47ff",
   "metadata": {},
   "source": [
    "Exponential distribution is memoryless, so:  \n",
    "$P(T>7+3|T>7)=P(T>3)=e^{-3/5}\\approx0.5488$"
   ]
  },
  {
   "cell_type": "markdown",
   "id": "b14ea827",
   "metadata": {},
   "source": [
    "**2.3. A doctor has appointments at 9 and 9:30. The amount of time each appointment lasts is exponential with mean 30. What is the expected amount of time after 9:30 until the second patient has completed his appointment?**"
   ]
  },
  {
   "cell_type": "markdown",
   "id": "31caf99d",
   "metadata": {},
   "source": [
    "Patient one is done in 30mins with $P(T_1\\leq30)=1-e^{-\\frac{30}{30}}$. If it is not done at 9:30 with $P(T_1>30)=e^{-\\frac{30}{30}}$ then expected waiting time is 30 for the first one and another 30 for the second one. So. $E(T_1+T+2) = (1-e^{-1})*30 + e^{-1}(30+30)$"
   ]
  },
  {
   "cell_type": "markdown",
   "id": "ff40ab65",
   "metadata": {},
   "source": [
    "**2.4. Copy machine 1 is in use now. Machine 2 will be turned on at time $t$. Suppose that the machines fail at rate $\\lambda_i$. What is the probability that machine 2 is the first to fail?**"
   ]
  },
  {
   "cell_type": "markdown",
   "id": "36d6f633",
   "metadata": {},
   "source": [
    "$P(M_1>t)P(M_1 > M_2) = e^{-\\lambda_1t}\\frac{\\lambda_2}{\\lambda_1 + \\lambda_2}$"
   ]
  },
  {
   "cell_type": "markdown",
   "id": "96818829",
   "metadata": {},
   "source": [
    "**2.5. Three people are fishing and each catches fish at rate 2 per hour. How long do we have to wait until everyone has caught at least one fish?**"
   ]
  },
  {
   "cell_type": "markdown",
   "id": "8786ae4f",
   "metadata": {},
   "source": [
    "$T_i\\sim exp(\\frac{1}{2})$  \n",
    "Waiting time for a one person to catch a fish is $\\frac{1}{2}$. For two people is $\\frac{1}{4}$ and for 3 people is $\\frac{1}{6}$. As the process goes like: one out of three catches a fish (1/6), then second person out of 2 catches (1/4) lastly one remaining person (1/2) - $1/2+1/4+1/6=11/12$ "
   ]
  },
  {
   "cell_type": "markdown",
   "id": "25e8e3d5",
   "metadata": {},
   "source": [
    "**2.6. Alice and Betty enter a beauty parlor simultaneously, Alice to get a manicure and Betty to get a haircut. Suppose the time for a manicure (haircut) is exponentially distributed with mean 20 (30) minutes. (a) What is the probability Alice gets done first? (b) What is the expected amount of time until Alice and Betty are both done?**"
   ]
  },
  {
   "cell_type": "markdown",
   "id": "f07b3bca",
   "metadata": {},
   "source": [
    "(a) $P(A<B) = \\frac{1/20}{1/20+1/30}=3/5$  \n",
    "(b) $12+3/5*30+2/5*20=38$"
   ]
  },
  {
   "cell_type": "markdown",
   "id": "0483a697",
   "metadata": {},
   "source": [
    "**2.7. Let S and T be exponentially distributed with rates $\\lambda$ and $\\mu$. Let $U=min\\{S,T\\}$ and $V=max\\{S,T\\}$. Find (a) $E(U)$. (b) $E(V −U)$, (c)$E(V)$. (d) Use the identity $V = S + T − U$ to get a different looking formula for $E(V)$ and verify the two are equal.**"
   ]
  },
  {
   "cell_type": "markdown",
   "id": "8590a3c1",
   "metadata": {},
   "source": [
    "(a) $E(U) = \\frac{1}{\\lambda + \\mu}$  \n",
    "(b) $E(V - U) = \\frac{\\lambda}{\\lambda + \\mu}\\frac{1}{\\mu} + \\frac{\\mu}{\\lambda + \\mu}\\frac{1}{\\lambda}$  \n",
    "(c) $E(V) = E(U) + E(V-U)=\\frac{1}{\\lambda + \\mu}+\\frac{\\lambda}{\\lambda + \\mu}\\frac{1}{\\mu} + \\frac{\\mu}{\\lambda + \\mu}\\frac{1}{\\lambda}=\\frac{1}{\\lambda + \\mu}\\bigg(1+ \\frac{\\mu}{\\lambda} + \\frac{\\lambda}{\\mu}\\bigg)$  \n",
    "(d) $E(S+T-U)=\\frac{1}{\\lambda}+\\frac{1}{\\mu}-\\frac{1}{\\lambda + \\mu} = \\frac{\\lambda(\\lambda+\\mu) + \\mu(\\lambda+\\mu) - \\lambda\\mu}{\\lambda\\mu(\\lambda+\\mu)}=\\frac{1}{\\lambda+\\mu}\\bigg(\\frac{\\mu}{\\lambda}+1+\\frac{\\lambda}{\\mu}+1-1\\bigg)$"
   ]
  },
  {
   "cell_type": "markdown",
   "id": "5a675083",
   "metadata": {},
   "source": [
    "**2.8. Let S and T be exponentially distributed with rates $\\lambda$ and $\\mu$. Let $U=min\\{S,T\\}$, $V=max\\{S,T\\}$, and $W =V−U$. Find the variances of $U$, $V$, and $W$.**"
   ]
  },
  {
   "cell_type": "markdown",
   "id": "99af7a6f",
   "metadata": {},
   "source": [
    " - $var(U) = \\big(\\frac{1}{\\lambda+\\mu}\\big)^2$ as $U$ is exponential with rate $\\frac{1}{\\lambda+\\mu}$  \n",
    " - $var(V-U) = E((V-U)^2)-(E(V-U))^2 = \\frac{\\lambda}{\\lambda + \\mu}\\frac{1}{\\mu^2} + \\frac{\\mu}{\\lambda + \\mu}\\frac{1}{\\lambda^2} + \\bigg(\\frac{\\lambda}{\\lambda + \\mu}\\frac{1}{\\mu} + \\frac{\\mu}{\\lambda + \\mu}\\frac{1}{\\lambda}\\bigg)^2$ \n",
    " - $var(V) = var(U)+var(V-U)$ "
   ]
  },
  {
   "cell_type": "markdown",
   "id": "637c2e2e",
   "metadata": {},
   "source": [
    "**2.9. In a hardware store you must first go to server 1 to get your goods and then go to a server 2 to pay for them. Suppose that the times for the two activities are exponentially distributed with means 6 minutes and 3 minutes. (a) Compute the average amount of time it take Bob to get his goods and pay if when he comes in there is one customer named Al with server 1 and no one at server 2. (b) Find the answer when times for the two activities are exponentially distributed with rates $\\lambda$ and $\\mu$.**"
   ]
  },
  {
   "cell_type": "markdown",
   "id": "e8e1e9c1",
   "metadata": {},
   "source": [
    "(a) There is Al we need to wait till they are done with the first server. Waiting time for being done with server 1 is Al waiting time plus mine, so $2*6$. For the second server there are two subcases, 1st I arrive and Al is done or 2nd I need to wait till Al is served, so $3*\\frac{6}{3+6}+3$. Putting all together:  \n",
    "$12+3+3=18$  \n",
    "\n",
    "(b) $\\frac{2}{\\lambda}+\\frac{1}{\\mu}+\\frac{\\lambda}{\\lambda+\\mu}\\frac{1}{\\mu}$"
   ]
  },
  {
   "cell_type": "markdown",
   "id": "3dedb856",
   "metadata": {},
   "source": [
    "**2.10. Consider a bank with two tellers. Three people, Alice, Betty, and Carol enter the bank at almost the same time and in that order. Alice and Betty go directly into service while Carol waits for the first available teller. Suppose that the service times for each customer are exponentially distributed with mean 4 minutes. (a) What is the expected total amount of time for Carol to complete her businesses? (b) What is the expected total time until the last of the three customers leaves? (c) What is the probability Carol is the last one to leave?**"
   ]
  },
  {
   "cell_type": "markdown",
   "id": "635531b8",
   "metadata": {},
   "source": [
    "(a) $\\frac{4}{4+4}=\\frac{1}{2}$, therefore, 2 mins   \n",
    "(b) $2 + 2 + 4 = 8$ 2mins to C to be served, 2 mins avg. waiting time for 2 people and 4 mins for the last person to leave.  \n",
    "(c) Once he comes to a teller, he got equal chance to be done first / last $\\frac{4}{4+4}=1/2$"
   ]
  }
 ],
 "metadata": {
  "kernelspec": {
   "display_name": "Python 3 (ipykernel)",
   "language": "python",
   "name": "python3"
  },
  "language_info": {
   "codemirror_mode": {
    "name": "ipython",
    "version": 3
   },
   "file_extension": ".py",
   "mimetype": "text/x-python",
   "name": "python",
   "nbconvert_exporter": "python",
   "pygments_lexer": "ipython3",
   "version": "3.9.12"
  }
 },
 "nbformat": 4,
 "nbformat_minor": 5
}
