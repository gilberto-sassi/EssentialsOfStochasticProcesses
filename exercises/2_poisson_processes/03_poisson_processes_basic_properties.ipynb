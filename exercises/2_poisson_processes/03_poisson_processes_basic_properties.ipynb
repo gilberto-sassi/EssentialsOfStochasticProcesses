{
 "cells": [
  {
   "cell_type": "markdown",
   "id": "7b726ff7",
   "metadata": {},
   "source": [
    "# Poisson processes: Basic properties"
   ]
  },
  {
   "cell_type": "markdown",
   "id": "c28f6e80",
   "metadata": {},
   "source": [
    "**2.22. Suppose $N(t)$ is a Poisson process with rate 3. Let $T_n$ denote the time of\n",
    "the nth arrival. Find (a) $E(T_{12})$, (b) $E(T_{12}|N(2)=5)$, (c) $E(N(5)|N(2)=5)$.**"
   ]
  },
  {
   "cell_type": "code",
   "execution_count": null,
   "id": "e3290323",
   "metadata": {},
   "outputs": [],
   "source": []
  }
 ],
 "metadata": {
  "kernelspec": {
   "display_name": "Python 3 (ipykernel)",
   "language": "python",
   "name": "python3"
  },
  "language_info": {
   "codemirror_mode": {
    "name": "ipython",
    "version": 3
   },
   "file_extension": ".py",
   "mimetype": "text/x-python",
   "name": "python",
   "nbconvert_exporter": "python",
   "pygments_lexer": "ipython3",
   "version": "3.9.12"
  }
 },
 "nbformat": 4,
 "nbformat_minor": 5
}
