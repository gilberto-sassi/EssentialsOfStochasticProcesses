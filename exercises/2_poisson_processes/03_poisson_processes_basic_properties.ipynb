{
 "cells": [
  {
   "cell_type": "markdown",
   "id": "744bae87",
   "metadata": {},
   "source": [
    "# Poisson processes: Basic properties\n",
    "$X\\sim B(n,p),\\ P(X=k)= {n \\choose k}p^k(1-p)^{n-k}$  \n",
    "$Y\\sim Pois(\\lambda),\\ P(Y=k)= \\frac{\\lambda^k e^{-\\lambda}}{k!}$"
   ]
  },
  {
   "cell_type": "code",
   "execution_count": 12,
   "id": "682fe145",
   "metadata": {},
   "outputs": [],
   "source": [
    "import numpy as np\n",
    "from scipy.stats import poisson"
   ]
  },
  {
   "cell_type": "markdown",
   "id": "948205a9",
   "metadata": {},
   "source": [
    "**2.22. Suppose $N(t)$ is a Poisson process with rate 3. Let $T_n$ denote the time of\n",
    "the nth arrival. Find (a) $E(T_{12})$, (b) $E(T_{12}|N(2)=5)$, (c) $E(N(5)|N(2)=5)$.**"
   ]
  },
  {
   "cell_type": "markdown",
   "id": "4d3aa79c",
   "metadata": {},
   "source": [
    "(a) $E(T_{12})=12E(T_i)=\\frac{12}{3}=4$  \n",
    "(b) $E(T_{12}|N(2)=5)=7E(t_i)+2=\\frac{7}{3}+2=\\frac{13}{3}$   \n",
    "(c) $E(N(3+2)|N(2)=5)=5+E(N(3))=5+3*3=14$ "
   ]
  },
  {
   "cell_type": "markdown",
   "id": "9ecc0e14",
   "metadata": {},
   "source": [
    "**2.23. Customers arrive at a shipping office at times of a Poisson process with rate 3 per hour. (a) The office was supposed to open at 8AM but the clerk Oscar overslept and came in at 10AM. What is the probability that no customers came in the two-hour period? (b) What is the distribution of the amount of time Oscar has to wait until his first customer arrives?**"
   ]
  },
  {
   "cell_type": "markdown",
   "id": "ec1ff200",
   "metadata": {},
   "source": [
    "(a) $P(N(2)=0)=e^{-6}=0.0025$  \n",
    "(b) Poisson process is memory less, so the distribution is not affected by no arrival and the distribution stays the same."
   ]
  },
  {
   "cell_type": "markdown",
   "id": "279dc989",
   "metadata": {},
   "source": [
    "**2.24. Suppose that the number of calls per hour to an answering service follows a Poisson process with rate 4. (a) What is the probability that fewer (i.e., <) than 2 calls came in the first hour? (b) Suppose that 6 calls arrive in the first hour, what is the probability there will be < 2 in the second hour. (c) Suppose that the operator gets to take a break after she has answered 10 calls. How long are her average work periods?**"
   ]
  },
  {
   "cell_type": "markdown",
   "id": "f7e99fd5",
   "metadata": {},
   "source": [
    "(a) $P(N(1)<2)=P(N(1)=0)+P(N(1)=1)=e^{-4}(1+4)=0.0916$  \n",
    "(b) $N(t)$ is a Poisson process with rate 4 which is memoryless so the changes stays the same as 👆  \n",
    "(c) $E(T_10)=10E(t_i)=\\frac{10}{4}=2.5$"
   ]
  },
  {
   "cell_type": "markdown",
   "id": "c8a210a9",
   "metadata": {},
   "source": [
    "**2.25. Traffic on Rosedale Road in Princeton, NJ, follows a Poisson process with rate 6 cars per minute. A deer runs out of the woods and tries to cross the road. If there is a car passing in the next 5 seconds then there will be a collision. (a) Find the probability of a collision. (b) What is the chance of a collision if the deer only needs 2 seconds to cross the road.**"
   ]
  },
  {
   "cell_type": "markdown",
   "id": "0b4c6aa3",
   "metadata": {},
   "source": [
    "Converting the rate of 6 cars per minute to seconds, it $\\lambda=\\frac{6}{60}=\\frac{1}{10}$ cars per second.  \n",
    "(a) $1-P(N(0))=1-e^{-5/10}=0.3935$  \n",
    "(b) $1-P(N(0))=1-e^{-2/10}=0.1813$"
   ]
  },
  {
   "cell_type": "markdown",
   "id": "127ab2f0",
   "metadata": {},
   "source": [
    "**2.26. Calls to the Dryden fire department arrive according to a Poisson process with rate 0.5 per hour. Suppose that the time required to respond to a call, return to the station, and get ready to respond to the next call is uniformly distributed between 1/2 and 1 hour. If a new call comes before the Dryden fire department is ready to respond, the Ithaca fire department is asked to respond. Suppose that the Dryden fire department is ready to respond now. Find the probability distribution for the number of calls they will handle before they have to ask for help from the Ithaca fire department.**"
   ]
  },
  {
   "cell_type": "markdown",
   "id": "7cf0c310",
   "metadata": {},
   "source": [
    "$P(1/2<T<1) = e^{-\\frac{1}{2}\\frac{1}{2}}-e^{-\\frac{1}{2}}=0.1723$"
   ]
  },
  {
   "cell_type": "markdown",
   "id": "12ce12a2",
   "metadata": {},
   "source": [
    "**2.27. A math professor waits at the bus stop at the Mittag-Leffler Institute in the suburbs of Stockholm, Sweden. Since he has forgotten to find out about the bus schedule, his waiting time until the next bus is uniform on (0,1). Cars drive by the bus stop at rate 6 per hour. Each will take him into town with probability 1/3. What is the probability he will end up riding the bus?**"
   ]
  },
  {
   "cell_type": "markdown",
   "id": "7f20a711",
   "metadata": {},
   "source": [
    "Rider willing to take him are $\\frac{6}{3}=2$, $P(N(1)=0)=e^{-2}$  \n",
    "$$\\int_{0}^{1}2e^{-2s}ds=\\big[-e^{-2s}\\big]_0^1=1-e^{-2}=0.8647$$"
   ]
  },
  {
   "cell_type": "markdown",
   "id": "2c9ac72b",
   "metadata": {},
   "source": [
    "**2.28. The number of hours between successive trains is T which is uniformly distributed between 1 and 2. Passengers arrive at the station according to a Poisson process with rate 24 per hour. Let X denote the number of people who get on a train. Find (a) EX, (b) var(X).**"
   ]
  },
  {
   "cell_type": "markdown",
   "id": "209e0daf",
   "metadata": {},
   "source": [
    "Late $T\\sim U(0,1)$ and $Y\\sim Pois(24)$  \n",
    "(a) $E(X)=E(T)E(Y)=1.5*24=36$  \n",
    "(b) $E(X^2)=36+(36)^2=54$, $var(X)=E(X^2)-E(X)=84$"
   ]
  },
  {
   "cell_type": "code",
   "execution_count": 28,
   "id": "c7bf08a1",
   "metadata": {},
   "outputs": [
    {
     "name": "stdout",
     "output_type": "stream",
     "text": [
      "E(x)=36.0714\n",
      "var(x)=80.3779\n"
     ]
    }
   ],
   "source": [
    "m = 5000\n",
    "train_time = np.random.uniform(1, 2, size=m)\n",
    "number_passangers = []\n",
    "for x in train_time:\n",
    "    r = np.random.uniform(0, 1, size=1)\n",
    "    number_passangers.append(poisson.ppf(r, 24  * x, loc=0)[0])\n",
    "\n",
    "number_passangers = np.array(number_passangers)\n",
    "print(f\"E(x)={round(np.mean(number_passangers), 4)}\")\n",
    "print(f\"var(x)={round(np.var(number_passangers), 4)}\") "
   ]
  },
  {
   "cell_type": "code",
   "execution_count": 11,
   "id": "3a7564b1",
   "metadata": {},
   "outputs": [
    {
     "data": {
      "text/plain": [
       "0.8646647167633873"
      ]
     },
     "execution_count": 11,
     "metadata": {},
     "output_type": "execute_result"
    }
   ],
   "source": [
    "1-np.exp(-2)"
   ]
  },
  {
   "cell_type": "markdown",
   "id": "a1be1cd9",
   "metadata": {},
   "source": [
    "**2.29. Consider a Poisson process with rate $\\lambda$ and let L be the time of the last arrival in the interval $[0, t]$, with $L = 0$ if there was no arrival. (a) Compute $E(t − L)$ (b) What happens when we let $t \\rightarrow \\infty$ in the answer to (a)?**"
   ]
  },
  {
   "cell_type": "markdown",
   "id": "1de5b0a2",
   "metadata": {},
   "source": [
    "(a)$P(t-L>s)=e^{-\\lambda s}$, therefore\n",
    "$$E(t-L)=\\int_0^t se^{-\\lambda s}ds + te^{-\\lambda t} = \\frac{1-e^{-\\lambda t}}{\\lambda}$$\n",
    "(b) $E(t-L) \\rightarrow \\frac{1}{\\lambda}$"
   ]
  },
  {
   "cell_type": "markdown",
   "id": "7412652e",
   "metadata": {},
   "source": [
    "**2.30. Customers arrive according to a Poisson process of rate $\\lambda$ per hour. Joe does not want to stay until the store closes at T = 10PM, so he decides to close up when the first customer after time T − s arrives. He wants to leave early but he does not want to lose any business so he is happy if he leaves before T and no one arrives after. (a) What is the probability he achieves his goal? (b) What is the optimal value of s and the corresponding success probability?**"
   ]
  },
  {
   "cell_type": "markdown",
   "id": "f1eda05e",
   "metadata": {},
   "source": [
    "(a) Ideal scenario if exactly one customers arrives in time length of $s$, so $P(N(s)=1)=\\lambda se^{-\\lambda s}$  \n",
    "(b) Optimal length of $s$ is the derivation equal to 0, so  \n",
    "$(\\lambda se^{-\\lambda s})'=\\lambda e^{-\\lambda s}-\\lambda^2 se^{-\\lambda s}=0 <=> s=\\frac{1}{\\lambda}$  \n",
    "The chance is $P(N(1/\\lambda)=1)=e^{-1}$"
   ]
  },
  {
   "cell_type": "markdown",
   "id": "fbe93621",
   "metadata": {},
   "source": [
    "**2.31. Customers arrive at a sporting goods store at rate 10 per hour. 60% of the customers are men and 40% are women. Women spend an amount of time shopping that is uniformly distributed on [0, 30] minutes, while men spend an exponentially distributed amount of time with mean 30 minutes. Let M and N be the number of men and women in the store. What is the distribution of (M,N) in equilibrium**"
   ]
  },
  {
   "cell_type": "markdown",
   "id": "a375198b",
   "metadata": {},
   "source": [
    "Using Poisson thinning men come at rate 6 and women at rate 4. They will be in equilibrium with probability\n",
    "$P(W=2, M=4)=e^{-3}\\frac{3^4}{4!}e^{-1}\\frac{3^2}{2!}$"
   ]
  },
  {
   "cell_type": "markdown",
   "id": "0d8d8e2b",
   "metadata": {},
   "source": [
    "**2.32. Let T be exponentially distributed with rate $\\lambda$. (a) Use the definition of conditional expectation to compute $E(T|T < c)$. (b) Determine $E(T|T < c)$ from the identity**\n",
    "$$E(T) =P(T <c)E(T|T <c)+P(T >c)E(T|T >c)$$"
   ]
  },
  {
   "cell_type": "markdown",
   "id": "14d33653",
   "metadata": {},
   "source": [
    "(a) $E(T|T<c) = \\int_0^c se^{-\\lambda s}ds / P(T<c) = \\big[-\\frac{e^{-\\lambda s}}{\\lambda} - se^{-\\lambda s}\\big]^c_0 / (1-e^{-\\lambda c}) = \\big[\\frac{1}{\\lambda}(1-e^{-\\lambda c}) - ce^{-\\lambda c}\\big] / (1-e^{-\\lambda c})$  \n",
    "(b) $\\frac{1}{\\lambda} = E(T)=\\frac{1}{\\lambda}(1-e^{-\\lambda c}) - ce^{-\\lambda c} + ce^{-\\lambda c}+ \\frac{ce^{-\\lambda c}}{\\lambda}=\\frac{1}{\\lambda}$"
   ]
  },
  {
   "cell_type": "markdown",
   "id": "8739c981",
   "metadata": {},
   "source": [
    "**2.33. When did the chicken cross the road? Suppose that traffic on a road follows a Poisson process with rate $\\lambda$ cars per minute. A chicken needs a gap of length at least $c$ minutes in the traffic to cross the road. To compute the time the chicken will have to wait to cross the road, let $t_1, t_2, t_3, \\dots$ be the interarrival times for the cars and let $J=min\\{j:t_j >c\\}$. If $T_n =t_1+\\dots+t_n$, then the chicken will start to cross the road at time $T_{J−1}$ and complete his journey at time $T_{J−1} + c$. Use the previous exercise to show $E(T_{J−1} + c) = (e^{\\lambda c} − 1)/\\lambda$.**"
   ]
  },
  {
   "cell_type": "markdown",
   "id": "e1cf5f86",
   "metadata": {},
   "source": [
    "$E(T_{J-1})=E(J-1)E(\\tau_i|\\tau_i < c)$, $J-1$ has geometric distribution with $p=e^{-c\\lambda}$, therefore, $E(J-1)=\\frac{1-p}{p}=e^{c\\lambda} - 1$. From ☝️ we know $E(\\tau_i|\\tau_i<c)=\\frac{1}{\\lambda}-\\frac{ce^{-c\\lambda}}{1-e^{-\\lambda c}}$. Putting it together $E(T_{J-1})=(e^{c\\lambda} - 1)\\big[\\frac{1}{\\lambda}-\\frac{ce^{-c\\lambda}}{1-e^{-\\lambda c}}\\big]=\\frac{e^{\\lambda c} − 1}{\\lambda}-c$ => $E(T_{J-1}+c) = \\frac{e^{\\lambda c} − 1}{\\lambda}-c+c$"
   ]
  }
 ],
 "metadata": {
  "kernelspec": {
   "display_name": "Python 3 (ipykernel)",
   "language": "python",
   "name": "python3"
  },
  "language_info": {
   "codemirror_mode": {
    "name": "ipython",
    "version": 3
   },
   "file_extension": ".py",
   "mimetype": "text/x-python",
   "name": "python",
   "nbconvert_exporter": "python",
   "pygments_lexer": "ipython3",
   "version": "3.9.13"
  }
 },
 "nbformat": 4,
 "nbformat_minor": 5
}
