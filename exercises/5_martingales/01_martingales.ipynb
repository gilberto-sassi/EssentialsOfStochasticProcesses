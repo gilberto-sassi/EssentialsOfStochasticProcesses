{
 "cells": [
  {
   "cell_type": "markdown",
   "id": "1fcf7fb9",
   "metadata": {},
   "source": [
    "# Martingales"
   ]
  },
  {
   "cell_type": "code",
   "execution_count": 1,
   "id": "05d83f25",
   "metadata": {},
   "outputs": [],
   "source": [
    "import numpy as np"
   ]
  },
  {
   "cell_type": "markdown",
   "id": "c3f292c0",
   "metadata": {},
   "source": [
    "Throughout the exercises we will use our standard notion for hitting times. $T_a =min\\{n\\geq 1:X_n =a\\}$ and $V_a =min\\{n\\geq 0:X_n =a\\}$."
   ]
  },
  {
   "cell_type": "markdown",
   "id": "8076df51",
   "metadata": {},
   "source": [
    "**5.1. _Brother–sister mating_. Consider the six state chain defined in Exercise 1.66. Show that the total number of A’s is a martingale and use this to compute the probability of getting absorbed into the 2,2 (i.e., all A’s state) starting from each initial state.**"
   ]
  },
  {
   "cell_type": "markdown",
   "id": "849bd240",
   "metadata": {},
   "source": [
    "```\n",
    "    22  21  20  11  10  00\n",
    "22  1   0   0   0   0   0\n",
    "21 1/4 1/2  0  1/4  0   0 \n",
    "20  0   0   0   1   0   0 \n",
    "11 1/16 1/4 1/8 1/4 1/4 1/16 \n",
    "10  0   0   0  1/4 1/2 1/4\n",
    "00  0   0   0   0   0   1\n",
    "```\n",
    "\n",
    "Let $X_t$ be $i+j$ or number of A's in the code and $Y_t$ be the code itself at time $t$. $E[X_{t+1}| Y_t]=X_t$:\n",
    " - $E[X_{t+1}| Y_t=22]=4$\n",
    " - $E[X_{t+1}| Y_t=21]=\\frac{1}{4}4 +\\frac{1}{2}3 + \\frac{1}{4}2=3$\n",
    " - $E[X_{t+1}| Y_t=20]=2$\n",
    " - $E[X_{t+1}| Y_t=11]=\\frac{1}{16}4 +\\frac{1}{4}3 + \\frac{1}{8}2 +\\frac{1}{4}2 + \\frac{1}{4}1=2$ \n",
    " - $E[X_{t+1}| Y_t=10]=\\frac{1}{4}2 +\\frac{1}{2}1 + \\frac{1}{4}0=1$\n",
    " - $E[X_{t+1}| Y_t=00]=0$\n",
    " \n",
    "It is a martingale, in order to use theorem 5.11 we need to define and check stopping time $T=min\\{n\\geq: Y_n \\in \\{22, 00\\}\\}$, from the transition matrix we know $P(T<\\infty)=1$. Now we know $E_{X_0}[X_t]=E[X_0]=X_0$, therefore, using Theorem 5.11 $P_{X_0}(V_{22}<V_{00})=\\frac{X_0}{4}$."
   ]
  },
  {
   "cell_type": "markdown",
   "id": "955697d3",
   "metadata": {},
   "source": [
    "**5.2. Lognormal stock prices. Consider the special case of Example 5.4 in which $X_i = e^{\\eta_i}$ where $\\eta_i = normal(\\mu, \\sigma^2)$. For what values of $\\mu$ and $\\sigma$ is $M_n = M_0 X_1 \\dots X_n$ a martingale?**"
   ]
  },
  {
   "cell_type": "markdown",
   "id": "dee5f690",
   "metadata": {},
   "source": [
    "We want to show that $E(M_{n+1}-M_n|F_n)=0$.\n",
    "$$E(M_{n+1}-M_n|F_n)=M_nE(X_{n+1}-1)=M_n\\big(e^{E{\\eta_{n+1}}}-1\\big)$$\n",
    "$e^{E{\\eta_{n+1}}}=e^{\\mu+\\sigma^2/2}$, see [wiki](https://en.wikipedia.org/wiki/Log-normal_distribution), $e^{\\mu+\\sigma^2/2} = 1$ iff $\\mu+\\frac{\\sigma^2}{2}=0$"
   ]
  },
  {
   "cell_type": "markdown",
   "id": "cb7abbdb",
   "metadata": {},
   "source": [
    "**5.3. Let $X_n$ be the _Wright–Fisher_ model with no mutation defined in Example 1.9. (a) Show that $X_n$ is a martingale and use Theorem 5.11 to conclude that $P_x(V_N < V_0)=x/N$. (b) Show that $Y_n = X_n(N-X_n)/(1-1/N)^n$ is a martingale. (c) Use this to conclude that**\n",
    "$$(N-1)\\leq\\frac{x(N − x)(1 − 1/N)^n}{P_x(0<X_n<N)}\\leq\\frac{N^2}{4}$$"
   ]
  },
  {
   "cell_type": "markdown",
   "id": "2fefbebb",
   "metadata": {},
   "source": [
    "(a) $X_n$ follow the Markov chain with $p(i, j)=\\binom{N}{j}\\frac{1}{N}^j(1-\\frac{1}{N})^{N-j}$ we can clearly see that it a [Binomial theorem](https://en.wikipedia.org/wiki/Binomial_theorem), $\\sum_{j=0}^{N}p(i,j)=(\\frac{j}{N}+1-\\frac{j}{N})^N=1$  \n",
    "(b) Let $X_0=x$, then $X_1\\sim Binomial(\\frac{x}{N}, N)$, therefore,  \n",
    "$E_x(X_1)=\\frac{x}{N}N=x$ and $E_x(X_1^2)=N\\frac{x}{N}(1-\\frac{x}{N}) + x^2=x(1-\\frac{x}{N}) + x^2$.  \n",
    "Now let $E_x(X_1(N-X_1))=xN - x(1-\\frac{x}{N}) - x^2=x(1-\\frac{x}{N})(N-x)$. similarly we could get $E_x(X_n(N-X_n))=x(1-\\frac{x}{N})(N-x)^n$. To prove $Y_n$ is a martingale, we need to show: $E(Y_{n+1}-Y_n|F_n)=0$.\n",
    "$$E(Y_{n+1}-Y_n|F_n)=\\frac{X_{n+1}(N-X_{n+1})}{(1-1/N)^{n+1}}-\\frac{X_n(N-X_n)}{(1-1/N)^n}=\\frac{X_{n+1}(N-X_{n+1}) - X_n(N-X_n)(1-1/N)}{(1-1/N)^{n+1}}=\\frac{\\hat{E_x}(X_{n+1}(N-X_{n+1})) - \\hat{E_x}(X_n(N-X_n))(1-1/N)}{(1-1/N)^{n+1}}$$\n",
    "\n",
    "(c) $P_x(0<X_n<N)=((1-1/N)^n)$, when $0 \\le X_n \\le N$ then $min_n\\{X_n(N-X_n)\\}=(N-1)(N-(N-1))=1(N-1)=N-1$ and $max_n\\{X_n(N-X_n)\\}=\\frac{N}{2}(N-\\frac{N}{2})=\\frac{N^2}{4}$, therefore,\n",
    "$$(N-1)\\leq\\frac{x(N − x)(1 − 1/N)^n}{P_x(0<X_n<N)}\\leq\\frac{N^2}{4}$$"
   ]
  },
  {
   "cell_type": "markdown",
   "id": "ea2fd6ab",
   "metadata": {},
   "source": [
    "**5.4. _An unfair fair game_. Define random variables recursively by $Y_0=1$ and for $n \\geq 1$, $Y_n$ is chosen uniformly on $(0, Y_{n−1})$. If we let $U_1, U_2, \\dots$ be uniform on $(0, 1)$, then we can write this sequence as $Y_n = U_nU_{n−1}\\dots U_0$. (a) Use Example 5.4 to conclude that $M_n = 2^nY_n$ is a martingale. (b) Use the fact that $logY_n=logU_1+\\dots+logU_n$ to show that $(1/n)logX_n \\rightarrow −1$. (c) Use (b) to conclude $M_n \\rightarrow 0$, i.e., in this \"fair\" game our fortune always converges to 0 as time tends to $\\infty$.**"
   ]
  },
  {
   "cell_type": "markdown",
   "id": "bfea2932",
   "metadata": {},
   "source": [
    "(a) $E\\big[M_{n+1}|F_n\\big]=2^{n+1}Y_nE\\big[U_{n+}\\big]=2^{n+1}Y_n\\frac{1}{2}=2^nY_n$  \n",
    "(b) $P(-logU_i>x)=P(logU_i<-x)=P(U_i<e^-x)=e^-x$ with mean 1. With the law of large numbers $\\frac{logU_1+\\dots+logU_n}{n} \\rightarrow -1$  \n",
    "(c) $\\frac{-logM_n}{n}=\\frac{-1 + log2}{n}>0$ therefore $M_n \\rightarrow \\infty$"
   ]
  },
  {
   "cell_type": "markdown",
   "id": "c1a99db1",
   "metadata": {},
   "source": [
    "**5.5. Consider a favorable game in which the payoffs are −1, 1, or 2 with probability 1/3 each. Use the results of Example 5.17 to compute the probability we ever go broke (i.e, our winnings $W_n$ reach \\\\$0) when we start with $\\$i$.**"
   ]
  },
  {
   "cell_type": "code",
   "execution_count": null,
   "id": "7c7e431a",
   "metadata": {},
   "outputs": [],
   "source": []
  }
 ],
 "metadata": {
  "kernelspec": {
   "display_name": "Python 3 (ipykernel)",
   "language": "python",
   "name": "python3"
  },
  "language_info": {
   "codemirror_mode": {
    "name": "ipython",
    "version": 3
   },
   "file_extension": ".py",
   "mimetype": "text/x-python",
   "name": "python",
   "nbconvert_exporter": "python",
   "pygments_lexer": "ipython3",
   "version": "3.10.6"
  }
 },
 "nbformat": 4,
 "nbformat_minor": 5
}
